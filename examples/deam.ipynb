{
 "cells": [
  {
   "cell_type": "code",
   "execution_count": 2,
   "metadata": {
    "collapsed": true,
    "pycharm": {
     "name": "#%%\n"
    }
   },
   "outputs": [],
   "source": [
    "from pandas import read_csv\n",
    "from torch.optim import SGD\n",
    "from torch.utils.data import DataLoader\n",
    "from tensorboardX import SummaryWriter\n",
    "from torch import randperm\n",
    "from config import DATA_DIR\n",
    "from src.data_set import RatingsDataset\n",
    "from src.loss import MiningOutliersLoss\n",
    "from src.model import MF\n",
    "from src.runner import Runner\n",
    "from src.utils import create_dataset, mine_outliers, DataConverter, DataProcessor\n",
    "\n",
    "\"\"\"\n",
    "The Deam dataset is based on Arousal-Valence 2D emotional model.\n",
    "The Valence/Arousal ratings were collected using Amazon Mechanical Turks service.\n",
    "Each turk from the collected crowd were asked to mark his own emotion for the current song on a 2D plane, Arousal/Valence.\n",
    "For more information please read: https://journals.plos.org/plosone/article?id=10.1371/journal.pone.0173392\n",
    "\"\"\"\n",
    "\n",
    "DF_PATH = f\"{DATA_DIR}\" \\\n",
    "          f\"/DEAM/annotations/annotations per each rater/\" \\\n",
    "          f\"song_level/static_annotations_songs_1_2000.csv\"\n",
    "\n",
    "def select_n_random(trainset: RatingsDataset):\n",
    "    \"\"\"\n",
    "    Selects n random data points and their corresponding labels from a dataset\n",
    "    \"\"\"\n",
    "    perm = randperm(len(trainset))\n",
    "    return trainset[perm][:100]"
   ]
  },
  {
   "cell_type": "code",
   "execution_count": 3,
   "outputs": [
    {
     "name": "stderr",
     "output_type": "stream",
     "text": [
      "100%|██████████| 18/18 [01:55<00:00,  6.42s/batch, train_loss=0.52] \n"
     ]
    },
    {
     "name": "stdout",
     "output_type": "stream",
     "text": [
      "epoch=1, loss=12.52741659102697\n"
     ]
    },
    {
     "name": "stderr",
     "output_type": "stream",
     "text": [
      "100%|██████████| 18/18 [00:57<00:00,  3.19s/batch, train_loss=0.462]\n"
     ]
    },
    {
     "name": "stdout",
     "output_type": "stream",
     "text": [
      "epoch=2, loss=8.95700982387432\n"
     ]
    },
    {
     "name": "stderr",
     "output_type": "stream",
     "text": [
      "100%|██████████| 18/18 [00:57<00:00,  3.20s/batch, train_loss=0.401]\n"
     ]
    },
    {
     "name": "stdout",
     "output_type": "stream",
     "text": [
      "epoch=3, loss=7.638953863373436\n"
     ]
    },
    {
     "name": "stderr",
     "output_type": "stream",
     "text": [
      "100%|██████████| 18/18 [00:55<00:00,  3.11s/batch, train_loss=0.387]\n"
     ]
    },
    {
     "name": "stdout",
     "output_type": "stream",
     "text": [
      "epoch=4, loss=6.8531454209450375\n"
     ]
    },
    {
     "name": "stderr",
     "output_type": "stream",
     "text": [
      "100%|██████████| 18/18 [00:54<00:00,  3.02s/batch, train_loss=0.331]\n"
     ]
    },
    {
     "name": "stdout",
     "output_type": "stream",
     "text": [
      "epoch=5, loss=6.273051167721569\n"
     ]
    },
    {
     "name": "stderr",
     "output_type": "stream",
     "text": [
      "100%|██████████| 18/18 [00:54<00:00,  3.01s/batch, train_loss=0.299]\n"
     ]
    },
    {
     "name": "stdout",
     "output_type": "stream",
     "text": [
      "epoch=6, loss=5.864035482826074\n"
     ]
    },
    {
     "name": "stderr",
     "output_type": "stream",
     "text": [
      "100%|██████████| 18/18 [00:56<00:00,  3.13s/batch, train_loss=0.285]\n"
     ]
    },
    {
     "name": "stdout",
     "output_type": "stream",
     "text": [
      "epoch=7, loss=5.520366364538422\n"
     ]
    },
    {
     "name": "stderr",
     "output_type": "stream",
     "text": [
      "100%|██████████| 18/18 [00:52<00:00,  2.94s/batch, train_loss=0.28] \n"
     ]
    },
    {
     "name": "stdout",
     "output_type": "stream",
     "text": [
      "epoch=8, loss=5.301010321526112\n"
     ]
    },
    {
     "name": "stderr",
     "output_type": "stream",
     "text": [
      "100%|██████████| 18/18 [00:52<00:00,  2.91s/batch, train_loss=0.323]\n"
     ]
    },
    {
     "name": "stdout",
     "output_type": "stream",
     "text": [
      "epoch=9, loss=5.116883718973373\n"
     ]
    },
    {
     "name": "stderr",
     "output_type": "stream",
     "text": [
      "100%|██████████| 18/18 [00:52<00:00,  2.91s/batch, train_loss=0.298]\n"
     ]
    },
    {
     "name": "stdout",
     "output_type": "stream",
     "text": [
      "epoch=10, loss=4.931212429948863\n"
     ]
    },
    {
     "name": "stderr",
     "output_type": "stream",
     "text": [
      "100%|██████████| 18/18 [00:52<00:00,  2.90s/batch, train_loss=0.272]\n"
     ]
    },
    {
     "name": "stdout",
     "output_type": "stream",
     "text": [
      "epoch=11, loss=4.788327869336141\n"
     ]
    },
    {
     "name": "stderr",
     "output_type": "stream",
     "text": [
      "100%|██████████| 18/18 [00:52<00:00,  2.91s/batch, train_loss=0.24] \n"
     ]
    },
    {
     "name": "stdout",
     "output_type": "stream",
     "text": [
      "epoch=12, loss=4.63465940451721\n"
     ]
    },
    {
     "name": "stderr",
     "output_type": "stream",
     "text": [
      "100%|██████████| 18/18 [00:52<00:00,  2.91s/batch, train_loss=0.275]\n"
     ]
    },
    {
     "name": "stdout",
     "output_type": "stream",
     "text": [
      "epoch=13, loss=4.518484907284812\n"
     ]
    },
    {
     "name": "stderr",
     "output_type": "stream",
     "text": [
      "100%|██████████| 18/18 [00:52<00:00,  2.90s/batch, train_loss=0.236]\n"
     ]
    },
    {
     "name": "stdout",
     "output_type": "stream",
     "text": [
      "epoch=14, loss=4.395158682225651\n"
     ]
    },
    {
     "name": "stderr",
     "output_type": "stream",
     "text": [
      "100%|██████████| 18/18 [00:52<00:00,  2.90s/batch, train_loss=0.264]\n"
     ]
    },
    {
     "name": "stdout",
     "output_type": "stream",
     "text": [
      "epoch=15, loss=4.280674747577841\n"
     ]
    },
    {
     "name": "stderr",
     "output_type": "stream",
     "text": [
      "100%|██████████| 18/18 [00:52<00:00,  2.91s/batch, train_loss=0.245]\n"
     ]
    },
    {
     "name": "stdout",
     "output_type": "stream",
     "text": [
      "epoch=16, loss=4.204324508666993\n"
     ]
    },
    {
     "name": "stderr",
     "output_type": "stream",
     "text": [
      "100%|██████████| 18/18 [00:52<00:00,  2.93s/batch, train_loss=0.234]\n"
     ]
    },
    {
     "name": "stdout",
     "output_type": "stream",
     "text": [
      "epoch=17, loss=4.09930317175141\n"
     ]
    },
    {
     "name": "stderr",
     "output_type": "stream",
     "text": [
      "100%|██████████| 18/18 [00:53<00:00,  2.96s/batch, train_loss=0.215]\n"
     ]
    },
    {
     "name": "stdout",
     "output_type": "stream",
     "text": [
      "epoch=18, loss=3.988694556145252\n"
     ]
    },
    {
     "name": "stderr",
     "output_type": "stream",
     "text": [
      "100%|██████████| 18/18 [00:53<00:00,  2.96s/batch, train_loss=0.234]\n"
     ]
    },
    {
     "name": "stdout",
     "output_type": "stream",
     "text": [
      "epoch=19, loss=3.9257494881024497\n"
     ]
    },
    {
     "name": "stderr",
     "output_type": "stream",
     "text": [
      "100%|██████████| 18/18 [00:53<00:00,  2.97s/batch, train_loss=0.216]\n"
     ]
    },
    {
     "name": "stdout",
     "output_type": "stream",
     "text": [
      "epoch=20, loss=3.8177073989171713\n"
     ]
    },
    {
     "name": "stderr",
     "output_type": "stream",
     "text": [
      "100%|██████████| 18/18 [00:53<00:00,  2.97s/batch, train_loss=0.227]\n"
     ]
    },
    {
     "name": "stdout",
     "output_type": "stream",
     "text": [
      "epoch=21, loss=3.781229142564955\n"
     ]
    },
    {
     "name": "stderr",
     "output_type": "stream",
     "text": [
      "100%|██████████| 18/18 [00:53<00:00,  2.94s/batch, train_loss=0.219]\n"
     ]
    },
    {
     "name": "stdout",
     "output_type": "stream",
     "text": [
      "epoch=22, loss=3.696437201978755\n"
     ]
    },
    {
     "name": "stderr",
     "output_type": "stream",
     "text": [
      "100%|██████████| 18/18 [00:53<00:00,  2.95s/batch, train_loss=0.211]\n"
     ]
    },
    {
     "name": "stdout",
     "output_type": "stream",
     "text": [
      "epoch=23, loss=3.6415017993974486\n"
     ]
    },
    {
     "name": "stderr",
     "output_type": "stream",
     "text": [
      "100%|██████████| 18/18 [00:52<00:00,  2.94s/batch, train_loss=0.209]\n"
     ]
    },
    {
     "name": "stdout",
     "output_type": "stream",
     "text": [
      "epoch=24, loss=3.581915304286847\n"
     ]
    },
    {
     "name": "stderr",
     "output_type": "stream",
     "text": [
      "100%|██████████| 18/18 [00:52<00:00,  2.90s/batch, train_loss=0.184]\n"
     ]
    },
    {
     "name": "stdout",
     "output_type": "stream",
     "text": [
      "epoch=25, loss=3.53232809530551\n"
     ]
    }
   ],
   "source": [
    "\"\"\"\n",
    "This block of code calculates the outliers alongside the valence axis\n",
    "\"\"\"\n",
    "columns = [\"workerID\", \"SongId\", \"Valence\"]\n",
    "original_df = read_csv(DF_PATH, skipinitialspace=True, usecols=columns)\n",
    "original_df.columns = [\"user_id\", \"item_id\", \"rating\"]\n",
    "\n",
    "data_converter = DataConverter(\n",
    "        original_df=original_df, n_random_users=10, n_ratings_per_random_user=50\n",
    ")\n",
    "data_processor = DataProcessor(original_df=data_converter.original_df)\n",
    "\n",
    "valence_model = MF(\n",
    "    n_users=data_converter.n_users,\n",
    "    n_items=data_converter.n_item,\n",
    ")\n",
    "epochs = 25\n",
    "\n",
    "criterion = MiningOutliersLoss(data_converter=data_converter, data_processor=data_processor)\n",
    "optimizer = SGD(valence_model.parameters(), lr=5, weight_decay=1e-3)\n",
    "runner = Runner(\n",
    "    model=valence_model,\n",
    "    criterion=criterion,\n",
    "    optimizer=optimizer,\n",
    "    epochs=epochs\n",
    ")\n",
    "\n",
    "train_set = create_dataset(data_converter=data_converter)\n",
    "train_load = DataLoader(train_set, batch_size=1000, shuffle=True)\n",
    "users, items, ratings = select_n_random(train_set)\n",
    "\n",
    "with SummaryWriter(\"runs/DEAM/valence\") as writer:\n",
    "    writer.add_graph(valence_model, (users, items))\n",
    "\n",
    "    for epoch in range(epochs):\n",
    "        epoch_loss = runner.train(train_loader=train_load, epoch=epoch, writer=writer)\n",
    "        print(f\"epoch={epoch + 1}, loss={epoch_loss}\")"
   ],
   "metadata": {
    "collapsed": false,
    "pycharm": {
     "name": "#%%\n"
    }
   }
  },
  {
   "cell_type": "code",
   "execution_count": null,
   "outputs": [],
   "source": [
    "\"\"\"\n",
    "This block of code calculates the outliers alongside the arousal axis\n",
    "\"\"\"\n",
    "columns = [\"workerID\", \"SongId\", \"Arousal\"]\n",
    "original_df = read_csv(DF_PATH, skipinitialspace=True, usecols=columns)\n",
    "original_df.columns = [\"user_id\", \"item_id\", \"rating\"]\n",
    "\n",
    "data_converter = DataConverter(\n",
    "        original_df=original_df, n_random_users=10, n_ratings_per_random_user=50\n",
    ")\n",
    "data_processor = DataProcessor(original_df=data_converter.original_df)\n",
    "\n",
    "arousal_model = MF(\n",
    "    n_users=data_converter.n_users,\n",
    "    n_items=data_converter.n_item,\n",
    ")\n",
    "epochs = 25\n",
    "\n",
    "criterion = MiningOutliersLoss(data_converter=data_converter, data_processor=data_processor)\n",
    "optimizer = SGD(arousal_model.parameters(), lr=5, weight_decay=1e-3)\n",
    "runner = Runner(\n",
    "    model=arousal_model,\n",
    "    criterion=criterion,\n",
    "    optimizer=optimizer,\n",
    "    epochs=epochs,\n",
    ")\n",
    "\n",
    "train_set = create_dataset(data_converter=data_converter)\n",
    "train_load = DataLoader(train_set, batch_size=1000, shuffle=True)\n",
    "users, items, ratings = select_n_random(train_set)\n",
    "\n",
    "epochs = 25\n",
    "with SummaryWriter(\"runs/DEAM/arousal\") as writer:\n",
    "    writer.add_graph(arousal_model, (users, items))\n",
    "\n",
    "    for epoch in range(epochs):\n",
    "        epoch_loss = runner.train(train_loader=train_load, epoch=epoch, writer=writer)\n",
    "        print(f\"epoch={epoch + 1}, loss={epoch_loss}\")"
   ],
   "metadata": {
    "collapsed": false,
    "pycharm": {
     "name": "#%%\n"
    }
   }
  },
  {
   "cell_type": "code",
   "execution_count": 5,
   "outputs": [
    {
     "name": "stdout",
     "output_type": "stream",
     "text": [
      "user: 65794ea9f5122952403585a237bc5e52, dist: -59.39469909667969, #items: 3\n",
      "user: random_guy_189, dist: -51.721527099609375, #items: 50\n",
      "user: 2a6b63b7690efa2390c8d9fee11b1407, dist: -50.432456970214844, #items: 3\n",
      "user: ad3b997c4f2382a66e49f035cacfa682, dist: -35.1258544921875, #items: 3\n",
      "user: 374a5659c02e12b01db6319436f17a7d, dist: -30.808713912963867, #items: 3\n",
      "user: fd5b08ce362d855ca9152a894348130c, dist: -30.02642059326172, #items: 222\n",
      "user: d88c800327bffffea5562e23c276ede3, dist: -28.628963470458984, #items: 2\n",
      "user: random_guy_191, dist: -27.281002044677734, #items: 50\n",
      "user: 623681f76a3eab5d9c86fbc0e1ca264b, dist: -11.554872512817383, #items: 12\n",
      "user: random_guy_187, dist: -10.641124725341797, #items: 50\n",
      "user: random_guy_190, dist: -9.69948673248291, #items: 50\n",
      "user: da37d1548ffd0631809f7be341e4fe4d, dist: -6.105973243713379, #items: 3\n",
      "user: ccfcf36a939a8af15a987fa562a49207, dist: -4.857481002807617, #items: 7\n",
      "user: bb50b45a1874ede476874bd57e4cabb4, dist: -1.272186279296875, #items: 178\n",
      "user: 807f0025a626896f04566aa37cfbce0d, dist: 0.802823543548584, #items: 3\n",
      "user: e336e40ae9ac101cec57e8e4323ffb79, dist: 1.249464988708496, #items: 6\n",
      "user: 80db3788bc598d1b32979bea958d9358, dist: 3.5858068466186523, #items: 6\n",
      "user: 34fb7d43f3a35d4afac7563b7453e31c, dist: 5.184412002563477, #items: 5\n",
      "user: 51452faff8948ad4780f9b6261e813a7, dist: 5.858960151672363, #items: 15\n",
      "user: 027cefa6afc040448d29558b3175cdc1, dist: 6.508297920227051, #items: 9\n",
      "user: random_guy_195, dist: 6.51163387298584, #items: 50\n",
      "user: random_guy_196, dist: 6.687673568725586, #items: 50\n",
      "user: random_guy_193, dist: 7.461030960083008, #items: 50\n",
      "user: 1065a2110392d3e83d61b4282f55353c, dist: 8.935514450073242, #items: 7\n",
      "user: random_guy_194, dist: 9.809158325195312, #items: 50\n",
      "user: 7cecbffe1da5ae974952db6c13695afe, dist: 11.092913627624512, #items: 428\n",
      "user: d5b7242bc8a4bb534b8489c24b81fc34, dist: 13.170570373535156, #items: 3\n",
      "user: 651938620e6e6c78bfa7854784fe62c2, dist: 13.37890338897705, #items: 3\n",
      "user: random_guy_192, dist: 14.312824249267578, #items: 50\n",
      "user: 485d8e33a731a830ef0aebd71b016d08, dist: 15.164795875549316, #items: 6\n",
      "user: 615d836ba25132081e0ebd2182221a59, dist: 16.268142700195312, #items: 6\n",
      "user: a30d244141cb2f51e0803e79bc4bd147, dist: 16.997526168823242, #items: 985\n",
      "user: 00de940f0b5cfc82cca4791199e3bfb3, dist: 17.41290283203125, #items: 751\n",
      "user: ba85e679d3c3ac42412cb8deaba66a5a, dist: 18.120731353759766, #items: 3\n",
      "user: 6222da90667e5b0de990ce6c26dcfa15, dist: 18.9714412689209, #items: 12\n",
      "user: 26bf37eb1750d163fe01ef21b0033a77, dist: 19.311885833740234, #items: 6\n",
      "user: a0f5cedc3a2371ec13663226c4b44771, dist: 20.011232376098633, #items: 4\n",
      "user: 3ca50399775f0540bd002cb0d6f54a3d, dist: 21.31292724609375, #items: 6\n",
      "user: 4dedf223de3f8ebde100df78a5428251, dist: 21.990310668945312, #items: 3\n",
      "user: 4c2037269ef8fd0a3349e6b54dd1bb1f, dist: 21.990337371826172, #items: 9\n",
      "user: 15ec33e862185406170ff931583b014f, dist: 22.48462677001953, #items: 4\n",
      "user: 9edfd17e8b78d0981868f84c5f20a118, dist: 24.76201057434082, #items: 3\n",
      "user: 607f6e34a0b5923333f6b16d3a59cc98, dist: 26.917266845703125, #items: 955\n",
      "user: 46a2289decf79f747406fa91cd92fc27, dist: 27.669631958007812, #items: 333\n",
      "user: ff18a27328ffd40ef52b7ebb7a0ded94, dist: 28.02564811706543, #items: 20\n",
      "user: 5b044cf509da1d8444b6f60c465240ef, dist: 28.525707244873047, #items: 3\n",
      "user: b8ef6a913a63225faafd661ee2e1a7c0, dist: 29.229589462280273, #items: 10\n",
      "user: d0c51e42ea093dc9a9a98ef888637c8e, dist: 29.677257537841797, #items: 2\n",
      "user: de2b2c35312ac2f0a8510743742c0219, dist: 30.91033935546875, #items: 937\n",
      "user: 9d32be9708a9520ec07e91aec9653291, dist: 32.498573303222656, #items: 3\n",
      "user: a186cdd58a92051b7c73adc9bd6e65ca, dist: 33.17335891723633, #items: 7\n",
      "user: f7502ffb3616a789e3e5b38f7325b95f, dist: 34.303802490234375, #items: 12\n",
      "user: random_guy_188, dist: 34.44831848144531, #items: 50\n",
      "user: 67785f343e6d117fac4d1697697cd8ae, dist: 35.72308349609375, #items: 3\n",
      "user: 5862049dbaad1750964d91a98930832f, dist: 36.2630729675293, #items: 33\n",
      "user: d633894e43380403a7984858af42ecea, dist: 36.501712799072266, #items: 36\n",
      "user: 27f51a4a7fe8565d26cadb88584441e5, dist: 36.71522521972656, #items: 2\n",
      "user: 490951556961e4b88fe1a3ac53b3b186, dist: 37.559059143066406, #items: 313\n",
      "user: accbf566ae920d6260d28454e1ee0d6a, dist: 37.6073112487793, #items: 396\n",
      "user: 5fa91ab06a079c59a1d9e8174a488f91, dist: 39.56962203979492, #items: 3\n",
      "user: b92704ea431d60d62bd8fd18e2940067, dist: 39.69947052001953, #items: 6\n",
      "user: 186575d01f40537515988f1369d395eb, dist: 39.952484130859375, #items: 12\n",
      "user: c3c21239b85dcdd6679fc212afd02a49, dist: 40.22456741333008, #items: 9\n",
      "user: fc2fa5656d42b49f3caf01f663085069, dist: 40.277198791503906, #items: 6\n",
      "user: 52b597296a8dca0c5cc5a19231eeff89, dist: 40.408958435058594, #items: 2\n",
      "user: f71b423642d3d61dffba53ddee48a7e0, dist: 40.41427993774414, #items: 15\n",
      "user: 610d5d89f56667e3d4537c529aae496e, dist: 41.101417541503906, #items: 6\n",
      "user: 6d59196a3f495939a1a776cbebe212ba, dist: 41.26860809326172, #items: 3\n",
      "user: 861d48b913f37227fcf9a7b1e547c0bb, dist: 41.61979293823242, #items: 8\n",
      "user: 77055e16055dc7bc817f7c4bb2eb8fae, dist: 42.02642059326172, #items: 6\n",
      "user: b4ba75169c585b959f1247fac7e4be7a, dist: 42.98033905029297, #items: 3\n",
      "user: d8188e46705e2e87f6a051e0cb338dea, dist: 43.09524917602539, #items: 2\n",
      "user: 888b76dff350bdb6b25783d7c4110081, dist: 44.97435760498047, #items: 12\n",
      "user: 0aef6e22005035ac1b93e0a99c961f4c, dist: 45.609397888183594, #items: 6\n",
      "user: 78b5e9744073532cc376976b5fc6b2fc, dist: 46.22431945800781, #items: 718\n",
      "user: c182e8b2f013e4e3c78cbfb01b8970c8, dist: 47.57717514038086, #items: 30\n",
      "user: 659accfd85162122ca361ac34e730c4d, dist: 47.97884750366211, #items: 3\n",
      "user: d3b1de8ed2ffc3eb9af2ef40a80c7d7d, dist: 48.272926330566406, #items: 3\n",
      "user: 55016bfc877fc509861b4aba22ee4f7a, dist: 48.8585205078125, #items: 9\n",
      "user: 883449004b1bf2a07a284f59ddae1fd7, dist: 49.09648132324219, #items: 190\n",
      "user: 38531641e6c0628757776b0088bcc854, dist: 49.15242004394531, #items: 7\n",
      "user: ca76c553e32c2f096c3bc8f7280ba408, dist: 49.46256637573242, #items: 3\n",
      "user: b37092cf23b42f8b8497d8ba89be157a, dist: 50.03162384033203, #items: 2\n",
      "user: e9fda1f240982b20e0df5ba9c4a337e9, dist: 51.110870361328125, #items: 18\n",
      "user: 54cc66fe7cbb01775a6b7c7d703cdeff, dist: 51.26226806640625, #items: 3\n",
      "user: 3111e02887b600ee085c72c0a3df33e8, dist: 51.92744445800781, #items: 1\n",
      "user: 259443e9cad56b4f68b664daa20cb323, dist: 51.993743896484375, #items: 305\n",
      "user: 8ef6c1b6e31d907a3bba6f4edd303371, dist: 52.395957946777344, #items: 18\n",
      "user: b09a5957e5d5e47e556d203529a0ae6d, dist: 52.96501159667969, #items: 708\n",
      "user: ff9c1993d2a21f2117c30d8e295dd4ac, dist: 53.81594467163086, #items: 661\n",
      "user: 1ac10b86ba5ac18e06eea9f9954ab216, dist: 53.9547233581543, #items: 217\n",
      "user: 8dcd4de7be6479561269b90c1dc8a3b4, dist: 54.790931701660156, #items: 454\n",
      "user: 6db6afec230a8c59397b5f4d97f5da28, dist: 54.88960647583008, #items: 12\n",
      "user: 4c7a94e0937450ef406135849493ab99, dist: 55.09383773803711, #items: 57\n",
      "user: dbb8ffe292aaa9bc2de69ca511af2b3a, dist: 55.14692306518555, #items: 3\n",
      "user: 2db8293d2a35a17f16ddf8e97122ec11, dist: 55.277706146240234, #items: 219\n",
      "user: a2a845665afabbc319eb7c5305b0a7ec, dist: 55.31810760498047, #items: 6\n",
      "user: 35536d2d90b93461aa74200967d002e8, dist: 55.57040023803711, #items: 3\n",
      "user: 0c37993dcf5f99f7b00d02495ed01bc3, dist: 56.807640075683594, #items: 339\n",
      "user: d0520656367db74cb316b9a26f60864e, dist: 57.06349182128906, #items: 12\n",
      "user: 7a23690289260d2b8c1d71d8c22b69f0, dist: 57.232200622558594, #items: 18\n",
      "user: a4410f548a05bf09b8541ec2672d8490, dist: 57.96662902832031, #items: 3\n",
      "user: c19c053aafbf1492b9e57ce3da5d45c1, dist: 58.52436447143555, #items: 24\n",
      "user: 2afd218c3aecb6828d2be327f8b9c46f, dist: 58.925106048583984, #items: 760\n",
      "user: 1bd2dc9e0406a2e240b288685c87fa76, dist: 59.91184997558594, #items: 3\n",
      "user: 4eb43aa7f89260bb40b3970a45a82678, dist: 60.20571517944336, #items: 333\n",
      "user: 9c8073214a052e414811b76012df8847, dist: 61.28879928588867, #items: 160\n",
      "user: 8eb1abd1acca601d1e23e85c69b1742a, dist: 61.56488037109375, #items: 34\n",
      "user: f8ecfe868f673b16e2f6e5614cb46b7d, dist: 61.63050842285156, #items: 3\n",
      "user: 2fb527b567d10a3ea0dac783c7c2f364, dist: 62.005653381347656, #items: 6\n",
      "user: 6cb1856680ea078c9f46437e2bdcd09e, dist: 62.91438293457031, #items: 6\n",
      "user: fa3305c1bc04047d36a8b7a4c77fa81b, dist: 64.14256286621094, #items: 4\n",
      "user: d5cf45435e35cb9166f51f0a55b74a0e, dist: 64.52487182617188, #items: 75\n",
      "user: 62ef0e23f21039e337b545ccc4851525, dist: 64.85675811767578, #items: 48\n",
      "user: 93f4b8995f647ceb58689b78eb2087ef, dist: 65.08616638183594, #items: 36\n",
      "user: d4d0cd1ae06f54909291d34ddd6ab497, dist: 65.49246215820312, #items: 78\n",
      "user: 2461c19378deafd4ec26d3993eeef635, dist: 65.95709991455078, #items: 15\n",
      "user: 04db9e73677c3b8882908ef7ee4a3424, dist: 67.72032165527344, #items: 3\n",
      "user: 3c63524f15931dc8bed7a768cb7d6150, dist: 68.73501586914062, #items: 14\n",
      "user: 6b492acb1838463dc7c07a76b26313c4, dist: 69.21156311035156, #items: 247\n",
      "user: 594f3fb0d194f109697627b5241f4011, dist: 69.2555923461914, #items: 3\n",
      "user: a00de41fdf121f6dfe5db851a575d2d1, dist: 69.43478393554688, #items: 146\n",
      "user: e105c200f413d7b2c5850c0df4b9687e, dist: 69.49492645263672, #items: 2\n",
      "user: a9f376da22eb77185afae90b192bf9ac, dist: 69.64735412597656, #items: 48\n",
      "user: 248172d9efbbd5eb72d48de6884054ab, dist: 69.90747833251953, #items: 24\n",
      "user: 722ad4c331b7d7bebd697bfbb91ee0e8, dist: 69.93643188476562, #items: 36\n",
      "user: 11e5c2ba0236fe3643cac09dbdb96580, dist: 70.17813110351562, #items: 30\n",
      "user: 5bdea9864567a8614b659bf4b2132ab0, dist: 70.41488647460938, #items: 78\n",
      "user: e347f98d0a810ded7c14d7be813a5868, dist: 71.1445083618164, #items: 19\n",
      "user: 6010bbc8e7ef4b21fa38f9c3a9754ef3, dist: 71.55027770996094, #items: 396\n",
      "user: 212246528da7c13457844fc4453e6019, dist: 71.76920318603516, #items: 22\n",
      "user: 49be5653eaba26f1eb60fd9d63f23502, dist: 72.1683349609375, #items: 3\n",
      "user: 19fee46f2810f34a8b69a7768d897a59, dist: 72.19723510742188, #items: 1\n",
      "user: 1eb9e2c62709ff203b2d9a558abc0937, dist: 72.87492370605469, #items: 39\n",
      "user: 987a16808cac2496853b6f531c0878cb, dist: 73.07388305664062, #items: 3\n",
      "user: b36ffffcd1831441a2a3b60919312ccd, dist: 73.21438598632812, #items: 118\n",
      "user: 0ca907e233b8bf33bf4eca86fcbfcc8f, dist: 74.39750671386719, #items: 54\n",
      "user: 504b651e27c89d1d46d101dd87823ab6, dist: 75.64094543457031, #items: 9\n",
      "user: d84d58533b58797bccca5811b4135c95, dist: 76.61715698242188, #items: 31\n",
      "user: bf34e3c5724ce07d29ef12db5f767258, dist: 77.46003723144531, #items: 249\n",
      "user: 9c3b8737a6a00626867c5e05ee80157e, dist: 77.58446502685547, #items: 3\n",
      "user: 74f10ac255db9e37db6c6cbf604eb7e0, dist: 77.9541015625, #items: 18\n",
      "user: 0bda2743e12d8a204ab04122658d73a3, dist: 78.16159057617188, #items: 18\n",
      "user: f0e2dfdbc324f309660b731ad16ce2fd, dist: 79.20072174072266, #items: 17\n",
      "user: a34913ea1010b5812a14d1fef9586a4f, dist: 79.9240493774414, #items: 3\n",
      "user: be4e771b30940fb2d5f5dcfe3877dd2e, dist: 81.91007995605469, #items: 6\n",
      "user: 3c888e77b992ae3cd2adfe16774e23b9, dist: 81.91427612304688, #items: 11\n",
      "user: 7975199043cec980e587889f1639c0a4, dist: 83.82951354980469, #items: 11\n",
      "user: c795c7de8f350ab35dfd1100a84bf213, dist: 84.36552429199219, #items: 68\n",
      "user: 514278711fcdb6dfb235c03a3aa38ee3, dist: 84.72367095947266, #items: 269\n",
      "user: dd80f1940fe5b84eddde6e83542bd89b, dist: 84.86557006835938, #items: 12\n",
      "user: 478905563bab736f35d94bd7b0a27f9a, dist: 86.02946472167969, #items: 15\n",
      "user: 51f5fb156a5c0051682ee1835e30fbbd, dist: 86.15159606933594, #items: 5\n",
      "user: 3deba1aaf448d3857c6c70f63c2a6430, dist: 86.17967987060547, #items: 11\n",
      "user: a2a15d03117e137478c5718212805270, dist: 86.88621520996094, #items: 50\n",
      "user: b6927bdee51077f7868f05f1ed39485f, dist: 87.95782470703125, #items: 18\n",
      "user: 2f790705ae66e70e81cc0f11ce0f4b9b, dist: 88.17642211914062, #items: 2\n",
      "user: b13fb0da6dd2f5d7fe398e6e53b52110, dist: 88.42271423339844, #items: 7\n",
      "user: 2c5952c4f931410e9010eb87c276020d, dist: 89.57749938964844, #items: 73\n",
      "user: f3008c23ea8f35ef870e735df67fcc46, dist: 89.6468505859375, #items: 7\n",
      "user: eca1130f44cd2e17645e40a0fa2ef59b, dist: 89.72303771972656, #items: 1005\n",
      "user: 64cae7b86c7dcb1b40d17e43c0c2109e, dist: 89.997802734375, #items: 365\n",
      "user: 6ca7c27715f54e2f47ebe4e1c9dcf842, dist: 90.52204895019531, #items: 72\n",
      "user: 56a384c7fb2545f9de3e85fa7445d92b, dist: 90.60139465332031, #items: 2\n",
      "user: ed7ed76453bd846859f5e6b9149df276, dist: 90.69662475585938, #items: 675\n",
      "user: 4dfca2f4dc4e8e6c3b1b7d32e10579c1, dist: 90.85324096679688, #items: 17\n",
      "user: 84c2d6fc2e78a1d1283c386c0d4daee4, dist: 92.59834289550781, #items: 9\n",
      "user: 40b86bbb6927a793c05968b8b95e214d, dist: 93.04768371582031, #items: 13\n",
      "user: 3226bc99212ad30ce2ced981de1c437a, dist: 94.18536376953125, #items: 34\n",
      "user: 7a81cab11e4b2b4aa9c0718c90835611, dist: 94.65889739990234, #items: 30\n",
      "user: 7685fa48defdc384f720bd1edbf17ed6, dist: 94.90786743164062, #items: 55\n",
      "user: 4480a650a96730fb629aa7fa2079e7c3, dist: 95.07307434082031, #items: 37\n",
      "user: cbc86e332e889251fe0fa71df472f202, dist: 95.18946838378906, #items: 151\n",
      "user: de0b07c32bb6ca4655487026e0f3fc38, dist: 95.51748657226562, #items: 74\n",
      "user: 28b56a449c99c88e1f9fff59d0f16aac, dist: 95.69466400146484, #items: 84\n",
      "user: 9ad2a06dfac81761a123cb40084dcbd7, dist: 96.1355972290039, #items: 23\n",
      "user: 145b408fa103c16bb00e8734cc39a29f, dist: 97.27607727050781, #items: 18\n",
      "user: 5097e48e561bf0261b242f211b289825, dist: 97.29556274414062, #items: 53\n",
      "user: c1edc56f4d30d94a94ee41654c4f6734, dist: 97.7671890258789, #items: 31\n",
      "user: be6ec863f38f611dff4958ccd33cf638, dist: 99.04293823242188, #items: 60\n",
      "user: d8e56509dc582df255732a0170323231, dist: 99.83493041992188, #items: 61\n",
      "user: cd09cd99c38d4bfb7b554dff21196c22, dist: 100.15525817871094, #items: 26\n",
      "user: 5bf3c29fd496e2cafa9c531c7e9c6d61, dist: 100.43064880371094, #items: 29\n",
      "user: 855ba3170f3e470170d23a748ccb41ed, dist: 102.4754638671875, #items: 42\n",
      "user: 807dfc125f09be392a1f1b58c05b3742, dist: 103.13446044921875, #items: 11\n",
      "user: fecd63ea857606ed61cbfe2ba1a70b3b, dist: 103.15534973144531, #items: 4\n",
      "user: 24ebcf86498b0f2793b55c5b9a7756b5, dist: 103.88156127929688, #items: 210\n",
      "user: 1ee4bd59c9ea084016ff2811dbb00568, dist: 104.9285888671875, #items: 53\n",
      "user: ce209fb2fe01d6c85dbb29b6fd84b563, dist: 105.49657440185547, #items: 49\n",
      "user: 3bf93d5f7b82b46e38feb881d00c5798, dist: 106.6799087524414, #items: 36\n",
      "user: 00fa8d61b5f75e16ea71bff7a3def9c9, dist: 107.65518951416016, #items: 30\n",
      "user: 571d66ea4abfb694d9bb1281d7701710, dist: 108.7450942993164, #items: 68\n",
      "user: 4b4c4f319a356ea87affb872173a2095, dist: 109.2322998046875, #items: 34\n",
      "user: 9d1aa48692579ca9330d3c61d10e22e6, dist: 109.32872009277344, #items: 84\n",
      "user: 20c7d1ee0615a09b0bac9438cc8325e2, dist: 109.57020568847656, #items: 66\n",
      "user: 94d7a0f7c8f2e1c714b0649f835c538c, dist: 112.65240478515625, #items: 150\n",
      "user: 2ec24376127909f3be36d770e6ae41a6, dist: 114.25416564941406, #items: 14\n"
     ]
    }
   ],
   "source": [
    "valence_outliers = mine_outliers(model=valence_model, data_converter=data_converter)\n",
    "arousal_outliers = mine_outliers(model=arousal_model, data_converter=data_converter)\n",
    "\n",
    "items_group_by_users = data_converter.original_df.groupby(\"user_id\")\n",
    "combined_outliers = {}\n",
    "for user_id, valence_dist in valence_outliers.items():\n",
    "    arousal_dist = arousal_outliers[user_id]\n",
    "    combined_outliers[user_id] = valence_dist + arousal_dist\n",
    "\n",
    "combined_outliers = dict(sorted(combined_outliers.items(), key=lambda item: item[1]))\n",
    "for user_id, item_id in combined_outliers.items():\n",
    "    number_of_items = len(items_group_by_users.get_group(user_id))\n",
    "    print(f\"user: {user_id}, dist: {item_id}, #items: {number_of_items}\")"
   ],
   "metadata": {
    "collapsed": false,
    "pycharm": {
     "name": "#%%\n"
    }
   }
  }
 ],
 "metadata": {
  "kernelspec": {
   "display_name": "Python 3",
   "language": "python",
   "name": "python3"
  },
  "language_info": {
   "codemirror_mode": {
    "name": "ipython",
    "version": 2
   },
   "file_extension": ".py",
   "mimetype": "text/x-python",
   "name": "python",
   "nbconvert_exporter": "python",
   "pygments_lexer": "ipython2",
   "version": "2.7.6"
  }
 },
 "nbformat": 4,
 "nbformat_minor": 0
}