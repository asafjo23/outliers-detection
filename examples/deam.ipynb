{
 "cells": [
  {
   "cell_type": "code",
   "execution_count": 1,
   "metadata": {
    "collapsed": true,
    "pycharm": {
     "name": "#%%\n"
    }
   },
   "outputs": [],
   "source": [
    "from pandas import read_csv\n",
    "from torch.optim import SGD\n",
    "from torch.utils.data import DataLoader\n",
    "from tensorboardX import SummaryWriter\n",
    "from torch import randperm\n",
    "from config import DATA_DIR\n",
    "from src.data_set import RatingsDataset\n",
    "from src.loss import MiningOutliersLoss\n",
    "from src.model import MF\n",
    "from src.runner import Runner\n",
    "from src.utils import create_dataset, mine_outliers, DataConverter, DataProcessor\n",
    "\n",
    "\"\"\"\n",
    "The Deam dataset is based on Arousal-Valence 2D emotional model.\n",
    "The Valence/Arousal ratings were collected using Amazon Mechanical Turks service.\n",
    "Each turk from the collected crowd were asked to mark his own emotion for the current song on a 2D plane, Arousal/Valence.\n",
    "For more information please read: https://journals.plos.org/plosone/article?id=10.1371/journal.pone.0173392\n",
    "\"\"\"\n",
    "\n",
    "DF_PATH = f\"{DATA_DIR}\" \\\n",
    "          f\"/DEAM/annotations/annotations per each rater/\" \\\n",
    "          f\"song_level/static_annotations_songs_1_2000.csv\"\n",
    "\n",
    "def select_n_random(trainset: RatingsDataset):\n",
    "    \"\"\"\n",
    "    Selects n random data points and their corresponding labels from a dataset\n",
    "    \"\"\"\n",
    "    perm = randperm(len(trainset))\n",
    "    return trainset[perm][:100]"
   ]
  },
  {
   "cell_type": "code",
   "execution_count": 2,
   "outputs": [
    {
     "name": "stderr",
     "output_type": "stream",
     "text": [
      "100%|██████████| 18/18 [00:16<00:00,  1.08batch/s, train_loss=0.544]\n"
     ]
    },
    {
     "name": "stdout",
     "output_type": "stream",
     "text": [
      "epoch=1, loss=12.566120662198522\n"
     ]
    },
    {
     "name": "stderr",
     "output_type": "stream",
     "text": [
      "100%|██████████| 18/18 [00:13<00:00,  1.29batch/s, train_loss=0.466]\n"
     ]
    },
    {
     "name": "stdout",
     "output_type": "stream",
     "text": [
      "epoch=2, loss=9.022809059871182\n"
     ]
    },
    {
     "name": "stderr",
     "output_type": "stream",
     "text": [
      "100%|██████████| 18/18 [00:13<00:00,  1.30batch/s, train_loss=0.445]\n"
     ]
    },
    {
     "name": "stdout",
     "output_type": "stream",
     "text": [
      "epoch=3, loss=7.739140686541672\n"
     ]
    },
    {
     "name": "stderr",
     "output_type": "stream",
     "text": [
      "100%|██████████| 18/18 [00:14<00:00,  1.21batch/s, train_loss=0.31] \n"
     ]
    },
    {
     "name": "stdout",
     "output_type": "stream",
     "text": [
      "epoch=4, loss=6.902965693936803\n"
     ]
    },
    {
     "name": "stderr",
     "output_type": "stream",
     "text": [
      "100%|██████████| 18/18 [00:13<00:00,  1.33batch/s, train_loss=0.355]\n"
     ]
    },
    {
     "name": "stdout",
     "output_type": "stream",
     "text": [
      "epoch=5, loss=6.27783614339868\n"
     ]
    },
    {
     "name": "stderr",
     "output_type": "stream",
     "text": [
      "100%|██████████| 18/18 [00:13<00:00,  1.35batch/s, train_loss=0.308]\n"
     ]
    },
    {
     "name": "stdout",
     "output_type": "stream",
     "text": [
      "epoch=6, loss=5.838185322488491\n"
     ]
    },
    {
     "name": "stderr",
     "output_type": "stream",
     "text": [
      "100%|██████████| 18/18 [00:15<00:00,  1.13batch/s, train_loss=0.305]\n"
     ]
    },
    {
     "name": "stdout",
     "output_type": "stream",
     "text": [
      "epoch=7, loss=5.512302591157652\n"
     ]
    },
    {
     "name": "stderr",
     "output_type": "stream",
     "text": [
      "100%|██████████| 18/18 [00:14<00:00,  1.26batch/s, train_loss=0.304]\n"
     ]
    },
    {
     "name": "stdout",
     "output_type": "stream",
     "text": [
      "epoch=8, loss=5.290005278654614\n"
     ]
    },
    {
     "name": "stderr",
     "output_type": "stream",
     "text": [
      "100%|██████████| 18/18 [00:14<00:00,  1.23batch/s, train_loss=0.273]\n"
     ]
    },
    {
     "name": "stdout",
     "output_type": "stream",
     "text": [
      "epoch=9, loss=5.093792617101393\n"
     ]
    },
    {
     "name": "stderr",
     "output_type": "stream",
     "text": [
      "100%|██████████| 18/18 [00:14<00:00,  1.26batch/s, train_loss=0.266]\n"
     ]
    },
    {
     "name": "stdout",
     "output_type": "stream",
     "text": [
      "epoch=10, loss=4.897748326218475\n"
     ]
    },
    {
     "name": "stderr",
     "output_type": "stream",
     "text": [
      "100%|██████████| 18/18 [00:14<00:00,  1.27batch/s, train_loss=0.272]\n"
     ]
    },
    {
     "name": "stdout",
     "output_type": "stream",
     "text": [
      "epoch=11, loss=4.7546366201060435\n"
     ]
    },
    {
     "name": "stderr",
     "output_type": "stream",
     "text": [
      "100%|██████████| 18/18 [00:14<00:00,  1.27batch/s, train_loss=0.23] \n"
     ]
    },
    {
     "name": "stdout",
     "output_type": "stream",
     "text": [
      "epoch=12, loss=4.602937892296501\n"
     ]
    },
    {
     "name": "stderr",
     "output_type": "stream",
     "text": [
      "100%|██████████| 18/18 [00:17<00:00,  1.03batch/s, train_loss=0.265]\n"
     ]
    },
    {
     "name": "stdout",
     "output_type": "stream",
     "text": [
      "epoch=13, loss=4.4650772993159\n"
     ]
    },
    {
     "name": "stderr",
     "output_type": "stream",
     "text": [
      "100%|██████████| 18/18 [00:15<00:00,  1.13batch/s, train_loss=0.235]\n"
     ]
    },
    {
     "name": "stdout",
     "output_type": "stream",
     "text": [
      "epoch=14, loss=4.3514051982199\n"
     ]
    },
    {
     "name": "stderr",
     "output_type": "stream",
     "text": [
      "100%|██████████| 18/18 [00:18<00:00,  1.02s/batch, train_loss=0.258]\n"
     ]
    },
    {
     "name": "stdout",
     "output_type": "stream",
     "text": [
      "epoch=15, loss=4.239231139756832\n"
     ]
    },
    {
     "name": "stderr",
     "output_type": "stream",
     "text": [
      "100%|██████████| 18/18 [00:14<00:00,  1.25batch/s, train_loss=0.219]\n"
     ]
    },
    {
     "name": "stdout",
     "output_type": "stream",
     "text": [
      "epoch=16, loss=4.138110883847312\n"
     ]
    },
    {
     "name": "stderr",
     "output_type": "stream",
     "text": [
      "100%|██████████| 18/18 [00:15<00:00,  1.18batch/s, train_loss=0.222]\n"
     ]
    },
    {
     "name": "stdout",
     "output_type": "stream",
     "text": [
      "epoch=17, loss=4.044411213221886\n"
     ]
    },
    {
     "name": "stderr",
     "output_type": "stream",
     "text": [
      "100%|██████████| 18/18 [00:15<00:00,  1.17batch/s, train_loss=0.21] \n"
     ]
    },
    {
     "name": "stdout",
     "output_type": "stream",
     "text": [
      "epoch=18, loss=3.9646255717930456\n"
     ]
    },
    {
     "name": "stderr",
     "output_type": "stream",
     "text": [
      "100%|██████████| 18/18 [00:13<00:00,  1.35batch/s, train_loss=0.209]\n"
     ]
    },
    {
     "name": "stdout",
     "output_type": "stream",
     "text": [
      "epoch=19, loss=3.8832749200718037\n"
     ]
    },
    {
     "name": "stderr",
     "output_type": "stream",
     "text": [
      "100%|██████████| 18/18 [00:15<00:00,  1.15batch/s, train_loss=0.218]\n"
     ]
    },
    {
     "name": "stdout",
     "output_type": "stream",
     "text": [
      "epoch=20, loss=3.7875751688470487\n"
     ]
    },
    {
     "name": "stderr",
     "output_type": "stream",
     "text": [
      "100%|██████████| 18/18 [00:14<00:00,  1.24batch/s, train_loss=0.196]\n"
     ]
    },
    {
     "name": "stdout",
     "output_type": "stream",
     "text": [
      "epoch=21, loss=3.7328273198931052\n"
     ]
    },
    {
     "name": "stderr",
     "output_type": "stream",
     "text": [
      "100%|██████████| 18/18 [00:13<00:00,  1.29batch/s, train_loss=0.21] \n"
     ]
    },
    {
     "name": "stdout",
     "output_type": "stream",
     "text": [
      "epoch=22, loss=3.6709469641847727\n"
     ]
    },
    {
     "name": "stderr",
     "output_type": "stream",
     "text": [
      "100%|██████████| 18/18 [00:13<00:00,  1.31batch/s, train_loss=0.212]\n"
     ]
    },
    {
     "name": "stdout",
     "output_type": "stream",
     "text": [
      "epoch=23, loss=3.598860358147206\n"
     ]
    },
    {
     "name": "stderr",
     "output_type": "stream",
     "text": [
      "100%|██████████| 18/18 [00:15<00:00,  1.19batch/s, train_loss=0.2]  \n"
     ]
    },
    {
     "name": "stdout",
     "output_type": "stream",
     "text": [
      "epoch=24, loss=3.5515914362357366\n"
     ]
    },
    {
     "name": "stderr",
     "output_type": "stream",
     "text": [
      "100%|██████████| 18/18 [00:15<00:00,  1.18batch/s, train_loss=0.19] \n"
     ]
    },
    {
     "name": "stdout",
     "output_type": "stream",
     "text": [
      "epoch=25, loss=3.495545592248687\n"
     ]
    }
   ],
   "source": [
    "\"\"\"\n",
    "This block of code calculates the outliers alongside the valence axis\n",
    "\"\"\"\n",
    "columns = [\"workerID\", \"SongId\", \"Valence\"]\n",
    "original_df = read_csv(DF_PATH, skipinitialspace=True, usecols=columns)\n",
    "original_df.columns = [\"user_id\", \"item_id\", \"rating\"]\n",
    "\n",
    "data_converter = DataConverter(\n",
    "        original_df=original_df, n_random_users=10, n_ratings_per_random_user=50\n",
    ")\n",
    "data_processor = DataProcessor(original_df=data_converter.original_df)\n",
    "\n",
    "valence_model = MF(\n",
    "    n_users=data_converter.n_users,\n",
    "    n_items=data_converter.n_item,\n",
    ")\n",
    "\n",
    "criterion = MiningOutliersLoss(data_converter=data_converter, data_processor=data_processor)\n",
    "optimizer = SGD(valence_model.parameters(), lr=5, weight_decay=1e-3)\n",
    "runner = Runner(\n",
    "    model=valence_model,\n",
    "    criterion=criterion,\n",
    "    optimizer=optimizer,\n",
    ")\n",
    "\n",
    "train_set = create_dataset(data_converter=data_converter)\n",
    "train_load = DataLoader(train_set, batch_size=1000, shuffle=True)\n",
    "users, items, ratings = select_n_random(train_set)\n",
    "\n",
    "epochs = 25\n",
    "with SummaryWriter(\"runs/DEAM/valence\") as writer:\n",
    "    writer.add_graph(valence_model, (users, items))\n",
    "\n",
    "    for epoch in range(epochs):\n",
    "        epoch_loss = runner.train(train_loader=train_load, epoch=epoch, writer=writer)\n",
    "        print(f\"epoch={epoch + 1}, loss={epoch_loss}\")"
   ],
   "metadata": {
    "collapsed": false,
    "pycharm": {
     "name": "#%%\n"
    }
   }
  },
  {
   "cell_type": "code",
   "execution_count": 3,
   "outputs": [
    {
     "name": "stderr",
     "output_type": "stream",
     "text": [
      "100%|██████████| 18/18 [00:15<00:00,  1.16batch/s, train_loss=0.559]\n"
     ]
    },
    {
     "name": "stdout",
     "output_type": "stream",
     "text": [
      "epoch=1, loss=13.253642229642113\n"
     ]
    },
    {
     "name": "stderr",
     "output_type": "stream",
     "text": [
      "100%|██████████| 18/18 [00:14<00:00,  1.28batch/s, train_loss=0.495]\n"
     ]
    },
    {
     "name": "stdout",
     "output_type": "stream",
     "text": [
      "epoch=2, loss=9.94417393955848\n"
     ]
    },
    {
     "name": "stderr",
     "output_type": "stream",
     "text": [
      "100%|██████████| 18/18 [00:15<00:00,  1.13batch/s, train_loss=0.487]\n"
     ]
    },
    {
     "name": "stdout",
     "output_type": "stream",
     "text": [
      "epoch=3, loss=8.581540510502098\n"
     ]
    },
    {
     "name": "stderr",
     "output_type": "stream",
     "text": [
      "100%|██████████| 18/18 [00:15<00:00,  1.15batch/s, train_loss=0.436]\n"
     ]
    },
    {
     "name": "stdout",
     "output_type": "stream",
     "text": [
      "epoch=4, loss=7.651847515438602\n"
     ]
    },
    {
     "name": "stderr",
     "output_type": "stream",
     "text": [
      "100%|██████████| 18/18 [00:14<00:00,  1.26batch/s, train_loss=0.382]\n"
     ]
    },
    {
     "name": "stdout",
     "output_type": "stream",
     "text": [
      "epoch=5, loss=7.0083750661003155\n"
     ]
    },
    {
     "name": "stderr",
     "output_type": "stream",
     "text": [
      "100%|██████████| 18/18 [00:14<00:00,  1.26batch/s, train_loss=0.353]\n"
     ]
    },
    {
     "name": "stdout",
     "output_type": "stream",
     "text": [
      "epoch=6, loss=6.538311951443367\n"
     ]
    },
    {
     "name": "stderr",
     "output_type": "stream",
     "text": [
      "100%|██████████| 18/18 [00:14<00:00,  1.27batch/s, train_loss=0.332]\n"
     ]
    },
    {
     "name": "stdout",
     "output_type": "stream",
     "text": [
      "epoch=7, loss=6.17285811377561\n"
     ]
    },
    {
     "name": "stderr",
     "output_type": "stream",
     "text": [
      "100%|██████████| 18/18 [00:14<00:00,  1.28batch/s, train_loss=0.306]\n"
     ]
    },
    {
     "name": "stdout",
     "output_type": "stream",
     "text": [
      "epoch=8, loss=5.907209679947849\n"
     ]
    },
    {
     "name": "stderr",
     "output_type": "stream",
     "text": [
      "100%|██████████| 18/18 [00:15<00:00,  1.17batch/s, train_loss=0.266]\n"
     ]
    },
    {
     "name": "stdout",
     "output_type": "stream",
     "text": [
      "epoch=9, loss=5.682115655036388\n"
     ]
    },
    {
     "name": "stderr",
     "output_type": "stream",
     "text": [
      "100%|██████████| 18/18 [00:14<00:00,  1.20batch/s, train_loss=0.296]\n"
     ]
    },
    {
     "name": "stdout",
     "output_type": "stream",
     "text": [
      "epoch=10, loss=5.46839219773162\n"
     ]
    },
    {
     "name": "stderr",
     "output_type": "stream",
     "text": [
      "100%|██████████| 18/18 [00:15<00:00,  1.18batch/s, train_loss=0.294]\n"
     ]
    },
    {
     "name": "stdout",
     "output_type": "stream",
     "text": [
      "epoch=11, loss=5.268947287658438\n"
     ]
    },
    {
     "name": "stderr",
     "output_type": "stream",
     "text": [
      "100%|██████████| 18/18 [00:16<00:00,  1.10batch/s, train_loss=0.294]\n"
     ]
    },
    {
     "name": "stdout",
     "output_type": "stream",
     "text": [
      "epoch=12, loss=5.080242905106287\n"
     ]
    },
    {
     "name": "stderr",
     "output_type": "stream",
     "text": [
      "100%|██████████| 18/18 [00:15<00:00,  1.13batch/s, train_loss=0.256]\n"
     ]
    },
    {
     "name": "stdout",
     "output_type": "stream",
     "text": [
      "epoch=13, loss=4.9524977768387535\n"
     ]
    },
    {
     "name": "stderr",
     "output_type": "stream",
     "text": [
      "100%|██████████| 18/18 [00:17<00:00,  1.02batch/s, train_loss=0.274]\n"
     ]
    },
    {
     "name": "stdout",
     "output_type": "stream",
     "text": [
      "epoch=14, loss=4.816632916335743\n"
     ]
    },
    {
     "name": "stderr",
     "output_type": "stream",
     "text": [
      "100%|██████████| 18/18 [00:13<00:00,  1.29batch/s, train_loss=0.244]\n"
     ]
    },
    {
     "name": "stdout",
     "output_type": "stream",
     "text": [
      "epoch=15, loss=4.682187159937941\n"
     ]
    },
    {
     "name": "stderr",
     "output_type": "stream",
     "text": [
      "100%|██████████| 18/18 [00:14<00:00,  1.27batch/s, train_loss=0.237]\n"
     ]
    },
    {
     "name": "stdout",
     "output_type": "stream",
     "text": [
      "epoch=16, loss=4.571688019178715\n"
     ]
    },
    {
     "name": "stderr",
     "output_type": "stream",
     "text": [
      "100%|██████████| 18/18 [00:14<00:00,  1.26batch/s, train_loss=0.24] \n"
     ]
    },
    {
     "name": "stdout",
     "output_type": "stream",
     "text": [
      "epoch=17, loss=4.449817425486457\n"
     ]
    },
    {
     "name": "stderr",
     "output_type": "stream",
     "text": [
      "100%|██████████| 18/18 [00:14<00:00,  1.25batch/s, train_loss=0.262]\n"
     ]
    },
    {
     "name": "stdout",
     "output_type": "stream",
     "text": [
      "epoch=18, loss=4.337310405177201\n"
     ]
    },
    {
     "name": "stderr",
     "output_type": "stream",
     "text": [
      "100%|██████████| 18/18 [00:14<00:00,  1.26batch/s, train_loss=0.246]\n"
     ]
    },
    {
     "name": "stdout",
     "output_type": "stream",
     "text": [
      "epoch=19, loss=4.245567693876528\n"
     ]
    },
    {
     "name": "stderr",
     "output_type": "stream",
     "text": [
      "100%|██████████| 18/18 [00:14<00:00,  1.27batch/s, train_loss=0.223]\n"
     ]
    },
    {
     "name": "stdout",
     "output_type": "stream",
     "text": [
      "epoch=20, loss=4.148849510414473\n"
     ]
    },
    {
     "name": "stderr",
     "output_type": "stream",
     "text": [
      "100%|██████████| 18/18 [00:14<00:00,  1.28batch/s, train_loss=0.238]\n"
     ]
    },
    {
     "name": "stdout",
     "output_type": "stream",
     "text": [
      "epoch=21, loss=4.070344209916364\n"
     ]
    },
    {
     "name": "stderr",
     "output_type": "stream",
     "text": [
      "100%|██████████| 18/18 [00:13<00:00,  1.32batch/s, train_loss=0.203]\n"
     ]
    },
    {
     "name": "stdout",
     "output_type": "stream",
     "text": [
      "epoch=22, loss=3.9778268076789827\n"
     ]
    },
    {
     "name": "stderr",
     "output_type": "stream",
     "text": [
      "100%|██████████| 18/18 [00:13<00:00,  1.30batch/s, train_loss=0.235]\n"
     ]
    },
    {
     "name": "stdout",
     "output_type": "stream",
     "text": [
      "epoch=23, loss=3.9035234063492767\n"
     ]
    },
    {
     "name": "stderr",
     "output_type": "stream",
     "text": [
      "100%|██████████| 18/18 [00:14<00:00,  1.28batch/s, train_loss=0.193]\n"
     ]
    },
    {
     "name": "stdout",
     "output_type": "stream",
     "text": [
      "epoch=24, loss=3.8419016557748873\n"
     ]
    },
    {
     "name": "stderr",
     "output_type": "stream",
     "text": [
      "100%|██████████| 18/18 [00:13<00:00,  1.29batch/s, train_loss=0.195]"
     ]
    },
    {
     "name": "stdout",
     "output_type": "stream",
     "text": [
      "epoch=25, loss=3.7851556667470336\n"
     ]
    },
    {
     "name": "stderr",
     "output_type": "stream",
     "text": [
      "\n"
     ]
    }
   ],
   "source": [
    "\"\"\"\n",
    "This block of code calculates the outliers alongside the arousal axis\n",
    "\"\"\"\n",
    "columns = [\"workerID\", \"SongId\", \"Arousal\"]\n",
    "original_df = read_csv(DF_PATH, skipinitialspace=True, usecols=columns)\n",
    "original_df.columns = [\"user_id\", \"item_id\", \"rating\"]\n",
    "\n",
    "data_converter = DataConverter(\n",
    "        original_df=original_df, n_random_users=10, n_ratings_per_random_user=50\n",
    ")\n",
    "data_processor = DataProcessor(original_df=data_converter.original_df)\n",
    "\n",
    "arousal_model = MF(\n",
    "    n_users=data_converter.n_users,\n",
    "    n_items=data_converter.n_item,\n",
    ")\n",
    "\n",
    "criterion = MiningOutliersLoss(data_converter=data_converter, data_processor=data_processor)\n",
    "optimizer = SGD(arousal_model.parameters(), lr=5, weight_decay=1e-3)\n",
    "runner = Runner(\n",
    "    model=arousal_model,\n",
    "    criterion=criterion,\n",
    "    optimizer=optimizer,\n",
    ")\n",
    "\n",
    "train_set = create_dataset(data_converter=data_converter)\n",
    "train_load = DataLoader(train_set, batch_size=1000, shuffle=True)\n",
    "users, items, ratings = select_n_random(train_set)\n",
    "\n",
    "epochs = 25\n",
    "with SummaryWriter(\"runs/DEAM/arousal\") as writer:\n",
    "    writer.add_graph(arousal_model, (users, items))\n",
    "\n",
    "    for epoch in range(epochs):\n",
    "        epoch_loss = runner.train(train_loader=train_load, epoch=epoch, writer=writer)\n",
    "        print(f\"epoch={epoch + 1}, loss={epoch_loss}\")"
   ],
   "metadata": {
    "collapsed": false,
    "pycharm": {
     "name": "#%%\n"
    }
   }
  },
  {
   "cell_type": "code",
   "execution_count": 4,
   "outputs": [
    {
     "name": "stdout",
     "output_type": "stream",
     "text": [
      "user: 65794ea9f5122952403585a237bc5e52, dist: -64.40780639648438, #items: 3\n",
      "user: 2a6b63b7690efa2390c8d9fee11b1407, dist: -63.590091705322266, #items: 3\n",
      "user: random_guy_187, dist: -51.64360809326172, #items: 50\n",
      "user: random_guy_189, dist: -38.11405563354492, #items: 50\n",
      "user: ad3b997c4f2382a66e49f035cacfa682, dist: -32.63254928588867, #items: 3\n",
      "user: fd5b08ce362d855ca9152a894348130c, dist: -31.736291885375977, #items: 222\n",
      "user: d88c800327bffffea5562e23c276ede3, dist: -31.23208236694336, #items: 2\n",
      "user: random_guy_190, dist: -23.735185623168945, #items: 50\n",
      "user: random_guy_193, dist: -21.650558471679688, #items: 50\n",
      "user: random_guy_191, dist: -20.967144012451172, #items: 50\n",
      "user: 374a5659c02e12b01db6319436f17a7d, dist: -15.478662490844727, #items: 3\n",
      "user: 623681f76a3eab5d9c86fbc0e1ca264b, dist: -10.94134521484375, #items: 12\n",
      "user: 80db3788bc598d1b32979bea958d9358, dist: -6.76093864440918, #items: 6\n",
      "user: da37d1548ffd0631809f7be341e4fe4d, dist: -5.815742492675781, #items: 3\n",
      "user: 615d836ba25132081e0ebd2182221a59, dist: -4.595503330230713, #items: 6\n",
      "user: d0c51e42ea093dc9a9a98ef888637c8e, dist: -1.7764854431152344, #items: 2\n",
      "user: ba85e679d3c3ac42412cb8deaba66a5a, dist: -1.567605972290039, #items: 3\n",
      "user: ccfcf36a939a8af15a987fa562a49207, dist: 3.0872726440429688, #items: 7\n",
      "user: 67785f343e6d117fac4d1697697cd8ae, dist: 4.273758888244629, #items: 3\n",
      "user: e336e40ae9ac101cec57e8e4323ffb79, dist: 5.897141456604004, #items: 6\n",
      "user: 807f0025a626896f04566aa37cfbce0d, dist: 7.482618808746338, #items: 3\n",
      "user: bb50b45a1874ede476874bd57e4cabb4, dist: 7.689432621002197, #items: 178\n",
      "user: b4ba75169c585b959f1247fac7e4be7a, dist: 9.462644577026367, #items: 3\n",
      "user: 6222da90667e5b0de990ce6c26dcfa15, dist: 10.72768783569336, #items: 12\n",
      "user: 34fb7d43f3a35d4afac7563b7453e31c, dist: 11.26441764831543, #items: 5\n",
      "user: 7cecbffe1da5ae974952db6c13695afe, dist: 11.372817993164062, #items: 428\n",
      "user: 651938620e6e6c78bfa7854784fe62c2, dist: 13.701541900634766, #items: 3\n",
      "user: random_guy_194, dist: 14.807697296142578, #items: 50\n",
      "user: random_guy_192, dist: 15.64645767211914, #items: 50\n",
      "user: 607f6e34a0b5923333f6b16d3a59cc98, dist: 15.65212631225586, #items: 955\n",
      "user: 027cefa6afc040448d29558b3175cdc1, dist: 15.880224227905273, #items: 9\n",
      "user: ff18a27328ffd40ef52b7ebb7a0ded94, dist: 16.640575408935547, #items: 20\n",
      "user: 485d8e33a731a830ef0aebd71b016d08, dist: 17.374963760375977, #items: 6\n",
      "user: random_guy_196, dist: 19.349430084228516, #items: 50\n",
      "user: d8188e46705e2e87f6a051e0cb338dea, dist: 23.67098617553711, #items: 2\n",
      "user: a30d244141cb2f51e0803e79bc4bd147, dist: 24.392208099365234, #items: 985\n",
      "user: 77055e16055dc7bc817f7c4bb2eb8fae, dist: 25.982887268066406, #items: 6\n",
      "user: 6db6afec230a8c59397b5f4d97f5da28, dist: 27.24120330810547, #items: 12\n",
      "user: a186cdd58a92051b7c73adc9bd6e65ca, dist: 27.520843505859375, #items: 7\n",
      "user: random_guy_188, dist: 27.826013565063477, #items: 50\n",
      "user: 26bf37eb1750d163fe01ef21b0033a77, dist: 31.285429000854492, #items: 6\n",
      "user: 51452faff8948ad4780f9b6261e813a7, dist: 32.05661392211914, #items: 15\n",
      "user: 2fb527b567d10a3ea0dac783c7c2f364, dist: 32.81498336791992, #items: 6\n",
      "user: 490951556961e4b88fe1a3ac53b3b186, dist: 32.94499206542969, #items: 313\n",
      "user: 4dedf223de3f8ebde100df78a5428251, dist: 33.688804626464844, #items: 3\n",
      "user: 00de940f0b5cfc82cca4791199e3bfb3, dist: 33.77734375, #items: 751\n",
      "user: 52b597296a8dca0c5cc5a19231eeff89, dist: 34.64462661743164, #items: 2\n",
      "user: 46a2289decf79f747406fa91cd92fc27, dist: 34.831050872802734, #items: 333\n",
      "user: 3ca50399775f0540bd002cb0d6f54a3d, dist: 35.042930603027344, #items: 6\n",
      "user: 78b5e9744073532cc376976b5fc6b2fc, dist: 35.642723083496094, #items: 718\n",
      "user: 610d5d89f56667e3d4537c529aae496e, dist: 35.81071853637695, #items: 6\n",
      "user: c3c21239b85dcdd6679fc212afd02a49, dist: 36.09800720214844, #items: 9\n",
      "user: fc2fa5656d42b49f3caf01f663085069, dist: 37.112152099609375, #items: 6\n",
      "user: 27f51a4a7fe8565d26cadb88584441e5, dist: 37.120582580566406, #items: 2\n",
      "user: d633894e43380403a7984858af42ecea, dist: 37.370033264160156, #items: 36\n",
      "user: random_guy_195, dist: 38.116065979003906, #items: 50\n",
      "user: 5b044cf509da1d8444b6f60c465240ef, dist: 39.4174919128418, #items: 3\n",
      "user: 1065a2110392d3e83d61b4282f55353c, dist: 40.263916015625, #items: 7\n",
      "user: a0f5cedc3a2371ec13663226c4b44771, dist: 40.28739929199219, #items: 4\n",
      "user: 9edfd17e8b78d0981868f84c5f20a118, dist: 40.325164794921875, #items: 3\n",
      "user: 3111e02887b600ee085c72c0a3df33e8, dist: 40.683799743652344, #items: 1\n",
      "user: 49be5653eaba26f1eb60fd9d63f23502, dist: 40.736541748046875, #items: 3\n",
      "user: e9fda1f240982b20e0df5ba9c4a337e9, dist: 41.33675765991211, #items: 18\n",
      "user: 186575d01f40537515988f1369d395eb, dist: 42.42078399658203, #items: 12\n",
      "user: 4c2037269ef8fd0a3349e6b54dd1bb1f, dist: 42.499908447265625, #items: 9\n",
      "user: f7502ffb3616a789e3e5b38f7325b95f, dist: 42.75464630126953, #items: 12\n",
      "user: 0aef6e22005035ac1b93e0a99c961f4c, dist: 45.27769088745117, #items: 6\n",
      "user: accbf566ae920d6260d28454e1ee0d6a, dist: 45.59065246582031, #items: 396\n",
      "user: 38531641e6c0628757776b0088bcc854, dist: 47.85358428955078, #items: 7\n",
      "user: 883449004b1bf2a07a284f59ddae1fd7, dist: 49.14308166503906, #items: 190\n",
      "user: b92704ea431d60d62bd8fd18e2940067, dist: 50.50404357910156, #items: 6\n",
      "user: 9d32be9708a9520ec07e91aec9653291, dist: 51.35871124267578, #items: 3\n",
      "user: 1ac10b86ba5ac18e06eea9f9954ab216, dist: 52.74552536010742, #items: 217\n",
      "user: dbb8ffe292aaa9bc2de69ca511af2b3a, dist: 52.93840789794922, #items: 3\n",
      "user: 861d48b913f37227fcf9a7b1e547c0bb, dist: 53.582847595214844, #items: 8\n",
      "user: 6d59196a3f495939a1a776cbebe212ba, dist: 53.96067428588867, #items: 3\n",
      "user: 8dcd4de7be6479561269b90c1dc8a3b4, dist: 54.95564270019531, #items: 454\n",
      "user: d5b7242bc8a4bb534b8489c24b81fc34, dist: 55.33717727661133, #items: 3\n",
      "user: a4410f548a05bf09b8541ec2672d8490, dist: 55.56610870361328, #items: 3\n",
      "user: b09a5957e5d5e47e556d203529a0ae6d, dist: 55.64198303222656, #items: 708\n",
      "user: 0bda2743e12d8a204ab04122658d73a3, dist: 55.68238067626953, #items: 18\n",
      "user: ca76c553e32c2f096c3bc8f7280ba408, dist: 56.37202453613281, #items: 3\n",
      "user: d0520656367db74cb316b9a26f60864e, dist: 56.617584228515625, #items: 12\n",
      "user: f8ecfe868f673b16e2f6e5614cb46b7d, dist: 57.318321228027344, #items: 3\n",
      "user: 659accfd85162122ca361ac34e730c4d, dist: 57.46184158325195, #items: 3\n",
      "user: c19c053aafbf1492b9e57ce3da5d45c1, dist: 58.43939971923828, #items: 24\n",
      "user: b8ef6a913a63225faafd661ee2e1a7c0, dist: 58.537200927734375, #items: 10\n",
      "user: 259443e9cad56b4f68b664daa20cb323, dist: 58.560340881347656, #items: 305\n",
      "user: 93f4b8995f647ceb58689b78eb2087ef, dist: 58.68364715576172, #items: 36\n",
      "user: de2b2c35312ac2f0a8510743742c0219, dist: 59.315433502197266, #items: 937\n",
      "user: f71b423642d3d61dffba53ddee48a7e0, dist: 59.48891830444336, #items: 15\n",
      "user: 55016bfc877fc509861b4aba22ee4f7a, dist: 59.65399169921875, #items: 9\n",
      "user: 2461c19378deafd4ec26d3993eeef635, dist: 60.26640701293945, #items: 15\n",
      "user: 7a23690289260d2b8c1d71d8c22b69f0, dist: 60.65281295776367, #items: 18\n",
      "user: 2db8293d2a35a17f16ddf8e97122ec11, dist: 62.59148406982422, #items: 219\n",
      "user: c182e8b2f013e4e3c78cbfb01b8970c8, dist: 62.76446533203125, #items: 30\n",
      "user: a2a845665afabbc319eb7c5305b0a7ec, dist: 64.12274932861328, #items: 6\n",
      "user: 0c37993dcf5f99f7b00d02495ed01bc3, dist: 64.15663146972656, #items: 339\n",
      "user: e105c200f413d7b2c5850c0df4b9687e, dist: 64.6884765625, #items: 2\n",
      "user: b37092cf23b42f8b8497d8ba89be157a, dist: 66.38701629638672, #items: 2\n",
      "user: 15ec33e862185406170ff931583b014f, dist: 66.54369354248047, #items: 4\n",
      "user: 4eb43aa7f89260bb40b3970a45a82678, dist: 66.58719635009766, #items: 333\n",
      "user: 1bd2dc9e0406a2e240b288685c87fa76, dist: 67.28120422363281, #items: 3\n",
      "user: ff9c1993d2a21f2117c30d8e295dd4ac, dist: 68.04064178466797, #items: 661\n",
      "user: 35536d2d90b93461aa74200967d002e8, dist: 68.36952209472656, #items: 3\n",
      "user: 987a16808cac2496853b6f531c0878cb, dist: 68.49986267089844, #items: 3\n",
      "user: 5fa91ab06a079c59a1d9e8174a488f91, dist: 68.98224639892578, #items: 3\n",
      "user: 54cc66fe7cbb01775a6b7c7d703cdeff, dist: 68.99665832519531, #items: 3\n",
      "user: 5862049dbaad1750964d91a98930832f, dist: 69.48760223388672, #items: 33\n",
      "user: 8eb1abd1acca601d1e23e85c69b1742a, dist: 70.08665466308594, #items: 34\n",
      "user: 8ef6c1b6e31d907a3bba6f4edd303371, dist: 70.19854736328125, #items: 18\n",
      "user: 11e5c2ba0236fe3643cac09dbdb96580, dist: 70.47976684570312, #items: 30\n",
      "user: 74f10ac255db9e37db6c6cbf604eb7e0, dist: 71.34507751464844, #items: 18\n",
      "user: fa3305c1bc04047d36a8b7a4c77fa81b, dist: 71.56053161621094, #items: 4\n",
      "user: d4d0cd1ae06f54909291d34ddd6ab497, dist: 71.84730529785156, #items: 78\n",
      "user: 51f5fb156a5c0051682ee1835e30fbbd, dist: 72.0798568725586, #items: 5\n",
      "user: 6b492acb1838463dc7c07a76b26313c4, dist: 72.70588684082031, #items: 247\n",
      "user: 2afd218c3aecb6828d2be327f8b9c46f, dist: 72.94783782958984, #items: 760\n",
      "user: 6cb1856680ea078c9f46437e2bdcd09e, dist: 73.11187744140625, #items: 6\n",
      "user: 722ad4c331b7d7bebd697bfbb91ee0e8, dist: 74.05645751953125, #items: 36\n",
      "user: 4c7a94e0937450ef406135849493ab99, dist: 74.40109252929688, #items: 57\n",
      "user: 594f3fb0d194f109697627b5241f4011, dist: 74.6239013671875, #items: 3\n",
      "user: 9c8073214a052e414811b76012df8847, dist: 75.08023834228516, #items: 160\n",
      "user: 212246528da7c13457844fc4453e6019, dist: 75.78410339355469, #items: 22\n",
      "user: 9c3b8737a6a00626867c5e05ee80157e, dist: 76.08424377441406, #items: 3\n",
      "user: 5bdea9864567a8614b659bf4b2132ab0, dist: 76.23719787597656, #items: 78\n",
      "user: 504b651e27c89d1d46d101dd87823ab6, dist: 76.25247192382812, #items: 9\n",
      "user: b36ffffcd1831441a2a3b60919312ccd, dist: 76.92595672607422, #items: 118\n",
      "user: 6010bbc8e7ef4b21fa38f9c3a9754ef3, dist: 77.57221984863281, #items: 396\n",
      "user: 0ca907e233b8bf33bf4eca86fcbfcc8f, dist: 78.14204406738281, #items: 54\n",
      "user: d3b1de8ed2ffc3eb9af2ef40a80c7d7d, dist: 78.46261596679688, #items: 3\n",
      "user: d5cf45435e35cb9166f51f0a55b74a0e, dist: 78.66481018066406, #items: 75\n",
      "user: 62ef0e23f21039e337b545ccc4851525, dist: 78.72602844238281, #items: 48\n",
      "user: 888b76dff350bdb6b25783d7c4110081, dist: 79.76307678222656, #items: 12\n",
      "user: 19fee46f2810f34a8b69a7768d897a59, dist: 81.3919448852539, #items: 1\n",
      "user: 3c63524f15931dc8bed7a768cb7d6150, dist: 82.4299087524414, #items: 14\n",
      "user: 514278711fcdb6dfb235c03a3aa38ee3, dist: 82.46005249023438, #items: 269\n",
      "user: 248172d9efbbd5eb72d48de6884054ab, dist: 82.691162109375, #items: 24\n",
      "user: a00de41fdf121f6dfe5db851a575d2d1, dist: 82.77108764648438, #items: 146\n",
      "user: b6927bdee51077f7868f05f1ed39485f, dist: 82.86885833740234, #items: 18\n",
      "user: dd80f1940fe5b84eddde6e83542bd89b, dist: 83.46180725097656, #items: 12\n",
      "user: a34913ea1010b5812a14d1fef9586a4f, dist: 84.36935424804688, #items: 3\n",
      "user: f0e2dfdbc324f309660b731ad16ce2fd, dist: 85.00942993164062, #items: 17\n",
      "user: 3deba1aaf448d3857c6c70f63c2a6430, dist: 85.41139221191406, #items: 11\n",
      "user: 7975199043cec980e587889f1639c0a4, dist: 86.09407043457031, #items: 11\n",
      "user: f3008c23ea8f35ef870e735df67fcc46, dist: 87.56590270996094, #items: 7\n",
      "user: a9f376da22eb77185afae90b192bf9ac, dist: 88.15755462646484, #items: 48\n",
      "user: eca1130f44cd2e17645e40a0fa2ef59b, dist: 88.39694213867188, #items: 1005\n",
      "user: 1eb9e2c62709ff203b2d9a558abc0937, dist: 88.47216033935547, #items: 39\n",
      "user: e347f98d0a810ded7c14d7be813a5868, dist: 88.71600341796875, #items: 19\n",
      "user: 3c888e77b992ae3cd2adfe16774e23b9, dist: 89.54914855957031, #items: 11\n",
      "user: ed7ed76453bd846859f5e6b9149df276, dist: 89.64393615722656, #items: 675\n",
      "user: 40b86bbb6927a793c05968b8b95e214d, dist: 91.27593231201172, #items: 13\n",
      "user: bf34e3c5724ce07d29ef12db5f767258, dist: 91.67333984375, #items: 249\n",
      "user: 2f790705ae66e70e81cc0f11ce0f4b9b, dist: 91.76763916015625, #items: 2\n",
      "user: d84d58533b58797bccca5811b4135c95, dist: 92.91056060791016, #items: 31\n",
      "user: 145b408fa103c16bb00e8734cc39a29f, dist: 93.66944885253906, #items: 18\n",
      "user: 6ca7c27715f54e2f47ebe4e1c9dcf842, dist: 94.67448425292969, #items: 72\n",
      "user: c795c7de8f350ab35dfd1100a84bf213, dist: 94.89262390136719, #items: 68\n",
      "user: 3226bc99212ad30ce2ced981de1c437a, dist: 95.6707534790039, #items: 34\n",
      "user: 7685fa48defdc384f720bd1edbf17ed6, dist: 96.39594268798828, #items: 55\n",
      "user: 04db9e73677c3b8882908ef7ee4a3424, dist: 97.64238739013672, #items: 3\n",
      "user: be4e771b30940fb2d5f5dcfe3877dd2e, dist: 98.35842895507812, #items: 6\n",
      "user: 28b56a449c99c88e1f9fff59d0f16aac, dist: 98.54280853271484, #items: 84\n",
      "user: 64cae7b86c7dcb1b40d17e43c0c2109e, dist: 98.65658569335938, #items: 365\n",
      "user: cbc86e332e889251fe0fa71df472f202, dist: 98.74962615966797, #items: 151\n",
      "user: 56a384c7fb2545f9de3e85fa7445d92b, dist: 99.59105682373047, #items: 2\n",
      "user: 478905563bab736f35d94bd7b0a27f9a, dist: 100.17123413085938, #items: 15\n",
      "user: b13fb0da6dd2f5d7fe398e6e53b52110, dist: 100.17422485351562, #items: 7\n",
      "user: be6ec863f38f611dff4958ccd33cf638, dist: 100.40022277832031, #items: 60\n",
      "user: 2c5952c4f931410e9010eb87c276020d, dist: 101.21749877929688, #items: 73\n",
      "user: 4480a650a96730fb629aa7fa2079e7c3, dist: 101.34166717529297, #items: 37\n",
      "user: fecd63ea857606ed61cbfe2ba1a70b3b, dist: 102.40665435791016, #items: 4\n",
      "user: a2a15d03117e137478c5718212805270, dist: 102.80052185058594, #items: 50\n",
      "user: 807dfc125f09be392a1f1b58c05b3742, dist: 104.64535522460938, #items: 11\n",
      "user: 84c2d6fc2e78a1d1283c386c0d4daee4, dist: 105.97393798828125, #items: 9\n",
      "user: 24ebcf86498b0f2793b55c5b9a7756b5, dist: 106.25961303710938, #items: 210\n",
      "user: 7a81cab11e4b2b4aa9c0718c90835611, dist: 107.09098052978516, #items: 30\n",
      "user: 5bf3c29fd496e2cafa9c531c7e9c6d61, dist: 107.24052429199219, #items: 29\n",
      "user: de0b07c32bb6ca4655487026e0f3fc38, dist: 107.68179321289062, #items: 74\n",
      "user: 5097e48e561bf0261b242f211b289825, dist: 108.59491729736328, #items: 53\n",
      "user: cd09cd99c38d4bfb7b554dff21196c22, dist: 109.2264404296875, #items: 26\n",
      "user: 1ee4bd59c9ea084016ff2811dbb00568, dist: 109.32412719726562, #items: 53\n",
      "user: 4dfca2f4dc4e8e6c3b1b7d32e10579c1, dist: 109.61820983886719, #items: 17\n",
      "user: c1edc56f4d30d94a94ee41654c4f6734, dist: 110.18562316894531, #items: 31\n",
      "user: 855ba3170f3e470170d23a748ccb41ed, dist: 111.80975341796875, #items: 42\n",
      "user: d8e56509dc582df255732a0170323231, dist: 112.83049011230469, #items: 61\n",
      "user: ce209fb2fe01d6c85dbb29b6fd84b563, dist: 114.34215545654297, #items: 49\n",
      "user: 4b4c4f319a356ea87affb872173a2095, dist: 115.43457794189453, #items: 34\n",
      "user: 9ad2a06dfac81761a123cb40084dcbd7, dist: 116.01176452636719, #items: 23\n",
      "user: 9d1aa48692579ca9330d3c61d10e22e6, dist: 117.23420715332031, #items: 84\n",
      "user: 2ec24376127909f3be36d770e6ae41a6, dist: 117.35272216796875, #items: 14\n",
      "user: 00fa8d61b5f75e16ea71bff7a3def9c9, dist: 117.84889221191406, #items: 30\n",
      "user: 94d7a0f7c8f2e1c714b0649f835c538c, dist: 118.00807189941406, #items: 150\n",
      "user: 3bf93d5f7b82b46e38feb881d00c5798, dist: 118.40750122070312, #items: 36\n",
      "user: 20c7d1ee0615a09b0bac9438cc8325e2, dist: 119.93528747558594, #items: 66\n",
      "user: 571d66ea4abfb694d9bb1281d7701710, dist: 124.6108169555664, #items: 68\n"
     ]
    }
   ],
   "source": [
    "valence_outliers = mine_outliers(model=valence_model, data_converter=data_converter)\n",
    "arousal_outliers = mine_outliers(model=arousal_model, data_converter=data_converter)\n",
    "\n",
    "items_group_by_users = data_converter.original_df.groupby(\"user_id\")\n",
    "combined_outliers = {}\n",
    "for user_id, valence_dist in valence_outliers.items():\n",
    "    arousal_dist = arousal_outliers[user_id]\n",
    "    combined_outliers[user_id] = valence_dist + arousal_dist\n",
    "\n",
    "combined_outliers = dict(sorted(combined_outliers.items(), key=lambda item: item[1]))\n",
    "for user_id, item_id in combined_outliers.items():\n",
    "    number_of_items = len(items_group_by_users.get_group(user_id))\n",
    "    print(f\"user: {user_id}, dist: {item_id}, #items: {number_of_items}\")"
   ],
   "metadata": {
    "collapsed": false,
    "pycharm": {
     "name": "#%%\n"
    }
   }
  }
 ],
 "metadata": {
  "kernelspec": {
   "display_name": "Python 3",
   "language": "python",
   "name": "python3"
  },
  "language_info": {
   "codemirror_mode": {
    "name": "ipython",
    "version": 2
   },
   "file_extension": ".py",
   "mimetype": "text/x-python",
   "name": "python",
   "nbconvert_exporter": "python",
   "pygments_lexer": "ipython2",
   "version": "2.7.6"
  }
 },
 "nbformat": 4,
 "nbformat_minor": 0
}