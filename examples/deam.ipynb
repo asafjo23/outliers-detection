{
 "cells": [
  {
   "cell_type": "code",
   "execution_count": 2,
   "metadata": {
    "collapsed": true,
    "pycharm": {
     "name": "#%%\n"
    }
   },
   "outputs": [],
   "source": [
    "from pandas import read_csv\n",
    "from torch.optim import SGD\n",
    "from torch.utils.data import DataLoader\n",
    "from tensorboardX import SummaryWriter\n",
    "from torch import randperm\n",
    "from config import DATA_DIR\n",
    "from src.data_set import RatingsDataset\n",
    "from src.loss import MiningOutliersLoss\n",
    "from src.model import MF\n",
    "from src.runner import Runner\n",
    "from src.utils import create_dataset, mine_outliers, DataConverter, DataProcessor\n",
    "\n",
    "\"\"\"\n",
    "The Deam dataset is based on Arousal-Valence 2D emotional model.\n",
    "The Valence/Arousal ratings were collected using Amazon Mechanical Turks service.\n",
    "Each turk from the collected crowd were asked to mark his own emotion for the current song on a 2D plane, Arousal/Valence.\n",
    "For more information please read: https://journals.plos.org/plosone/article?id=10.1371/journal.pone.0173392\n",
    "\"\"\"\n",
    "\n",
    "DF_PATH = f\"{DATA_DIR}\" \\\n",
    "          f\"/DEAM/annotations/annotations per each rater/\" \\\n",
    "          f\"song_level/static_annotations_songs_1_2000.csv\"\n",
    "\n",
    "def select_n_random(trainset: RatingsDataset):\n",
    "    \"\"\"\n",
    "    Selects n random data points and their corresponding labels from a dataset\n",
    "    \"\"\"\n",
    "    perm = randperm(len(trainset))\n",
    "    return trainset[perm][:100]"
   ]
  },
  {
   "cell_type": "code",
   "execution_count": null,
   "outputs": [
    {
     "name": "stderr",
     "output_type": "stream",
     "text": [
      "100%|██████████| 20/20 [00:31<00:00,  1.60s/batch, train_loss=0.467]\n"
     ]
    },
    {
     "name": "stdout",
     "output_type": "stream",
     "text": [
      "epoch=1, loss=11.493567992374818\n"
     ]
    },
    {
     "name": "stderr",
     "output_type": "stream",
     "text": [
      "100%|██████████| 20/20 [00:24<00:00,  1.20s/batch, train_loss=0.364]\n"
     ]
    },
    {
     "name": "stdout",
     "output_type": "stream",
     "text": [
      "epoch=2, loss=7.903910919715619\n"
     ]
    },
    {
     "name": "stderr",
     "output_type": "stream",
     "text": [
      "100%|██████████| 20/20 [00:27<00:00,  1.37s/batch, train_loss=0.306]\n"
     ]
    },
    {
     "name": "stdout",
     "output_type": "stream",
     "text": [
      "epoch=3, loss=6.59335493127231\n"
     ]
    },
    {
     "name": "stderr",
     "output_type": "stream",
     "text": [
      "100%|██████████| 20/20 [00:23<00:00,  1.19s/batch, train_loss=0.28] \n"
     ]
    },
    {
     "name": "stdout",
     "output_type": "stream",
     "text": [
      "epoch=4, loss=5.686996783552498\n"
     ]
    },
    {
     "name": "stderr",
     "output_type": "stream",
     "text": [
      "100%|██████████| 20/20 [00:20<00:00,  1.04s/batch, train_loss=0.275]\n"
     ]
    },
    {
     "name": "stdout",
     "output_type": "stream",
     "text": [
      "epoch=5, loss=5.0058617873356255\n"
     ]
    },
    {
     "name": "stderr",
     "output_type": "stream",
     "text": [
      "100%|██████████| 20/20 [00:21<00:00,  1.07s/batch, train_loss=0.21] \n"
     ]
    },
    {
     "name": "stdout",
     "output_type": "stream",
     "text": [
      "epoch=6, loss=4.431820030870108\n"
     ]
    },
    {
     "name": "stderr",
     "output_type": "stream",
     "text": [
      "100%|██████████| 20/20 [00:22<00:00,  1.14s/batch, train_loss=0.203]\n"
     ]
    },
    {
     "name": "stdout",
     "output_type": "stream",
     "text": [
      "epoch=7, loss=4.043893142831736\n"
     ]
    },
    {
     "name": "stderr",
     "output_type": "stream",
     "text": [
      "100%|██████████| 20/20 [00:20<00:00,  1.03s/batch, train_loss=0.185]\n"
     ]
    },
    {
     "name": "stdout",
     "output_type": "stream",
     "text": [
      "epoch=8, loss=3.6776609365529036\n"
     ]
    },
    {
     "name": "stderr",
     "output_type": "stream",
     "text": [
      "100%|██████████| 20/20 [00:23<00:00,  1.17s/batch, train_loss=0.16] \n"
     ]
    },
    {
     "name": "stdout",
     "output_type": "stream",
     "text": [
      "epoch=9, loss=3.340875648103912\n"
     ]
    },
    {
     "name": "stderr",
     "output_type": "stream",
     "text": [
      "100%|██████████| 20/20 [00:21<00:00,  1.08s/batch, train_loss=0.171]\n"
     ]
    },
    {
     "name": "stdout",
     "output_type": "stream",
     "text": [
      "epoch=10, loss=3.0644424573964084\n"
     ]
    },
    {
     "name": "stderr",
     "output_type": "stream",
     "text": [
      "100%|██████████| 20/20 [00:17<00:00,  1.14batch/s, train_loss=0.124]\n"
     ]
    },
    {
     "name": "stdout",
     "output_type": "stream",
     "text": [
      "epoch=11, loss=2.766368329146812\n"
     ]
    },
    {
     "name": "stderr",
     "output_type": "stream",
     "text": [
      "100%|██████████| 20/20 [00:18<00:00,  1.07batch/s, train_loss=0.134]\n"
     ]
    },
    {
     "name": "stdout",
     "output_type": "stream",
     "text": [
      "epoch=12, loss=2.4753091285310944\n"
     ]
    },
    {
     "name": "stderr",
     "output_type": "stream",
     "text": [
      "100%|██████████| 20/20 [00:20<00:00,  1.01s/batch, train_loss=0.103] \n"
     ]
    },
    {
     "name": "stdout",
     "output_type": "stream",
     "text": [
      "epoch=13, loss=2.190321176792013\n"
     ]
    },
    {
     "name": "stderr",
     "output_type": "stream",
     "text": [
      "100%|██████████| 20/20 [00:19<00:00,  1.01batch/s, train_loss=0.0969]\n"
     ]
    },
    {
     "name": "stdout",
     "output_type": "stream",
     "text": [
      "epoch=14, loss=1.9174654922485348\n"
     ]
    },
    {
     "name": "stderr",
     "output_type": "stream",
     "text": [
      "100%|██████████| 20/20 [00:21<00:00,  1.09s/batch, train_loss=0.0869]\n"
     ]
    },
    {
     "name": "stdout",
     "output_type": "stream",
     "text": [
      "epoch=15, loss=1.7007017655865901\n"
     ]
    },
    {
     "name": "stderr",
     "output_type": "stream",
     "text": [
      "100%|██████████| 20/20 [00:22<00:00,  1.11s/batch, train_loss=0.0684]\n"
     ]
    },
    {
     "name": "stdout",
     "output_type": "stream",
     "text": [
      "epoch=16, loss=1.5250331412677107\n"
     ]
    },
    {
     "name": "stderr",
     "output_type": "stream",
     "text": [
      "100%|██████████| 20/20 [00:23<00:00,  1.17s/batch, train_loss=0.0668]\n"
     ]
    },
    {
     "name": "stdout",
     "output_type": "stream",
     "text": [
      "epoch=17, loss=1.3763928622212904\n"
     ]
    },
    {
     "name": "stderr",
     "output_type": "stream",
     "text": [
      "100%|██████████| 20/20 [00:19<00:00,  1.03batch/s, train_loss=0.0721]\n"
     ]
    },
    {
     "name": "stdout",
     "output_type": "stream",
     "text": [
      "epoch=18, loss=1.2505457648573248\n"
     ]
    },
    {
     "name": "stderr",
     "output_type": "stream",
     "text": [
      "100%|██████████| 20/20 [00:26<00:00,  1.30s/batch, train_loss=0.0607]\n"
     ]
    },
    {
     "name": "stdout",
     "output_type": "stream",
     "text": [
      "epoch=19, loss=1.1387970248255237\n"
     ]
    },
    {
     "name": "stderr",
     "output_type": "stream",
     "text": [
      "100%|██████████| 20/20 [00:25<00:00,  1.30s/batch, train_loss=0.0395]\n"
     ]
    },
    {
     "name": "stdout",
     "output_type": "stream",
     "text": [
      "epoch=20, loss=1.0134161180956611\n"
     ]
    },
    {
     "name": "stderr",
     "output_type": "stream",
     "text": [
      "100%|██████████| 20/20 [00:19<00:00,  1.01batch/s, train_loss=0.0368]\n"
     ]
    },
    {
     "name": "stdout",
     "output_type": "stream",
     "text": [
      "epoch=21, loss=0.9291339572709183\n"
     ]
    },
    {
     "name": "stderr",
     "output_type": "stream",
     "text": [
      " 10%|█         | 2/20 [00:03<00:26,  1.48s/batch, train_loss=0.0372]"
     ]
    }
   ],
   "source": [
    "\"\"\"\n",
    "This block of code calculates the outliers alongside the valence axis\n",
    "\"\"\"\n",
    "columns = [\"workerID\", \"SongId\", \"Valence\"]\n",
    "original_df = read_csv(DF_PATH, skipinitialspace=True, usecols=columns)\n",
    "original_df.columns = [\"user_id\", \"item_id\", \"rating\"]\n",
    "\n",
    "data_converter = DataConverter(\n",
    "        original_df=original_df, n_random_users=10, n_ratings_per_random_user=200\n",
    "    )\n",
    "data_processor = DataProcessor(original_df=data_converter.original_df)\n",
    "\n",
    "valence_model = MF(\n",
    "    n_users=data_converter.n_users,\n",
    "    n_items=data_converter.n_item,\n",
    ")\n",
    "\n",
    "criterion = MiningOutliersLoss(data_converter=data_converter, data_processor=data_processor)\n",
    "optimizer = SGD(valence_model.parameters(), lr=5, weight_decay=1e-5)\n",
    "runner = Runner(\n",
    "    model=valence_model,\n",
    "    criterion=criterion,\n",
    "    optimizer=optimizer,\n",
    ")\n",
    "\n",
    "train_set = create_dataset(data_converter=data_converter)\n",
    "train_load = DataLoader(train_set, batch_size=1000, shuffle=True)\n",
    "users, items, ratings = select_n_random(train_set)\n",
    "\n",
    "epochs = 50\n",
    "with SummaryWriter(\"runs/DEAM_experiment_1\") as writer:\n",
    "    writer.add_graph(valence_model, (users, items))\n",
    "\n",
    "    for epoch in range(epochs):\n",
    "        epoch_loss = runner.train(train_loader=train_load, epoch=epoch, writer=writer)\n",
    "        print(f\"epoch={epoch + 1}, loss={epoch_loss}\")"
   ],
   "metadata": {
    "collapsed": false,
    "pycharm": {
     "name": "#%%\n",
     "is_executing": true
    }
   }
  },
  {
   "cell_type": "code",
   "execution_count": 3,
   "outputs": [
    {
     "name": "stderr",
     "output_type": "stream",
     "text": [
      "100%|██████████| 18/18 [00:07<00:00,  2.48batch/s, train_loss=0.215]\n"
     ]
    },
    {
     "name": "stdout",
     "output_type": "stream",
     "text": [
      "epoch=1, loss=4.8530552320072164\n"
     ]
    },
    {
     "name": "stderr",
     "output_type": "stream",
     "text": [
      "100%|██████████| 18/18 [00:07<00:00,  2.42batch/s, train_loss=0.184]\n"
     ]
    },
    {
     "name": "stdout",
     "output_type": "stream",
     "text": [
      "epoch=2, loss=3.582961639641788\n"
     ]
    },
    {
     "name": "stderr",
     "output_type": "stream",
     "text": [
      "100%|██████████| 18/18 [00:07<00:00,  2.39batch/s, train_loss=0.156]\n"
     ]
    },
    {
     "name": "stdout",
     "output_type": "stream",
     "text": [
      "epoch=3, loss=2.9279809759711473\n"
     ]
    },
    {
     "name": "stderr",
     "output_type": "stream",
     "text": [
      "100%|██████████| 18/18 [00:07<00:00,  2.41batch/s, train_loss=0.131]\n"
     ]
    },
    {
     "name": "stdout",
     "output_type": "stream",
     "text": [
      "epoch=4, loss=2.4210107844608766\n"
     ]
    },
    {
     "name": "stderr",
     "output_type": "stream",
     "text": [
      "100%|██████████| 18/18 [00:07<00:00,  2.38batch/s, train_loss=0.115]\n"
     ]
    },
    {
     "name": "stdout",
     "output_type": "stream",
     "text": [
      "epoch=5, loss=2.0669470141518445\n"
     ]
    },
    {
     "name": "stderr",
     "output_type": "stream",
     "text": [
      "100%|██████████| 18/18 [00:07<00:00,  2.40batch/s, train_loss=0.0932]\n"
     ]
    },
    {
     "name": "stdout",
     "output_type": "stream",
     "text": [
      "epoch=6, loss=1.7427693262359971\n"
     ]
    },
    {
     "name": "stderr",
     "output_type": "stream",
     "text": [
      "100%|██████████| 18/18 [00:07<00:00,  2.39batch/s, train_loss=0.0817]\n"
     ]
    },
    {
     "name": "stdout",
     "output_type": "stream",
     "text": [
      "epoch=7, loss=1.4450892597005522\n"
     ]
    },
    {
     "name": "stderr",
     "output_type": "stream",
     "text": [
      "100%|██████████| 18/18 [00:07<00:00,  2.42batch/s, train_loss=0.0657]\n"
     ]
    },
    {
     "name": "stdout",
     "output_type": "stream",
     "text": [
      "epoch=8, loss=1.186641391902582\n"
     ]
    },
    {
     "name": "stderr",
     "output_type": "stream",
     "text": [
      "100%|██████████| 18/18 [00:07<00:00,  2.39batch/s, train_loss=0.0539]\n"
     ]
    },
    {
     "name": "stdout",
     "output_type": "stream",
     "text": [
      "epoch=9, loss=0.9511631658234948\n"
     ]
    },
    {
     "name": "stderr",
     "output_type": "stream",
     "text": [
      "100%|██████████| 18/18 [00:07<00:00,  2.39batch/s, train_loss=0.0478]\n"
     ]
    },
    {
     "name": "stdout",
     "output_type": "stream",
     "text": [
      "epoch=10, loss=0.755659080490528\n"
     ]
    },
    {
     "name": "stderr",
     "output_type": "stream",
     "text": [
      "100%|██████████| 18/18 [00:07<00:00,  2.40batch/s, train_loss=0.0336]\n"
     ]
    },
    {
     "name": "stdout",
     "output_type": "stream",
     "text": [
      "epoch=11, loss=0.5950050783713968\n"
     ]
    },
    {
     "name": "stderr",
     "output_type": "stream",
     "text": [
      "100%|██████████| 18/18 [00:07<00:00,  2.40batch/s, train_loss=0.0224]\n"
     ]
    },
    {
     "name": "stdout",
     "output_type": "stream",
     "text": [
      "epoch=12, loss=0.4832098444482231\n"
     ]
    },
    {
     "name": "stderr",
     "output_type": "stream",
     "text": [
      "100%|██████████| 18/18 [00:07<00:00,  2.36batch/s, train_loss=0.024] \n"
     ]
    },
    {
     "name": "stdout",
     "output_type": "stream",
     "text": [
      "epoch=13, loss=0.4126446677330403\n"
     ]
    },
    {
     "name": "stderr",
     "output_type": "stream",
     "text": [
      "100%|██████████| 18/18 [00:07<00:00,  2.41batch/s, train_loss=0.018] \n"
     ]
    },
    {
     "name": "stdout",
     "output_type": "stream",
     "text": [
      "epoch=14, loss=0.3607474857805304\n"
     ]
    },
    {
     "name": "stderr",
     "output_type": "stream",
     "text": [
      "100%|██████████| 18/18 [00:07<00:00,  2.39batch/s, train_loss=0.0216]\n"
     ]
    },
    {
     "name": "stdout",
     "output_type": "stream",
     "text": [
      "epoch=15, loss=0.32677929757262947\n"
     ]
    },
    {
     "name": "stderr",
     "output_type": "stream",
     "text": [
      "100%|██████████| 18/18 [00:07<00:00,  2.41batch/s, train_loss=0.0152]\n"
     ]
    },
    {
     "name": "stdout",
     "output_type": "stream",
     "text": [
      "epoch=16, loss=0.29571252019859934\n"
     ]
    },
    {
     "name": "stderr",
     "output_type": "stream",
     "text": [
      "100%|██████████| 18/18 [00:07<00:00,  2.39batch/s, train_loss=0.0201]\n"
     ]
    },
    {
     "name": "stdout",
     "output_type": "stream",
     "text": [
      "epoch=17, loss=0.27952176673310275\n"
     ]
    },
    {
     "name": "stderr",
     "output_type": "stream",
     "text": [
      "100%|██████████| 18/18 [00:07<00:00,  2.41batch/s, train_loss=0.0161]\n"
     ]
    },
    {
     "name": "stdout",
     "output_type": "stream",
     "text": [
      "epoch=18, loss=0.25950544421125477\n"
     ]
    },
    {
     "name": "stderr",
     "output_type": "stream",
     "text": [
      "100%|██████████| 18/18 [00:07<00:00,  2.39batch/s, train_loss=0.0152]\n"
     ]
    },
    {
     "name": "stdout",
     "output_type": "stream",
     "text": [
      "epoch=19, loss=0.24703320566689455\n"
     ]
    },
    {
     "name": "stderr",
     "output_type": "stream",
     "text": [
      "100%|██████████| 18/18 [00:07<00:00,  2.40batch/s, train_loss=0.012] \n"
     ]
    },
    {
     "name": "stdout",
     "output_type": "stream",
     "text": [
      "epoch=20, loss=0.2347337348693076\n"
     ]
    },
    {
     "name": "stderr",
     "output_type": "stream",
     "text": [
      "100%|██████████| 18/18 [00:07<00:00,  2.38batch/s, train_loss=0.0153] \n"
     ]
    },
    {
     "name": "stdout",
     "output_type": "stream",
     "text": [
      "epoch=21, loss=0.22741118147215492\n"
     ]
    },
    {
     "name": "stderr",
     "output_type": "stream",
     "text": [
      "100%|██████████| 18/18 [00:07<00:00,  2.39batch/s, train_loss=0.0141]\n"
     ]
    },
    {
     "name": "stdout",
     "output_type": "stream",
     "text": [
      "epoch=22, loss=0.21884117284915788\n"
     ]
    },
    {
     "name": "stderr",
     "output_type": "stream",
     "text": [
      "100%|██████████| 18/18 [00:07<00:00,  2.38batch/s, train_loss=0.0159] \n"
     ]
    },
    {
     "name": "stdout",
     "output_type": "stream",
     "text": [
      "epoch=23, loss=0.21336611238249548\n"
     ]
    },
    {
     "name": "stderr",
     "output_type": "stream",
     "text": [
      "100%|██████████| 18/18 [00:07<00:00,  2.42batch/s, train_loss=0.00796]\n"
     ]
    },
    {
     "name": "stdout",
     "output_type": "stream",
     "text": [
      "epoch=24, loss=0.20264165859370845\n"
     ]
    },
    {
     "name": "stderr",
     "output_type": "stream",
     "text": [
      "100%|██████████| 18/18 [00:07<00:00,  2.40batch/s, train_loss=0.00899]\n"
     ]
    },
    {
     "name": "stdout",
     "output_type": "stream",
     "text": [
      "epoch=25, loss=0.19722299874895738\n"
     ]
    },
    {
     "name": "stderr",
     "output_type": "stream",
     "text": [
      "100%|██████████| 18/18 [00:07<00:00,  2.41batch/s, train_loss=0.0112] \n"
     ]
    },
    {
     "name": "stdout",
     "output_type": "stream",
     "text": [
      "epoch=26, loss=0.19410287695265005\n"
     ]
    },
    {
     "name": "stderr",
     "output_type": "stream",
     "text": [
      "100%|██████████| 18/18 [00:07<00:00,  2.38batch/s, train_loss=0.00787]\n"
     ]
    },
    {
     "name": "stdout",
     "output_type": "stream",
     "text": [
      "epoch=27, loss=0.18797647948209414\n"
     ]
    },
    {
     "name": "stderr",
     "output_type": "stream",
     "text": [
      "100%|██████████| 18/18 [00:07<00:00,  2.41batch/s, train_loss=0.0126] \n"
     ]
    },
    {
     "name": "stdout",
     "output_type": "stream",
     "text": [
      "epoch=28, loss=0.18716849370503702\n"
     ]
    },
    {
     "name": "stderr",
     "output_type": "stream",
     "text": [
      "100%|██████████| 18/18 [00:07<00:00,  2.39batch/s, train_loss=0.0117] \n"
     ]
    },
    {
     "name": "stdout",
     "output_type": "stream",
     "text": [
      "epoch=29, loss=0.18413281504560539\n"
     ]
    },
    {
     "name": "stderr",
     "output_type": "stream",
     "text": [
      "100%|██████████| 18/18 [00:07<00:00,  2.40batch/s, train_loss=0.0108] \n"
     ]
    },
    {
     "name": "stdout",
     "output_type": "stream",
     "text": [
      "epoch=30, loss=0.1816701666334724\n"
     ]
    },
    {
     "name": "stderr",
     "output_type": "stream",
     "text": [
      "100%|██████████| 18/18 [00:07<00:00,  2.40batch/s, train_loss=0.0114] \n"
     ]
    },
    {
     "name": "stdout",
     "output_type": "stream",
     "text": [
      "epoch=31, loss=0.17905734159232115\n"
     ]
    },
    {
     "name": "stderr",
     "output_type": "stream",
     "text": [
      "100%|██████████| 18/18 [00:07<00:00,  2.40batch/s, train_loss=0.0104] \n"
     ]
    },
    {
     "name": "stdout",
     "output_type": "stream",
     "text": [
      "epoch=32, loss=0.17499821539704438\n"
     ]
    },
    {
     "name": "stderr",
     "output_type": "stream",
     "text": [
      "100%|██████████| 18/18 [00:07<00:00,  2.39batch/s, train_loss=0.00965]\n"
     ]
    },
    {
     "name": "stdout",
     "output_type": "stream",
     "text": [
      "epoch=33, loss=0.17216927585713132\n"
     ]
    },
    {
     "name": "stderr",
     "output_type": "stream",
     "text": [
      "100%|██████████| 18/18 [00:07<00:00,  2.40batch/s, train_loss=0.0129] \n"
     ]
    },
    {
     "name": "stdout",
     "output_type": "stream",
     "text": [
      "epoch=34, loss=0.1733520513582786\n"
     ]
    },
    {
     "name": "stderr",
     "output_type": "stream",
     "text": [
      "100%|██████████| 18/18 [00:07<00:00,  2.38batch/s, train_loss=0.0132] \n"
     ]
    },
    {
     "name": "stdout",
     "output_type": "stream",
     "text": [
      "epoch=35, loss=0.17185413415329928\n"
     ]
    },
    {
     "name": "stderr",
     "output_type": "stream",
     "text": [
      "100%|██████████| 18/18 [00:07<00:00,  2.42batch/s, train_loss=0.00999]\n"
     ]
    },
    {
     "name": "stdout",
     "output_type": "stream",
     "text": [
      "epoch=36, loss=0.167853492426965\n"
     ]
    },
    {
     "name": "stderr",
     "output_type": "stream",
     "text": [
      "100%|██████████| 18/18 [00:07<00:00,  2.38batch/s, train_loss=0.0124] \n"
     ]
    },
    {
     "name": "stdout",
     "output_type": "stream",
     "text": [
      "epoch=37, loss=0.16872088284065753\n"
     ]
    },
    {
     "name": "stderr",
     "output_type": "stream",
     "text": [
      "100%|██████████| 18/18 [00:07<00:00,  2.40batch/s, train_loss=0.0114] \n"
     ]
    },
    {
     "name": "stdout",
     "output_type": "stream",
     "text": [
      "epoch=38, loss=0.16630374486529872\n"
     ]
    },
    {
     "name": "stderr",
     "output_type": "stream",
     "text": [
      "100%|██████████| 18/18 [00:07<00:00,  2.38batch/s, train_loss=0.00865]\n"
     ]
    },
    {
     "name": "stdout",
     "output_type": "stream",
     "text": [
      "epoch=39, loss=0.1647232688966892\n"
     ]
    },
    {
     "name": "stderr",
     "output_type": "stream",
     "text": [
      "100%|██████████| 18/18 [00:07<00:00,  2.39batch/s, train_loss=0.00924]\n"
     ]
    },
    {
     "name": "stdout",
     "output_type": "stream",
     "text": [
      "epoch=40, loss=0.1645201262388712\n"
     ]
    },
    {
     "name": "stderr",
     "output_type": "stream",
     "text": [
      "100%|██████████| 18/18 [00:07<00:00,  2.40batch/s, train_loss=0.00994]\n"
     ]
    },
    {
     "name": "stdout",
     "output_type": "stream",
     "text": [
      "epoch=41, loss=0.16426420393064328\n"
     ]
    },
    {
     "name": "stderr",
     "output_type": "stream",
     "text": [
      "100%|██████████| 18/18 [00:07<00:00,  2.40batch/s, train_loss=0.0109] \n"
     ]
    },
    {
     "name": "stdout",
     "output_type": "stream",
     "text": [
      "epoch=42, loss=0.1635742612775662\n"
     ]
    },
    {
     "name": "stderr",
     "output_type": "stream",
     "text": [
      "100%|██████████| 18/18 [00:07<00:00,  2.35batch/s, train_loss=0.0082] \n"
     ]
    },
    {
     "name": "stdout",
     "output_type": "stream",
     "text": [
      "epoch=43, loss=0.162080067417501\n"
     ]
    },
    {
     "name": "stderr",
     "output_type": "stream",
     "text": [
      "100%|██████████| 18/18 [00:07<00:00,  2.41batch/s, train_loss=0.0114] \n"
     ]
    },
    {
     "name": "stdout",
     "output_type": "stream",
     "text": [
      "epoch=44, loss=0.16334514247582582\n"
     ]
    },
    {
     "name": "stderr",
     "output_type": "stream",
     "text": [
      "100%|██████████| 18/18 [00:07<00:00,  2.39batch/s, train_loss=0.0108] \n"
     ]
    },
    {
     "name": "stdout",
     "output_type": "stream",
     "text": [
      "epoch=45, loss=0.1621288004385358\n"
     ]
    },
    {
     "name": "stderr",
     "output_type": "stream",
     "text": [
      "100%|██████████| 18/18 [00:07<00:00,  2.41batch/s, train_loss=0.0108] \n"
     ]
    },
    {
     "name": "stdout",
     "output_type": "stream",
     "text": [
      "epoch=46, loss=0.16170301209535115\n"
     ]
    },
    {
     "name": "stderr",
     "output_type": "stream",
     "text": [
      "100%|██████████| 18/18 [00:07<00:00,  2.40batch/s, train_loss=0.0122] \n"
     ]
    },
    {
     "name": "stdout",
     "output_type": "stream",
     "text": [
      "epoch=47, loss=0.16275515672854413\n"
     ]
    },
    {
     "name": "stderr",
     "output_type": "stream",
     "text": [
      "100%|██████████| 18/18 [00:07<00:00,  2.40batch/s, train_loss=0.00798]\n"
     ]
    },
    {
     "name": "stdout",
     "output_type": "stream",
     "text": [
      "epoch=48, loss=0.15975271047042963\n"
     ]
    },
    {
     "name": "stderr",
     "output_type": "stream",
     "text": [
      "100%|██████████| 18/18 [00:07<00:00,  2.40batch/s, train_loss=0.0101] \n"
     ]
    },
    {
     "name": "stdout",
     "output_type": "stream",
     "text": [
      "epoch=49, loss=0.16075622285108157\n"
     ]
    },
    {
     "name": "stderr",
     "output_type": "stream",
     "text": [
      "100%|██████████| 18/18 [00:07<00:00,  2.37batch/s, train_loss=0.00942]"
     ]
    },
    {
     "name": "stdout",
     "output_type": "stream",
     "text": [
      "epoch=50, loss=0.16043610548509238\n"
     ]
    },
    {
     "name": "stderr",
     "output_type": "stream",
     "text": [
      "\n"
     ]
    }
   ],
   "source": [
    "\"\"\"\n",
    "This block of code calculates the outliers alongside the arousal axis\n",
    "\"\"\"\n",
    "columns = [\"workerID\", \"SongId\", \"Arousal\"]\n",
    "original_df = read_csv(DF_PATH, skipinitialspace=True, usecols=columns)\n",
    "original_df.columns = [\"user_id\", \"item_id\", \"rating\"]\n",
    "\n",
    "data_converter = DataConverter(\n",
    "        original_df=original_df, n_random_users=10, n_ratings_per_random_user=200\n",
    "    )\n",
    "data_processor = DataProcessor(original_df=data_converter.original_df)\n",
    "\n",
    "arousal_model = MF(\n",
    "    n_users=data_converter.n_users,\n",
    "    n_items=data_converter.n_item,\n",
    ")\n",
    "\n",
    "criterion = MiningOutliersLoss(data_converter=data_converter, data_processor=data_processor)\n",
    "optimizer = SGD(arousal_model.parameters(), lr=5, weight_decay=1e-5)\n",
    "runner = Runner(\n",
    "    model=valence_model,\n",
    "    criterion=criterion,\n",
    "    optimizer=optimizer,\n",
    ")\n",
    "\n",
    "train_set = create_dataset(data_converter=data_converter)\n",
    "train_load = DataLoader(train_set, batch_size=1000, shuffle=True)\n",
    "users, items, ratings = select_n_random(train_set)\n",
    "\n",
    "epochs = 50\n",
    "with SummaryWriter(\"runs/DEAM_experiment_1\") as writer:\n",
    "    writer.add_graph(arousal_model, (users, items))\n",
    "\n",
    "    for epoch in range(epochs):\n",
    "        epoch_loss = runner.train(train_loader=train_load, epoch=epoch, writer=writer)\n",
    "        print(f\"epoch={epoch + 1}, loss={epoch_loss}\")"
   ],
   "metadata": {
    "collapsed": false,
    "pycharm": {
     "name": "#%%\n"
    }
   }
  },
  {
   "cell_type": "code",
   "execution_count": 4,
   "outputs": [
    {
     "name": "stdout",
     "output_type": "stream",
     "text": [
      "user: d88c800327bffffea5562e23c276ede3, dist: -8.16646671295166, #items: 2\n",
      "user: b37092cf23b42f8b8497d8ba89be157a, dist: -7.9408345222473145, #items: 2\n",
      "user: 65794ea9f5122952403585a237bc5e52, dist: -6.504777908325195, #items: 3\n",
      "user: 49be5653eaba26f1eb60fd9d63f23502, dist: -3.5293586254119873, #items: 3\n",
      "user: 651938620e6e6c78bfa7854784fe62c2, dist: -2.5150487422943115, #items: 3\n",
      "user: 15ec33e862185406170ff931583b014f, dist: -2.2195191383361816, #items: 4\n",
      "user: d0c51e42ea093dc9a9a98ef888637c8e, dist: -2.0096826553344727, #items: 2\n",
      "user: da37d1548ffd0631809f7be341e4fe4d, dist: -1.3743306398391724, #items: 3\n",
      "user: 38531641e6c0628757776b0088bcc854, dist: -0.7693064212799072, #items: 7\n",
      "user: 807f0025a626896f04566aa37cfbce0d, dist: -0.43722257018089294, #items: 3\n",
      "user: a186cdd58a92051b7c73adc9bd6e65ca, dist: -0.29314088821411133, #items: 7\n",
      "user: 27f51a4a7fe8565d26cadb88584441e5, dist: -0.279450386762619, #items: 2\n",
      "user: 5b044cf509da1d8444b6f60c465240ef, dist: -0.1574951410293579, #items: 3\n",
      "user: 2a6b63b7690efa2390c8d9fee11b1407, dist: -0.08578479290008545, #items: 3\n",
      "user: 1bd2dc9e0406a2e240b288685c87fa76, dist: 0.11304759979248047, #items: 3\n",
      "user: ff18a27328ffd40ef52b7ebb7a0ded94, dist: 0.1574537754058838, #items: 20\n",
      "user: 374a5659c02e12b01db6319436f17a7d, dist: 0.23913443088531494, #items: 3\n",
      "user: 3111e02887b600ee085c72c0a3df33e8, dist: 0.3804941177368164, #items: 1\n",
      "user: 52b597296a8dca0c5cc5a19231eeff89, dist: 0.3855677843093872, #items: 2\n",
      "user: ad3b997c4f2382a66e49f035cacfa682, dist: 0.805273711681366, #items: 3\n",
      "user: 51f5fb156a5c0051682ee1835e30fbbd, dist: 0.8666853904724121, #items: 5\n",
      "user: fd5b08ce362d855ca9152a894348130c, dist: 0.9552486538887024, #items: 222\n",
      "user: 04db9e73677c3b8882908ef7ee4a3424, dist: 1.0880727767944336, #items: 3\n",
      "user: b4ba75169c585b959f1247fac7e4be7a, dist: 1.237753987312317, #items: 3\n",
      "user: 4c2037269ef8fd0a3349e6b54dd1bb1f, dist: 1.3654537200927734, #items: 9\n",
      "user: ccfcf36a939a8af15a987fa562a49207, dist: 1.5165319442749023, #items: 7\n",
      "user: 987a16808cac2496853b6f531c0878cb, dist: 2.1420366764068604, #items: 3\n",
      "user: ca76c553e32c2f096c3bc8f7280ba408, dist: 2.5491974353790283, #items: 3\n",
      "user: 3ca50399775f0540bd002cb0d6f54a3d, dist: 2.8612985610961914, #items: 6\n",
      "user: 26bf37eb1750d163fe01ef21b0033a77, dist: 3.237779378890991, #items: 6\n",
      "user: 615d836ba25132081e0ebd2182221a59, dist: 3.3226683139801025, #items: 6\n",
      "user: ba85e679d3c3ac42412cb8deaba66a5a, dist: 3.538361072540283, #items: 3\n",
      "user: 027cefa6afc040448d29558b3175cdc1, dist: 3.584730625152588, #items: 9\n",
      "user: 485d8e33a731a830ef0aebd71b016d08, dist: 3.7686097621917725, #items: 6\n",
      "user: d3b1de8ed2ffc3eb9af2ef40a80c7d7d, dist: 3.9840807914733887, #items: 3\n",
      "user: 2f790705ae66e70e81cc0f11ce0f4b9b, dist: 4.239422798156738, #items: 2\n",
      "user: b8ef6a913a63225faafd661ee2e1a7c0, dist: 4.272453784942627, #items: 10\n",
      "user: 67785f343e6d117fac4d1697697cd8ae, dist: 4.304678916931152, #items: 3\n",
      "user: 6cb1856680ea078c9f46437e2bdcd09e, dist: 4.3218159675598145, #items: 6\n",
      "user: d5b7242bc8a4bb534b8489c24b81fc34, dist: 4.329267501831055, #items: 3\n",
      "user: 610d5d89f56667e3d4537c529aae496e, dist: 4.424745559692383, #items: 6\n",
      "user: 54cc66fe7cbb01775a6b7c7d703cdeff, dist: 4.436573505401611, #items: 3\n",
      "user: 9edfd17e8b78d0981868f84c5f20a118, dist: 4.665383815765381, #items: 3\n",
      "user: 80db3788bc598d1b32979bea958d9358, dist: 4.678129196166992, #items: 6\n",
      "user: a0f5cedc3a2371ec13663226c4b44771, dist: 5.180803298950195, #items: 4\n",
      "user: fc2fa5656d42b49f3caf01f663085069, dist: 5.206764221191406, #items: 6\n",
      "user: 861d48b913f37227fcf9a7b1e547c0bb, dist: 5.6896772384643555, #items: 8\n",
      "user: 4dedf223de3f8ebde100df78a5428251, dist: 5.694051742553711, #items: 3\n",
      "user: be4e771b30940fb2d5f5dcfe3877dd2e, dist: 6.013938903808594, #items: 6\n",
      "user: 40b86bbb6927a793c05968b8b95e214d, dist: 6.0696797370910645, #items: 13\n",
      "user: 659accfd85162122ca361ac34e730c4d, dist: 6.18556022644043, #items: 3\n",
      "user: 5fa91ab06a079c59a1d9e8174a488f91, dist: 6.191371917724609, #items: 3\n",
      "user: 35536d2d90b93461aa74200967d002e8, dist: 6.238292217254639, #items: 3\n",
      "user: 6d59196a3f495939a1a776cbebe212ba, dist: 6.255425453186035, #items: 3\n",
      "user: f7502ffb3616a789e3e5b38f7325b95f, dist: 6.459967136383057, #items: 12\n",
      "user: dbb8ffe292aaa9bc2de69ca511af2b3a, dist: 6.496926784515381, #items: 3\n",
      "user: 0aef6e22005035ac1b93e0a99c961f4c, dist: 6.5198493003845215, #items: 6\n",
      "user: 56a384c7fb2545f9de3e85fa7445d92b, dist: 6.530026435852051, #items: 2\n",
      "user: fa3305c1bc04047d36a8b7a4c77fa81b, dist: 6.9479804039001465, #items: 4\n",
      "user: d0520656367db74cb316b9a26f60864e, dist: 7.207660675048828, #items: 12\n",
      "user: 594f3fb0d194f109697627b5241f4011, dist: 7.224482536315918, #items: 3\n",
      "user: 55016bfc877fc509861b4aba22ee4f7a, dist: 7.264464378356934, #items: 9\n",
      "user: 51452faff8948ad4780f9b6261e813a7, dist: 7.3328447341918945, #items: 15\n",
      "user: e105c200f413d7b2c5850c0df4b9687e, dist: 7.401955604553223, #items: 2\n",
      "user: 6db6afec230a8c59397b5f4d97f5da28, dist: 7.744393348693848, #items: 12\n",
      "user: d8188e46705e2e87f6a051e0cb338dea, dist: 7.783764839172363, #items: 2\n",
      "user: 7cecbffe1da5ae974952db6c13695afe, dist: 7.793981552124023, #items: 428\n",
      "user: random_guy_187, dist: 7.9983415603637695, #items: 50\n",
      "user: a4410f548a05bf09b8541ec2672d8490, dist: 8.1051664352417, #items: 3\n",
      "user: 34fb7d43f3a35d4afac7563b7453e31c, dist: 8.198992729187012, #items: 5\n",
      "user: 9d32be9708a9520ec07e91aec9653291, dist: 8.391960144042969, #items: 3\n",
      "user: 1065a2110392d3e83d61b4282f55353c, dist: 8.44192886352539, #items: 7\n",
      "user: 19fee46f2810f34a8b69a7768d897a59, dist: 8.601736068725586, #items: 1\n",
      "user: c3c21239b85dcdd6679fc212afd02a49, dist: 8.677693367004395, #items: 9\n",
      "user: d633894e43380403a7984858af42ecea, dist: 8.702781677246094, #items: 36\n",
      "user: e336e40ae9ac101cec57e8e4323ffb79, dist: 8.739957809448242, #items: 6\n",
      "user: f8ecfe868f673b16e2f6e5614cb46b7d, dist: 8.790138244628906, #items: 3\n",
      "user: 6222da90667e5b0de990ce6c26dcfa15, dist: 8.857328414916992, #items: 12\n",
      "user: 186575d01f40537515988f1369d395eb, dist: 8.897736549377441, #items: 12\n",
      "user: 7685fa48defdc384f720bd1edbf17ed6, dist: 8.902585983276367, #items: 55\n",
      "user: 623681f76a3eab5d9c86fbc0e1ca264b, dist: 8.992547988891602, #items: 12\n",
      "user: f3008c23ea8f35ef870e735df67fcc46, dist: 9.009498596191406, #items: 7\n",
      "user: a30d244141cb2f51e0803e79bc4bd147, dist: 9.251075744628906, #items: 985\n",
      "user: 77055e16055dc7bc817f7c4bb2eb8fae, dist: 9.291861534118652, #items: 6\n",
      "user: 8eb1abd1acca601d1e23e85c69b1742a, dist: 9.33502197265625, #items: 34\n",
      "user: a34913ea1010b5812a14d1fef9586a4f, dist: 9.5051851272583, #items: 3\n",
      "user: dd80f1940fe5b84eddde6e83542bd89b, dist: 9.978521347045898, #items: 12\n",
      "user: 212246528da7c13457844fc4453e6019, dist: 10.057964324951172, #items: 22\n",
      "user: a2a845665afabbc319eb7c5305b0a7ec, dist: 10.180688858032227, #items: 6\n",
      "user: 0bda2743e12d8a204ab04122658d73a3, dist: 10.345088958740234, #items: 18\n",
      "user: 145b408fa103c16bb00e8734cc39a29f, dist: 10.367036819458008, #items: 18\n",
      "user: 8ef6c1b6e31d907a3bba6f4edd303371, dist: 10.462630271911621, #items: 18\n",
      "user: fecd63ea857606ed61cbfe2ba1a70b3b, dist: 10.58433723449707, #items: 4\n",
      "user: 46a2289decf79f747406fa91cd92fc27, dist: 10.666940689086914, #items: 333\n",
      "user: 7975199043cec980e587889f1639c0a4, dist: 10.751697540283203, #items: 11\n",
      "user: 2461c19378deafd4ec26d3993eeef635, dist: 10.940244674682617, #items: 15\n",
      "user: b92704ea431d60d62bd8fd18e2940067, dist: 10.94186019897461, #items: 6\n",
      "user: 4dfca2f4dc4e8e6c3b1b7d32e10579c1, dist: 11.017086029052734, #items: 17\n",
      "user: 9c3b8737a6a00626867c5e05ee80157e, dist: 11.170863151550293, #items: 3\n",
      "user: 2fb527b567d10a3ea0dac783c7c2f364, dist: 11.36994743347168, #items: 6\n",
      "user: e9fda1f240982b20e0df5ba9c4a337e9, dist: 11.39291000366211, #items: 18\n",
      "user: 478905563bab736f35d94bd7b0a27f9a, dist: 11.41390323638916, #items: 15\n",
      "user: 807dfc125f09be392a1f1b58c05b3742, dist: 11.899513244628906, #items: 11\n",
      "user: 4eb43aa7f89260bb40b3970a45a82678, dist: 12.139188766479492, #items: 333\n",
      "user: 7a23690289260d2b8c1d71d8c22b69f0, dist: 12.212465286254883, #items: 18\n",
      "user: c19c053aafbf1492b9e57ce3da5d45c1, dist: 12.235057830810547, #items: 24\n",
      "user: 3c63524f15931dc8bed7a768cb7d6150, dist: 12.239293098449707, #items: 14\n",
      "user: 504b651e27c89d1d46d101dd87823ab6, dist: 12.254538536071777, #items: 9\n",
      "user: d84d58533b58797bccca5811b4135c95, dist: 12.312992095947266, #items: 31\n",
      "user: 00de940f0b5cfc82cca4791199e3bfb3, dist: 12.400825500488281, #items: 751\n",
      "user: b13fb0da6dd2f5d7fe398e6e53b52110, dist: 12.727815628051758, #items: 7\n",
      "user: bb50b45a1874ede476874bd57e4cabb4, dist: 12.794926643371582, #items: 178\n",
      "user: 2ec24376127909f3be36d770e6ae41a6, dist: 12.902372360229492, #items: 14\n",
      "user: 74f10ac255db9e37db6c6cbf604eb7e0, dist: 12.973283767700195, #items: 18\n",
      "user: b6927bdee51077f7868f05f1ed39485f, dist: 12.980510711669922, #items: 18\n",
      "user: 888b76dff350bdb6b25783d7c4110081, dist: 13.500511169433594, #items: 12\n",
      "user: 1ac10b86ba5ac18e06eea9f9954ab216, dist: 13.640070915222168, #items: 217\n",
      "user: e347f98d0a810ded7c14d7be813a5868, dist: 14.10441780090332, #items: 19\n",
      "user: 490951556961e4b88fe1a3ac53b3b186, dist: 14.320211410522461, #items: 313\n",
      "user: 5862049dbaad1750964d91a98930832f, dist: 14.395682334899902, #items: 33\n",
      "user: 722ad4c331b7d7bebd697bfbb91ee0e8, dist: 14.660320281982422, #items: 36\n",
      "user: de2b2c35312ac2f0a8510743742c0219, dist: 14.686025619506836, #items: 937\n",
      "user: d4d0cd1ae06f54909291d34ddd6ab497, dist: 14.715740203857422, #items: 78\n",
      "user: a00de41fdf121f6dfe5db851a575d2d1, dist: 14.82629680633545, #items: 146\n",
      "user: 78b5e9744073532cc376976b5fc6b2fc, dist: 15.251989364624023, #items: 718\n",
      "user: 3c888e77b992ae3cd2adfe16774e23b9, dist: 15.630373001098633, #items: 11\n",
      "user: 607f6e34a0b5923333f6b16d3a59cc98, dist: 15.773721694946289, #items: 955\n",
      "user: 3deba1aaf448d3857c6c70f63c2a6430, dist: 15.870946884155273, #items: 11\n",
      "user: f71b423642d3d61dffba53ddee48a7e0, dist: 15.924524307250977, #items: 15\n",
      "user: d5cf45435e35cb9166f51f0a55b74a0e, dist: 15.969039916992188, #items: 75\n",
      "user: 1ee4bd59c9ea084016ff2811dbb00568, dist: 16.070968627929688, #items: 53\n",
      "user: b09a5957e5d5e47e556d203529a0ae6d, dist: 16.729278564453125, #items: 708\n",
      "user: 259443e9cad56b4f68b664daa20cb323, dist: 16.900203704833984, #items: 305\n",
      "user: 0c37993dcf5f99f7b00d02495ed01bc3, dist: 16.96025848388672, #items: 339\n",
      "user: 883449004b1bf2a07a284f59ddae1fd7, dist: 16.962709426879883, #items: 190\n",
      "user: 6ca7c27715f54e2f47ebe4e1c9dcf842, dist: 17.21099853515625, #items: 72\n",
      "user: accbf566ae920d6260d28454e1ee0d6a, dist: 17.25518035888672, #items: 396\n",
      "user: 9c8073214a052e414811b76012df8847, dist: 17.441646575927734, #items: 160\n",
      "user: 62ef0e23f21039e337b545ccc4851525, dist: 17.487335205078125, #items: 48\n",
      "user: 0ca907e233b8bf33bf4eca86fcbfcc8f, dist: 17.563785552978516, #items: 54\n",
      "user: 3226bc99212ad30ce2ced981de1c437a, dist: 17.673160552978516, #items: 34\n",
      "user: c182e8b2f013e4e3c78cbfb01b8970c8, dist: 17.76740074157715, #items: 30\n",
      "user: 84c2d6fc2e78a1d1283c386c0d4daee4, dist: 17.77063751220703, #items: 9\n",
      "user: 93f4b8995f647ceb58689b78eb2087ef, dist: 17.83260154724121, #items: 36\n",
      "user: a9f376da22eb77185afae90b192bf9ac, dist: 17.98445701599121, #items: 48\n",
      "user: a2a15d03117e137478c5718212805270, dist: 18.086387634277344, #items: 50\n",
      "user: 94d7a0f7c8f2e1c714b0649f835c538c, dist: 18.162017822265625, #items: 150\n",
      "user: 514278711fcdb6dfb235c03a3aa38ee3, dist: 18.178817749023438, #items: 269\n",
      "user: ff9c1993d2a21f2117c30d8e295dd4ac, dist: 18.18566131591797, #items: 661\n",
      "user: 28b56a449c99c88e1f9fff59d0f16aac, dist: 18.33505630493164, #items: 84\n",
      "user: 1eb9e2c62709ff203b2d9a558abc0937, dist: 18.368610382080078, #items: 39\n",
      "user: 248172d9efbbd5eb72d48de6884054ab, dist: 18.631969451904297, #items: 24\n",
      "user: 4c7a94e0937450ef406135849493ab99, dist: 18.99549102783203, #items: 57\n",
      "user: 8dcd4de7be6479561269b90c1dc8a3b4, dist: 19.130992889404297, #items: 454\n",
      "user: 9ad2a06dfac81761a123cb40084dcbd7, dist: 19.24117660522461, #items: 23\n",
      "user: f0e2dfdbc324f309660b731ad16ce2fd, dist: 19.25546646118164, #items: 17\n",
      "user: 11e5c2ba0236fe3643cac09dbdb96580, dist: 19.279619216918945, #items: 30\n",
      "user: b36ffffcd1831441a2a3b60919312ccd, dist: 19.563018798828125, #items: 118\n",
      "user: de0b07c32bb6ca4655487026e0f3fc38, dist: 19.619007110595703, #items: 74\n",
      "user: 5bdea9864567a8614b659bf4b2132ab0, dist: 20.1693172454834, #items: 78\n",
      "user: 5097e48e561bf0261b242f211b289825, dist: 20.35497283935547, #items: 53\n",
      "user: 6b492acb1838463dc7c07a76b26313c4, dist: 20.392742156982422, #items: 247\n",
      "user: 2db8293d2a35a17f16ddf8e97122ec11, dist: 20.546239852905273, #items: 219\n",
      "user: 2afd218c3aecb6828d2be327f8b9c46f, dist: 20.696109771728516, #items: 760\n",
      "user: 571d66ea4abfb694d9bb1281d7701710, dist: 21.00513458251953, #items: 68\n",
      "user: be6ec863f38f611dff4958ccd33cf638, dist: 21.163772583007812, #items: 60\n",
      "user: 00fa8d61b5f75e16ea71bff7a3def9c9, dist: 21.176862716674805, #items: 30\n",
      "user: 4480a650a96730fb629aa7fa2079e7c3, dist: 21.19933319091797, #items: 37\n",
      "user: 24ebcf86498b0f2793b55c5b9a7756b5, dist: 21.631629943847656, #items: 210\n",
      "user: 2c5952c4f931410e9010eb87c276020d, dist: 21.936607360839844, #items: 73\n",
      "user: cd09cd99c38d4bfb7b554dff21196c22, dist: 22.030479431152344, #items: 26\n",
      "user: bf34e3c5724ce07d29ef12db5f767258, dist: 22.23000717163086, #items: 249\n",
      "user: 6010bbc8e7ef4b21fa38f9c3a9754ef3, dist: 22.298412322998047, #items: 396\n",
      "user: 4b4c4f319a356ea87affb872173a2095, dist: 22.622581481933594, #items: 34\n",
      "user: 3bf93d5f7b82b46e38feb881d00c5798, dist: 22.847286224365234, #items: 36\n",
      "user: d8e56509dc582df255732a0170323231, dist: 23.056041717529297, #items: 61\n",
      "user: 855ba3170f3e470170d23a748ccb41ed, dist: 23.65433692932129, #items: 42\n",
      "user: 20c7d1ee0615a09b0bac9438cc8325e2, dist: 24.80950927734375, #items: 66\n",
      "user: c795c7de8f350ab35dfd1100a84bf213, dist: 25.505123138427734, #items: 68\n",
      "user: ce209fb2fe01d6c85dbb29b6fd84b563, dist: 25.5941162109375, #items: 49\n",
      "user: 64cae7b86c7dcb1b40d17e43c0c2109e, dist: 25.718868255615234, #items: 365\n",
      "user: cbc86e332e889251fe0fa71df472f202, dist: 25.85914421081543, #items: 151\n",
      "user: c1edc56f4d30d94a94ee41654c4f6734, dist: 25.947572708129883, #items: 31\n",
      "user: 7a81cab11e4b2b4aa9c0718c90835611, dist: 26.073375701904297, #items: 30\n",
      "user: 5bf3c29fd496e2cafa9c531c7e9c6d61, dist: 26.274734497070312, #items: 29\n",
      "user: ed7ed76453bd846859f5e6b9149df276, dist: 26.669719696044922, #items: 675\n",
      "user: 9d1aa48692579ca9330d3c61d10e22e6, dist: 26.770265579223633, #items: 84\n",
      "user: eca1130f44cd2e17645e40a0fa2ef59b, dist: 29.540327072143555, #items: 1005\n"
     ]
    }
   ],
   "source": [
    "valence_outliers = mine_outliers(model=valence_model, data_converter=data_converter)\n",
    "arousal_outliers = mine_outliers(model=arousal_model, data_converter=data_converter)\n",
    "\n",
    "items_group_by_users = data_converter.original_df.groupby(\"user_id\")\n",
    "combined_outliers = {}\n",
    "for user_id, valence_dist in valence_outliers.items():\n",
    "    arousal_dist = arousal_outliers[user_id]\n",
    "    combined_outliers[user_id] = valence_dist + arousal_dist\n",
    "\n",
    "combined_outliers = dict(sorted(combined_outliers.items(), key=lambda item: item[1]))\n",
    "for user_id, item_id in combined_outliers.items():\n",
    "    number_of_items = len(items_group_by_users.get_group(user_id))\n",
    "    print(f\"user: {user_id}, dist: {item_id}, #items: {number_of_items}\")"
   ],
   "metadata": {
    "collapsed": false,
    "pycharm": {
     "name": "#%%\n"
    }
   }
  }
 ],
 "metadata": {
  "kernelspec": {
   "display_name": "Python 3",
   "language": "python",
   "name": "python3"
  },
  "language_info": {
   "codemirror_mode": {
    "name": "ipython",
    "version": 2
   },
   "file_extension": ".py",
   "mimetype": "text/x-python",
   "name": "python",
   "nbconvert_exporter": "python",
   "pygments_lexer": "ipython2",
   "version": "2.7.6"
  }
 },
 "nbformat": 4,
 "nbformat_minor": 0
}