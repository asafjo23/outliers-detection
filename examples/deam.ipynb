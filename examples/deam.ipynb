{
 "cells": [
  {
   "cell_type": "code",
   "execution_count": 1,
   "metadata": {
    "collapsed": true,
    "pycharm": {
     "name": "#%%\n"
    }
   },
   "outputs": [],
   "source": [
    "from pandas import read_csv\n",
    "from torch.optim import SGD\n",
    "from torch.utils.data import DataLoader\n",
    "from src.runner import Runner\n",
    "from src.loss import MiningOutliersLoss\n",
    "from src.model import MF\n",
    "from src.utils import DataConverter, DataProcessor, create_dataset, mine_outliers\n",
    "from config import DATA_DIR\n",
    "\n",
    "\"\"\"\n",
    "The Deam dataset is based on Arousal-Valence 2D emotional model.\n",
    "The Valence/Arousal ratings were collected using Amazon Mechanical Turks service.\n",
    "Each turk from the collected crowd were asked to mark his own emotion for the current song on a 2D plane, Arousal/Valence.\n",
    "For more information please read: https://journals.plos.org/plosone/article?id=10.1371/journal.pone.0173392\n",
    "\"\"\"\n",
    "\n",
    "DF_PATH = f\"{DATA_DIR}\" \\\n",
    "          f\"/DEAM/annotations/annotations per each rater/\" \\\n",
    "          f\"song_level/static_annotations_songs_1_2000.csv\""
   ]
  },
  {
   "cell_type": "code",
   "execution_count": 2,
   "outputs": [
    {
     "name": "stderr",
     "output_type": "stream",
     "text": [
      "100%|██████████| 20/20 [00:09<00:00,  2.15batch/s, train_loss=205]\n"
     ]
    },
    {
     "name": "stdout",
     "output_type": "stream",
     "text": [
      "epoch=1, loss=11535.742156982422\n"
     ]
    },
    {
     "name": "stderr",
     "output_type": "stream",
     "text": [
      "100%|██████████| 20/20 [00:06<00:00,  3.02batch/s, train_loss=194]\n"
     ]
    },
    {
     "name": "stdout",
     "output_type": "stream",
     "text": [
      "epoch=2, loss=8074.2706298828125\n"
     ]
    },
    {
     "name": "stderr",
     "output_type": "stream",
     "text": [
      "100%|██████████| 20/20 [00:06<00:00,  3.29batch/s, train_loss=151]\n"
     ]
    },
    {
     "name": "stdout",
     "output_type": "stream",
     "text": [
      "epoch=3, loss=6689.001571655273\n"
     ]
    },
    {
     "name": "stderr",
     "output_type": "stream",
     "text": [
      "100%|██████████| 20/20 [00:06<00:00,  3.24batch/s, train_loss=127]\n"
     ]
    },
    {
     "name": "stdout",
     "output_type": "stream",
     "text": [
      "epoch=4, loss=5685.780700683594\n"
     ]
    },
    {
     "name": "stderr",
     "output_type": "stream",
     "text": [
      "100%|██████████| 20/20 [00:06<00:00,  3.31batch/s, train_loss=95.5]\n"
     ]
    },
    {
     "name": "stdout",
     "output_type": "stream",
     "text": [
      "epoch=5, loss=4979.639236450195\n"
     ]
    },
    {
     "name": "stderr",
     "output_type": "stream",
     "text": [
      "100%|██████████| 20/20 [00:05<00:00,  3.82batch/s, train_loss=115]\n"
     ]
    },
    {
     "name": "stdout",
     "output_type": "stream",
     "text": [
      "epoch=6, loss=4438.972061157227\n"
     ]
    },
    {
     "name": "stderr",
     "output_type": "stream",
     "text": [
      "100%|██████████| 20/20 [00:05<00:00,  3.85batch/s, train_loss=112]\n"
     ]
    },
    {
     "name": "stdout",
     "output_type": "stream",
     "text": [
      "epoch=7, loss=4019.2277069091797\n"
     ]
    },
    {
     "name": "stderr",
     "output_type": "stream",
     "text": [
      "100%|██████████| 20/20 [00:05<00:00,  3.85batch/s, train_loss=97.8]\n"
     ]
    },
    {
     "name": "stdout",
     "output_type": "stream",
     "text": [
      "epoch=8, loss=3627.343620300293\n"
     ]
    },
    {
     "name": "stderr",
     "output_type": "stream",
     "text": [
      "100%|██████████| 20/20 [00:05<00:00,  3.96batch/s, train_loss=84] \n"
     ]
    },
    {
     "name": "stdout",
     "output_type": "stream",
     "text": [
      "epoch=9, loss=3313.486701965332\n"
     ]
    },
    {
     "name": "stderr",
     "output_type": "stream",
     "text": [
      "100%|██████████| 20/20 [00:05<00:00,  3.80batch/s, train_loss=67.8]\n"
     ]
    },
    {
     "name": "stdout",
     "output_type": "stream",
     "text": [
      "epoch=10, loss=2951.2986450195312\n"
     ]
    },
    {
     "name": "stderr",
     "output_type": "stream",
     "text": [
      "100%|██████████| 20/20 [00:05<00:00,  3.86batch/s, train_loss=57.3]\n"
     ]
    },
    {
     "name": "stdout",
     "output_type": "stream",
     "text": [
      "epoch=11, loss=2640.1556434631348\n"
     ]
    },
    {
     "name": "stderr",
     "output_type": "stream",
     "text": [
      "100%|██████████| 20/20 [00:05<00:00,  3.98batch/s, train_loss=59.5]\n"
     ]
    },
    {
     "name": "stdout",
     "output_type": "stream",
     "text": [
      "epoch=12, loss=2363.12845993042\n"
     ]
    },
    {
     "name": "stderr",
     "output_type": "stream",
     "text": [
      "100%|██████████| 20/20 [00:05<00:00,  3.42batch/s, train_loss=46.9]\n"
     ]
    },
    {
     "name": "stdout",
     "output_type": "stream",
     "text": [
      "epoch=13, loss=2101.7357749938965\n"
     ]
    },
    {
     "name": "stderr",
     "output_type": "stream",
     "text": [
      "100%|██████████| 20/20 [00:04<00:00,  4.06batch/s, train_loss=34.5]\n"
     ]
    },
    {
     "name": "stdout",
     "output_type": "stream",
     "text": [
      "epoch=14, loss=1850.7843170166016\n"
     ]
    },
    {
     "name": "stderr",
     "output_type": "stream",
     "text": [
      "100%|██████████| 20/20 [00:05<00:00,  3.79batch/s, train_loss=34.7]\n"
     ]
    },
    {
     "name": "stdout",
     "output_type": "stream",
     "text": [
      "epoch=15, loss=1644.7168922424316\n"
     ]
    },
    {
     "name": "stderr",
     "output_type": "stream",
     "text": [
      "100%|██████████| 20/20 [00:05<00:00,  3.74batch/s, train_loss=34.4]\n"
     ]
    },
    {
     "name": "stdout",
     "output_type": "stream",
     "text": [
      "epoch=16, loss=1482.1849822998047\n"
     ]
    },
    {
     "name": "stderr",
     "output_type": "stream",
     "text": [
      "100%|██████████| 20/20 [00:06<00:00,  3.30batch/s, train_loss=30.4]\n"
     ]
    },
    {
     "name": "stdout",
     "output_type": "stream",
     "text": [
      "epoch=17, loss=1310.4784126281738\n"
     ]
    },
    {
     "name": "stderr",
     "output_type": "stream",
     "text": [
      "100%|██████████| 20/20 [00:06<00:00,  3.33batch/s, train_loss=23.1]\n"
     ]
    },
    {
     "name": "stdout",
     "output_type": "stream",
     "text": [
      "epoch=18, loss=1192.9295597076416\n"
     ]
    },
    {
     "name": "stderr",
     "output_type": "stream",
     "text": [
      "100%|██████████| 20/20 [00:05<00:00,  3.38batch/s, train_loss=27.8]\n"
     ]
    },
    {
     "name": "stdout",
     "output_type": "stream",
     "text": [
      "epoch=19, loss=1070.2156658172607\n"
     ]
    },
    {
     "name": "stderr",
     "output_type": "stream",
     "text": [
      "100%|██████████| 20/20 [00:05<00:00,  3.44batch/s, train_loss=25.9]\n"
     ]
    },
    {
     "name": "stdout",
     "output_type": "stream",
     "text": [
      "epoch=20, loss=967.3177967071533\n"
     ]
    },
    {
     "name": "stderr",
     "output_type": "stream",
     "text": [
      "100%|██████████| 20/20 [00:05<00:00,  3.51batch/s, train_loss=22.1]\n"
     ]
    },
    {
     "name": "stdout",
     "output_type": "stream",
     "text": [
      "epoch=21, loss=876.9762191772461\n"
     ]
    },
    {
     "name": "stderr",
     "output_type": "stream",
     "text": [
      "100%|██████████| 20/20 [00:05<00:00,  3.47batch/s, train_loss=20.9]\n"
     ]
    },
    {
     "name": "stdout",
     "output_type": "stream",
     "text": [
      "epoch=22, loss=779.9244232177734\n"
     ]
    },
    {
     "name": "stderr",
     "output_type": "stream",
     "text": [
      "100%|██████████| 20/20 [00:07<00:00,  2.69batch/s, train_loss=16.2]\n"
     ]
    },
    {
     "name": "stdout",
     "output_type": "stream",
     "text": [
      "epoch=23, loss=708.4007472991943\n"
     ]
    },
    {
     "name": "stderr",
     "output_type": "stream",
     "text": [
      "100%|██████████| 20/20 [00:08<00:00,  2.50batch/s, train_loss=10.2]\n"
     ]
    },
    {
     "name": "stdout",
     "output_type": "stream",
     "text": [
      "epoch=24, loss=633.741265296936\n"
     ]
    },
    {
     "name": "stderr",
     "output_type": "stream",
     "text": [
      "100%|██████████| 20/20 [00:07<00:00,  2.70batch/s, train_loss=12.4]\n"
     ]
    },
    {
     "name": "stdout",
     "output_type": "stream",
     "text": [
      "epoch=25, loss=576.5980625152588\n"
     ]
    },
    {
     "name": "stderr",
     "output_type": "stream",
     "text": [
      "100%|██████████| 20/20 [00:06<00:00,  3.24batch/s, train_loss=17.1]\n"
     ]
    },
    {
     "name": "stdout",
     "output_type": "stream",
     "text": [
      "epoch=26, loss=519.4288806915283\n"
     ]
    },
    {
     "name": "stderr",
     "output_type": "stream",
     "text": [
      "100%|██████████| 20/20 [00:06<00:00,  3.25batch/s, train_loss=11.2]\n"
     ]
    },
    {
     "name": "stdout",
     "output_type": "stream",
     "text": [
      "epoch=27, loss=468.9898691177368\n"
     ]
    },
    {
     "name": "stderr",
     "output_type": "stream",
     "text": [
      "100%|██████████| 20/20 [00:06<00:00,  3.30batch/s, train_loss=10.5]\n"
     ]
    },
    {
     "name": "stdout",
     "output_type": "stream",
     "text": [
      "epoch=28, loss=417.7001714706421\n"
     ]
    },
    {
     "name": "stderr",
     "output_type": "stream",
     "text": [
      "100%|██████████| 20/20 [00:05<00:00,  3.39batch/s, train_loss=15.4]\n"
     ]
    },
    {
     "name": "stdout",
     "output_type": "stream",
     "text": [
      "epoch=29, loss=360.82323932647705\n"
     ]
    },
    {
     "name": "stderr",
     "output_type": "stream",
     "text": [
      "100%|██████████| 20/20 [00:05<00:00,  3.37batch/s, train_loss=8.33]\n"
     ]
    },
    {
     "name": "stdout",
     "output_type": "stream",
     "text": [
      "epoch=30, loss=314.7583808898926\n"
     ]
    },
    {
     "name": "stderr",
     "output_type": "stream",
     "text": [
      "100%|██████████| 20/20 [00:06<00:00,  3.21batch/s, train_loss=8.26]\n"
     ]
    },
    {
     "name": "stdout",
     "output_type": "stream",
     "text": [
      "epoch=31, loss=272.01140880584717\n"
     ]
    },
    {
     "name": "stderr",
     "output_type": "stream",
     "text": [
      "100%|██████████| 20/20 [00:06<00:00,  3.32batch/s, train_loss=2.38]\n"
     ]
    },
    {
     "name": "stdout",
     "output_type": "stream",
     "text": [
      "epoch=32, loss=239.30352139472961\n"
     ]
    },
    {
     "name": "stderr",
     "output_type": "stream",
     "text": [
      "100%|██████████| 20/20 [00:06<00:00,  3.15batch/s, train_loss=7.07]\n"
     ]
    },
    {
     "name": "stdout",
     "output_type": "stream",
     "text": [
      "epoch=33, loss=209.86770248413086\n"
     ]
    },
    {
     "name": "stderr",
     "output_type": "stream",
     "text": [
      "100%|██████████| 20/20 [00:07<00:00,  2.68batch/s, train_loss=4.73]\n"
     ]
    },
    {
     "name": "stdout",
     "output_type": "stream",
     "text": [
      "epoch=34, loss=183.8346962928772\n"
     ]
    },
    {
     "name": "stderr",
     "output_type": "stream",
     "text": [
      "100%|██████████| 20/20 [00:04<00:00,  4.03batch/s, train_loss=4.98]\n"
     ]
    },
    {
     "name": "stdout",
     "output_type": "stream",
     "text": [
      "epoch=35, loss=155.81030821800232\n"
     ]
    },
    {
     "name": "stderr",
     "output_type": "stream",
     "text": [
      "100%|██████████| 20/20 [00:06<00:00,  3.08batch/s, train_loss=1.71]\n"
     ]
    },
    {
     "name": "stdout",
     "output_type": "stream",
     "text": [
      "epoch=36, loss=139.27814149856567\n"
     ]
    },
    {
     "name": "stderr",
     "output_type": "stream",
     "text": [
      "100%|██████████| 20/20 [00:05<00:00,  3.57batch/s, train_loss=4]   \n"
     ]
    },
    {
     "name": "stdout",
     "output_type": "stream",
     "text": [
      "epoch=37, loss=121.89150142669678\n"
     ]
    },
    {
     "name": "stderr",
     "output_type": "stream",
     "text": [
      "100%|██████████| 20/20 [00:05<00:00,  3.62batch/s, train_loss=3.47]\n"
     ]
    },
    {
     "name": "stdout",
     "output_type": "stream",
     "text": [
      "epoch=38, loss=97.97436285018921\n"
     ]
    },
    {
     "name": "stderr",
     "output_type": "stream",
     "text": [
      "100%|██████████| 20/20 [00:05<00:00,  3.48batch/s, train_loss=2.95]\n"
     ]
    },
    {
     "name": "stdout",
     "output_type": "stream",
     "text": [
      "epoch=39, loss=89.67588639259338\n"
     ]
    },
    {
     "name": "stderr",
     "output_type": "stream",
     "text": [
      "100%|██████████| 20/20 [00:05<00:00,  3.38batch/s, train_loss=3.01]\n"
     ]
    },
    {
     "name": "stdout",
     "output_type": "stream",
     "text": [
      "epoch=40, loss=80.33593809604645\n"
     ]
    },
    {
     "name": "stderr",
     "output_type": "stream",
     "text": [
      "100%|██████████| 20/20 [00:05<00:00,  3.55batch/s, train_loss=0.997]\n"
     ]
    },
    {
     "name": "stdout",
     "output_type": "stream",
     "text": [
      "epoch=41, loss=69.9983394742012\n"
     ]
    },
    {
     "name": "stderr",
     "output_type": "stream",
     "text": [
      "100%|██████████| 20/20 [00:05<00:00,  3.52batch/s, train_loss=3.61]\n"
     ]
    },
    {
     "name": "stdout",
     "output_type": "stream",
     "text": [
      "epoch=42, loss=60.7114223241806\n"
     ]
    },
    {
     "name": "stderr",
     "output_type": "stream",
     "text": [
      "100%|██████████| 20/20 [00:10<00:00,  1.97batch/s, train_loss=2.08]\n"
     ]
    },
    {
     "name": "stdout",
     "output_type": "stream",
     "text": [
      "epoch=43, loss=59.57521116733551\n"
     ]
    },
    {
     "name": "stderr",
     "output_type": "stream",
     "text": [
      "100%|██████████| 20/20 [00:06<00:00,  3.01batch/s, train_loss=2.81]\n"
     ]
    },
    {
     "name": "stdout",
     "output_type": "stream",
     "text": [
      "epoch=44, loss=52.09572750329971\n"
     ]
    },
    {
     "name": "stderr",
     "output_type": "stream",
     "text": [
      "100%|██████████| 20/20 [00:05<00:00,  3.36batch/s, train_loss=1.23]\n"
     ]
    },
    {
     "name": "stdout",
     "output_type": "stream",
     "text": [
      "epoch=45, loss=46.68007010221481\n"
     ]
    },
    {
     "name": "stderr",
     "output_type": "stream",
     "text": [
      "100%|██████████| 20/20 [00:06<00:00,  2.91batch/s, train_loss=0.502]\n"
     ]
    },
    {
     "name": "stdout",
     "output_type": "stream",
     "text": [
      "epoch=46, loss=43.44193172454834\n"
     ]
    },
    {
     "name": "stderr",
     "output_type": "stream",
     "text": [
      "100%|██████████| 20/20 [00:06<00:00,  3.11batch/s, train_loss=1.19]\n"
     ]
    },
    {
     "name": "stdout",
     "output_type": "stream",
     "text": [
      "epoch=47, loss=38.76389282941818\n"
     ]
    },
    {
     "name": "stderr",
     "output_type": "stream",
     "text": [
      "100%|██████████| 20/20 [00:05<00:00,  3.45batch/s, train_loss=1.79] \n"
     ]
    },
    {
     "name": "stdout",
     "output_type": "stream",
     "text": [
      "epoch=48, loss=37.120866656303406\n"
     ]
    },
    {
     "name": "stderr",
     "output_type": "stream",
     "text": [
      "100%|██████████| 20/20 [00:05<00:00,  3.66batch/s, train_loss=0.534]\n"
     ]
    },
    {
     "name": "stdout",
     "output_type": "stream",
     "text": [
      "epoch=49, loss=33.78825080394745\n"
     ]
    },
    {
     "name": "stderr",
     "output_type": "stream",
     "text": [
      "100%|██████████| 20/20 [00:05<00:00,  3.75batch/s, train_loss=0.924]\n"
     ]
    },
    {
     "name": "stdout",
     "output_type": "stream",
     "text": [
      "epoch=50, loss=33.418300569057465\n"
     ]
    },
    {
     "name": "stderr",
     "output_type": "stream",
     "text": [
      "100%|██████████| 20/20 [00:07<00:00,  2.83batch/s, train_loss=1.05] \n"
     ]
    },
    {
     "name": "stdout",
     "output_type": "stream",
     "text": [
      "epoch=51, loss=33.919576704502106\n"
     ]
    },
    {
     "name": "stderr",
     "output_type": "stream",
     "text": [
      "100%|██████████| 20/20 [00:09<00:00,  2.20batch/s, train_loss=0.687]\n"
     ]
    },
    {
     "name": "stdout",
     "output_type": "stream",
     "text": [
      "epoch=52, loss=33.6421460211277\n"
     ]
    },
    {
     "name": "stderr",
     "output_type": "stream",
     "text": [
      "100%|██████████| 20/20 [00:07<00:00,  2.66batch/s, train_loss=0.762]\n"
     ]
    },
    {
     "name": "stdout",
     "output_type": "stream",
     "text": [
      "epoch=53, loss=28.38976413011551\n"
     ]
    },
    {
     "name": "stderr",
     "output_type": "stream",
     "text": [
      "100%|██████████| 20/20 [00:07<00:00,  2.74batch/s, train_loss=1.4] \n"
     ]
    },
    {
     "name": "stdout",
     "output_type": "stream",
     "text": [
      "epoch=54, loss=30.080995559692383\n"
     ]
    },
    {
     "name": "stderr",
     "output_type": "stream",
     "text": [
      "100%|██████████| 20/20 [00:11<00:00,  1.74batch/s, train_loss=0.575]\n"
     ]
    },
    {
     "name": "stdout",
     "output_type": "stream",
     "text": [
      "epoch=55, loss=29.632361888885498\n"
     ]
    },
    {
     "name": "stderr",
     "output_type": "stream",
     "text": [
      "100%|██████████| 20/20 [00:10<00:00,  1.84batch/s, train_loss=0.706]\n"
     ]
    },
    {
     "name": "stdout",
     "output_type": "stream",
     "text": [
      "epoch=56, loss=30.03441673517227\n"
     ]
    },
    {
     "name": "stderr",
     "output_type": "stream",
     "text": [
      "100%|██████████| 20/20 [00:09<00:00,  2.13batch/s, train_loss=0.669]\n"
     ]
    },
    {
     "name": "stdout",
     "output_type": "stream",
     "text": [
      "epoch=57, loss=28.63918572664261\n"
     ]
    },
    {
     "name": "stderr",
     "output_type": "stream",
     "text": [
      "100%|██████████| 20/20 [00:08<00:00,  2.28batch/s, train_loss=1.43] \n"
     ]
    },
    {
     "name": "stdout",
     "output_type": "stream",
     "text": [
      "epoch=58, loss=27.64143991470337\n"
     ]
    },
    {
     "name": "stderr",
     "output_type": "stream",
     "text": [
      "100%|██████████| 20/20 [00:09<00:00,  2.01batch/s, train_loss=0.187]\n"
     ]
    },
    {
     "name": "stdout",
     "output_type": "stream",
     "text": [
      "epoch=59, loss=28.23823194205761\n"
     ]
    },
    {
     "name": "stderr",
     "output_type": "stream",
     "text": [
      "100%|██████████| 20/20 [00:10<00:00,  1.92batch/s, train_loss=0.0577]\n"
     ]
    },
    {
     "name": "stdout",
     "output_type": "stream",
     "text": [
      "epoch=60, loss=25.951523151248693\n"
     ]
    },
    {
     "name": "stderr",
     "output_type": "stream",
     "text": [
      "100%|██████████| 20/20 [00:06<00:00,  3.32batch/s, train_loss=1.08]\n"
     ]
    },
    {
     "name": "stdout",
     "output_type": "stream",
     "text": [
      "epoch=61, loss=25.19732841849327\n"
     ]
    },
    {
     "name": "stderr",
     "output_type": "stream",
     "text": [
      "100%|██████████| 20/20 [00:09<00:00,  2.01batch/s, train_loss=0.734]\n"
     ]
    },
    {
     "name": "stdout",
     "output_type": "stream",
     "text": [
      "epoch=62, loss=25.98174175620079\n"
     ]
    },
    {
     "name": "stderr",
     "output_type": "stream",
     "text": [
      "100%|██████████| 20/20 [00:08<00:00,  2.24batch/s, train_loss=0.226]\n"
     ]
    },
    {
     "name": "stdout",
     "output_type": "stream",
     "text": [
      "epoch=63, loss=25.29777157306671\n"
     ]
    },
    {
     "name": "stderr",
     "output_type": "stream",
     "text": [
      "100%|██████████| 20/20 [00:10<00:00,  1.82batch/s, train_loss=0.256]\n"
     ]
    },
    {
     "name": "stdout",
     "output_type": "stream",
     "text": [
      "epoch=64, loss=25.77820211648941\n"
     ]
    },
    {
     "name": "stderr",
     "output_type": "stream",
     "text": [
      "100%|██████████| 20/20 [00:09<00:00,  2.11batch/s, train_loss=0.88] \n"
     ]
    },
    {
     "name": "stdout",
     "output_type": "stream",
     "text": [
      "epoch=65, loss=25.96415650844574\n"
     ]
    },
    {
     "name": "stderr",
     "output_type": "stream",
     "text": [
      "100%|██████████| 20/20 [00:09<00:00,  2.10batch/s, train_loss=1.24] \n"
     ]
    },
    {
     "name": "stdout",
     "output_type": "stream",
     "text": [
      "epoch=66, loss=25.593693792819977\n"
     ]
    },
    {
     "name": "stderr",
     "output_type": "stream",
     "text": [
      "100%|██████████| 20/20 [00:10<00:00,  1.97batch/s, train_loss=0.569]\n"
     ]
    },
    {
     "name": "stdout",
     "output_type": "stream",
     "text": [
      "epoch=67, loss=24.77028837800026\n"
     ]
    },
    {
     "name": "stderr",
     "output_type": "stream",
     "text": [
      "100%|██████████| 20/20 [00:11<00:00,  1.78batch/s, train_loss=1.58] \n"
     ]
    },
    {
     "name": "stdout",
     "output_type": "stream",
     "text": [
      "epoch=68, loss=26.338394820690155\n"
     ]
    },
    {
     "name": "stderr",
     "output_type": "stream",
     "text": [
      "100%|██████████| 20/20 [00:08<00:00,  2.37batch/s, train_loss=0.898]\n"
     ]
    },
    {
     "name": "stdout",
     "output_type": "stream",
     "text": [
      "epoch=69, loss=25.139982476830482\n"
     ]
    },
    {
     "name": "stderr",
     "output_type": "stream",
     "text": [
      "100%|██████████| 20/20 [00:09<00:00,  2.14batch/s, train_loss=0.762]\n"
     ]
    },
    {
     "name": "stdout",
     "output_type": "stream",
     "text": [
      "epoch=70, loss=25.318216025829315\n"
     ]
    },
    {
     "name": "stderr",
     "output_type": "stream",
     "text": [
      "100%|██████████| 20/20 [00:09<00:00,  2.17batch/s, train_loss=0.931]\n"
     ]
    },
    {
     "name": "stdout",
     "output_type": "stream",
     "text": [
      "epoch=71, loss=25.4975084066391\n"
     ]
    },
    {
     "name": "stderr",
     "output_type": "stream",
     "text": [
      "100%|██████████| 20/20 [00:07<00:00,  2.57batch/s, train_loss=0.803]\n"
     ]
    },
    {
     "name": "stdout",
     "output_type": "stream",
     "text": [
      "epoch=72, loss=23.01779332756996\n"
     ]
    },
    {
     "name": "stderr",
     "output_type": "stream",
     "text": [
      "100%|██████████| 20/20 [00:09<00:00,  2.09batch/s, train_loss=1.29] \n"
     ]
    },
    {
     "name": "stdout",
     "output_type": "stream",
     "text": [
      "epoch=73, loss=25.8789891153574\n"
     ]
    },
    {
     "name": "stderr",
     "output_type": "stream",
     "text": [
      "100%|██████████| 20/20 [00:09<00:00,  2.21batch/s, train_loss=0.849]\n"
     ]
    },
    {
     "name": "stdout",
     "output_type": "stream",
     "text": [
      "epoch=74, loss=24.31256040930748\n"
     ]
    },
    {
     "name": "stderr",
     "output_type": "stream",
     "text": [
      "100%|██████████| 20/20 [00:10<00:00,  1.95batch/s, train_loss=1.93] "
     ]
    },
    {
     "name": "stdout",
     "output_type": "stream",
     "text": [
      "epoch=75, loss=24.882491052150726\n"
     ]
    },
    {
     "name": "stderr",
     "output_type": "stream",
     "text": [
      "\n"
     ]
    }
   ],
   "source": [
    "\"\"\"\n",
    "This block of code calculates the outliers alongside the valence axis\n",
    "\"\"\"\n",
    "columns = [\"workerID\", \"SongId\", \"Valence\"]\n",
    "original_df = read_csv(DF_PATH, skipinitialspace=True, usecols=columns)\n",
    "original_df.columns = [\"user_id\", \"item_id\", \"rating\"]\n",
    "\n",
    "data_converter = DataConverter(\n",
    "    original_df=original_df, n_random_users=10, n_ratings_per_random_user=200\n",
    ")\n",
    "data_processor = DataProcessor(original_df=data_converter.original_df)\n",
    "\n",
    "valence_model = MF(\n",
    "    n_users=data_converter.n_users,\n",
    "    n_items=data_converter.n_item,\n",
    ")\n",
    "\n",
    "criterion = MiningOutliersLoss(data_converter=data_converter, data_processor=data_processor)\n",
    "optimizer = SGD(valence_model.parameters(), lr=5, weight_decay=1e-5)\n",
    "runner = Runner(\n",
    "    model=valence_model,\n",
    "    criterion=criterion,\n",
    "    optimizer=optimizer,\n",
    ")\n",
    "\n",
    "train_set = create_dataset(data_converter=data_converter)\n",
    "train_load = DataLoader(train_set, batch_size=1000, shuffle=True)\n",
    "epochs = 75\n",
    "for epoch in range(epochs):\n",
    "    epoch_loss = runner.train(train_loader=train_load)\n",
    "    print(f\"epoch={epoch + 1}, loss={epoch_loss}\")"
   ],
   "metadata": {
    "collapsed": false,
    "pycharm": {
     "name": "#%%\n"
    }
   }
  },
  {
   "cell_type": "code",
   "execution_count": 3,
   "outputs": [
    {
     "name": "stderr",
     "output_type": "stream",
     "text": [
      "100%|██████████| 20/20 [00:09<00:00,  2.21batch/s, train_loss=232]\n"
     ]
    },
    {
     "name": "stdout",
     "output_type": "stream",
     "text": [
      "epoch=1, loss=12139.322357177734\n"
     ]
    },
    {
     "name": "stderr",
     "output_type": "stream",
     "text": [
      "100%|██████████| 20/20 [00:15<00:00,  1.33batch/s, train_loss=206]\n"
     ]
    },
    {
     "name": "stdout",
     "output_type": "stream",
     "text": [
      "epoch=2, loss=8733.824844360352\n"
     ]
    },
    {
     "name": "stderr",
     "output_type": "stream",
     "text": [
      "100%|██████████| 20/20 [00:11<00:00,  1.71batch/s, train_loss=154]\n"
     ]
    },
    {
     "name": "stdout",
     "output_type": "stream",
     "text": [
      "epoch=3, loss=7300.822296142578\n"
     ]
    },
    {
     "name": "stderr",
     "output_type": "stream",
     "text": [
      "100%|██████████| 20/20 [00:11<00:00,  1.81batch/s, train_loss=151]\n"
     ]
    },
    {
     "name": "stdout",
     "output_type": "stream",
     "text": [
      "epoch=4, loss=6234.578384399414\n"
     ]
    },
    {
     "name": "stderr",
     "output_type": "stream",
     "text": [
      "100%|██████████| 20/20 [00:13<00:00,  1.50batch/s, train_loss=137]\n"
     ]
    },
    {
     "name": "stdout",
     "output_type": "stream",
     "text": [
      "epoch=5, loss=5482.937911987305\n"
     ]
    },
    {
     "name": "stderr",
     "output_type": "stream",
     "text": [
      "100%|██████████| 20/20 [00:12<00:00,  1.64batch/s, train_loss=106]\n"
     ]
    },
    {
     "name": "stdout",
     "output_type": "stream",
     "text": [
      "epoch=6, loss=4895.8222732543945\n"
     ]
    },
    {
     "name": "stderr",
     "output_type": "stream",
     "text": [
      "100%|██████████| 20/20 [00:10<00:00,  1.84batch/s, train_loss=87.9]\n"
     ]
    },
    {
     "name": "stdout",
     "output_type": "stream",
     "text": [
      "epoch=7, loss=4397.483062744141\n"
     ]
    },
    {
     "name": "stderr",
     "output_type": "stream",
     "text": [
      "100%|██████████| 20/20 [00:10<00:00,  1.90batch/s, train_loss=91.1]\n"
     ]
    },
    {
     "name": "stdout",
     "output_type": "stream",
     "text": [
      "epoch=8, loss=3964.1968536376953\n"
     ]
    },
    {
     "name": "stderr",
     "output_type": "stream",
     "text": [
      "100%|██████████| 20/20 [00:12<00:00,  1.59batch/s, train_loss=88] \n"
     ]
    },
    {
     "name": "stdout",
     "output_type": "stream",
     "text": [
      "epoch=9, loss=3604.584442138672\n"
     ]
    },
    {
     "name": "stderr",
     "output_type": "stream",
     "text": [
      "100%|██████████| 20/20 [00:10<00:00,  1.90batch/s, train_loss=85] \n"
     ]
    },
    {
     "name": "stdout",
     "output_type": "stream",
     "text": [
      "epoch=10, loss=3265.729293823242\n"
     ]
    },
    {
     "name": "stderr",
     "output_type": "stream",
     "text": [
      "100%|██████████| 20/20 [00:13<00:00,  1.46batch/s, train_loss=73.6]\n"
     ]
    },
    {
     "name": "stdout",
     "output_type": "stream",
     "text": [
      "epoch=11, loss=2921.8594512939453\n"
     ]
    },
    {
     "name": "stderr",
     "output_type": "stream",
     "text": [
      "100%|██████████| 20/20 [00:12<00:00,  1.65batch/s, train_loss=65.3]\n"
     ]
    },
    {
     "name": "stdout",
     "output_type": "stream",
     "text": [
      "epoch=12, loss=2591.229461669922\n"
     ]
    },
    {
     "name": "stderr",
     "output_type": "stream",
     "text": [
      "100%|██████████| 20/20 [00:13<00:00,  1.51batch/s, train_loss=56.7]\n"
     ]
    },
    {
     "name": "stdout",
     "output_type": "stream",
     "text": [
      "epoch=13, loss=2281.923225402832\n"
     ]
    },
    {
     "name": "stderr",
     "output_type": "stream",
     "text": [
      "100%|██████████| 20/20 [00:12<00:00,  1.57batch/s, train_loss=50.6]\n"
     ]
    },
    {
     "name": "stdout",
     "output_type": "stream",
     "text": [
      "epoch=14, loss=2021.6362113952637\n"
     ]
    },
    {
     "name": "stderr",
     "output_type": "stream",
     "text": [
      "100%|██████████| 20/20 [00:07<00:00,  2.74batch/s, train_loss=39.1]\n"
     ]
    },
    {
     "name": "stdout",
     "output_type": "stream",
     "text": [
      "epoch=15, loss=1800.563175201416\n"
     ]
    },
    {
     "name": "stderr",
     "output_type": "stream",
     "text": [
      "100%|██████████| 20/20 [00:05<00:00,  3.66batch/s, train_loss=45.3]\n"
     ]
    },
    {
     "name": "stdout",
     "output_type": "stream",
     "text": [
      "epoch=16, loss=1608.4287796020508\n"
     ]
    },
    {
     "name": "stderr",
     "output_type": "stream",
     "text": [
      "100%|██████████| 20/20 [00:05<00:00,  3.61batch/s, train_loss=39.1]\n"
     ]
    },
    {
     "name": "stdout",
     "output_type": "stream",
     "text": [
      "epoch=17, loss=1431.0544242858887\n"
     ]
    },
    {
     "name": "stderr",
     "output_type": "stream",
     "text": [
      "100%|██████████| 20/20 [00:07<00:00,  2.69batch/s, train_loss=34.4]\n"
     ]
    },
    {
     "name": "stdout",
     "output_type": "stream",
     "text": [
      "epoch=18, loss=1281.9682121276855\n"
     ]
    },
    {
     "name": "stderr",
     "output_type": "stream",
     "text": [
      "100%|██████████| 20/20 [00:08<00:00,  2.41batch/s, train_loss=21.5]\n"
     ]
    },
    {
     "name": "stdout",
     "output_type": "stream",
     "text": [
      "epoch=19, loss=1159.9814319610596\n"
     ]
    },
    {
     "name": "stderr",
     "output_type": "stream",
     "text": [
      "100%|██████████| 20/20 [00:10<00:00,  1.82batch/s, train_loss=27.7]\n"
     ]
    },
    {
     "name": "stdout",
     "output_type": "stream",
     "text": [
      "epoch=20, loss=1053.651954650879\n"
     ]
    },
    {
     "name": "stderr",
     "output_type": "stream",
     "text": [
      "100%|██████████| 20/20 [00:06<00:00,  2.89batch/s, train_loss=23.6]\n"
     ]
    },
    {
     "name": "stdout",
     "output_type": "stream",
     "text": [
      "epoch=21, loss=941.1312198638916\n"
     ]
    },
    {
     "name": "stderr",
     "output_type": "stream",
     "text": [
      "100%|██████████| 20/20 [00:06<00:00,  3.06batch/s, train_loss=17.8]\n"
     ]
    },
    {
     "name": "stdout",
     "output_type": "stream",
     "text": [
      "epoch=22, loss=849.6375675201416\n"
     ]
    },
    {
     "name": "stderr",
     "output_type": "stream",
     "text": [
      "100%|██████████| 20/20 [00:06<00:00,  2.88batch/s, train_loss=25.9]\n"
     ]
    },
    {
     "name": "stdout",
     "output_type": "stream",
     "text": [
      "epoch=23, loss=774.3114414215088\n"
     ]
    },
    {
     "name": "stderr",
     "output_type": "stream",
     "text": [
      "100%|██████████| 20/20 [00:05<00:00,  3.76batch/s, train_loss=9.9] \n"
     ]
    },
    {
     "name": "stdout",
     "output_type": "stream",
     "text": [
      "epoch=24, loss=690.6088094711304\n"
     ]
    },
    {
     "name": "stderr",
     "output_type": "stream",
     "text": [
      "100%|██████████| 20/20 [00:05<00:00,  3.74batch/s, train_loss=16.3]\n"
     ]
    },
    {
     "name": "stdout",
     "output_type": "stream",
     "text": [
      "epoch=25, loss=610.592155456543\n"
     ]
    },
    {
     "name": "stderr",
     "output_type": "stream",
     "text": [
      "100%|██████████| 20/20 [00:05<00:00,  3.44batch/s, train_loss=15.9]\n"
     ]
    },
    {
     "name": "stdout",
     "output_type": "stream",
     "text": [
      "epoch=26, loss=539.2685251235962\n"
     ]
    },
    {
     "name": "stderr",
     "output_type": "stream",
     "text": [
      "100%|██████████| 20/20 [00:06<00:00,  3.23batch/s, train_loss=12.3]\n"
     ]
    },
    {
     "name": "stdout",
     "output_type": "stream",
     "text": [
      "epoch=27, loss=477.9072151184082\n"
     ]
    },
    {
     "name": "stderr",
     "output_type": "stream",
     "text": [
      "100%|██████████| 20/20 [00:07<00:00,  2.83batch/s, train_loss=15]  \n"
     ]
    },
    {
     "name": "stdout",
     "output_type": "stream",
     "text": [
      "epoch=28, loss=425.3333206176758\n"
     ]
    },
    {
     "name": "stderr",
     "output_type": "stream",
     "text": [
      "100%|██████████| 20/20 [00:06<00:00,  3.29batch/s, train_loss=10.9]\n"
     ]
    },
    {
     "name": "stdout",
     "output_type": "stream",
     "text": [
      "epoch=29, loss=369.2039728164673\n"
     ]
    },
    {
     "name": "stderr",
     "output_type": "stream",
     "text": [
      "100%|██████████| 20/20 [00:04<00:00,  4.22batch/s, train_loss=8.72]\n"
     ]
    },
    {
     "name": "stdout",
     "output_type": "stream",
     "text": [
      "epoch=30, loss=324.53242778778076\n"
     ]
    },
    {
     "name": "stderr",
     "output_type": "stream",
     "text": [
      "100%|██████████| 20/20 [00:04<00:00,  4.07batch/s, train_loss=5.05]\n"
     ]
    },
    {
     "name": "stdout",
     "output_type": "stream",
     "text": [
      "epoch=31, loss=286.6751956939697\n"
     ]
    },
    {
     "name": "stderr",
     "output_type": "stream",
     "text": [
      "100%|██████████| 20/20 [00:04<00:00,  4.06batch/s, train_loss=6.87]\n"
     ]
    },
    {
     "name": "stdout",
     "output_type": "stream",
     "text": [
      "epoch=32, loss=251.59091997146606\n"
     ]
    },
    {
     "name": "stderr",
     "output_type": "stream",
     "text": [
      "100%|██████████| 20/20 [00:04<00:00,  4.23batch/s, train_loss=4.93]\n"
     ]
    },
    {
     "name": "stdout",
     "output_type": "stream",
     "text": [
      "epoch=33, loss=222.53683996200562\n"
     ]
    },
    {
     "name": "stderr",
     "output_type": "stream",
     "text": [
      "100%|██████████| 20/20 [00:04<00:00,  4.33batch/s, train_loss=4.99]\n"
     ]
    },
    {
     "name": "stdout",
     "output_type": "stream",
     "text": [
      "epoch=34, loss=188.89002132415771\n"
     ]
    },
    {
     "name": "stderr",
     "output_type": "stream",
     "text": [
      "100%|██████████| 20/20 [00:04<00:00,  4.12batch/s, train_loss=2.77]\n"
     ]
    },
    {
     "name": "stdout",
     "output_type": "stream",
     "text": [
      "epoch=35, loss=170.69898200035095\n"
     ]
    },
    {
     "name": "stderr",
     "output_type": "stream",
     "text": [
      "100%|██████████| 20/20 [00:05<00:00,  3.86batch/s, train_loss=3.17]\n"
     ]
    },
    {
     "name": "stdout",
     "output_type": "stream",
     "text": [
      "epoch=36, loss=153.69587182998657\n"
     ]
    },
    {
     "name": "stderr",
     "output_type": "stream",
     "text": [
      "100%|██████████| 20/20 [00:06<00:00,  3.07batch/s, train_loss=3.55]\n"
     ]
    },
    {
     "name": "stdout",
     "output_type": "stream",
     "text": [
      "epoch=37, loss=131.216326713562\n"
     ]
    },
    {
     "name": "stderr",
     "output_type": "stream",
     "text": [
      "100%|██████████| 20/20 [00:06<00:00,  3.17batch/s, train_loss=0.836]\n"
     ]
    },
    {
     "name": "stdout",
     "output_type": "stream",
     "text": [
      "epoch=38, loss=111.46481645107269\n"
     ]
    },
    {
     "name": "stderr",
     "output_type": "stream",
     "text": [
      "100%|██████████| 20/20 [00:05<00:00,  3.43batch/s, train_loss=2.07]\n"
     ]
    },
    {
     "name": "stdout",
     "output_type": "stream",
     "text": [
      "epoch=39, loss=95.55854105949402\n"
     ]
    },
    {
     "name": "stderr",
     "output_type": "stream",
     "text": [
      "100%|██████████| 20/20 [00:05<00:00,  3.48batch/s, train_loss=2.48]\n"
     ]
    },
    {
     "name": "stdout",
     "output_type": "stream",
     "text": [
      "epoch=40, loss=86.10104095935822\n"
     ]
    },
    {
     "name": "stderr",
     "output_type": "stream",
     "text": [
      "100%|██████████| 20/20 [00:06<00:00,  2.92batch/s, train_loss=2.3] \n"
     ]
    },
    {
     "name": "stdout",
     "output_type": "stream",
     "text": [
      "epoch=41, loss=76.95150005817413\n"
     ]
    },
    {
     "name": "stderr",
     "output_type": "stream",
     "text": [
      "100%|██████████| 20/20 [00:06<00:00,  3.02batch/s, train_loss=0.888]\n"
     ]
    },
    {
     "name": "stdout",
     "output_type": "stream",
     "text": [
      "epoch=42, loss=69.64629167318344\n"
     ]
    },
    {
     "name": "stderr",
     "output_type": "stream",
     "text": [
      "100%|██████████| 20/20 [00:06<00:00,  3.23batch/s, train_loss=0.211]\n"
     ]
    },
    {
     "name": "stdout",
     "output_type": "stream",
     "text": [
      "epoch=43, loss=63.29944261908531\n"
     ]
    },
    {
     "name": "stderr",
     "output_type": "stream",
     "text": [
      "100%|██████████| 20/20 [00:05<00:00,  3.38batch/s, train_loss=1.76]\n"
     ]
    },
    {
     "name": "stdout",
     "output_type": "stream",
     "text": [
      "epoch=44, loss=55.894206047058105\n"
     ]
    },
    {
     "name": "stderr",
     "output_type": "stream",
     "text": [
      "100%|██████████| 20/20 [00:07<00:00,  2.68batch/s, train_loss=0.91]\n"
     ]
    },
    {
     "name": "stdout",
     "output_type": "stream",
     "text": [
      "epoch=45, loss=49.0551992058754\n"
     ]
    },
    {
     "name": "stderr",
     "output_type": "stream",
     "text": [
      "100%|██████████| 20/20 [00:04<00:00,  4.13batch/s, train_loss=1.72]\n"
     ]
    },
    {
     "name": "stdout",
     "output_type": "stream",
     "text": [
      "epoch=46, loss=47.11795163154602\n"
     ]
    },
    {
     "name": "stderr",
     "output_type": "stream",
     "text": [
      "100%|██████████| 20/20 [00:05<00:00,  3.51batch/s, train_loss=0.933]\n"
     ]
    },
    {
     "name": "stdout",
     "output_type": "stream",
     "text": [
      "epoch=47, loss=42.8161296248436\n"
     ]
    },
    {
     "name": "stderr",
     "output_type": "stream",
     "text": [
      "100%|██████████| 20/20 [00:08<00:00,  2.39batch/s, train_loss=2.63] \n"
     ]
    },
    {
     "name": "stdout",
     "output_type": "stream",
     "text": [
      "epoch=48, loss=41.67980766296387\n"
     ]
    },
    {
     "name": "stderr",
     "output_type": "stream",
     "text": [
      "100%|██████████| 20/20 [00:09<00:00,  2.07batch/s, train_loss=1.35]\n"
     ]
    },
    {
     "name": "stdout",
     "output_type": "stream",
     "text": [
      "epoch=49, loss=39.28057825565338\n"
     ]
    },
    {
     "name": "stderr",
     "output_type": "stream",
     "text": [
      "100%|██████████| 20/20 [00:08<00:00,  2.49batch/s, train_loss=0.251]\n"
     ]
    },
    {
     "name": "stdout",
     "output_type": "stream",
     "text": [
      "epoch=50, loss=38.80903369188309\n"
     ]
    },
    {
     "name": "stderr",
     "output_type": "stream",
     "text": [
      "100%|██████████| 20/20 [00:07<00:00,  2.58batch/s, train_loss=1.28]\n"
     ]
    },
    {
     "name": "stdout",
     "output_type": "stream",
     "text": [
      "epoch=51, loss=38.596091985702515\n"
     ]
    },
    {
     "name": "stderr",
     "output_type": "stream",
     "text": [
      "100%|██████████| 20/20 [00:09<00:00,  2.14batch/s, train_loss=0.0764]\n"
     ]
    },
    {
     "name": "stdout",
     "output_type": "stream",
     "text": [
      "epoch=52, loss=37.592065185308456\n"
     ]
    },
    {
     "name": "stderr",
     "output_type": "stream",
     "text": [
      "100%|██████████| 20/20 [00:06<00:00,  2.95batch/s, train_loss=0.934]\n"
     ]
    },
    {
     "name": "stdout",
     "output_type": "stream",
     "text": [
      "epoch=53, loss=35.68633854389191\n"
     ]
    },
    {
     "name": "stderr",
     "output_type": "stream",
     "text": [
      "100%|██████████| 20/20 [00:16<00:00,  1.21batch/s, train_loss=1.82] \n"
     ]
    },
    {
     "name": "stdout",
     "output_type": "stream",
     "text": [
      "epoch=54, loss=32.505389869213104\n"
     ]
    },
    {
     "name": "stderr",
     "output_type": "stream",
     "text": [
      "100%|██████████| 20/20 [00:06<00:00,  3.21batch/s, train_loss=0.902]\n"
     ]
    },
    {
     "name": "stdout",
     "output_type": "stream",
     "text": [
      "epoch=55, loss=31.148735016584396\n"
     ]
    },
    {
     "name": "stderr",
     "output_type": "stream",
     "text": [
      "100%|██████████| 20/20 [00:08<00:00,  2.43batch/s, train_loss=1.9]  \n"
     ]
    },
    {
     "name": "stdout",
     "output_type": "stream",
     "text": [
      "epoch=56, loss=30.89183133840561\n"
     ]
    },
    {
     "name": "stderr",
     "output_type": "stream",
     "text": [
      "100%|██████████| 20/20 [00:07<00:00,  2.72batch/s, train_loss=0.894]\n"
     ]
    },
    {
     "name": "stdout",
     "output_type": "stream",
     "text": [
      "epoch=57, loss=30.137768283486366\n"
     ]
    },
    {
     "name": "stderr",
     "output_type": "stream",
     "text": [
      "100%|██████████| 20/20 [00:05<00:00,  3.39batch/s, train_loss=0.364]\n"
     ]
    },
    {
     "name": "stdout",
     "output_type": "stream",
     "text": [
      "epoch=58, loss=31.219266831874847\n"
     ]
    },
    {
     "name": "stderr",
     "output_type": "stream",
     "text": [
      "100%|██████████| 20/20 [00:05<00:00,  3.50batch/s, train_loss=0.681]\n"
     ]
    },
    {
     "name": "stdout",
     "output_type": "stream",
     "text": [
      "epoch=59, loss=30.15770474076271\n"
     ]
    },
    {
     "name": "stderr",
     "output_type": "stream",
     "text": [
      "100%|██████████| 20/20 [00:05<00:00,  3.49batch/s, train_loss=1.1]  \n"
     ]
    },
    {
     "name": "stdout",
     "output_type": "stream",
     "text": [
      "epoch=60, loss=29.829518616199493\n"
     ]
    },
    {
     "name": "stderr",
     "output_type": "stream",
     "text": [
      "100%|██████████| 20/20 [00:05<00:00,  3.78batch/s, train_loss=1.41] \n"
     ]
    },
    {
     "name": "stdout",
     "output_type": "stream",
     "text": [
      "epoch=61, loss=28.723085328936577\n"
     ]
    },
    {
     "name": "stderr",
     "output_type": "stream",
     "text": [
      "100%|██████████| 20/20 [00:05<00:00,  3.77batch/s, train_loss=1.62] \n"
     ]
    },
    {
     "name": "stdout",
     "output_type": "stream",
     "text": [
      "epoch=62, loss=28.085618257522583\n"
     ]
    },
    {
     "name": "stderr",
     "output_type": "stream",
     "text": [
      "100%|██████████| 20/20 [00:06<00:00,  3.01batch/s, train_loss=1.12] \n"
     ]
    },
    {
     "name": "stdout",
     "output_type": "stream",
     "text": [
      "epoch=63, loss=28.171880960464478\n"
     ]
    },
    {
     "name": "stderr",
     "output_type": "stream",
     "text": [
      "100%|██████████| 20/20 [00:05<00:00,  3.43batch/s, train_loss=1.13] \n"
     ]
    },
    {
     "name": "stdout",
     "output_type": "stream",
     "text": [
      "epoch=64, loss=28.91188794374466\n"
     ]
    },
    {
     "name": "stderr",
     "output_type": "stream",
     "text": [
      "100%|██████████| 20/20 [00:05<00:00,  3.42batch/s, train_loss=2.68] \n"
     ]
    },
    {
     "name": "stdout",
     "output_type": "stream",
     "text": [
      "epoch=65, loss=29.29285377264023\n"
     ]
    },
    {
     "name": "stderr",
     "output_type": "stream",
     "text": [
      "100%|██████████| 20/20 [00:05<00:00,  3.63batch/s, train_loss=1.09] \n"
     ]
    },
    {
     "name": "stdout",
     "output_type": "stream",
     "text": [
      "epoch=66, loss=27.754844456911087\n"
     ]
    },
    {
     "name": "stderr",
     "output_type": "stream",
     "text": [
      "100%|██████████| 20/20 [00:05<00:00,  3.52batch/s, train_loss=0.134]\n"
     ]
    },
    {
     "name": "stdout",
     "output_type": "stream",
     "text": [
      "epoch=67, loss=28.991742834448814\n"
     ]
    },
    {
     "name": "stderr",
     "output_type": "stream",
     "text": [
      "100%|██████████| 20/20 [00:05<00:00,  3.67batch/s, train_loss=0.5]  \n"
     ]
    },
    {
     "name": "stdout",
     "output_type": "stream",
     "text": [
      "epoch=68, loss=28.075973510742188\n"
     ]
    },
    {
     "name": "stderr",
     "output_type": "stream",
     "text": [
      "100%|██████████| 20/20 [00:06<00:00,  3.15batch/s, train_loss=1.39] \n"
     ]
    },
    {
     "name": "stdout",
     "output_type": "stream",
     "text": [
      "epoch=69, loss=28.544894456863403\n"
     ]
    },
    {
     "name": "stderr",
     "output_type": "stream",
     "text": [
      "100%|██████████| 20/20 [00:07<00:00,  2.65batch/s, train_loss=0.15] \n"
     ]
    },
    {
     "name": "stdout",
     "output_type": "stream",
     "text": [
      "epoch=70, loss=27.474320143461227\n"
     ]
    },
    {
     "name": "stderr",
     "output_type": "stream",
     "text": [
      "100%|██████████| 20/20 [00:05<00:00,  3.47batch/s, train_loss=1.38] \n"
     ]
    },
    {
     "name": "stdout",
     "output_type": "stream",
     "text": [
      "epoch=71, loss=29.742684543132782\n"
     ]
    },
    {
     "name": "stderr",
     "output_type": "stream",
     "text": [
      "100%|██████████| 20/20 [00:08<00:00,  2.35batch/s, train_loss=0.633]\n"
     ]
    },
    {
     "name": "stdout",
     "output_type": "stream",
     "text": [
      "epoch=72, loss=29.174857556819916\n"
     ]
    },
    {
     "name": "stderr",
     "output_type": "stream",
     "text": [
      "100%|██████████| 20/20 [00:05<00:00,  3.48batch/s, train_loss=0.32] \n"
     ]
    },
    {
     "name": "stdout",
     "output_type": "stream",
     "text": [
      "epoch=73, loss=28.392832219600677\n"
     ]
    },
    {
     "name": "stderr",
     "output_type": "stream",
     "text": [
      "100%|██████████| 20/20 [00:05<00:00,  3.52batch/s, train_loss=0.875]\n"
     ]
    },
    {
     "name": "stdout",
     "output_type": "stream",
     "text": [
      "epoch=74, loss=28.226619362831116\n"
     ]
    },
    {
     "name": "stderr",
     "output_type": "stream",
     "text": [
      "100%|██████████| 20/20 [00:06<00:00,  3.25batch/s, train_loss=1.47] "
     ]
    },
    {
     "name": "stdout",
     "output_type": "stream",
     "text": [
      "epoch=75, loss=28.841558575630188\n"
     ]
    },
    {
     "name": "stderr",
     "output_type": "stream",
     "text": [
      "\n"
     ]
    }
   ],
   "source": [
    "\"\"\"\n",
    "This block of code calculates the outliers alongside the arousal axis\n",
    "\"\"\"\n",
    "columns = [\"workerID\", \"SongId\", \"Arousal\"]\n",
    "original_df = read_csv(DF_PATH, skipinitialspace=True, usecols=columns)\n",
    "original_df.columns = [\"user_id\", \"item_id\", \"rating\"]\n",
    "\n",
    "data_converter = DataConverter(\n",
    "    original_df=original_df, n_random_users=10, n_ratings_per_random_user=200\n",
    ")\n",
    "data_processor = DataProcessor(original_df=data_converter.original_df)\n",
    "\n",
    "arousal_model = MF(\n",
    "    n_users=data_converter.n_users,\n",
    "    n_items=data_converter.n_item,\n",
    ")\n",
    "\n",
    "criterion = MiningOutliersLoss(data_converter=data_converter, data_processor=data_processor)\n",
    "optimizer = SGD(arousal_model.parameters(), lr=5, weight_decay=1e-5)\n",
    "runner = Runner(\n",
    "    model=arousal_model,\n",
    "    criterion=criterion,\n",
    "    optimizer=optimizer,\n",
    ")\n",
    "\n",
    "train_set = create_dataset(data_converter=data_converter)\n",
    "train_load = DataLoader(train_set, batch_size=1000, shuffle=True)\n",
    "epochs = 75\n",
    "for epoch in range(epochs):\n",
    "    epoch_loss = runner.train(train_loader=train_load)\n",
    "    print(f\"epoch={epoch + 1}, loss={epoch_loss}\")"
   ],
   "metadata": {
    "collapsed": false,
    "pycharm": {
     "name": "#%%\n"
    }
   }
  },
  {
   "cell_type": "code",
   "execution_count": 4,
   "outputs": [
    {
     "name": "stdout",
     "output_type": "stream",
     "text": [
      "user: 65794ea9f5122952403585a237bc5e52, dist: -19.7700252532959, #items: 3\n",
      "user: 2a6b63b7690efa2390c8d9fee11b1407, dist: -18.77086639404297, #items: 3\n",
      "user: 67785f343e6d117fac4d1697697cd8ae, dist: -15.813858985900879, #items: 3\n",
      "user: 027cefa6afc040448d29558b3175cdc1, dist: -15.030962944030762, #items: 9\n",
      "user: 807f0025a626896f04566aa37cfbce0d, dist: -13.291830062866211, #items: 3\n",
      "user: 615d836ba25132081e0ebd2182221a59, dist: -10.740623474121094, #items: 6\n",
      "user: random_guy_196, dist: -10.66246223449707, #items: 200\n",
      "user: 651938620e6e6c78bfa7854784fe62c2, dist: -10.29094123840332, #items: 3\n",
      "user: random_guy_188, dist: -10.237841606140137, #items: 200\n",
      "user: ad3b997c4f2382a66e49f035cacfa682, dist: -10.133965492248535, #items: 3\n",
      "user: d88c800327bffffea5562e23c276ede3, dist: -10.064393043518066, #items: 2\n",
      "user: 27f51a4a7fe8565d26cadb88584441e5, dist: -9.697509765625, #items: 2\n",
      "user: 623681f76a3eab5d9c86fbc0e1ca264b, dist: -9.54362964630127, #items: 12\n",
      "user: a0f5cedc3a2371ec13663226c4b44771, dist: -9.114023208618164, #items: 4\n",
      "user: random_guy_192, dist: -8.192625999450684, #items: 200\n",
      "user: random_guy_189, dist: -8.047343254089355, #items: 200\n",
      "user: d0c51e42ea093dc9a9a98ef888637c8e, dist: -6.703434944152832, #items: 2\n",
      "user: random_guy_187, dist: -6.381243705749512, #items: 200\n",
      "user: b8ef6a913a63225faafd661ee2e1a7c0, dist: -6.044244289398193, #items: 10\n",
      "user: 5fa91ab06a079c59a1d9e8174a488f91, dist: -6.00895881652832, #items: 3\n",
      "user: ff18a27328ffd40ef52b7ebb7a0ded94, dist: -5.774617671966553, #items: 20\n",
      "user: e105c200f413d7b2c5850c0df4b9687e, dist: -5.558442115783691, #items: 2\n",
      "user: ba85e679d3c3ac42412cb8deaba66a5a, dist: -5.242362022399902, #items: 3\n",
      "user: 6d59196a3f495939a1a776cbebe212ba, dist: -4.178575038909912, #items: 3\n",
      "user: 3111e02887b600ee085c72c0a3df33e8, dist: -4.1551032066345215, #items: 1\n",
      "user: a34913ea1010b5812a14d1fef9586a4f, dist: -4.1148881912231445, #items: 3\n",
      "user: a186cdd58a92051b7c73adc9bd6e65ca, dist: -4.064018726348877, #items: 7\n",
      "user: 1065a2110392d3e83d61b4282f55353c, dist: -3.7651166915893555, #items: 7\n",
      "user: 80db3788bc598d1b32979bea958d9358, dist: -3.609678268432617, #items: 6\n",
      "user: random_guy_194, dist: -3.592844247817993, #items: 200\n",
      "user: 52b597296a8dca0c5cc5a19231eeff89, dist: -3.3295481204986572, #items: 2\n",
      "user: da37d1548ffd0631809f7be341e4fe4d, dist: -3.322042226791382, #items: 3\n",
      "user: fa3305c1bc04047d36a8b7a4c77fa81b, dist: -3.294985771179199, #items: 4\n",
      "user: 56a384c7fb2545f9de3e85fa7445d92b, dist: -2.9036340713500977, #items: 2\n",
      "user: fd5b08ce362d855ca9152a894348130c, dist: -2.643066644668579, #items: 222\n",
      "user: random_guy_190, dist: -1.24859619140625, #items: 200\n",
      "user: f8ecfe868f673b16e2f6e5614cb46b7d, dist: -0.8107049465179443, #items: 3\n",
      "user: 4dedf223de3f8ebde100df78a5428251, dist: -0.28462231159210205, #items: 3\n",
      "user: ccfcf36a939a8af15a987fa562a49207, dist: -0.1056365966796875, #items: 7\n",
      "user: b4ba75169c585b959f1247fac7e4be7a, dist: 0.0782766342163086, #items: 3\n",
      "user: 504b651e27c89d1d46d101dd87823ab6, dist: 0.35778236389160156, #items: 9\n",
      "user: random_guy_195, dist: 0.5258369445800781, #items: 200\n",
      "user: e336e40ae9ac101cec57e8e4323ffb79, dist: 1.2627923488616943, #items: 6\n",
      "user: random_guy_191, dist: 1.894751787185669, #items: 200\n",
      "user: 7cecbffe1da5ae974952db6c13695afe, dist: 2.070767641067505, #items: 428\n",
      "user: random_guy_193, dist: 2.533921957015991, #items: 200\n",
      "user: 490951556961e4b88fe1a3ac53b3b186, dist: 2.604247570037842, #items: 313\n",
      "user: 34fb7d43f3a35d4afac7563b7453e31c, dist: 2.658954620361328, #items: 5\n",
      "user: d8188e46705e2e87f6a051e0cb338dea, dist: 3.0169386863708496, #items: 2\n",
      "user: 49be5653eaba26f1eb60fd9d63f23502, dist: 3.3048553466796875, #items: 3\n",
      "user: 186575d01f40537515988f1369d395eb, dist: 3.321061134338379, #items: 12\n",
      "user: 9d32be9708a9520ec07e91aec9653291, dist: 4.693548679351807, #items: 3\n",
      "user: 9edfd17e8b78d0981868f84c5f20a118, dist: 5.28427791595459, #items: 3\n",
      "user: 861d48b913f37227fcf9a7b1e547c0bb, dist: 5.339234828948975, #items: 8\n",
      "user: a2a845665afabbc319eb7c5305b0a7ec, dist: 5.469150066375732, #items: 6\n",
      "user: b37092cf23b42f8b8497d8ba89be157a, dist: 5.658852577209473, #items: 2\n",
      "user: ca76c553e32c2f096c3bc8f7280ba408, dist: 5.814189910888672, #items: 3\n",
      "user: 8eb1abd1acca601d1e23e85c69b1742a, dist: 6.761770725250244, #items: 34\n",
      "user: 987a16808cac2496853b6f531c0878cb, dist: 7.26873254776001, #items: 3\n",
      "user: 26bf37eb1750d163fe01ef21b0033a77, dist: 7.3074421882629395, #items: 6\n",
      "user: 485d8e33a731a830ef0aebd71b016d08, dist: 7.478961944580078, #items: 6\n",
      "user: 77055e16055dc7bc817f7c4bb2eb8fae, dist: 7.486821174621582, #items: 6\n",
      "user: 19fee46f2810f34a8b69a7768d897a59, dist: 7.623058319091797, #items: 1\n",
      "user: c3c21239b85dcdd6679fc212afd02a49, dist: 7.837332248687744, #items: 9\n",
      "user: 6db6afec230a8c59397b5f4d97f5da28, dist: 7.852235794067383, #items: 12\n",
      "user: 4eb43aa7f89260bb40b3970a45a82678, dist: 8.116259574890137, #items: 333\n",
      "user: 1bd2dc9e0406a2e240b288685c87fa76, dist: 8.168967247009277, #items: 3\n",
      "user: 594f3fb0d194f109697627b5241f4011, dist: 8.254692077636719, #items: 3\n",
      "user: 54cc66fe7cbb01775a6b7c7d703cdeff, dist: 8.595817565917969, #items: 3\n",
      "user: 514278711fcdb6dfb235c03a3aa38ee3, dist: 8.986601829528809, #items: 269\n",
      "user: a30d244141cb2f51e0803e79bc4bd147, dist: 9.21359634399414, #items: 985\n",
      "user: 2fb527b567d10a3ea0dac783c7c2f364, dist: 9.269697189331055, #items: 6\n",
      "user: 5b044cf509da1d8444b6f60c465240ef, dist: 9.352416038513184, #items: 3\n",
      "user: 7685fa48defdc384f720bd1edbf17ed6, dist: 9.378568649291992, #items: 55\n",
      "user: 0bda2743e12d8a204ab04122658d73a3, dist: 9.677295684814453, #items: 18\n",
      "user: 51f5fb156a5c0051682ee1835e30fbbd, dist: 10.18095588684082, #items: 5\n",
      "user: 610d5d89f56667e3d4537c529aae496e, dist: 10.644049644470215, #items: 6\n",
      "user: d3b1de8ed2ffc3eb9af2ef40a80c7d7d, dist: 10.779539108276367, #items: 3\n",
      "user: bb50b45a1874ede476874bd57e4cabb4, dist: 10.784209251403809, #items: 178\n",
      "user: 6cb1856680ea078c9f46437e2bdcd09e, dist: 11.049440383911133, #items: 6\n",
      "user: 15ec33e862185406170ff931583b014f, dist: 11.172795295715332, #items: 4\n",
      "user: b13fb0da6dd2f5d7fe398e6e53b52110, dist: 11.229053497314453, #items: 7\n",
      "user: 8dcd4de7be6479561269b90c1dc8a3b4, dist: 11.302750587463379, #items: 454\n",
      "user: 3c63524f15931dc8bed7a768cb7d6150, dist: 11.444257736206055, #items: 14\n",
      "user: 6222da90667e5b0de990ce6c26dcfa15, dist: 11.73831558227539, #items: 12\n",
      "user: 1ac10b86ba5ac18e06eea9f9954ab216, dist: 11.922493934631348, #items: 217\n",
      "user: dbb8ffe292aaa9bc2de69ca511af2b3a, dist: 11.957704544067383, #items: 3\n",
      "user: f0e2dfdbc324f309660b731ad16ce2fd, dist: 11.961585998535156, #items: 17\n",
      "user: 38531641e6c0628757776b0088bcc854, dist: 11.96762752532959, #items: 7\n",
      "user: 3deba1aaf448d3857c6c70f63c2a6430, dist: 13.074300765991211, #items: 11\n",
      "user: d5b7242bc8a4bb534b8489c24b81fc34, dist: 13.641424179077148, #items: 3\n",
      "user: 40b86bbb6927a793c05968b8b95e214d, dist: 13.723428726196289, #items: 13\n",
      "user: fc2fa5656d42b49f3caf01f663085069, dist: 13.980539321899414, #items: 6\n",
      "user: 2afd218c3aecb6828d2be327f8b9c46f, dist: 13.998000144958496, #items: 760\n",
      "user: 6ca7c27715f54e2f47ebe4e1c9dcf842, dist: 14.018651962280273, #items: 72\n",
      "user: 04db9e73677c3b8882908ef7ee4a3424, dist: 14.980409622192383, #items: 3\n",
      "user: 212246528da7c13457844fc4453e6019, dist: 15.069129943847656, #items: 22\n",
      "user: 94d7a0f7c8f2e1c714b0649f835c538c, dist: 15.40002155303955, #items: 150\n",
      "user: 55016bfc877fc509861b4aba22ee4f7a, dist: 15.433850288391113, #items: 9\n",
      "user: 0c37993dcf5f99f7b00d02495ed01bc3, dist: 15.654293060302734, #items: 339\n",
      "user: d84d58533b58797bccca5811b4135c95, dist: 15.68593692779541, #items: 31\n",
      "user: 00de940f0b5cfc82cca4791199e3bfb3, dist: 15.797204971313477, #items: 751\n",
      "user: 259443e9cad56b4f68b664daa20cb323, dist: 16.063026428222656, #items: 305\n",
      "user: 7a23690289260d2b8c1d71d8c22b69f0, dist: 16.29633331298828, #items: 18\n",
      "user: bf34e3c5724ce07d29ef12db5f767258, dist: 16.698087692260742, #items: 249\n",
      "user: d0520656367db74cb316b9a26f60864e, dist: 16.83447265625, #items: 12\n",
      "user: 659accfd85162122ca361ac34e730c4d, dist: 17.20133399963379, #items: 3\n",
      "user: 1ee4bd59c9ea084016ff2811dbb00568, dist: 17.227588653564453, #items: 53\n",
      "user: 00fa8d61b5f75e16ea71bff7a3def9c9, dist: 17.27544403076172, #items: 30\n",
      "user: 2461c19378deafd4ec26d3993eeef635, dist: 17.43666648864746, #items: 15\n",
      "user: 6b492acb1838463dc7c07a76b26313c4, dist: 17.58597183227539, #items: 247\n",
      "user: 74f10ac255db9e37db6c6cbf604eb7e0, dist: 17.611400604248047, #items: 18\n",
      "user: b92704ea431d60d62bd8fd18e2940067, dist: 17.673967361450195, #items: 6\n",
      "user: 3ca50399775f0540bd002cb0d6f54a3d, dist: 17.693328857421875, #items: 6\n",
      "user: 807dfc125f09be392a1f1b58c05b3742, dist: 18.112594604492188, #items: 11\n",
      "user: dd80f1940fe5b84eddde6e83542bd89b, dist: 18.173851013183594, #items: 12\n",
      "user: 46a2289decf79f747406fa91cd92fc27, dist: 18.21971893310547, #items: 333\n",
      "user: 4dfca2f4dc4e8e6c3b1b7d32e10579c1, dist: 18.327939987182617, #items: 17\n",
      "user: a00de41fdf121f6dfe5db851a575d2d1, dist: 18.467178344726562, #items: 146\n",
      "user: 28b56a449c99c88e1f9fff59d0f16aac, dist: 18.484209060668945, #items: 84\n",
      "user: 51452faff8948ad4780f9b6261e813a7, dist: 19.22156524658203, #items: 15\n",
      "user: 3226bc99212ad30ce2ced981de1c437a, dist: 19.27543830871582, #items: 34\n",
      "user: 4c2037269ef8fd0a3349e6b54dd1bb1f, dist: 19.297012329101562, #items: 9\n",
      "user: f71b423642d3d61dffba53ddee48a7e0, dist: 19.626571655273438, #items: 15\n",
      "user: f7502ffb3616a789e3e5b38f7325b95f, dist: 19.747058868408203, #items: 12\n",
      "user: 78b5e9744073532cc376976b5fc6b2fc, dist: 19.96320343017578, #items: 718\n",
      "user: 35536d2d90b93461aa74200967d002e8, dist: 19.986886978149414, #items: 3\n",
      "user: c19c053aafbf1492b9e57ce3da5d45c1, dist: 20.179218292236328, #items: 24\n",
      "user: ff9c1993d2a21f2117c30d8e295dd4ac, dist: 20.218852996826172, #items: 661\n",
      "user: d633894e43380403a7984858af42ecea, dist: 20.463932037353516, #items: 36\n",
      "user: e9fda1f240982b20e0df5ba9c4a337e9, dist: 20.59962272644043, #items: 18\n",
      "user: a4410f548a05bf09b8541ec2672d8490, dist: 20.618785858154297, #items: 3\n",
      "user: 145b408fa103c16bb00e8734cc39a29f, dist: 20.73900604248047, #items: 18\n",
      "user: f3008c23ea8f35ef870e735df67fcc46, dist: 20.819419860839844, #items: 7\n",
      "user: 374a5659c02e12b01db6319436f17a7d, dist: 20.859851837158203, #items: 3\n",
      "user: 607f6e34a0b5923333f6b16d3a59cc98, dist: 21.165775299072266, #items: 955\n",
      "user: 5bdea9864567a8614b659bf4b2132ab0, dist: 21.37218475341797, #items: 78\n",
      "user: 571d66ea4abfb694d9bb1281d7701710, dist: 21.607858657836914, #items: 68\n",
      "user: 7975199043cec980e587889f1639c0a4, dist: 21.688167572021484, #items: 11\n",
      "user: b6927bdee51077f7868f05f1ed39485f, dist: 21.99709129333496, #items: 18\n",
      "user: 2c5952c4f931410e9010eb87c276020d, dist: 22.186813354492188, #items: 73\n",
      "user: 2f790705ae66e70e81cc0f11ce0f4b9b, dist: 22.246124267578125, #items: 2\n",
      "user: 3c888e77b992ae3cd2adfe16774e23b9, dist: 22.26618194580078, #items: 11\n",
      "user: e347f98d0a810ded7c14d7be813a5868, dist: 22.441951751708984, #items: 19\n",
      "user: d4d0cd1ae06f54909291d34ddd6ab497, dist: 22.467601776123047, #items: 78\n",
      "user: 9c3b8737a6a00626867c5e05ee80157e, dist: 22.688365936279297, #items: 3\n",
      "user: 883449004b1bf2a07a284f59ddae1fd7, dist: 22.76043701171875, #items: 190\n",
      "user: fecd63ea857606ed61cbfe2ba1a70b3b, dist: 22.780174255371094, #items: 4\n",
      "user: 5097e48e561bf0261b242f211b289825, dist: 22.820655822753906, #items: 53\n",
      "user: 2db8293d2a35a17f16ddf8e97122ec11, dist: 22.919300079345703, #items: 219\n",
      "user: d5cf45435e35cb9166f51f0a55b74a0e, dist: 23.286983489990234, #items: 75\n",
      "user: a2a15d03117e137478c5718212805270, dist: 23.361160278320312, #items: 50\n",
      "user: 84c2d6fc2e78a1d1283c386c0d4daee4, dist: 23.451461791992188, #items: 9\n",
      "user: c795c7de8f350ab35dfd1100a84bf213, dist: 23.780738830566406, #items: 68\n",
      "user: a9f376da22eb77185afae90b192bf9ac, dist: 23.807931900024414, #items: 48\n",
      "user: be4e771b30940fb2d5f5dcfe3877dd2e, dist: 23.889728546142578, #items: 6\n",
      "user: b09a5957e5d5e47e556d203529a0ae6d, dist: 23.95638084411621, #items: 708\n",
      "user: c1edc56f4d30d94a94ee41654c4f6734, dist: 23.98198127746582, #items: 31\n",
      "user: c182e8b2f013e4e3c78cbfb01b8970c8, dist: 24.1617374420166, #items: 30\n",
      "user: 2ec24376127909f3be36d770e6ae41a6, dist: 24.540197372436523, #items: 14\n",
      "user: 24ebcf86498b0f2793b55c5b9a7756b5, dist: 24.590578079223633, #items: 210\n",
      "user: 0aef6e22005035ac1b93e0a99c961f4c, dist: 24.70789337158203, #items: 6\n",
      "user: accbf566ae920d6260d28454e1ee0d6a, dist: 25.212078094482422, #items: 396\n",
      "user: 62ef0e23f21039e337b545ccc4851525, dist: 25.39698600769043, #items: 48\n",
      "user: ce209fb2fe01d6c85dbb29b6fd84b563, dist: 25.54306411743164, #items: 49\n",
      "user: de2b2c35312ac2f0a8510743742c0219, dist: 25.800588607788086, #items: 937\n",
      "user: 248172d9efbbd5eb72d48de6884054ab, dist: 25.854679107666016, #items: 24\n",
      "user: 9c8073214a052e414811b76012df8847, dist: 26.392940521240234, #items: 160\n",
      "user: 93f4b8995f647ceb58689b78eb2087ef, dist: 26.624839782714844, #items: 36\n",
      "user: de0b07c32bb6ca4655487026e0f3fc38, dist: 26.697362899780273, #items: 74\n",
      "user: 478905563bab736f35d94bd7b0a27f9a, dist: 26.793968200683594, #items: 15\n",
      "user: eca1130f44cd2e17645e40a0fa2ef59b, dist: 26.797956466674805, #items: 1005\n",
      "user: 5862049dbaad1750964d91a98930832f, dist: 27.18973731994629, #items: 33\n",
      "user: be6ec863f38f611dff4958ccd33cf638, dist: 27.385732650756836, #items: 60\n",
      "user: b36ffffcd1831441a2a3b60919312ccd, dist: 28.422574996948242, #items: 118\n",
      "user: cbc86e332e889251fe0fa71df472f202, dist: 28.545909881591797, #items: 151\n",
      "user: 6010bbc8e7ef4b21fa38f9c3a9754ef3, dist: 28.62798309326172, #items: 396\n",
      "user: 888b76dff350bdb6b25783d7c4110081, dist: 28.996318817138672, #items: 12\n",
      "user: 64cae7b86c7dcb1b40d17e43c0c2109e, dist: 29.137195587158203, #items: 365\n",
      "user: ed7ed76453bd846859f5e6b9149df276, dist: 29.497838973999023, #items: 675\n",
      "user: 722ad4c331b7d7bebd697bfbb91ee0e8, dist: 29.60429573059082, #items: 36\n",
      "user: 7a81cab11e4b2b4aa9c0718c90835611, dist: 30.538883209228516, #items: 30\n",
      "user: cd09cd99c38d4bfb7b554dff21196c22, dist: 31.37389373779297, #items: 26\n",
      "user: 4b4c4f319a356ea87affb872173a2095, dist: 31.795021057128906, #items: 34\n",
      "user: 4480a650a96730fb629aa7fa2079e7c3, dist: 31.882274627685547, #items: 37\n",
      "user: 1eb9e2c62709ff203b2d9a558abc0937, dist: 31.986291885375977, #items: 39\n",
      "user: d8e56509dc582df255732a0170323231, dist: 32.169620513916016, #items: 61\n",
      "user: 855ba3170f3e470170d23a748ccb41ed, dist: 32.39823913574219, #items: 42\n",
      "user: 3bf93d5f7b82b46e38feb881d00c5798, dist: 33.00552749633789, #items: 36\n",
      "user: 9ad2a06dfac81761a123cb40084dcbd7, dist: 33.08346939086914, #items: 23\n",
      "user: 11e5c2ba0236fe3643cac09dbdb96580, dist: 34.45888900756836, #items: 30\n",
      "user: 8ef6c1b6e31d907a3bba6f4edd303371, dist: 34.70635986328125, #items: 18\n",
      "user: 20c7d1ee0615a09b0bac9438cc8325e2, dist: 34.813087463378906, #items: 66\n",
      "user: 5bf3c29fd496e2cafa9c531c7e9c6d61, dist: 36.19011688232422, #items: 29\n",
      "user: 0ca907e233b8bf33bf4eca86fcbfcc8f, dist: 37.7979850769043, #items: 54\n",
      "user: 9d1aa48692579ca9330d3c61d10e22e6, dist: 38.331390380859375, #items: 84\n",
      "user: 4c7a94e0937450ef406135849493ab99, dist: 40.11073303222656, #items: 57\n"
     ]
    }
   ],
   "source": [
    "valence_outliers = mine_outliers(model=valence_model, data_converter=data_converter)\n",
    "arousal_outliers = mine_outliers(model=arousal_model, data_converter=data_converter)\n",
    "\n",
    "items_group_by_users = data_converter.original_df.groupby(\"user_id\")\n",
    "combined_outliers = {}\n",
    "for user_id, valence_dist in valence_outliers.items():\n",
    "    arousal_dist = arousal_outliers[user_id]\n",
    "    combined_outliers[user_id] = valence_dist + arousal_dist\n",
    "\n",
    "combined_outliers = dict(sorted(combined_outliers.items(), key=lambda item: item[1]))\n",
    "for user_id, item_id in combined_outliers.items():\n",
    "    number_of_items = len(items_group_by_users.get_group(user_id))\n",
    "    print(f\"user: {user_id}, dist: {item_id}, #items: {number_of_items}\")"
   ],
   "metadata": {
    "collapsed": false,
    "pycharm": {
     "name": "#%%\n"
    }
   }
  },
  {
   "cell_type": "code",
   "execution_count": 4,
   "outputs": [],
   "source": [],
   "metadata": {
    "collapsed": false,
    "pycharm": {
     "name": "#%%\n"
    }
   }
  }
 ],
 "metadata": {
  "kernelspec": {
   "display_name": "Python 3",
   "language": "python",
   "name": "python3"
  },
  "language_info": {
   "codemirror_mode": {
    "name": "ipython",
    "version": 2
   },
   "file_extension": ".py",
   "mimetype": "text/x-python",
   "name": "python",
   "nbconvert_exporter": "python",
   "pygments_lexer": "ipython2",
   "version": "2.7.6"
  }
 },
 "nbformat": 4,
 "nbformat_minor": 0
}