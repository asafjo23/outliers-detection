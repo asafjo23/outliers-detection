{
 "cells": [
  {
   "cell_type": "code",
   "execution_count": 3,
   "metadata": {
    "collapsed": true,
    "pycharm": {
     "name": "#%%\n"
    }
   },
   "outputs": [],
   "source": [
    "from pandas import read_csv\n",
    "from torch.optim import SGD\n",
    "from torch.nn import MSELoss\n",
    "from torch.utils.data import DataLoader\n",
    "from tensorboardX import SummaryWriter\n",
    "from torch import randperm\n",
    "from config import DATA_DIR\n",
    "from src.data_set import RatingsDataset\n",
    "from src.loss import MiningOutliersLoss\n",
    "from src.model import MF\n",
    "from src.runner import Runner\n",
    "from src.utils import create_dataset, mine_outliers, DataConverter, DataProcessor, mean_centralised\n",
    "\n",
    "\n",
    "\"\"\"\n",
    "The Deam dataset is based on Arousal-Valence 2D emotional model.\n",
    "The Valence/Arousal ratings were collected using Amazon Mechanical Turks service.\n",
    "Each turk from the collected crowd were asked to mark his own emotion for the current song on a 2D plane, Arousal/Valence.\n",
    "For more information please read: https://journals.plos.org/plosone/article?id=10.1371/journal.pone.0173392\n",
    "\"\"\"\n",
    "\n",
    "DF_PATH = f\"{DATA_DIR}\" \\\n",
    "          f\"/DEAM/annotations/annotations per each rater/\" \\\n",
    "          f\"song_level/static_annotations_songs_1_2000.csv\"\n",
    "\n",
    "def select_n_random(trainset: RatingsDataset):\n",
    "    \"\"\"\n",
    "    Selects n random data points and their corresponding labels from a dataset\n",
    "    \"\"\"\n",
    "    perm = randperm(len(trainset))\n",
    "    return trainset[perm][:100]"
   ]
  },
  {
   "cell_type": "code",
   "execution_count": 4,
   "outputs": [
    {
     "name": "stderr",
     "output_type": "stream",
     "text": [
      "_mean_centralised: 100%|██████████| 17464/17464 [00:07<00:00, 2212.91it/s]\n",
      "100%|██████████| 18/18 [00:01<00:00, 17.59batch/s, train_loss=0.00658]\n"
     ]
    },
    {
     "name": "stdout",
     "output_type": "stream",
     "text": [
      "epoch=1, loss=0.08053845308403676\n"
     ]
    },
    {
     "name": "stderr",
     "output_type": "stream",
     "text": [
      "100%|██████████| 18/18 [00:00<00:00, 35.10batch/s, train_loss=0.00632]\n"
     ]
    },
    {
     "name": "stdout",
     "output_type": "stream",
     "text": [
      "epoch=2, loss=0.06756571026829605\n"
     ]
    },
    {
     "name": "stderr",
     "output_type": "stream",
     "text": [
      "100%|██████████| 18/18 [00:00<00:00, 46.90batch/s, train_loss=0.0052] \n"
     ]
    },
    {
     "name": "stdout",
     "output_type": "stream",
     "text": [
      "epoch=3, loss=0.0590124578570631\n"
     ]
    },
    {
     "name": "stderr",
     "output_type": "stream",
     "text": [
      "100%|██████████| 18/18 [00:00<00:00, 36.72batch/s, train_loss=0.00471]\n"
     ]
    },
    {
     "name": "stdout",
     "output_type": "stream",
     "text": [
      "epoch=4, loss=0.05122729203503054\n"
     ]
    },
    {
     "name": "stderr",
     "output_type": "stream",
     "text": [
      "100%|██████████| 18/18 [00:00<00:00, 130.18batch/s, train_loss=0.00414]\n"
     ]
    },
    {
     "name": "stdout",
     "output_type": "stream",
     "text": [
      "epoch=5, loss=0.04297406689957161\n"
     ]
    },
    {
     "name": "stderr",
     "output_type": "stream",
     "text": [
      "100%|██████████| 18/18 [00:00<00:00, 128.22batch/s, train_loss=0.00329]\n"
     ]
    },
    {
     "name": "stdout",
     "output_type": "stream",
     "text": [
      "epoch=6, loss=0.03576669341691564\n"
     ]
    },
    {
     "name": "stderr",
     "output_type": "stream",
     "text": [
      "100%|██████████| 18/18 [00:00<00:00, 65.89batch/s, train_loss=0.00285]\n"
     ]
    },
    {
     "name": "stdout",
     "output_type": "stream",
     "text": [
      "epoch=7, loss=0.030837352539227758\n"
     ]
    },
    {
     "name": "stderr",
     "output_type": "stream",
     "text": [
      "100%|██████████| 18/18 [00:00<00:00, 135.47batch/s, train_loss=0.00254]\n"
     ]
    },
    {
     "name": "stdout",
     "output_type": "stream",
     "text": [
      "epoch=8, loss=0.027356661591719206\n"
     ]
    },
    {
     "name": "stderr",
     "output_type": "stream",
     "text": [
      "100%|██████████| 18/18 [00:00<00:00, 128.33batch/s, train_loss=0.00234]\n"
     ]
    },
    {
     "name": "stdout",
     "output_type": "stream",
     "text": [
      "epoch=9, loss=0.024586266924758255\n"
     ]
    },
    {
     "name": "stderr",
     "output_type": "stream",
     "text": [
      "100%|██████████| 18/18 [00:00<00:00, 134.13batch/s, train_loss=0.0023] \n"
     ]
    },
    {
     "name": "stdout",
     "output_type": "stream",
     "text": [
      "epoch=10, loss=0.022441622821002233\n"
     ]
    },
    {
     "name": "stderr",
     "output_type": "stream",
     "text": [
      "100%|██████████| 18/18 [00:00<00:00, 89.79batch/s, train_loss=0.00181]\n"
     ]
    },
    {
     "name": "stdout",
     "output_type": "stream",
     "text": [
      "epoch=11, loss=0.02025371558528515\n"
     ]
    },
    {
     "name": "stderr",
     "output_type": "stream",
     "text": [
      "100%|██████████| 18/18 [00:00<00:00, 135.05batch/s, train_loss=0.00177] \n"
     ]
    },
    {
     "name": "stdout",
     "output_type": "stream",
     "text": [
      "epoch=12, loss=0.01866542534836793\n"
     ]
    },
    {
     "name": "stderr",
     "output_type": "stream",
     "text": [
      "100%|██████████| 18/18 [00:00<00:00, 120.57batch/s, train_loss=0.00168] \n"
     ]
    },
    {
     "name": "stdout",
     "output_type": "stream",
     "text": [
      "epoch=13, loss=0.017365150405611804\n"
     ]
    },
    {
     "name": "stderr",
     "output_type": "stream",
     "text": [
      "100%|██████████| 18/18 [00:00<00:00, 92.98batch/s, train_loss=0.00186]\n"
     ]
    },
    {
     "name": "stdout",
     "output_type": "stream",
     "text": [
      "epoch=14, loss=0.01642101346542689\n"
     ]
    },
    {
     "name": "stderr",
     "output_type": "stream",
     "text": [
      "100%|██████████| 18/18 [00:00<00:00, 132.44batch/s, train_loss=0.00147] \n"
     ]
    },
    {
     "name": "stdout",
     "output_type": "stream",
     "text": [
      "epoch=15, loss=0.015228533875640979\n"
     ]
    },
    {
     "name": "stderr",
     "output_type": "stream",
     "text": [
      "100%|██████████| 18/18 [00:00<00:00, 133.71batch/s, train_loss=0.00151] \n"
     ]
    },
    {
     "name": "stdout",
     "output_type": "stream",
     "text": [
      "epoch=16, loss=0.014484790862467317\n"
     ]
    },
    {
     "name": "stderr",
     "output_type": "stream",
     "text": [
      "100%|██████████| 18/18 [00:00<00:00, 82.84batch/s, train_loss=0.00131]  \n"
     ]
    },
    {
     "name": "stdout",
     "output_type": "stream",
     "text": [
      "epoch=17, loss=0.013666090992813934\n"
     ]
    },
    {
     "name": "stderr",
     "output_type": "stream",
     "text": [
      "100%|██████████| 18/18 [00:00<00:00, 123.22batch/s, train_loss=0.00127] \n"
     ]
    },
    {
     "name": "stdout",
     "output_type": "stream",
     "text": [
      "epoch=18, loss=0.013062221970583989\n"
     ]
    },
    {
     "name": "stderr",
     "output_type": "stream",
     "text": [
      "100%|██████████| 18/18 [00:00<00:00, 130.74batch/s, train_loss=0.00145] \n"
     ]
    },
    {
     "name": "stdout",
     "output_type": "stream",
     "text": [
      "epoch=19, loss=0.012714754198002042\n"
     ]
    },
    {
     "name": "stderr",
     "output_type": "stream",
     "text": [
      "100%|██████████| 18/18 [00:00<00:00, 126.43batch/s, train_loss=0.0013]  \n"
     ]
    },
    {
     "name": "stdout",
     "output_type": "stream",
     "text": [
      "epoch=20, loss=0.012162771804022877\n"
     ]
    },
    {
     "name": "stderr",
     "output_type": "stream",
     "text": [
      "100%|██████████| 18/18 [00:00<00:00, 89.80batch/s, train_loss=0.000968]\n"
     ]
    },
    {
     "name": "stdout",
     "output_type": "stream",
     "text": [
      "epoch=21, loss=0.011552533589115212\n"
     ]
    },
    {
     "name": "stderr",
     "output_type": "stream",
     "text": [
      "100%|██████████| 18/18 [00:00<00:00, 126.18batch/s, train_loss=0.00112] \n"
     ]
    },
    {
     "name": "stdout",
     "output_type": "stream",
     "text": [
      "epoch=22, loss=0.01135573537599309\n"
     ]
    },
    {
     "name": "stderr",
     "output_type": "stream",
     "text": [
      "100%|██████████| 18/18 [00:00<00:00, 116.29batch/s, train_loss=0.00126] \n"
     ]
    },
    {
     "name": "stdout",
     "output_type": "stream",
     "text": [
      "epoch=23, loss=0.01118507367630728\n"
     ]
    },
    {
     "name": "stderr",
     "output_type": "stream",
     "text": [
      "100%|██████████| 18/18 [00:00<00:00, 89.26batch/s, train_loss=0.00133]  \n"
     ]
    },
    {
     "name": "stdout",
     "output_type": "stream",
     "text": [
      "epoch=24, loss=0.01098383079603691\n"
     ]
    },
    {
     "name": "stderr",
     "output_type": "stream",
     "text": [
      "100%|██████████| 18/18 [00:00<00:00, 125.22batch/s, train_loss=0.00126] \n"
     ]
    },
    {
     "name": "stdout",
     "output_type": "stream",
     "text": [
      "epoch=25, loss=0.010729852475629388\n"
     ]
    },
    {
     "name": "stderr",
     "output_type": "stream",
     "text": [
      "100%|██████████| 18/18 [00:00<00:00, 126.47batch/s, train_loss=0.00101] \n"
     ]
    },
    {
     "name": "stdout",
     "output_type": "stream",
     "text": [
      "epoch=26, loss=0.010340175223909991\n"
     ]
    },
    {
     "name": "stderr",
     "output_type": "stream",
     "text": [
      "100%|██████████| 18/18 [00:00<00:00, 113.79batch/s, train_loss=0.000999]\n"
     ]
    },
    {
     "name": "stdout",
     "output_type": "stream",
     "text": [
      "epoch=27, loss=0.01016490375081124\n"
     ]
    },
    {
     "name": "stderr",
     "output_type": "stream",
     "text": [
      "100%|██████████| 18/18 [00:00<00:00, 87.19batch/s, train_loss=0.000928]\n"
     ]
    },
    {
     "name": "stdout",
     "output_type": "stream",
     "text": [
      "epoch=28, loss=0.009970848901069551\n"
     ]
    },
    {
     "name": "stderr",
     "output_type": "stream",
     "text": [
      "100%|██████████| 18/18 [00:00<00:00, 127.86batch/s, train_loss=0.00103] \n"
     ]
    },
    {
     "name": "stdout",
     "output_type": "stream",
     "text": [
      "epoch=29, loss=0.009910300728646427\n"
     ]
    },
    {
     "name": "stderr",
     "output_type": "stream",
     "text": [
      "100%|██████████| 18/18 [00:00<00:00, 126.47batch/s, train_loss=0.000956]\n"
     ]
    },
    {
     "name": "stdout",
     "output_type": "stream",
     "text": [
      "epoch=30, loss=0.009746217223496214\n"
     ]
    },
    {
     "name": "stderr",
     "output_type": "stream",
     "text": [
      "100%|██████████| 18/18 [00:00<00:00, 89.32batch/s, train_loss=0.0011] \n"
     ]
    },
    {
     "name": "stdout",
     "output_type": "stream",
     "text": [
      "epoch=31, loss=0.009733267645973591\n"
     ]
    },
    {
     "name": "stderr",
     "output_type": "stream",
     "text": [
      "100%|██████████| 18/18 [00:00<00:00, 126.02batch/s, train_loss=0.000883]\n"
     ]
    },
    {
     "name": "stdout",
     "output_type": "stream",
     "text": [
      "epoch=32, loss=0.009476388634542265\n"
     ]
    },
    {
     "name": "stderr",
     "output_type": "stream",
     "text": [
      "100%|██████████| 18/18 [00:00<00:00, 101.79batch/s, train_loss=0.000956]\n"
     ]
    },
    {
     "name": "stdout",
     "output_type": "stream",
     "text": [
      "epoch=33, loss=0.00943965810601892\n"
     ]
    },
    {
     "name": "stderr",
     "output_type": "stream",
     "text": [
      "100%|██████████| 18/18 [00:00<00:00, 88.99batch/s, train_loss=0.00105] \n"
     ]
    },
    {
     "name": "stdout",
     "output_type": "stream",
     "text": [
      "epoch=34, loss=0.009426988211672227\n"
     ]
    },
    {
     "name": "stderr",
     "output_type": "stream",
     "text": [
      "100%|██████████| 18/18 [00:00<00:00, 126.92batch/s, train_loss=0.000896]\n"
     ]
    },
    {
     "name": "stdout",
     "output_type": "stream",
     "text": [
      "epoch=35, loss=0.009247743907818295\n"
     ]
    },
    {
     "name": "stderr",
     "output_type": "stream",
     "text": [
      "100%|██████████| 18/18 [00:00<00:00, 125.65batch/s, train_loss=0.000938]\n"
     ]
    },
    {
     "name": "stdout",
     "output_type": "stream",
     "text": [
      "epoch=36, loss=0.009195164889204802\n"
     ]
    },
    {
     "name": "stderr",
     "output_type": "stream",
     "text": [
      "100%|██████████| 18/18 [00:00<00:00, 126.63batch/s, train_loss=0.000965]\n"
     ]
    },
    {
     "name": "stdout",
     "output_type": "stream",
     "text": [
      "epoch=37, loss=0.009168972294253133\n"
     ]
    },
    {
     "name": "stderr",
     "output_type": "stream",
     "text": [
      "100%|██████████| 18/18 [00:00<00:00, 90.31batch/s, train_loss=0.000901]\n"
     ]
    },
    {
     "name": "stdout",
     "output_type": "stream",
     "text": [
      "epoch=38, loss=0.009059180966891104\n"
     ]
    },
    {
     "name": "stderr",
     "output_type": "stream",
     "text": [
      "100%|██████████| 18/18 [00:00<00:00, 124.31batch/s, train_loss=0.000825]\n"
     ]
    },
    {
     "name": "stdout",
     "output_type": "stream",
     "text": [
      "epoch=39, loss=0.008947177203123319\n"
     ]
    },
    {
     "name": "stderr",
     "output_type": "stream",
     "text": [
      "100%|██████████| 18/18 [00:00<00:00, 128.20batch/s, train_loss=0.000921]\n"
     ]
    },
    {
     "name": "stdout",
     "output_type": "stream",
     "text": [
      "epoch=40, loss=0.00895131824991333\n"
     ]
    },
    {
     "name": "stderr",
     "output_type": "stream",
     "text": [
      "100%|██████████| 18/18 [00:00<00:00, 70.32batch/s, train_loss=0.00107]\n"
     ]
    },
    {
     "name": "stdout",
     "output_type": "stream",
     "text": [
      "epoch=41, loss=0.009019364911941845\n"
     ]
    },
    {
     "name": "stderr",
     "output_type": "stream",
     "text": [
      "100%|██████████| 18/18 [00:00<00:00, 89.09batch/s, train_loss=0.000877]\n"
     ]
    },
    {
     "name": "stdout",
     "output_type": "stream",
     "text": [
      "epoch=42, loss=0.008820980685605037\n"
     ]
    },
    {
     "name": "stderr",
     "output_type": "stream",
     "text": [
      "100%|██████████| 18/18 [00:00<00:00, 89.92batch/s, train_loss=0.000933]\n"
     ]
    },
    {
     "name": "stdout",
     "output_type": "stream",
     "text": [
      "epoch=43, loss=0.008809247613491134\n"
     ]
    },
    {
     "name": "stderr",
     "output_type": "stream",
     "text": [
      "100%|██████████| 18/18 [00:00<00:00, 89.21batch/s, train_loss=0.000903]\n"
     ]
    },
    {
     "name": "stdout",
     "output_type": "stream",
     "text": [
      "epoch=44, loss=0.008742301880345018\n"
     ]
    },
    {
     "name": "stderr",
     "output_type": "stream",
     "text": [
      "100%|██████████| 18/18 [00:00<00:00, 62.63batch/s, train_loss=0.000854]\n"
     ]
    },
    {
     "name": "stdout",
     "output_type": "stream",
     "text": [
      "epoch=45, loss=0.008687706102855798\n"
     ]
    },
    {
     "name": "stderr",
     "output_type": "stream",
     "text": [
      "100%|██████████| 18/18 [00:00<00:00, 91.21batch/s, train_loss=0.000883]\n"
     ]
    },
    {
     "name": "stdout",
     "output_type": "stream",
     "text": [
      "epoch=46, loss=0.008659508456929926\n"
     ]
    },
    {
     "name": "stderr",
     "output_type": "stream",
     "text": [
      "100%|██████████| 18/18 [00:00<00:00, 83.39batch/s, train_loss=0.000885]\n"
     ]
    },
    {
     "name": "stdout",
     "output_type": "stream",
     "text": [
      "epoch=47, loss=0.00865069864814032\n"
     ]
    },
    {
     "name": "stderr",
     "output_type": "stream",
     "text": [
      "100%|██████████| 18/18 [00:00<00:00, 66.15batch/s, train_loss=0.000959]\n"
     ]
    },
    {
     "name": "stdout",
     "output_type": "stream",
     "text": [
      "epoch=48, loss=0.008663185936449238\n"
     ]
    },
    {
     "name": "stderr",
     "output_type": "stream",
     "text": [
      "100%|██████████| 18/18 [00:00<00:00, 93.62batch/s, train_loss=0.000829]\n"
     ]
    },
    {
     "name": "stdout",
     "output_type": "stream",
     "text": [
      "epoch=49, loss=0.008515949558480122\n"
     ]
    },
    {
     "name": "stderr",
     "output_type": "stream",
     "text": [
      "100%|██████████| 18/18 [00:00<00:00, 88.51batch/s, train_loss=0.000734]"
     ]
    },
    {
     "name": "stdout",
     "output_type": "stream",
     "text": [
      "epoch=50, loss=0.008435969171218494\n"
     ]
    },
    {
     "name": "stderr",
     "output_type": "stream",
     "text": [
      "\n"
     ]
    }
   ],
   "source": [
    "\"\"\"\n",
    "This block of code calculates the outliers alongside the valence axis\n",
    "\"\"\"\n",
    "columns = [\"workerID\", \"SongId\", \"Valence\"]\n",
    "original_df = read_csv(DF_PATH, skipinitialspace=True, usecols=columns)\n",
    "original_df.columns = [\"user_id\", \"item_id\", \"rating\"]\n",
    "original_df = mean_centralised(dataframe=original_df)\n",
    "\n",
    "data_converter = DataConverter(\n",
    "        original_df=original_df, n_random_users=10, n_ratings_per_random_user=9\n",
    ")\n",
    "\n",
    "valence_model = MF(\n",
    "    n_users=data_converter.n_users,\n",
    "    n_items=data_converter.n_item,\n",
    ")\n",
    "epochs = 50\n",
    "\n",
    "criterion = MSELoss()\n",
    "optimizer = SGD(valence_model.parameters(), lr=5, weight_decay=1e-3)\n",
    "runner = Runner(\n",
    "    model=valence_model,\n",
    "    criterion=criterion,\n",
    "    optimizer=optimizer,\n",
    "    epochs=epochs\n",
    ")\n",
    "\n",
    "train_set = create_dataset(data_converter=data_converter)\n",
    "train_load = DataLoader(train_set, batch_size=1000, shuffle=True)\n",
    "users, items, ratings = select_n_random(train_set)\n",
    "\n",
    "with SummaryWriter(\"runs/DEAM/valence\") as writer:\n",
    "    writer.add_graph(valence_model, (users, items))\n",
    "\n",
    "    for epoch in range(epochs):\n",
    "        epoch_loss = runner.train(train_loader=train_load, epoch=epoch, writer=writer)\n",
    "        print(f\"epoch={epoch + 1}, loss={epoch_loss}\")"
   ],
   "metadata": {
    "collapsed": false,
    "pycharm": {
     "name": "#%%\n"
    }
   }
  },
  {
   "cell_type": "code",
   "execution_count": 6,
   "outputs": [
    {
     "name": "stderr",
     "output_type": "stream",
     "text": [
      "_mean_centralised: 100%|██████████| 17464/17464 [00:14<00:00, 1194.54it/s]\n",
      "100%|██████████| 18/18 [00:02<00:00,  7.17batch/s, train_loss=0.00701]\n"
     ]
    },
    {
     "name": "stdout",
     "output_type": "stream",
     "text": [
      "epoch=1, loss=0.08052921229493318\n"
     ]
    },
    {
     "name": "stderr",
     "output_type": "stream",
     "text": [
      "100%|██████████| 18/18 [00:00<00:00, 36.93batch/s, train_loss=0.00578]\n"
     ]
    },
    {
     "name": "stdout",
     "output_type": "stream",
     "text": [
      "epoch=2, loss=0.0665833346662969\n"
     ]
    },
    {
     "name": "stderr",
     "output_type": "stream",
     "text": [
      "100%|██████████| 18/18 [00:00<00:00, 30.34batch/s, train_loss=0.00438]\n"
     ]
    },
    {
     "name": "stdout",
     "output_type": "stream",
     "text": [
      "epoch=3, loss=0.055215709966012286\n"
     ]
    },
    {
     "name": "stderr",
     "output_type": "stream",
     "text": [
      "100%|██████████| 18/18 [00:00<00:00, 28.97batch/s, train_loss=0.00429]\n"
     ]
    },
    {
     "name": "stdout",
     "output_type": "stream",
     "text": [
      "epoch=4, loss=0.044405589749236404\n"
     ]
    },
    {
     "name": "stderr",
     "output_type": "stream",
     "text": [
      "100%|██████████| 18/18 [00:00<00:00, 36.54batch/s, train_loss=0.00322]\n"
     ]
    },
    {
     "name": "stdout",
     "output_type": "stream",
     "text": [
      "epoch=5, loss=0.03694505412139617\n"
     ]
    },
    {
     "name": "stderr",
     "output_type": "stream",
     "text": [
      "100%|██████████| 18/18 [00:00<00:00, 35.27batch/s, train_loss=0.00319]\n"
     ]
    },
    {
     "name": "stdout",
     "output_type": "stream",
     "text": [
      "epoch=6, loss=0.03313680183198908\n"
     ]
    },
    {
     "name": "stderr",
     "output_type": "stream",
     "text": [
      "100%|██████████| 18/18 [00:00<00:00, 35.02batch/s, train_loss=0.00305]\n"
     ]
    },
    {
     "name": "stdout",
     "output_type": "stream",
     "text": [
      "epoch=7, loss=0.030072614759744723\n"
     ]
    },
    {
     "name": "stderr",
     "output_type": "stream",
     "text": [
      "100%|██████████| 18/18 [00:00<00:00, 29.32batch/s, train_loss=0.00275]\n"
     ]
    },
    {
     "name": "stdout",
     "output_type": "stream",
     "text": [
      "epoch=8, loss=0.02718027227622077\n"
     ]
    },
    {
     "name": "stderr",
     "output_type": "stream",
     "text": [
      "100%|██████████| 18/18 [00:00<00:00, 39.26batch/s, train_loss=0.00238]\n"
     ]
    },
    {
     "name": "stdout",
     "output_type": "stream",
     "text": [
      "epoch=9, loss=0.02464074395150484\n"
     ]
    },
    {
     "name": "stderr",
     "output_type": "stream",
     "text": [
      "100%|██████████| 18/18 [00:00<00:00, 39.80batch/s, train_loss=0.00214]\n"
     ]
    },
    {
     "name": "stdout",
     "output_type": "stream",
     "text": [
      "epoch=10, loss=0.022535072281042158\n"
     ]
    },
    {
     "name": "stderr",
     "output_type": "stream",
     "text": [
      "100%|██████████| 18/18 [00:00<00:00, 22.88batch/s, train_loss=0.00214]\n"
     ]
    },
    {
     "name": "stdout",
     "output_type": "stream",
     "text": [
      "epoch=11, loss=0.02092130002476248\n"
     ]
    },
    {
     "name": "stderr",
     "output_type": "stream",
     "text": [
      "100%|██████████| 18/18 [00:00<00:00, 31.16batch/s, train_loss=0.00199] \n"
     ]
    },
    {
     "name": "stdout",
     "output_type": "stream",
     "text": [
      "epoch=12, loss=0.019446505890211043\n"
     ]
    },
    {
     "name": "stderr",
     "output_type": "stream",
     "text": [
      "100%|██████████| 18/18 [00:00<00:00, 35.00batch/s, train_loss=0.00177] \n"
     ]
    },
    {
     "name": "stdout",
     "output_type": "stream",
     "text": [
      "epoch=13, loss=0.01801234378819001\n"
     ]
    },
    {
     "name": "stderr",
     "output_type": "stream",
     "text": [
      "100%|██████████| 18/18 [00:00<00:00, 33.70batch/s, train_loss=0.00172] \n"
     ]
    },
    {
     "name": "stdout",
     "output_type": "stream",
     "text": [
      "epoch=14, loss=0.01690285271793496\n"
     ]
    },
    {
     "name": "stderr",
     "output_type": "stream",
     "text": [
      "100%|██████████| 18/18 [00:00<00:00, 28.10batch/s, train_loss=0.0015]  \n"
     ]
    },
    {
     "name": "stdout",
     "output_type": "stream",
     "text": [
      "epoch=15, loss=0.015770653200493822\n"
     ]
    },
    {
     "name": "stderr",
     "output_type": "stream",
     "text": [
      "100%|██████████| 18/18 [00:00<00:00, 41.95batch/s, train_loss=0.00145] \n"
     ]
    },
    {
     "name": "stdout",
     "output_type": "stream",
     "text": [
      "epoch=16, loss=0.014912321170099375\n"
     ]
    },
    {
     "name": "stderr",
     "output_type": "stream",
     "text": [
      "100%|██████████| 18/18 [00:00<00:00, 39.95batch/s, train_loss=0.00125] \n"
     ]
    },
    {
     "name": "stdout",
     "output_type": "stream",
     "text": [
      "epoch=17, loss=0.014043218545534981\n"
     ]
    },
    {
     "name": "stderr",
     "output_type": "stream",
     "text": [
      "100%|██████████| 18/18 [00:00<00:00, 29.36batch/s, train_loss=0.00136] \n"
     ]
    },
    {
     "name": "stdout",
     "output_type": "stream",
     "text": [
      "epoch=18, loss=0.013485987454114837\n"
     ]
    },
    {
     "name": "stderr",
     "output_type": "stream",
     "text": [
      "100%|██████████| 18/18 [00:00<00:00, 35.78batch/s, train_loss=0.00113] \n"
     ]
    },
    {
     "name": "stdout",
     "output_type": "stream",
     "text": [
      "epoch=19, loss=0.012768196799049307\n"
     ]
    },
    {
     "name": "stderr",
     "output_type": "stream",
     "text": [
      "100%|██████████| 18/18 [00:00<00:00, 37.99batch/s, train_loss=0.00127] \n"
     ]
    },
    {
     "name": "stdout",
     "output_type": "stream",
     "text": [
      "epoch=20, loss=0.012360191030837998\n"
     ]
    },
    {
     "name": "stderr",
     "output_type": "stream",
     "text": [
      "100%|██████████| 18/18 [00:00<00:00, 28.70batch/s, train_loss=0.00116] \n"
     ]
    },
    {
     "name": "stdout",
     "output_type": "stream",
     "text": [
      "epoch=21, loss=0.011886979221436953\n"
     ]
    },
    {
     "name": "stderr",
     "output_type": "stream",
     "text": [
      "100%|██████████| 18/18 [00:00<00:00, 38.90batch/s, train_loss=0.00121] \n"
     ]
    },
    {
     "name": "stdout",
     "output_type": "stream",
     "text": [
      "epoch=22, loss=0.011544935643672944\n"
     ]
    },
    {
     "name": "stderr",
     "output_type": "stream",
     "text": [
      "100%|██████████| 18/18 [00:00<00:00, 40.16batch/s, train_loss=0.00107] \n"
     ]
    },
    {
     "name": "stdout",
     "output_type": "stream",
     "text": [
      "epoch=23, loss=0.011142786511660485\n"
     ]
    },
    {
     "name": "stderr",
     "output_type": "stream",
     "text": [
      "100%|██████████| 18/18 [00:00<00:00, 41.16batch/s, train_loss=0.0011]  \n"
     ]
    },
    {
     "name": "stdout",
     "output_type": "stream",
     "text": [
      "epoch=24, loss=0.01084591759133425\n"
     ]
    },
    {
     "name": "stderr",
     "output_type": "stream",
     "text": [
      "100%|██████████| 18/18 [00:00<00:00, 25.66batch/s, train_loss=0.00121] \n"
     ]
    },
    {
     "name": "stdout",
     "output_type": "stream",
     "text": [
      "epoch=25, loss=0.010707250558081945\n"
     ]
    },
    {
     "name": "stderr",
     "output_type": "stream",
     "text": [
      "100%|██████████| 18/18 [00:00<00:00, 39.23batch/s, train_loss=0.00109] \n"
     ]
    },
    {
     "name": "stdout",
     "output_type": "stream",
     "text": [
      "epoch=26, loss=0.010396727009047674\n"
     ]
    },
    {
     "name": "stderr",
     "output_type": "stream",
     "text": [
      "100%|██████████| 18/18 [00:00<00:00, 40.17batch/s, train_loss=0.00105] \n"
     ]
    },
    {
     "name": "stdout",
     "output_type": "stream",
     "text": [
      "epoch=27, loss=0.010174616547698148\n"
     ]
    },
    {
     "name": "stderr",
     "output_type": "stream",
     "text": [
      "100%|██████████| 18/18 [00:00<00:00, 28.28batch/s, train_loss=0.000767]\n"
     ]
    },
    {
     "name": "stdout",
     "output_type": "stream",
     "text": [
      "epoch=28, loss=0.009807351991372847\n"
     ]
    },
    {
     "name": "stderr",
     "output_type": "stream",
     "text": [
      "100%|██████████| 18/18 [00:00<00:00, 37.43batch/s, train_loss=0.000916]\n"
     ]
    },
    {
     "name": "stdout",
     "output_type": "stream",
     "text": [
      "epoch=29, loss=0.009753259412002906\n"
     ]
    },
    {
     "name": "stderr",
     "output_type": "stream",
     "text": [
      "100%|██████████| 18/18 [00:00<00:00, 37.84batch/s, train_loss=0.000987]\n"
     ]
    },
    {
     "name": "stdout",
     "output_type": "stream",
     "text": [
      "epoch=30, loss=0.009681299725917273\n"
     ]
    },
    {
     "name": "stderr",
     "output_type": "stream",
     "text": [
      "100%|██████████| 18/18 [00:00<00:00, 37.20batch/s, train_loss=0.000911]\n"
     ]
    },
    {
     "name": "stdout",
     "output_type": "stream",
     "text": [
      "epoch=31, loss=0.009511773929376462\n"
     ]
    },
    {
     "name": "stderr",
     "output_type": "stream",
     "text": [
      "100%|██████████| 18/18 [00:00<00:00, 24.90batch/s, train_loss=0.00119] \n"
     ]
    },
    {
     "name": "stdout",
     "output_type": "stream",
     "text": [
      "epoch=32, loss=0.009595828999788752\n"
     ]
    },
    {
     "name": "stderr",
     "output_type": "stream",
     "text": [
      "100%|██████████| 18/18 [00:00<00:00, 32.20batch/s, train_loss=0.00105] \n"
     ]
    },
    {
     "name": "stdout",
     "output_type": "stream",
     "text": [
      "epoch=33, loss=0.00941797518342841\n"
     ]
    },
    {
     "name": "stderr",
     "output_type": "stream",
     "text": [
      "100%|██████████| 18/18 [00:00<00:00, 29.85batch/s, train_loss=0.000883]\n"
     ]
    },
    {
     "name": "stdout",
     "output_type": "stream",
     "text": [
      "epoch=34, loss=0.009215831590581026\n"
     ]
    },
    {
     "name": "stderr",
     "output_type": "stream",
     "text": [
      "100%|██████████| 18/18 [00:00<00:00, 18.75batch/s, train_loss=0.000914]\n"
     ]
    },
    {
     "name": "stdout",
     "output_type": "stream",
     "text": [
      "epoch=35, loss=0.009138573634495373\n"
     ]
    },
    {
     "name": "stderr",
     "output_type": "stream",
     "text": [
      "100%|██████████| 18/18 [00:01<00:00, 14.09batch/s, train_loss=0.000801]\n"
     ]
    },
    {
     "name": "stdout",
     "output_type": "stream",
     "text": [
      "epoch=36, loss=0.009000555558863102\n"
     ]
    },
    {
     "name": "stderr",
     "output_type": "stream",
     "text": [
      "100%|██████████| 18/18 [00:11<00:00,  1.53batch/s, train_loss=0.000844]\n"
     ]
    },
    {
     "name": "stdout",
     "output_type": "stream",
     "text": [
      "epoch=37, loss=0.00895001822204366\n"
     ]
    },
    {
     "name": "stderr",
     "output_type": "stream",
     "text": [
      "100%|██████████| 18/18 [00:03<00:00,  5.11batch/s, train_loss=0.000778]\n"
     ]
    },
    {
     "name": "stdout",
     "output_type": "stream",
     "text": [
      "epoch=38, loss=0.008846968130837277\n"
     ]
    },
    {
     "name": "stderr",
     "output_type": "stream",
     "text": [
      "100%|██████████| 18/18 [00:01<00:00, 12.27batch/s, train_loss=0.00104] \n"
     ]
    },
    {
     "name": "stdout",
     "output_type": "stream",
     "text": [
      "epoch=39, loss=0.00899892393550718\n"
     ]
    },
    {
     "name": "stderr",
     "output_type": "stream",
     "text": [
      "100%|██████████| 18/18 [00:00<00:00, 21.40batch/s, train_loss=0.00103] \n"
     ]
    },
    {
     "name": "stdout",
     "output_type": "stream",
     "text": [
      "epoch=40, loss=0.008920032724684328\n"
     ]
    },
    {
     "name": "stderr",
     "output_type": "stream",
     "text": [
      "100%|██████████| 18/18 [00:01<00:00, 17.93batch/s, train_loss=0.000939]\n"
     ]
    },
    {
     "name": "stdout",
     "output_type": "stream",
     "text": [
      "epoch=41, loss=0.008783408561338158\n"
     ]
    },
    {
     "name": "stderr",
     "output_type": "stream",
     "text": [
      "100%|██████████| 18/18 [00:01<00:00, 10.63batch/s, train_loss=0.00101] \n"
     ]
    },
    {
     "name": "stdout",
     "output_type": "stream",
     "text": [
      "epoch=42, loss=0.008819652932860793\n"
     ]
    },
    {
     "name": "stderr",
     "output_type": "stream",
     "text": [
      "100%|██████████| 18/18 [00:00<00:00, 22.65batch/s, train_loss=0.000901]\n"
     ]
    },
    {
     "name": "stdout",
     "output_type": "stream",
     "text": [
      "epoch=43, loss=0.008688358242868946\n"
     ]
    },
    {
     "name": "stderr",
     "output_type": "stream",
     "text": [
      "100%|██████████| 18/18 [00:00<00:00, 28.30batch/s, train_loss=0.000905]\n"
     ]
    },
    {
     "name": "stdout",
     "output_type": "stream",
     "text": [
      "epoch=44, loss=0.008651415245627668\n"
     ]
    },
    {
     "name": "stderr",
     "output_type": "stream",
     "text": [
      "100%|██████████| 18/18 [00:00<00:00, 22.88batch/s, train_loss=0.000916]\n"
     ]
    },
    {
     "name": "stdout",
     "output_type": "stream",
     "text": [
      "epoch=45, loss=0.008624133140063888\n"
     ]
    },
    {
     "name": "stderr",
     "output_type": "stream",
     "text": [
      "100%|██████████| 18/18 [00:00<00:00, 30.02batch/s, train_loss=0.000836]\n"
     ]
    },
    {
     "name": "stdout",
     "output_type": "stream",
     "text": [
      "epoch=46, loss=0.008528756508973532\n"
     ]
    },
    {
     "name": "stderr",
     "output_type": "stream",
     "text": [
      "100%|██████████| 18/18 [00:00<00:00, 29.68batch/s, train_loss=0.000772]\n"
     ]
    },
    {
     "name": "stdout",
     "output_type": "stream",
     "text": [
      "epoch=47, loss=0.00846604097696418\n"
     ]
    },
    {
     "name": "stderr",
     "output_type": "stream",
     "text": [
      "100%|██████████| 18/18 [00:00<00:00, 30.18batch/s, train_loss=0.000874]\n"
     ]
    },
    {
     "name": "stdout",
     "output_type": "stream",
     "text": [
      "epoch=48, loss=0.008489833172585561\n"
     ]
    },
    {
     "name": "stderr",
     "output_type": "stream",
     "text": [
      "100%|██████████| 18/18 [00:00<00:00, 25.13batch/s, train_loss=0.00107] \n"
     ]
    },
    {
     "name": "stdout",
     "output_type": "stream",
     "text": [
      "epoch=49, loss=0.008631662661525747\n"
     ]
    },
    {
     "name": "stderr",
     "output_type": "stream",
     "text": [
      "100%|██████████| 18/18 [00:00<00:00, 27.84batch/s, train_loss=0.000992]"
     ]
    },
    {
     "name": "stdout",
     "output_type": "stream",
     "text": [
      "epoch=50, loss=0.008527898675375466\n"
     ]
    },
    {
     "name": "stderr",
     "output_type": "stream",
     "text": [
      "\n"
     ]
    }
   ],
   "source": [
    "\"\"\"\n",
    "This block of code calculates the outliers alongside the arousal axis\n",
    "\"\"\"\n",
    "columns = [\"workerID\", \"SongId\", \"Arousal\"]\n",
    "original_df = read_csv(DF_PATH, skipinitialspace=True, usecols=columns)\n",
    "original_df.columns = [\"user_id\", \"item_id\", \"rating\"]\n",
    "original_df = mean_centralised(dataframe=original_df)\n",
    "\n",
    "data_converter = DataConverter(\n",
    "        original_df=original_df, n_random_users=10, n_ratings_per_random_user=9\n",
    ")\n",
    "\n",
    "arousal_model = MF(\n",
    "    n_users=data_converter.n_users,\n",
    "    n_items=data_converter.n_item,\n",
    ")\n",
    "epochs = 50\n",
    "\n",
    "criterion = MSELoss()\n",
    "optimizer = SGD(arousal_model.parameters(), lr=5, weight_decay=1e-3)\n",
    "runner = Runner(\n",
    "    model=arousal_model,\n",
    "    criterion=criterion,\n",
    "    optimizer=optimizer,\n",
    "    epochs=epochs,\n",
    ")\n",
    "\n",
    "train_set = create_dataset(data_converter=data_converter)\n",
    "train_load = DataLoader(train_set, batch_size=1000, shuffle=True)\n",
    "users, items, ratings = select_n_random(train_set)\n",
    "\n",
    "epochs = 50\n",
    "with SummaryWriter(\"runs/DEAM/arousal\") as writer:\n",
    "    writer.add_graph(arousal_model, (users, items))\n",
    "\n",
    "    for epoch in range(epochs):\n",
    "        epoch_loss = runner.train(train_loader=train_load, epoch=epoch, writer=writer)\n",
    "        print(f\"epoch={epoch + 1}, loss={epoch_loss}\")"
   ],
   "metadata": {
    "collapsed": false,
    "pycharm": {
     "name": "#%%\n"
    }
   }
  },
  {
   "cell_type": "code",
   "execution_count": 7,
   "outputs": [
    {
     "name": "stdout",
     "output_type": "stream",
     "text": [
      "user: ff18a27328ffd40ef52b7ebb7a0ded94, dist: -75.23977661132812, #items: 20\n",
      "user: random_guy_194, dist: -65.95697021484375, #items: 9\n",
      "user: random_guy_195, dist: -65.27352905273438, #items: 9\n",
      "user: 19fee46f2810f34a8b69a7768d897a59, dist: -48.07280349731445, #items: 1\n",
      "user: 2f790705ae66e70e81cc0f11ce0f4b9b, dist: -40.8505859375, #items: 2\n",
      "user: random_guy_191, dist: -40.778480529785156, #items: 9\n",
      "user: fd5b08ce362d855ca9152a894348130c, dist: -36.675235748291016, #items: 222\n",
      "user: 3111e02887b600ee085c72c0a3df33e8, dist: -32.53719711303711, #items: 1\n",
      "user: random_guy_190, dist: -28.196727752685547, #items: 9\n",
      "user: random_guy_192, dist: -28.08419418334961, #items: 9\n",
      "user: random_guy_193, dist: -26.771160125732422, #items: 9\n",
      "user: e105c200f413d7b2c5850c0df4b9687e, dist: -22.180830001831055, #items: 2\n",
      "user: 7cecbffe1da5ae974952db6c13695afe, dist: -22.118755340576172, #items: 428\n",
      "user: b8ef6a913a63225faafd661ee2e1a7c0, dist: -15.897381782531738, #items: 10\n",
      "user: random_guy_188, dist: -15.346015930175781, #items: 9\n",
      "user: random_guy_189, dist: -15.046747207641602, #items: 9\n",
      "user: d8188e46705e2e87f6a051e0cb338dea, dist: -13.786886215209961, #items: 2\n",
      "user: a0f5cedc3a2371ec13663226c4b44771, dist: -9.419506072998047, #items: 4\n",
      "user: a186cdd58a92051b7c73adc9bd6e65ca, dist: -6.640743255615234, #items: 7\n",
      "user: 027cefa6afc040448d29558b3175cdc1, dist: -5.02435827255249, #items: 9\n",
      "user: c3c21239b85dcdd6679fc212afd02a49, dist: -4.046215057373047, #items: 9\n",
      "user: fc2fa5656d42b49f3caf01f663085069, dist: -2.364534378051758, #items: 6\n",
      "user: random_guy_187, dist: 1.384328842163086, #items: 9\n",
      "user: 54cc66fe7cbb01775a6b7c7d703cdeff, dist: 3.832223892211914, #items: 3\n",
      "user: 4dedf223de3f8ebde100df78a5428251, dist: 5.306291580200195, #items: 3\n",
      "user: 38531641e6c0628757776b0088bcc854, dist: 9.536691665649414, #items: 7\n",
      "user: 8eb1abd1acca601d1e23e85c69b1742a, dist: 9.58232307434082, #items: 34\n",
      "user: 1065a2110392d3e83d61b4282f55353c, dist: 9.685407638549805, #items: 7\n",
      "user: 623681f76a3eab5d9c86fbc0e1ca264b, dist: 10.713047981262207, #items: 12\n",
      "user: d0c51e42ea093dc9a9a98ef888637c8e, dist: 11.329193115234375, #items: 2\n",
      "user: a30d244141cb2f51e0803e79bc4bd147, dist: 12.488821029663086, #items: 985\n",
      "user: ad3b997c4f2382a66e49f035cacfa682, dist: 13.169445037841797, #items: 3\n",
      "user: 607f6e34a0b5923333f6b16d3a59cc98, dist: 15.062997817993164, #items: 955\n",
      "user: 04db9e73677c3b8882908ef7ee4a3424, dist: 15.776266098022461, #items: 3\n",
      "user: random_guy_196, dist: 15.948017120361328, #items: 9\n",
      "user: da37d1548ffd0631809f7be341e4fe4d, dist: 16.45900535583496, #items: 3\n",
      "user: 34fb7d43f3a35d4afac7563b7453e31c, dist: 16.93502426147461, #items: 5\n",
      "user: 80db3788bc598d1b32979bea958d9358, dist: 17.198925018310547, #items: 6\n",
      "user: ccfcf36a939a8af15a987fa562a49207, dist: 18.52469253540039, #items: 7\n",
      "user: 490951556961e4b88fe1a3ac53b3b186, dist: 18.8278865814209, #items: 313\n",
      "user: bb50b45a1874ede476874bd57e4cabb4, dist: 19.98309326171875, #items: 178\n",
      "user: 00de940f0b5cfc82cca4791199e3bfb3, dist: 21.518051147460938, #items: 751\n",
      "user: 9c3b8737a6a00626867c5e05ee80157e, dist: 22.429563522338867, #items: 3\n",
      "user: 56a384c7fb2545f9de3e85fa7445d92b, dist: 23.116687774658203, #items: 2\n",
      "user: 7685fa48defdc384f720bd1edbf17ed6, dist: 25.69509506225586, #items: 55\n",
      "user: 0c37993dcf5f99f7b00d02495ed01bc3, dist: 27.137901306152344, #items: 339\n",
      "user: 504b651e27c89d1d46d101dd87823ab6, dist: 27.833208084106445, #items: 9\n",
      "user: 46a2289decf79f747406fa91cd92fc27, dist: 28.14450454711914, #items: 333\n",
      "user: 6222da90667e5b0de990ce6c26dcfa15, dist: 29.220844268798828, #items: 12\n",
      "user: a34913ea1010b5812a14d1fef9586a4f, dist: 29.42473030090332, #items: 3\n",
      "user: 5b044cf509da1d8444b6f60c465240ef, dist: 30.34313201904297, #items: 3\n",
      "user: 9d32be9708a9520ec07e91aec9653291, dist: 30.552566528320312, #items: 3\n",
      "user: 1ac10b86ba5ac18e06eea9f9954ab216, dist: 30.733875274658203, #items: 217\n",
      "user: b4ba75169c585b959f1247fac7e4be7a, dist: 31.10173797607422, #items: 3\n",
      "user: 2a6b63b7690efa2390c8d9fee11b1407, dist: 32.2518424987793, #items: 3\n",
      "user: ca76c553e32c2f096c3bc8f7280ba408, dist: 32.58784103393555, #items: 3\n",
      "user: a4410f548a05bf09b8541ec2672d8490, dist: 32.65159606933594, #items: 3\n",
      "user: 987a16808cac2496853b6f531c0878cb, dist: 32.91411209106445, #items: 3\n",
      "user: 2fb527b567d10a3ea0dac783c7c2f364, dist: 35.88508605957031, #items: 6\n",
      "user: 615d836ba25132081e0ebd2182221a59, dist: 36.484397888183594, #items: 6\n",
      "user: 861d48b913f37227fcf9a7b1e547c0bb, dist: 36.86621856689453, #items: 8\n",
      "user: 2461c19378deafd4ec26d3993eeef635, dist: 38.35174560546875, #items: 15\n",
      "user: e336e40ae9ac101cec57e8e4323ffb79, dist: 39.0853271484375, #items: 6\n",
      "user: 594f3fb0d194f109697627b5241f4011, dist: 39.26359176635742, #items: 3\n",
      "user: 212246528da7c13457844fc4453e6019, dist: 39.349143981933594, #items: 22\n",
      "user: 78b5e9744073532cc376976b5fc6b2fc, dist: 39.58525085449219, #items: 718\n",
      "user: 259443e9cad56b4f68b664daa20cb323, dist: 39.90340805053711, #items: 305\n",
      "user: 8dcd4de7be6479561269b90c1dc8a3b4, dist: 40.22820281982422, #items: 454\n",
      "user: 807f0025a626896f04566aa37cfbce0d, dist: 40.894752502441406, #items: 3\n",
      "user: 374a5659c02e12b01db6319436f17a7d, dist: 41.31775665283203, #items: 3\n",
      "user: 35536d2d90b93461aa74200967d002e8, dist: 41.66206359863281, #items: 3\n",
      "user: 74f10ac255db9e37db6c6cbf604eb7e0, dist: 41.829345703125, #items: 18\n",
      "user: fa3305c1bc04047d36a8b7a4c77fa81b, dist: 41.88565444946289, #items: 4\n",
      "user: d5cf45435e35cb9166f51f0a55b74a0e, dist: 43.1120491027832, #items: 75\n",
      "user: d633894e43380403a7984858af42ecea, dist: 43.553489685058594, #items: 36\n",
      "user: 883449004b1bf2a07a284f59ddae1fd7, dist: 44.67662048339844, #items: 190\n",
      "user: dbb8ffe292aaa9bc2de69ca511af2b3a, dist: 44.962982177734375, #items: 3\n",
      "user: a00de41fdf121f6dfe5db851a575d2d1, dist: 45.1391716003418, #items: 146\n",
      "user: 15ec33e862185406170ff931583b014f, dist: 47.55286407470703, #items: 4\n",
      "user: d0520656367db74cb316b9a26f60864e, dist: 49.1043701171875, #items: 12\n",
      "user: 514278711fcdb6dfb235c03a3aa38ee3, dist: 49.148197174072266, #items: 269\n",
      "user: 0aef6e22005035ac1b93e0a99c961f4c, dist: 49.24068832397461, #items: 6\n",
      "user: 4eb43aa7f89260bb40b3970a45a82678, dist: 49.7408561706543, #items: 333\n",
      "user: c182e8b2f013e4e3c78cbfb01b8970c8, dist: 50.557498931884766, #items: 30\n",
      "user: de2b2c35312ac2f0a8510743742c0219, dist: 51.5759162902832, #items: 937\n",
      "user: d88c800327bffffea5562e23c276ede3, dist: 51.9620475769043, #items: 2\n",
      "user: accbf566ae920d6260d28454e1ee0d6a, dist: 53.68206024169922, #items: 396\n",
      "user: 651938620e6e6c78bfa7854784fe62c2, dist: 54.043067932128906, #items: 3\n",
      "user: f7502ffb3616a789e3e5b38f7325b95f, dist: 54.70972442626953, #items: 12\n",
      "user: ff9c1993d2a21f2117c30d8e295dd4ac, dist: 54.73601531982422, #items: 661\n",
      "user: 65794ea9f5122952403585a237bc5e52, dist: 55.215843200683594, #items: 3\n",
      "user: 51f5fb156a5c0051682ee1835e30fbbd, dist: 55.589599609375, #items: 5\n",
      "user: b09a5957e5d5e47e556d203529a0ae6d, dist: 56.112586975097656, #items: 708\n",
      "user: 2db8293d2a35a17f16ddf8e97122ec11, dist: 56.611244201660156, #items: 219\n",
      "user: 26bf37eb1750d163fe01ef21b0033a77, dist: 56.61914825439453, #items: 6\n",
      "user: d84d58533b58797bccca5811b4135c95, dist: 57.3727912902832, #items: 31\n",
      "user: bf34e3c5724ce07d29ef12db5f767258, dist: 57.47406005859375, #items: 249\n",
      "user: b92704ea431d60d62bd8fd18e2940067, dist: 57.925785064697266, #items: 6\n",
      "user: a2a845665afabbc319eb7c5305b0a7ec, dist: 58.028568267822266, #items: 6\n",
      "user: 2afd218c3aecb6828d2be327f8b9c46f, dist: 58.042694091796875, #items: 760\n",
      "user: 5fa91ab06a079c59a1d9e8174a488f91, dist: 59.06573486328125, #items: 3\n",
      "user: 51452faff8948ad4780f9b6261e813a7, dist: 59.09069061279297, #items: 15\n",
      "user: ba85e679d3c3ac42412cb8deaba66a5a, dist: 60.41677474975586, #items: 3\n",
      "user: 485d8e33a731a830ef0aebd71b016d08, dist: 61.18212890625, #items: 6\n",
      "user: 6b492acb1838463dc7c07a76b26313c4, dist: 61.56794738769531, #items: 247\n",
      "user: 6010bbc8e7ef4b21fa38f9c3a9754ef3, dist: 61.86582946777344, #items: 396\n",
      "user: 9edfd17e8b78d0981868f84c5f20a118, dist: 62.4796142578125, #items: 3\n",
      "user: 49be5653eaba26f1eb60fd9d63f23502, dist: 62.67333221435547, #items: 3\n",
      "user: b36ffffcd1831441a2a3b60919312ccd, dist: 63.193355560302734, #items: 118\n",
      "user: f8ecfe868f673b16e2f6e5614cb46b7d, dist: 63.32851791381836, #items: 3\n",
      "user: 3c63524f15931dc8bed7a768cb7d6150, dist: 63.634010314941406, #items: 14\n",
      "user: f71b423642d3d61dffba53ddee48a7e0, dist: 64.55862426757812, #items: 15\n",
      "user: 659accfd85162122ca361ac34e730c4d, dist: 65.82977294921875, #items: 3\n",
      "user: 5862049dbaad1750964d91a98930832f, dist: 65.86795806884766, #items: 33\n",
      "user: 9c8073214a052e414811b76012df8847, dist: 67.0987548828125, #items: 160\n",
      "user: 6ca7c27715f54e2f47ebe4e1c9dcf842, dist: 68.17858123779297, #items: 72\n",
      "user: 6db6afec230a8c59397b5f4d97f5da28, dist: 68.38394165039062, #items: 12\n",
      "user: c19c053aafbf1492b9e57ce3da5d45c1, dist: 68.44941711425781, #items: 24\n",
      "user: 145b408fa103c16bb00e8734cc39a29f, dist: 70.05030822753906, #items: 18\n",
      "user: d5b7242bc8a4bb534b8489c24b81fc34, dist: 70.35082244873047, #items: 3\n",
      "user: 3ca50399775f0540bd002cb0d6f54a3d, dist: 71.41053771972656, #items: 6\n",
      "user: 610d5d89f56667e3d4537c529aae496e, dist: 71.83251953125, #items: 6\n",
      "user: 5bdea9864567a8614b659bf4b2132ab0, dist: 72.46282958984375, #items: 78\n",
      "user: 2c5952c4f931410e9010eb87c276020d, dist: 72.75483703613281, #items: 73\n",
      "user: 84c2d6fc2e78a1d1283c386c0d4daee4, dist: 72.98621368408203, #items: 9\n",
      "user: b6927bdee51077f7868f05f1ed39485f, dist: 73.119873046875, #items: 18\n",
      "user: 7a23690289260d2b8c1d71d8c22b69f0, dist: 74.02395629882812, #items: 18\n",
      "user: 62ef0e23f21039e337b545ccc4851525, dist: 74.2809829711914, #items: 48\n",
      "user: 28b56a449c99c88e1f9fff59d0f16aac, dist: 74.35406494140625, #items: 84\n",
      "user: 67785f343e6d117fac4d1697697cd8ae, dist: 75.11897277832031, #items: 3\n",
      "user: 248172d9efbbd5eb72d48de6884054ab, dist: 75.15509033203125, #items: 24\n",
      "user: cbc86e332e889251fe0fa71df472f202, dist: 75.96910095214844, #items: 151\n",
      "user: 186575d01f40537515988f1369d395eb, dist: 76.07846069335938, #items: 12\n",
      "user: 722ad4c331b7d7bebd697bfbb91ee0e8, dist: 76.09330749511719, #items: 36\n",
      "user: d4d0cd1ae06f54909291d34ddd6ab497, dist: 76.59508514404297, #items: 78\n",
      "user: 0bda2743e12d8a204ab04122658d73a3, dist: 76.82905578613281, #items: 18\n",
      "user: c795c7de8f350ab35dfd1100a84bf213, dist: 76.98809051513672, #items: 68\n",
      "user: 55016bfc877fc509861b4aba22ee4f7a, dist: 77.58512115478516, #items: 9\n",
      "user: 2ec24376127909f3be36d770e6ae41a6, dist: 77.58863067626953, #items: 14\n",
      "user: 6cb1856680ea078c9f46437e2bdcd09e, dist: 77.629638671875, #items: 6\n",
      "user: 1bd2dc9e0406a2e240b288685c87fa76, dist: 77.66635131835938, #items: 3\n",
      "user: eca1130f44cd2e17645e40a0fa2ef59b, dist: 77.72115325927734, #items: 1005\n",
      "user: e347f98d0a810ded7c14d7be813a5868, dist: 77.8331527709961, #items: 19\n",
      "user: 64cae7b86c7dcb1b40d17e43c0c2109e, dist: 78.56492614746094, #items: 365\n",
      "user: 888b76dff350bdb6b25783d7c4110081, dist: 78.74793243408203, #items: 12\n",
      "user: e9fda1f240982b20e0df5ba9c4a337e9, dist: 79.08048248291016, #items: 18\n",
      "user: a2a15d03117e137478c5718212805270, dist: 79.2197036743164, #items: 50\n",
      "user: 24ebcf86498b0f2793b55c5b9a7756b5, dist: 79.36268615722656, #items: 210\n",
      "user: ed7ed76453bd846859f5e6b9149df276, dist: 80.40673828125, #items: 675\n",
      "user: 00fa8d61b5f75e16ea71bff7a3def9c9, dist: 80.57182312011719, #items: 30\n",
      "user: fecd63ea857606ed61cbfe2ba1a70b3b, dist: 81.23747253417969, #items: 4\n",
      "user: 4c7a94e0937450ef406135849493ab99, dist: 81.49515533447266, #items: 57\n",
      "user: 93f4b8995f647ceb58689b78eb2087ef, dist: 81.52526092529297, #items: 36\n",
      "user: be4e771b30940fb2d5f5dcfe3877dd2e, dist: 81.89282989501953, #items: 6\n",
      "user: 8ef6c1b6e31d907a3bba6f4edd303371, dist: 81.96642303466797, #items: 18\n",
      "user: f0e2dfdbc324f309660b731ad16ce2fd, dist: 82.14429473876953, #items: 17\n",
      "user: 77055e16055dc7bc817f7c4bb2eb8fae, dist: 82.68084716796875, #items: 6\n",
      "user: d3b1de8ed2ffc3eb9af2ef40a80c7d7d, dist: 83.16947937011719, #items: 3\n",
      "user: be6ec863f38f611dff4958ccd33cf638, dist: 83.20459747314453, #items: 60\n",
      "user: b13fb0da6dd2f5d7fe398e6e53b52110, dist: 83.46398162841797, #items: 7\n",
      "user: a9f376da22eb77185afae90b192bf9ac, dist: 83.87881469726562, #items: 48\n",
      "user: 7975199043cec980e587889f1639c0a4, dist: 83.88044738769531, #items: 11\n",
      "user: 6d59196a3f495939a1a776cbebe212ba, dist: 83.88616943359375, #items: 3\n",
      "user: 4480a650a96730fb629aa7fa2079e7c3, dist: 84.47846984863281, #items: 37\n",
      "user: 94d7a0f7c8f2e1c714b0649f835c538c, dist: 84.90093994140625, #items: 150\n",
      "user: 11e5c2ba0236fe3643cac09dbdb96580, dist: 85.69857788085938, #items: 30\n",
      "user: 27f51a4a7fe8565d26cadb88584441e5, dist: 87.71086120605469, #items: 2\n",
      "user: d8e56509dc582df255732a0170323231, dist: 89.05598449707031, #items: 61\n",
      "user: de0b07c32bb6ca4655487026e0f3fc38, dist: 89.667724609375, #items: 74\n",
      "user: 1eb9e2c62709ff203b2d9a558abc0937, dist: 90.27088928222656, #items: 39\n",
      "user: 0ca907e233b8bf33bf4eca86fcbfcc8f, dist: 90.30875396728516, #items: 54\n",
      "user: c1edc56f4d30d94a94ee41654c4f6734, dist: 90.31719207763672, #items: 31\n",
      "user: 7a81cab11e4b2b4aa9c0718c90835611, dist: 90.63851165771484, #items: 30\n",
      "user: 1ee4bd59c9ea084016ff2811dbb00568, dist: 91.05641174316406, #items: 53\n",
      "user: dd80f1940fe5b84eddde6e83542bd89b, dist: 91.79798889160156, #items: 12\n",
      "user: b37092cf23b42f8b8497d8ba89be157a, dist: 92.0645980834961, #items: 2\n",
      "user: 807dfc125f09be392a1f1b58c05b3742, dist: 92.79501342773438, #items: 11\n",
      "user: 478905563bab736f35d94bd7b0a27f9a, dist: 94.71900939941406, #items: 15\n",
      "user: 20c7d1ee0615a09b0bac9438cc8325e2, dist: 94.86095428466797, #items: 66\n",
      "user: 4b4c4f319a356ea87affb872173a2095, dist: 96.38638305664062, #items: 34\n",
      "user: ce209fb2fe01d6c85dbb29b6fd84b563, dist: 96.52340698242188, #items: 49\n",
      "user: cd09cd99c38d4bfb7b554dff21196c22, dist: 96.64743041992188, #items: 26\n",
      "user: 5097e48e561bf0261b242f211b289825, dist: 96.96627807617188, #items: 53\n",
      "user: 52b597296a8dca0c5cc5a19231eeff89, dist: 97.10396575927734, #items: 2\n",
      "user: 855ba3170f3e470170d23a748ccb41ed, dist: 97.30058288574219, #items: 42\n",
      "user: 3226bc99212ad30ce2ced981de1c437a, dist: 97.6195297241211, #items: 34\n",
      "user: 4dfca2f4dc4e8e6c3b1b7d32e10579c1, dist: 98.14590454101562, #items: 17\n",
      "user: 3deba1aaf448d3857c6c70f63c2a6430, dist: 99.2400131225586, #items: 11\n",
      "user: 40b86bbb6927a793c05968b8b95e214d, dist: 100.40507507324219, #items: 13\n",
      "user: 3c888e77b992ae3cd2adfe16774e23b9, dist: 101.33139038085938, #items: 11\n",
      "user: 4c2037269ef8fd0a3349e6b54dd1bb1f, dist: 101.40226745605469, #items: 9\n",
      "user: 9d1aa48692579ca9330d3c61d10e22e6, dist: 101.41999816894531, #items: 84\n",
      "user: 571d66ea4abfb694d9bb1281d7701710, dist: 103.13253784179688, #items: 68\n",
      "user: 5bf3c29fd496e2cafa9c531c7e9c6d61, dist: 104.09892272949219, #items: 29\n",
      "user: 9ad2a06dfac81761a123cb40084dcbd7, dist: 105.61822509765625, #items: 23\n",
      "user: 3bf93d5f7b82b46e38feb881d00c5798, dist: 107.02613067626953, #items: 36\n",
      "user: f3008c23ea8f35ef870e735df67fcc46, dist: 107.38475799560547, #items: 7\n"
     ]
    }
   ],
   "source": [
    "valence_outliers = mine_outliers(model=valence_model, data_converter=data_converter)\n",
    "arousal_outliers = mine_outliers(model=arousal_model, data_converter=data_converter)\n",
    "\n",
    "items_group_by_users = data_converter.original_df.groupby(\"user_id\")\n",
    "combined_outliers = {}\n",
    "for user_id, valence_dist in valence_outliers.items():\n",
    "    arousal_dist = arousal_outliers[user_id]\n",
    "    combined_outliers[user_id] = valence_dist + arousal_dist\n",
    "\n",
    "combined_outliers = dict(sorted(combined_outliers.items(), key=lambda item: item[1]))\n",
    "for user_id, item_id in combined_outliers.items():\n",
    "    number_of_items = len(items_group_by_users.get_group(user_id))\n",
    "    print(f\"user: {user_id}, dist: {item_id}, #items: {number_of_items}\")"
   ],
   "metadata": {
    "collapsed": false,
    "pycharm": {
     "name": "#%%\n"
    }
   }
  },
  {
   "cell_type": "code",
   "execution_count": null,
   "outputs": [],
   "source": [],
   "metadata": {
    "collapsed": false,
    "pycharm": {
     "name": "#%%\n"
    }
   }
  }
 ],
 "metadata": {
  "kernelspec": {
   "display_name": "Python 3",
   "language": "python",
   "name": "python3"
  },
  "language_info": {
   "codemirror_mode": {
    "name": "ipython",
    "version": 2
   },
   "file_extension": ".py",
   "mimetype": "text/x-python",
   "name": "python",
   "nbconvert_exporter": "python",
   "pygments_lexer": "ipython2",
   "version": "2.7.6"
  }
 },
 "nbformat": 4,
 "nbformat_minor": 0
}