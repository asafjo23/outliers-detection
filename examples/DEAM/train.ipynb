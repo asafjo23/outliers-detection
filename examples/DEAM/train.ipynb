{
 "cells": [
  {
   "cell_type": "code",
   "execution_count": null,
   "metadata": {
    "collapsed": true
   },
   "outputs": [],
   "source": [
    "\"\"\"\n",
    "The Deam dataset is based on Arousal-Valence 2D emotional model.\n",
    "The Valence/Arousal ratings were collected using Amazon Mechanical Turks service.\n",
    "Each turk from the collected crowd were asked to mark his own emotion for the current song on a 2D plane, Arousal/Valence.\n",
    "For more information please read: https://journals.plos.org/plosone/article?id=10.1371/journal.pone.0173392\n",
    "\"\"\"\n",
    "\n",
    "import torch\n",
    "import pandas\n",
    "from torch.optim import SGD\n",
    "from torch.nn import MSELoss\n",
    "from torch.utils.data import DataLoader\n",
    "from tensorboardX import SummaryWriter\n",
    "from config import DATA_DIR, MODELS_DIR\n",
    "from src.runner import Runner\n",
    "from src.utils import (\n",
    "    create_dataset,\n",
    "    DataConverter,\n",
    ")\n",
    "from src.data_set import RatingsDataset\n",
    "from src.model import MF\n",
    "\n",
    "# model = \"mean_centralised\"\n",
    "# model = \"standardized\"\n",
    "model = \"raw\"\n",
    "\n",
    "include_bias = model == \"raw\"\n",
    "\n",
    "DF_PATH = f\"{DATA_DIR}\" \\\n",
    "          f\"/DEAM/annotations/annotations per each rater/\" \\\n",
    "          f\"song_level/static_annotations_songs_1_2000_{model}.csv\""
   ]
  },
  {
   "cell_type": "code",
   "execution_count": null,
   "outputs": [],
   "source": [
    "def select_n_random(trainset: RatingsDataset):\n",
    "    \"\"\"\n",
    "    Selects n random data points and their corresponding labels from a dataset\n",
    "    \"\"\"\n",
    "    perm = torch.randperm(len(trainset))\n",
    "    return trainset[perm][:100]"
   ],
   "metadata": {
    "collapsed": false,
    "pycharm": {
     "name": "#%%\n"
    }
   }
  },
  {
   "cell_type": "code",
   "execution_count": null,
   "outputs": [],
   "source": [
    "\"\"\"\n",
    "This block of code calculates the outliers alongside the valence axis\n",
    "\"\"\"\n",
    "\n",
    "columns = [\"workerID\", \"SongId\", \"Valence\"]\n",
    "original_df = pandas.read_csv(DF_PATH, skipinitialspace=True, usecols=columns)\n",
    "original_df.columns = [\"user_id\", \"item_id\", \"rating\"]\n",
    "\n",
    "valence_data_converter = DataConverter(original_df=original_df)\n",
    "\n",
    "valence_model = MF(\n",
    "        n_users=valence_data_converter.n_users,\n",
    "        n_items=valence_data_converter.n_item,\n",
    "        include_bias=include_bias\n",
    ")\n",
    "\n",
    "\n",
    "epochs = 100\n",
    "\n",
    "criterion = MSELoss()\n",
    "optimizer = SGD(valence_model.parameters(), lr=5, weight_decay=1e-3)\n",
    "runner = Runner(\n",
    "    model=valence_model,\n",
    "    criterion=criterion,\n",
    "    optimizer=optimizer,\n",
    "    epochs=epochs\n",
    ")\n",
    "\n",
    "train_set = create_dataset(data_frame=valence_data_converter.encoded_df)\n",
    "train_load = DataLoader(train_set, batch_size=1000, shuffle=True)\n",
    "users, items, ratings = select_n_random(train_set)\n",
    "\n",
    "with SummaryWriter(f\"runs/DEAM/{model}/valence\") as writer:\n",
    "    writer.add_graph(valence_model, (users, items))\n",
    "\n",
    "    for epoch in range(epochs):\n",
    "        epoch_loss = runner.train(train_loader=train_load, epoch=epoch, writer=writer)\n",
    "\n",
    "        print(f\"epoch={epoch + 1}, loss={epoch_loss}\")\n",
    "\n",
    "torch.save(valence_model.state_dict(), f\"{MODELS_DIR}/DEAM/{model}/valence.pt\")"
   ],
   "metadata": {
    "collapsed": false,
    "pycharm": {
     "name": "#%%\n"
    }
   }
  },
  {
   "cell_type": "code",
   "execution_count": null,
   "outputs": [],
   "source": [
    "\"\"\"\n",
    "This block of code calculates the outliers alongside the Arousal axis\n",
    "\"\"\"\n",
    "\n",
    "columns = [\"workerID\", \"SongId\", \"Arousal\"]\n",
    "original_df = pandas.read_csv(DF_PATH, skipinitialspace=True, usecols=columns)\n",
    "original_df.columns = [\"user_id\", \"item_id\", \"rating\"]\n",
    "\n",
    "arousal_data_converter = DataConverter(original_df=original_df)\n",
    "\n",
    "arousal_model = MF(\n",
    "        n_users=arousal_data_converter.n_users,\n",
    "        n_items=arousal_data_converter.n_item,\n",
    "        include_bias=include_bias\n",
    ")\n",
    "\n",
    "\n",
    "epochs = 100\n",
    "\n",
    "criterion = MSELoss()\n",
    "optimizer = SGD(arousal_model.parameters(), lr=5, weight_decay=1e-3)\n",
    "runner = Runner(\n",
    "    model=arousal_model,\n",
    "    criterion=criterion,\n",
    "    optimizer=optimizer,\n",
    "    epochs=epochs,\n",
    ")\n",
    "\n",
    "train_set = create_dataset(data_frame=arousal_data_converter.encoded_df)\n",
    "train_load = DataLoader(train_set, batch_size=1000, shuffle=True)\n",
    "users, items, ratings = select_n_random(train_set)\n",
    "\n",
    "with SummaryWriter(f\"runs/DEAM/{model}/arousal\") as writer:\n",
    "    writer.add_graph(arousal_model, (users, items))\n",
    "\n",
    "    for epoch in range(epochs):\n",
    "        epoch_loss = runner.train(train_loader=train_load, epoch=epoch, writer=writer)\n",
    "        print(f\"epoch={epoch + 1}, loss={epoch_loss}\")\n",
    "\n",
    "torch.save(arousal_model.state_dict(), f\"{MODELS_DIR}/DEAM/{model}/arousal.pt\")"
   ],
   "metadata": {
    "collapsed": false,
    "pycharm": {
     "name": "#%%\n"
    }
   }
  }
 ],
 "metadata": {
  "kernelspec": {
   "display_name": "Python 3",
   "language": "python",
   "name": "python3"
  },
  "language_info": {
   "codemirror_mode": {
    "name": "ipython",
    "version": 2
   },
   "file_extension": ".py",
   "mimetype": "text/x-python",
   "name": "python",
   "nbconvert_exporter": "python",
   "pygments_lexer": "ipython2",
   "version": "2.7.6"
  }
 },
 "nbformat": 4,
 "nbformat_minor": 0
}