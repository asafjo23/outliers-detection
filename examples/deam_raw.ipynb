{
 "cells": [
  {
   "cell_type": "code",
   "execution_count": 1,
   "metadata": {
    "collapsed": true,
    "pycharm": {
     "name": "#%%\n"
    }
   },
   "outputs": [],
   "source": [
    "import torch\n",
    "from pandas import read_csv\n",
    "from torch.optim import SGD\n",
    "from torch.nn import MSELoss\n",
    "from torch.utils.data import DataLoader\n",
    "from tensorboardX import SummaryWriter\n",
    "from torch import randperm\n",
    "from config import DATA_DIR, MODELS_DIR\n",
    "from src.data_set import RatingsDataset\n",
    "from src.model import MF\n",
    "from src.runner import Runner\n",
    "from src.utils import (\n",
    "    create_dataset,\n",
    "    mine_outliers_scipy,\n",
    "    DataConverter,\n",
    ")\n",
    "from src.consistency import direct_calculation\n",
    "\n",
    "\n",
    "\"\"\"\n",
    "The Deam dataset is based on Arousal-Valence 2D emotional model.\n",
    "The Valence/Arousal ratings were collected using Amazon Mechanical Turks service.\n",
    "Each turk from the collected crowd were asked to mark his own emotion for the current song on a 2D plane, Arousal/Valence.\n",
    "For more information please read: https://journals.plos.org/plosone/article?id=10.1371/journal.pone.0173392\n",
    "\"\"\"\n",
    "\n",
    "DF_PATH = f\"{DATA_DIR}\" \\\n",
    "          f\"/DEAM/annotations/annotations per each rater/\" \\\n",
    "          f\"song_level/static_annotations_songs_1_2000.csv\"\n",
    "\n",
    "def select_n_random(trainset: RatingsDataset):\n",
    "    \"\"\"\n",
    "    Selects n random data points and their corresponding labels from a dataset\n",
    "    \"\"\"\n",
    "    perm = randperm(len(trainset))\n",
    "    return trainset[perm][:100]"
   ]
  },
  {
   "cell_type": "code",
   "execution_count": 2,
   "outputs": [
    {
     "data": {
      "text/plain": "  0%|          | 0/17464 [00:00<?, ?it/s]",
      "application/vnd.jupyter.widget-view+json": {
       "version_major": 2,
       "version_minor": 0,
       "model_id": "3e6e0dfe0a83443e8512f6deec6845fb"
      }
     },
     "metadata": {},
     "output_type": "display_data"
    },
    {
     "name": "stdout",
     "output_type": "stream",
     "text": [
      "Raw data consistency according to direct calculation is: \u001B[33m2.5579538487363607e-13\u001B[32m\n"
     ]
    }
   ],
   "source": [
    "\"\"\"\n",
    "This block analyze raw data consistency using the direct calculation defined by:\n",
    "consistency += row.rating - row.song.mean() for all rows in dataset\n",
    "\"\"\"\n",
    "columns = [\"workerID\", \"SongId\", \"Valence\"]\n",
    "original_df = read_csv(DF_PATH, skipinitialspace=True, usecols=columns)\n",
    "original_df.columns = [\"user_id\", \"item_id\", \"rating\"]\n",
    "consistency = direct_calculation(data_frame=original_df)\n",
    "print(f\"Raw data consistency according to direct calculation is: \\x1b[33m{consistency}\\x1b[32m\")"
   ],
   "metadata": {
    "collapsed": false,
    "pycharm": {
     "name": "#%%\n"
    }
   }
  },
  {
   "cell_type": "code",
   "execution_count": 3,
   "outputs": [
    {
     "name": "stderr",
     "output_type": "stream",
     "text": [
      "100%|██████████| 18/18 [00:00<00:00, 103.29batch/s, train_loss=0.0122] \n"
     ]
    },
    {
     "name": "stdout",
     "output_type": "stream",
     "text": [
      "epoch=1, loss=0.17982098235755134\n"
     ]
    },
    {
     "name": "stderr",
     "output_type": "stream",
     "text": [
      "100%|██████████| 18/18 [00:00<00:00, 54.19batch/s, train_loss=0.00933]\n"
     ]
    },
    {
     "name": "stdout",
     "output_type": "stream",
     "text": [
      "epoch=2, loss=0.09419888197964636\n"
     ]
    },
    {
     "name": "stderr",
     "output_type": "stream",
     "text": [
      "100%|██████████| 18/18 [00:00<00:00, 67.95batch/s, train_loss=0.00823]\n"
     ]
    },
    {
     "name": "stdout",
     "output_type": "stream",
     "text": [
      "epoch=3, loss=0.07617476498258524\n"
     ]
    },
    {
     "name": "stderr",
     "output_type": "stream",
     "text": [
      "100%|██████████| 18/18 [00:00<00:00, 73.22batch/s, train_loss=0.00658]\n"
     ]
    },
    {
     "name": "stdout",
     "output_type": "stream",
     "text": [
      "epoch=4, loss=0.06299791464312324\n"
     ]
    },
    {
     "name": "stderr",
     "output_type": "stream",
     "text": [
      "100%|██████████| 18/18 [00:00<00:00, 43.06batch/s, train_loss=0.00585]\n"
     ]
    },
    {
     "name": "stdout",
     "output_type": "stream",
     "text": [
      "epoch=5, loss=0.05227582643360927\n"
     ]
    },
    {
     "name": "stderr",
     "output_type": "stream",
     "text": [
      "100%|██████████| 18/18 [00:00<00:00, 58.88batch/s, train_loss=0.00517]\n"
     ]
    },
    {
     "name": "stdout",
     "output_type": "stream",
     "text": [
      "epoch=6, loss=0.04426340256066158\n"
     ]
    },
    {
     "name": "stderr",
     "output_type": "stream",
     "text": [
      "100%|██████████| 18/18 [00:00<00:00, 51.58batch/s, train_loss=0.00421]\n"
     ]
    },
    {
     "name": "stdout",
     "output_type": "stream",
     "text": [
      "epoch=7, loss=0.038168219979467066\n"
     ]
    },
    {
     "name": "stderr",
     "output_type": "stream",
     "text": [
      "100%|██████████| 18/18 [00:00<00:00, 38.79batch/s, train_loss=0.00435]\n"
     ]
    },
    {
     "name": "stdout",
     "output_type": "stream",
     "text": [
      "epoch=8, loss=0.03458417874369128\n"
     ]
    },
    {
     "name": "stderr",
     "output_type": "stream",
     "text": [
      "100%|██████████| 18/18 [00:00<00:00, 54.35batch/s, train_loss=0.00385]\n"
     ]
    },
    {
     "name": "stdout",
     "output_type": "stream",
     "text": [
      "epoch=9, loss=0.03114878068299129\n"
     ]
    },
    {
     "name": "stderr",
     "output_type": "stream",
     "text": [
      "100%|██████████| 18/18 [00:00<00:00, 50.31batch/s, train_loss=0.00348]\n"
     ]
    },
    {
     "name": "stdout",
     "output_type": "stream",
     "text": [
      "epoch=10, loss=0.028427012295558534\n"
     ]
    },
    {
     "name": "stderr",
     "output_type": "stream",
     "text": [
      "100%|██████████| 18/18 [00:00<00:00, 46.85batch/s, train_loss=0.00326]\n"
     ]
    },
    {
     "name": "stdout",
     "output_type": "stream",
     "text": [
      "epoch=11, loss=0.026185961468466395\n"
     ]
    },
    {
     "name": "stderr",
     "output_type": "stream",
     "text": [
      "100%|██████████| 18/18 [00:00<00:00, 37.10batch/s, train_loss=0.00237]\n"
     ]
    },
    {
     "name": "stdout",
     "output_type": "stream",
     "text": [
      "epoch=12, loss=0.023765828763616496\n"
     ]
    },
    {
     "name": "stderr",
     "output_type": "stream",
     "text": [
      "100%|██████████| 18/18 [00:00<00:00, 46.42batch/s, train_loss=0.0025] \n"
     ]
    },
    {
     "name": "stdout",
     "output_type": "stream",
     "text": [
      "epoch=13, loss=0.022419746304380483\n"
     ]
    },
    {
     "name": "stderr",
     "output_type": "stream",
     "text": [
      "100%|██████████| 18/18 [00:00<00:00, 50.28batch/s, train_loss=0.00244]\n"
     ]
    },
    {
     "name": "stdout",
     "output_type": "stream",
     "text": [
      "epoch=14, loss=0.021154647374975265\n"
     ]
    },
    {
     "name": "stderr",
     "output_type": "stream",
     "text": [
      "100%|██████████| 18/18 [00:00<00:00, 43.42batch/s, train_loss=0.00245]\n"
     ]
    },
    {
     "name": "stdout",
     "output_type": "stream",
     "text": [
      "epoch=15, loss=0.020126481128150013\n"
     ]
    },
    {
     "name": "stderr",
     "output_type": "stream",
     "text": [
      "100%|██████████| 18/18 [00:00<00:00, 67.73batch/s, train_loss=0.00276] \n"
     ]
    },
    {
     "name": "stdout",
     "output_type": "stream",
     "text": [
      "epoch=16, loss=0.019487486985223047\n"
     ]
    },
    {
     "name": "stderr",
     "output_type": "stream",
     "text": [
      "100%|██████████| 18/18 [00:00<00:00, 64.59batch/s, train_loss=0.00164] \n"
     ]
    },
    {
     "name": "stdout",
     "output_type": "stream",
     "text": [
      "epoch=17, loss=0.017810346320785327\n"
     ]
    },
    {
     "name": "stderr",
     "output_type": "stream",
     "text": [
      "100%|██████████| 18/18 [00:00<00:00, 53.88batch/s, train_loss=0.00204] \n"
     ]
    },
    {
     "name": "stdout",
     "output_type": "stream",
     "text": [
      "epoch=18, loss=0.017517926406243754\n"
     ]
    },
    {
     "name": "stderr",
     "output_type": "stream",
     "text": [
      "100%|██████████| 18/18 [00:00<00:00, 80.11batch/s, train_loss=0.00187]\n"
     ]
    },
    {
     "name": "stdout",
     "output_type": "stream",
     "text": [
      "epoch=19, loss=0.016851023875433822\n"
     ]
    },
    {
     "name": "stderr",
     "output_type": "stream",
     "text": [
      "100%|██████████| 18/18 [00:00<00:00, 81.22batch/s, train_loss=0.0019] \n"
     ]
    },
    {
     "name": "stdout",
     "output_type": "stream",
     "text": [
      "epoch=20, loss=0.016373711768923136\n"
     ]
    },
    {
     "name": "stderr",
     "output_type": "stream",
     "text": [
      "100%|██████████| 18/18 [00:00<00:00, 63.04batch/s, train_loss=0.00211]\n"
     ]
    },
    {
     "name": "stdout",
     "output_type": "stream",
     "text": [
      "epoch=21, loss=0.01604013973988336\n"
     ]
    },
    {
     "name": "stderr",
     "output_type": "stream",
     "text": [
      "100%|██████████| 18/18 [00:00<00:00, 76.34batch/s, train_loss=0.00186] \n"
     ]
    },
    {
     "name": "stdout",
     "output_type": "stream",
     "text": [
      "epoch=22, loss=0.015529928134433152\n"
     ]
    },
    {
     "name": "stderr",
     "output_type": "stream",
     "text": [
      "100%|██████████| 18/18 [00:00<00:00, 86.10batch/s, train_loss=0.00122] \n"
     ]
    },
    {
     "name": "stdout",
     "output_type": "stream",
     "text": [
      "epoch=23, loss=0.014675856945843533\n"
     ]
    },
    {
     "name": "stderr",
     "output_type": "stream",
     "text": [
      "100%|██████████| 18/18 [00:00<00:00, 53.05batch/s, train_loss=0.00169] \n"
     ]
    },
    {
     "name": "stdout",
     "output_type": "stream",
     "text": [
      "epoch=24, loss=0.014731369165510965\n"
     ]
    },
    {
     "name": "stderr",
     "output_type": "stream",
     "text": [
      "100%|██████████| 18/18 [00:00<00:00, 86.42batch/s, train_loss=0.00184]\n"
     ]
    },
    {
     "name": "stdout",
     "output_type": "stream",
     "text": [
      "epoch=25, loss=0.01457916102943749\n"
     ]
    },
    {
     "name": "stderr",
     "output_type": "stream",
     "text": [
      "100%|██████████| 18/18 [00:00<00:00, 74.81batch/s, train_loss=0.00161] \n"
     ]
    },
    {
     "name": "stdout",
     "output_type": "stream",
     "text": [
      "epoch=26, loss=0.014184908036527962\n"
     ]
    },
    {
     "name": "stderr",
     "output_type": "stream",
     "text": [
      "100%|██████████| 18/18 [00:00<00:00, 67.81batch/s, train_loss=0.00194] \n"
     ]
    },
    {
     "name": "stdout",
     "output_type": "stream",
     "text": [
      "epoch=27, loss=0.014214383048230205\n"
     ]
    },
    {
     "name": "stderr",
     "output_type": "stream",
     "text": [
      "100%|██████████| 18/18 [00:00<00:00, 77.07batch/s, train_loss=0.00157] \n"
     ]
    },
    {
     "name": "stdout",
     "output_type": "stream",
     "text": [
      "epoch=28, loss=0.013704967798857855\n"
     ]
    },
    {
     "name": "stderr",
     "output_type": "stream",
     "text": [
      "100%|██████████| 18/18 [00:00<00:00, 80.88batch/s, train_loss=0.00162] \n"
     ]
    },
    {
     "name": "stdout",
     "output_type": "stream",
     "text": [
      "epoch=29, loss=0.013575415390318837\n"
     ]
    },
    {
     "name": "stderr",
     "output_type": "stream",
     "text": [
      "100%|██████████| 18/18 [00:00<00:00, 83.81batch/s, train_loss=0.00179]\n"
     ]
    },
    {
     "name": "stdout",
     "output_type": "stream",
     "text": [
      "epoch=30, loss=0.01356268791905765\n"
     ]
    },
    {
     "name": "stderr",
     "output_type": "stream",
     "text": [
      "100%|██████████| 18/18 [00:00<00:00, 52.33batch/s, train_loss=0.00182] \n"
     ]
    },
    {
     "name": "stdout",
     "output_type": "stream",
     "text": [
      "epoch=31, loss=0.013427715383726977\n"
     ]
    },
    {
     "name": "stderr",
     "output_type": "stream",
     "text": [
      "100%|██████████| 18/18 [00:00<00:00, 76.10batch/s, train_loss=0.00185] \n"
     ]
    },
    {
     "name": "stdout",
     "output_type": "stream",
     "text": [
      "epoch=32, loss=0.01330922019173359\n"
     ]
    },
    {
     "name": "stderr",
     "output_type": "stream",
     "text": [
      "100%|██████████| 18/18 [00:00<00:00, 75.40batch/s, train_loss=0.00143] \n"
     ]
    },
    {
     "name": "stdout",
     "output_type": "stream",
     "text": [
      "epoch=33, loss=0.012862727388225753\n"
     ]
    },
    {
     "name": "stderr",
     "output_type": "stream",
     "text": [
      "100%|██████████| 18/18 [00:00<00:00, 45.42batch/s, train_loss=0.00163] \n"
     ]
    },
    {
     "name": "stdout",
     "output_type": "stream",
     "text": [
      "epoch=34, loss=0.012861349410024182\n"
     ]
    },
    {
     "name": "stderr",
     "output_type": "stream",
     "text": [
      "100%|██████████| 18/18 [00:00<00:00, 62.77batch/s, train_loss=0.00189] \n"
     ]
    },
    {
     "name": "stdout",
     "output_type": "stream",
     "text": [
      "epoch=35, loss=0.013021687715217984\n"
     ]
    },
    {
     "name": "stderr",
     "output_type": "stream",
     "text": [
      "100%|██████████| 18/18 [00:00<00:00, 75.28batch/s, train_loss=0.0015]  \n"
     ]
    },
    {
     "name": "stdout",
     "output_type": "stream",
     "text": [
      "epoch=36, loss=0.012569405940072286\n"
     ]
    },
    {
     "name": "stderr",
     "output_type": "stream",
     "text": [
      "100%|██████████| 18/18 [00:00<00:00, 36.69batch/s, train_loss=0.00129] \n"
     ]
    },
    {
     "name": "stdout",
     "output_type": "stream",
     "text": [
      "epoch=37, loss=0.012303183231888145\n"
     ]
    },
    {
     "name": "stderr",
     "output_type": "stream",
     "text": [
      "100%|██████████| 18/18 [00:00<00:00, 69.69batch/s, train_loss=0.00154] \n"
     ]
    },
    {
     "name": "stdout",
     "output_type": "stream",
     "text": [
      "epoch=38, loss=0.012460330950802767\n"
     ]
    },
    {
     "name": "stderr",
     "output_type": "stream",
     "text": [
      "100%|██████████| 18/18 [00:00<00:00, 77.97batch/s, train_loss=0.00152]\n"
     ]
    },
    {
     "name": "stdout",
     "output_type": "stream",
     "text": [
      "epoch=39, loss=0.012364707713497097\n"
     ]
    },
    {
     "name": "stderr",
     "output_type": "stream",
     "text": [
      "100%|██████████| 18/18 [00:00<00:00, 39.01batch/s, train_loss=0.00164] \n"
     ]
    },
    {
     "name": "stdout",
     "output_type": "stream",
     "text": [
      "epoch=40, loss=0.012381994821901979\n"
     ]
    },
    {
     "name": "stderr",
     "output_type": "stream",
     "text": [
      "100%|██████████| 18/18 [00:00<00:00, 58.66batch/s, train_loss=0.00131] \n"
     ]
    },
    {
     "name": "stdout",
     "output_type": "stream",
     "text": [
      "epoch=41, loss=0.012076462695310854\n"
     ]
    },
    {
     "name": "stderr",
     "output_type": "stream",
     "text": [
      "100%|██████████| 18/18 [00:00<00:00, 58.94batch/s, train_loss=0.00157] \n"
     ]
    },
    {
     "name": "stdout",
     "output_type": "stream",
     "text": [
      "epoch=42, loss=0.012187839932482817\n"
     ]
    },
    {
     "name": "stderr",
     "output_type": "stream",
     "text": [
      "100%|██████████| 18/18 [00:00<00:00, 58.78batch/s, train_loss=0.00151] \n"
     ]
    },
    {
     "name": "stdout",
     "output_type": "stream",
     "text": [
      "epoch=43, loss=0.012010826598981332\n"
     ]
    },
    {
     "name": "stderr",
     "output_type": "stream",
     "text": [
      "100%|██████████| 18/18 [00:00<00:00, 71.87batch/s, train_loss=0.00125]\n"
     ]
    },
    {
     "name": "stdout",
     "output_type": "stream",
     "text": [
      "epoch=44, loss=0.011833128597201974\n"
     ]
    },
    {
     "name": "stderr",
     "output_type": "stream",
     "text": [
      "100%|██████████| 18/18 [00:00<00:00, 73.78batch/s, train_loss=0.00124] \n"
     ]
    },
    {
     "name": "stdout",
     "output_type": "stream",
     "text": [
      "epoch=45, loss=0.011760105359143224\n"
     ]
    },
    {
     "name": "stderr",
     "output_type": "stream",
     "text": [
      "100%|██████████| 18/18 [00:00<00:00, 56.11batch/s, train_loss=0.00188] \n"
     ]
    },
    {
     "name": "stdout",
     "output_type": "stream",
     "text": [
      "epoch=46, loss=0.012217574965337229\n"
     ]
    },
    {
     "name": "stderr",
     "output_type": "stream",
     "text": [
      "100%|██████████| 18/18 [00:00<00:00, 67.63batch/s, train_loss=0.00146] \n"
     ]
    },
    {
     "name": "stdout",
     "output_type": "stream",
     "text": [
      "epoch=47, loss=0.011826435475513854\n"
     ]
    },
    {
     "name": "stderr",
     "output_type": "stream",
     "text": [
      "100%|██████████| 18/18 [00:00<00:00, 72.05batch/s, train_loss=0.00155] \n"
     ]
    },
    {
     "name": "stdout",
     "output_type": "stream",
     "text": [
      "epoch=48, loss=0.011832504799653747\n"
     ]
    },
    {
     "name": "stderr",
     "output_type": "stream",
     "text": [
      "100%|██████████| 18/18 [00:00<00:00, 53.75batch/s, train_loss=0.00135] \n"
     ]
    },
    {
     "name": "stdout",
     "output_type": "stream",
     "text": [
      "epoch=49, loss=0.011637733918839488\n"
     ]
    },
    {
     "name": "stderr",
     "output_type": "stream",
     "text": [
      "100%|██████████| 18/18 [00:00<00:00, 80.89batch/s, train_loss=0.00141]\n"
     ]
    },
    {
     "name": "stdout",
     "output_type": "stream",
     "text": [
      "epoch=50, loss=0.011664526383424629\n"
     ]
    },
    {
     "name": "stderr",
     "output_type": "stream",
     "text": [
      "100%|██████████| 18/18 [00:00<00:00, 66.62batch/s, train_loss=0.00156] \n"
     ]
    },
    {
     "name": "stdout",
     "output_type": "stream",
     "text": [
      "epoch=51, loss=0.0116963249157215\n"
     ]
    },
    {
     "name": "stderr",
     "output_type": "stream",
     "text": [
      "100%|██████████| 18/18 [00:00<00:00, 55.86batch/s, train_loss=0.00129] \n"
     ]
    },
    {
     "name": "stdout",
     "output_type": "stream",
     "text": [
      "epoch=52, loss=0.011461943410593887\n"
     ]
    },
    {
     "name": "stderr",
     "output_type": "stream",
     "text": [
      "100%|██████████| 18/18 [00:00<00:00, 78.17batch/s, train_loss=0.00132] \n"
     ]
    },
    {
     "name": "stdout",
     "output_type": "stream",
     "text": [
      "epoch=53, loss=0.011444385316865197\n"
     ]
    },
    {
     "name": "stderr",
     "output_type": "stream",
     "text": [
      "100%|██████████| 18/18 [00:00<00:00, 72.64batch/s, train_loss=0.00126] \n"
     ]
    },
    {
     "name": "stdout",
     "output_type": "stream",
     "text": [
      "epoch=54, loss=0.01141723427279242\n"
     ]
    },
    {
     "name": "stderr",
     "output_type": "stream",
     "text": [
      "100%|██████████| 18/18 [00:00<00:00, 57.38batch/s, train_loss=0.00137] \n"
     ]
    },
    {
     "name": "stdout",
     "output_type": "stream",
     "text": [
      "epoch=55, loss=0.011446676621149328\n"
     ]
    },
    {
     "name": "stderr",
     "output_type": "stream",
     "text": [
      "100%|██████████| 18/18 [00:00<00:00, 71.63batch/s, train_loss=0.00143] \n"
     ]
    },
    {
     "name": "stdout",
     "output_type": "stream",
     "text": [
      "epoch=56, loss=0.011419739596802614\n"
     ]
    },
    {
     "name": "stderr",
     "output_type": "stream",
     "text": [
      "100%|██████████| 18/18 [00:00<00:00, 83.92batch/s, train_loss=0.00152]\n"
     ]
    },
    {
     "name": "stdout",
     "output_type": "stream",
     "text": [
      "epoch=57, loss=0.011527984519456995\n"
     ]
    },
    {
     "name": "stderr",
     "output_type": "stream",
     "text": [
      "100%|██████████| 18/18 [00:00<00:00, 73.56batch/s, train_loss=0.00155] \n"
     ]
    },
    {
     "name": "stdout",
     "output_type": "stream",
     "text": [
      "epoch=58, loss=0.011480296978662752\n"
     ]
    },
    {
     "name": "stderr",
     "output_type": "stream",
     "text": [
      "100%|██████████| 18/18 [00:00<00:00, 60.51batch/s, train_loss=0.00137] \n"
     ]
    },
    {
     "name": "stdout",
     "output_type": "stream",
     "text": [
      "epoch=59, loss=0.011299198227709736\n"
     ]
    },
    {
     "name": "stderr",
     "output_type": "stream",
     "text": [
      "100%|██████████| 18/18 [00:00<00:00, 80.14batch/s, train_loss=0.00156] \n"
     ]
    },
    {
     "name": "stdout",
     "output_type": "stream",
     "text": [
      "epoch=60, loss=0.011436411033416617\n"
     ]
    },
    {
     "name": "stderr",
     "output_type": "stream",
     "text": [
      "100%|██████████| 18/18 [00:00<00:00, 71.85batch/s, train_loss=0.00134] \n"
     ]
    },
    {
     "name": "stdout",
     "output_type": "stream",
     "text": [
      "epoch=61, loss=0.0112477100635397\n"
     ]
    },
    {
     "name": "stderr",
     "output_type": "stream",
     "text": [
      "100%|██████████| 18/18 [00:00<00:00, 58.73batch/s, train_loss=0.00156] \n"
     ]
    },
    {
     "name": "stdout",
     "output_type": "stream",
     "text": [
      "epoch=62, loss=0.011411345855943089\n"
     ]
    },
    {
     "name": "stderr",
     "output_type": "stream",
     "text": [
      "100%|██████████| 18/18 [00:00<00:00, 72.50batch/s, train_loss=0.00141] \n"
     ]
    },
    {
     "name": "stdout",
     "output_type": "stream",
     "text": [
      "epoch=63, loss=0.011299013372125298\n"
     ]
    },
    {
     "name": "stderr",
     "output_type": "stream",
     "text": [
      "100%|██████████| 18/18 [00:00<00:00, 73.45batch/s, train_loss=0.00146] \n"
     ]
    },
    {
     "name": "stdout",
     "output_type": "stream",
     "text": [
      "epoch=64, loss=0.011232685353221564\n"
     ]
    },
    {
     "name": "stderr",
     "output_type": "stream",
     "text": [
      "100%|██████████| 18/18 [00:00<00:00, 57.63batch/s, train_loss=0.0012]  \n"
     ]
    },
    {
     "name": "stdout",
     "output_type": "stream",
     "text": [
      "epoch=65, loss=0.011038808759944193\n"
     ]
    },
    {
     "name": "stderr",
     "output_type": "stream",
     "text": [
      "100%|██████████| 18/18 [00:00<00:00, 81.67batch/s, train_loss=0.00135]\n"
     ]
    },
    {
     "name": "stdout",
     "output_type": "stream",
     "text": [
      "epoch=66, loss=0.011127979496429706\n"
     ]
    },
    {
     "name": "stderr",
     "output_type": "stream",
     "text": [
      "100%|██████████| 18/18 [00:00<00:00, 74.17batch/s, train_loss=0.00119] \n"
     ]
    },
    {
     "name": "stdout",
     "output_type": "stream",
     "text": [
      "epoch=67, loss=0.01097597570152118\n"
     ]
    },
    {
     "name": "stderr",
     "output_type": "stream",
     "text": [
      "100%|██████████| 18/18 [00:00<00:00, 56.05batch/s, train_loss=0.0012]  \n"
     ]
    },
    {
     "name": "stdout",
     "output_type": "stream",
     "text": [
      "epoch=68, loss=0.010997138428276982\n"
     ]
    },
    {
     "name": "stderr",
     "output_type": "stream",
     "text": [
      "100%|██████████| 18/18 [00:00<00:00, 73.96batch/s, train_loss=0.000885]\n"
     ]
    },
    {
     "name": "stdout",
     "output_type": "stream",
     "text": [
      "epoch=69, loss=0.010752483389500913\n"
     ]
    },
    {
     "name": "stderr",
     "output_type": "stream",
     "text": [
      "100%|██████████| 18/18 [00:00<00:00, 68.80batch/s, train_loss=0.00111] \n"
     ]
    },
    {
     "name": "stdout",
     "output_type": "stream",
     "text": [
      "epoch=70, loss=0.010932396418061749\n"
     ]
    },
    {
     "name": "stderr",
     "output_type": "stream",
     "text": [
      "100%|██████████| 18/18 [00:00<00:00, 59.46batch/s, train_loss=0.00141] \n"
     ]
    },
    {
     "name": "stdout",
     "output_type": "stream",
     "text": [
      "epoch=71, loss=0.01115465666918919\n"
     ]
    },
    {
     "name": "stderr",
     "output_type": "stream",
     "text": [
      "100%|██████████| 18/18 [00:00<00:00, 77.32batch/s, train_loss=0.0012] \n"
     ]
    },
    {
     "name": "stdout",
     "output_type": "stream",
     "text": [
      "epoch=72, loss=0.010959448395104243\n"
     ]
    },
    {
     "name": "stderr",
     "output_type": "stream",
     "text": [
      "100%|██████████| 18/18 [00:00<00:00, 78.26batch/s, train_loss=0.00103] \n"
     ]
    },
    {
     "name": "stdout",
     "output_type": "stream",
     "text": [
      "epoch=73, loss=0.01077587304495532\n"
     ]
    },
    {
     "name": "stderr",
     "output_type": "stream",
     "text": [
      "100%|██████████| 18/18 [00:00<00:00, 58.25batch/s, train_loss=0.00163] \n"
     ]
    },
    {
     "name": "stdout",
     "output_type": "stream",
     "text": [
      "epoch=74, loss=0.0113163848344622\n"
     ]
    },
    {
     "name": "stderr",
     "output_type": "stream",
     "text": [
      "100%|██████████| 18/18 [00:00<00:00, 71.07batch/s, train_loss=0.00134] \n"
     ]
    },
    {
     "name": "stdout",
     "output_type": "stream",
     "text": [
      "epoch=75, loss=0.010993758824364892\n"
     ]
    },
    {
     "name": "stderr",
     "output_type": "stream",
     "text": [
      "100%|██████████| 18/18 [00:00<00:00, 79.67batch/s, train_loss=0.00157] \n"
     ]
    },
    {
     "name": "stdout",
     "output_type": "stream",
     "text": [
      "epoch=76, loss=0.011156056487354737\n"
     ]
    },
    {
     "name": "stderr",
     "output_type": "stream",
     "text": [
      "100%|██████████| 18/18 [00:00<00:00, 71.17batch/s, train_loss=0.00164] \n"
     ]
    },
    {
     "name": "stdout",
     "output_type": "stream",
     "text": [
      "epoch=77, loss=0.01124121210903957\n"
     ]
    },
    {
     "name": "stderr",
     "output_type": "stream",
     "text": [
      "100%|██████████| 18/18 [00:00<00:00, 51.90batch/s, train_loss=0.00186] \n"
     ]
    },
    {
     "name": "stdout",
     "output_type": "stream",
     "text": [
      "epoch=78, loss=0.011329361295905605\n"
     ]
    },
    {
     "name": "stderr",
     "output_type": "stream",
     "text": [
      "100%|██████████| 18/18 [00:00<00:00, 74.15batch/s, train_loss=0.00126] \n"
     ]
    },
    {
     "name": "stdout",
     "output_type": "stream",
     "text": [
      "epoch=79, loss=0.010884048969581209\n"
     ]
    },
    {
     "name": "stderr",
     "output_type": "stream",
     "text": [
      "100%|██████████| 18/18 [00:00<00:00, 65.34batch/s, train_loss=0.00118] \n"
     ]
    },
    {
     "name": "stdout",
     "output_type": "stream",
     "text": [
      "epoch=80, loss=0.010821593013303035\n"
     ]
    },
    {
     "name": "stderr",
     "output_type": "stream",
     "text": [
      "100%|██████████| 18/18 [00:00<00:00, 57.54batch/s, train_loss=0.00117] \n"
     ]
    },
    {
     "name": "stdout",
     "output_type": "stream",
     "text": [
      "epoch=81, loss=0.010789312576425484\n"
     ]
    },
    {
     "name": "stderr",
     "output_type": "stream",
     "text": [
      "100%|██████████| 18/18 [00:00<00:00, 80.72batch/s, train_loss=0.00176]\n"
     ]
    },
    {
     "name": "stdout",
     "output_type": "stream",
     "text": [
      "epoch=82, loss=0.011250177050458974\n"
     ]
    },
    {
     "name": "stderr",
     "output_type": "stream",
     "text": [
      "100%|██████████| 18/18 [00:00<00:00, 81.11batch/s, train_loss=0.00168] \n"
     ]
    },
    {
     "name": "stdout",
     "output_type": "stream",
     "text": [
      "epoch=83, loss=0.01116783401883882\n"
     ]
    },
    {
     "name": "stderr",
     "output_type": "stream",
     "text": [
      "100%|██████████| 18/18 [00:00<00:00, 58.25batch/s, train_loss=0.00114] \n"
     ]
    },
    {
     "name": "stdout",
     "output_type": "stream",
     "text": [
      "epoch=84, loss=0.010661192929950256\n"
     ]
    },
    {
     "name": "stderr",
     "output_type": "stream",
     "text": [
      "100%|██████████| 18/18 [00:00<00:00, 83.70batch/s, train_loss=0.00104] \n"
     ]
    },
    {
     "name": "stdout",
     "output_type": "stream",
     "text": [
      "epoch=85, loss=0.010650614601784738\n"
     ]
    },
    {
     "name": "stderr",
     "output_type": "stream",
     "text": [
      "100%|██████████| 18/18 [00:00<00:00, 73.34batch/s, train_loss=0.00156] \n"
     ]
    },
    {
     "name": "stdout",
     "output_type": "stream",
     "text": [
      "epoch=86, loss=0.011085799779357582\n"
     ]
    },
    {
     "name": "stderr",
     "output_type": "stream",
     "text": [
      "100%|██████████| 18/18 [00:00<00:00, 60.02batch/s, train_loss=0.00142] \n"
     ]
    },
    {
     "name": "stdout",
     "output_type": "stream",
     "text": [
      "epoch=87, loss=0.010898823605529193\n"
     ]
    },
    {
     "name": "stderr",
     "output_type": "stream",
     "text": [
      "100%|██████████| 18/18 [00:00<00:00, 73.96batch/s, train_loss=0.00137] \n"
     ]
    },
    {
     "name": "stdout",
     "output_type": "stream",
     "text": [
      "epoch=88, loss=0.010897431673674749\n"
     ]
    },
    {
     "name": "stderr",
     "output_type": "stream",
     "text": [
      "100%|██████████| 18/18 [00:00<00:00, 82.56batch/s, train_loss=0.00133]\n"
     ]
    },
    {
     "name": "stdout",
     "output_type": "stream",
     "text": [
      "epoch=89, loss=0.010845802966890665\n"
     ]
    },
    {
     "name": "stderr",
     "output_type": "stream",
     "text": [
      "100%|██████████| 18/18 [00:00<00:00, 56.88batch/s, train_loss=0.00144] \n"
     ]
    },
    {
     "name": "stdout",
     "output_type": "stream",
     "text": [
      "epoch=90, loss=0.01090586003250089\n"
     ]
    },
    {
     "name": "stderr",
     "output_type": "stream",
     "text": [
      "100%|██████████| 18/18 [00:00<00:00, 67.18batch/s, train_loss=0.00136] \n"
     ]
    },
    {
     "name": "stdout",
     "output_type": "stream",
     "text": [
      "epoch=91, loss=0.010843664110734546\n"
     ]
    },
    {
     "name": "stderr",
     "output_type": "stream",
     "text": [
      "100%|██████████| 18/18 [00:00<00:00, 64.12batch/s, train_loss=0.00139] \n"
     ]
    },
    {
     "name": "stdout",
     "output_type": "stream",
     "text": [
      "epoch=92, loss=0.010878787949167449\n"
     ]
    },
    {
     "name": "stderr",
     "output_type": "stream",
     "text": [
      "100%|██████████| 18/18 [00:00<00:00, 49.20batch/s, train_loss=0.00109] \n"
     ]
    },
    {
     "name": "stdout",
     "output_type": "stream",
     "text": [
      "epoch=93, loss=0.010641334273691835\n"
     ]
    },
    {
     "name": "stderr",
     "output_type": "stream",
     "text": [
      "100%|██████████| 18/18 [00:00<00:00, 60.85batch/s, train_loss=0.00121] \n"
     ]
    },
    {
     "name": "stdout",
     "output_type": "stream",
     "text": [
      "epoch=94, loss=0.010715804649838085\n"
     ]
    },
    {
     "name": "stderr",
     "output_type": "stream",
     "text": [
      "100%|██████████| 18/18 [00:00<00:00, 63.02batch/s, train_loss=0.0012]  \n"
     ]
    },
    {
     "name": "stdout",
     "output_type": "stream",
     "text": [
      "epoch=95, loss=0.010748627249536843\n"
     ]
    },
    {
     "name": "stderr",
     "output_type": "stream",
     "text": [
      "100%|██████████| 18/18 [00:00<00:00, 49.90batch/s, train_loss=0.0013]  \n"
     ]
    },
    {
     "name": "stdout",
     "output_type": "stream",
     "text": [
      "epoch=96, loss=0.010771890905396693\n"
     ]
    },
    {
     "name": "stderr",
     "output_type": "stream",
     "text": [
      "100%|██████████| 18/18 [00:00<00:00, 64.05batch/s, train_loss=0.00122] \n"
     ]
    },
    {
     "name": "stdout",
     "output_type": "stream",
     "text": [
      "epoch=97, loss=0.010692014925438783\n"
     ]
    },
    {
     "name": "stderr",
     "output_type": "stream",
     "text": [
      "100%|██████████| 18/18 [00:00<00:00, 62.13batch/s, train_loss=0.00142] \n"
     ]
    },
    {
     "name": "stdout",
     "output_type": "stream",
     "text": [
      "epoch=98, loss=0.010878291750776356\n"
     ]
    },
    {
     "name": "stderr",
     "output_type": "stream",
     "text": [
      "100%|██████████| 18/18 [00:00<00:00, 51.50batch/s, train_loss=0.0013]  \n"
     ]
    },
    {
     "name": "stdout",
     "output_type": "stream",
     "text": [
      "epoch=99, loss=0.010777630216088789\n"
     ]
    },
    {
     "name": "stderr",
     "output_type": "stream",
     "text": [
      "100%|██████████| 18/18 [00:00<00:00, 63.92batch/s, train_loss=0.00119] "
     ]
    },
    {
     "name": "stdout",
     "output_type": "stream",
     "text": [
      "epoch=100, loss=0.010644557937465868\n"
     ]
    },
    {
     "name": "stderr",
     "output_type": "stream",
     "text": [
      "\n"
     ]
    }
   ],
   "source": [
    "\"\"\"\n",
    "This block of code calculates the outliers alongside the valence axis\n",
    "\"\"\"\n",
    "columns = [\"workerID\", \"SongId\", \"Valence\"]\n",
    "original_df = read_csv(DF_PATH, skipinitialspace=True, usecols=columns)\n",
    "original_df.columns = [\"user_id\", \"item_id\", \"rating\"]\n",
    "\n",
    "data_converter = DataConverter(\n",
    "        original_df=original_df, n_random_users=0, n_ratings_per_random_user=9\n",
    ")\n",
    "\n",
    "valence_model = MF(\n",
    "    n_users=data_converter.n_users,\n",
    "    n_items=data_converter.n_item,\n",
    "    include_bias=True\n",
    ")\n",
    "epochs = 100\n",
    "\n",
    "criterion = MSELoss()\n",
    "optimizer = SGD(valence_model.parameters(), lr=5, weight_decay=1e-3)\n",
    "runner = Runner(\n",
    "    model=valence_model,\n",
    "    criterion=criterion,\n",
    "    optimizer=optimizer,\n",
    "    epochs=epochs\n",
    ")\n",
    "\n",
    "train_set = create_dataset(data_converter=data_converter)\n",
    "train_load = DataLoader(train_set, batch_size=1000, shuffle=True)\n",
    "users, items, ratings = select_n_random(train_set)\n",
    "\n",
    "with SummaryWriter(\"runs/DEAM/valence\") as writer:\n",
    "    writer.add_graph(valence_model, (users, items))\n",
    "\n",
    "    for epoch in range(epochs):\n",
    "        epoch_loss = runner.train(train_loader=train_load, epoch=epoch, writer=writer)\n",
    "\n",
    "        print(f\"epoch={epoch + 1}, loss={epoch_loss}\")\n",
    "\n",
    "torch.save(valence_model.state_dict(), f\"{MODELS_DIR}/DEAM/raw/valence.pt\")"
   ],
   "metadata": {
    "collapsed": false,
    "pycharm": {
     "name": "#%%\n"
    }
   }
  },
  {
   "cell_type": "code",
   "execution_count": 4,
   "outputs": [
    {
     "name": "stderr",
     "output_type": "stream",
     "text": [
      "100%|██████████| 18/18 [00:00<00:00, 79.73batch/s, train_loss=0.0135]\n"
     ]
    },
    {
     "name": "stdout",
     "output_type": "stream",
     "text": [
      "epoch=1, loss=0.17883310205360936\n"
     ]
    },
    {
     "name": "stderr",
     "output_type": "stream",
     "text": [
      "100%|██████████| 18/18 [00:00<00:00, 57.15batch/s, train_loss=0.01]   \n"
     ]
    },
    {
     "name": "stdout",
     "output_type": "stream",
     "text": [
      "epoch=2, loss=0.09467792048947565\n"
     ]
    },
    {
     "name": "stderr",
     "output_type": "stream",
     "text": [
      "100%|██████████| 18/18 [00:00<00:00, 83.23batch/s, train_loss=0.00665]\n"
     ]
    },
    {
     "name": "stdout",
     "output_type": "stream",
     "text": [
      "epoch=3, loss=0.07207826583138828\n"
     ]
    },
    {
     "name": "stderr",
     "output_type": "stream",
     "text": [
      "100%|██████████| 18/18 [00:00<00:00, 77.29batch/s, train_loss=0.00688]\n"
     ]
    },
    {
     "name": "stdout",
     "output_type": "stream",
     "text": [
      "epoch=4, loss=0.05761670312388191\n"
     ]
    },
    {
     "name": "stderr",
     "output_type": "stream",
     "text": [
      "100%|██████████| 18/18 [00:00<00:00, 58.24batch/s, train_loss=0.00491]\n"
     ]
    },
    {
     "name": "stdout",
     "output_type": "stream",
     "text": [
      "epoch=5, loss=0.047798272297300146\n"
     ]
    },
    {
     "name": "stderr",
     "output_type": "stream",
     "text": [
      "100%|██████████| 18/18 [00:00<00:00, 82.25batch/s, train_loss=0.0045] \n"
     ]
    },
    {
     "name": "stdout",
     "output_type": "stream",
     "text": [
      "epoch=6, loss=0.04247609856210906\n"
     ]
    },
    {
     "name": "stderr",
     "output_type": "stream",
     "text": [
      "100%|██████████| 18/18 [00:00<00:00, 79.08batch/s, train_loss=0.00451]\n"
     ]
    },
    {
     "name": "stdout",
     "output_type": "stream",
     "text": [
      "epoch=7, loss=0.03850702433339481\n"
     ]
    },
    {
     "name": "stderr",
     "output_type": "stream",
     "text": [
      "100%|██████████| 18/18 [00:00<00:00, 63.37batch/s, train_loss=0.00326]\n"
     ]
    },
    {
     "name": "stdout",
     "output_type": "stream",
     "text": [
      "epoch=8, loss=0.034191212645892435\n"
     ]
    },
    {
     "name": "stderr",
     "output_type": "stream",
     "text": [
      "100%|██████████| 18/18 [00:00<00:00, 78.13batch/s, train_loss=0.00387]\n"
     ]
    },
    {
     "name": "stdout",
     "output_type": "stream",
     "text": [
      "epoch=9, loss=0.03175173814132296\n"
     ]
    },
    {
     "name": "stderr",
     "output_type": "stream",
     "text": [
      "100%|██████████| 18/18 [00:00<00:00, 87.27batch/s, train_loss=0.00298]\n"
     ]
    },
    {
     "name": "stdout",
     "output_type": "stream",
     "text": [
      "epoch=10, loss=0.02863527478431833\n"
     ]
    },
    {
     "name": "stderr",
     "output_type": "stream",
     "text": [
      "100%|██████████| 18/18 [00:00<00:00, 73.08batch/s, train_loss=0.00345]\n"
     ]
    },
    {
     "name": "stdout",
     "output_type": "stream",
     "text": [
      "epoch=11, loss=0.02711151904689854\n"
     ]
    },
    {
     "name": "stderr",
     "output_type": "stream",
     "text": [
      "100%|██████████| 18/18 [00:00<00:00, 61.36batch/s, train_loss=0.00271]\n"
     ]
    },
    {
     "name": "stdout",
     "output_type": "stream",
     "text": [
      "epoch=12, loss=0.024808207914747037\n"
     ]
    },
    {
     "name": "stderr",
     "output_type": "stream",
     "text": [
      "100%|██████████| 18/18 [00:00<00:00, 69.17batch/s, train_loss=0.00266]\n"
     ]
    },
    {
     "name": "stdout",
     "output_type": "stream",
     "text": [
      "epoch=13, loss=0.023318361105590033\n"
     ]
    },
    {
     "name": "stderr",
     "output_type": "stream",
     "text": [
      "100%|██████████| 18/18 [00:00<00:00, 70.82batch/s, train_loss=0.00238]\n"
     ]
    },
    {
     "name": "stdout",
     "output_type": "stream",
     "text": [
      "epoch=14, loss=0.021831014536578083\n"
     ]
    },
    {
     "name": "stderr",
     "output_type": "stream",
     "text": [
      "100%|██████████| 18/18 [00:00<00:00, 55.61batch/s, train_loss=0.00246] \n"
     ]
    },
    {
     "name": "stdout",
     "output_type": "stream",
     "text": [
      "epoch=15, loss=0.020697899390911236\n"
     ]
    },
    {
     "name": "stderr",
     "output_type": "stream",
     "text": [
      "100%|██████████| 18/18 [00:00<00:00, 72.50batch/s, train_loss=0.00247]\n"
     ]
    },
    {
     "name": "stdout",
     "output_type": "stream",
     "text": [
      "epoch=16, loss=0.019738359177934713\n"
     ]
    },
    {
     "name": "stderr",
     "output_type": "stream",
     "text": [
      "100%|██████████| 18/18 [00:00<00:00, 70.97batch/s, train_loss=0.00215] \n"
     ]
    },
    {
     "name": "stdout",
     "output_type": "stream",
     "text": [
      "epoch=17, loss=0.01861864854960606\n"
     ]
    },
    {
     "name": "stderr",
     "output_type": "stream",
     "text": [
      "100%|██████████| 18/18 [00:00<00:00, 60.47batch/s, train_loss=0.0017]  \n"
     ]
    },
    {
     "name": "stdout",
     "output_type": "stream",
     "text": [
      "epoch=18, loss=0.017473338151800223\n"
     ]
    },
    {
     "name": "stderr",
     "output_type": "stream",
     "text": [
      "100%|██████████| 18/18 [00:00<00:00, 82.97batch/s, train_loss=0.00151] \n"
     ]
    },
    {
     "name": "stdout",
     "output_type": "stream",
     "text": [
      "epoch=19, loss=0.016655148891539413\n"
     ]
    },
    {
     "name": "stderr",
     "output_type": "stream",
     "text": [
      "100%|██████████| 18/18 [00:00<00:00, 83.50batch/s, train_loss=0.00171]\n"
     ]
    },
    {
     "name": "stdout",
     "output_type": "stream",
     "text": [
      "epoch=20, loss=0.016324336677789687\n"
     ]
    },
    {
     "name": "stderr",
     "output_type": "stream",
     "text": [
      "100%|██████████| 18/18 [00:00<00:00, 60.14batch/s, train_loss=0.00139] \n"
     ]
    },
    {
     "name": "stdout",
     "output_type": "stream",
     "text": [
      "epoch=21, loss=0.015546332926585756\n"
     ]
    },
    {
     "name": "stderr",
     "output_type": "stream",
     "text": [
      "100%|██████████| 18/18 [00:00<00:00, 80.34batch/s, train_loss=0.0018]  \n"
     ]
    },
    {
     "name": "stdout",
     "output_type": "stream",
     "text": [
      "epoch=22, loss=0.015433423471861872\n"
     ]
    },
    {
     "name": "stderr",
     "output_type": "stream",
     "text": [
      "100%|██████████| 18/18 [00:00<00:00, 83.98batch/s, train_loss=0.00184]\n"
     ]
    },
    {
     "name": "stdout",
     "output_type": "stream",
     "text": [
      "epoch=23, loss=0.01508861992071415\n"
     ]
    },
    {
     "name": "stderr",
     "output_type": "stream",
     "text": [
      "100%|██████████| 18/18 [00:00<00:00, 64.51batch/s, train_loss=0.00169]\n"
     ]
    },
    {
     "name": "stdout",
     "output_type": "stream",
     "text": [
      "epoch=24, loss=0.014641115945988688\n"
     ]
    },
    {
     "name": "stderr",
     "output_type": "stream",
     "text": [
      "100%|██████████| 18/18 [00:00<00:00, 87.86batch/s, train_loss=0.0021]   \n"
     ]
    },
    {
     "name": "stdout",
     "output_type": "stream",
     "text": [
      "epoch=25, loss=0.014643714302572712\n"
     ]
    },
    {
     "name": "stderr",
     "output_type": "stream",
     "text": [
      "100%|██████████| 18/18 [00:00<00:00, 57.55batch/s, train_loss=0.00159] \n"
     ]
    },
    {
     "name": "stdout",
     "output_type": "stream",
     "text": [
      "epoch=26, loss=0.013968993467503582\n"
     ]
    },
    {
     "name": "stderr",
     "output_type": "stream",
     "text": [
      "100%|██████████| 18/18 [00:00<00:00, 35.23batch/s, train_loss=0.00148] \n"
     ]
    },
    {
     "name": "stdout",
     "output_type": "stream",
     "text": [
      "epoch=27, loss=0.013651461511850359\n"
     ]
    },
    {
     "name": "stderr",
     "output_type": "stream",
     "text": [
      "100%|██████████| 18/18 [00:00<00:00, 42.65batch/s, train_loss=0.00166] \n"
     ]
    },
    {
     "name": "stdout",
     "output_type": "stream",
     "text": [
      "epoch=28, loss=0.013624645785011096\n"
     ]
    },
    {
     "name": "stderr",
     "output_type": "stream",
     "text": [
      "100%|██████████| 18/18 [00:00<00:00, 49.21batch/s, train_loss=0.00193] \n"
     ]
    },
    {
     "name": "stdout",
     "output_type": "stream",
     "text": [
      "epoch=29, loss=0.013637118998272666\n"
     ]
    },
    {
     "name": "stderr",
     "output_type": "stream",
     "text": [
      "100%|██████████| 18/18 [00:00<00:00, 19.06batch/s, train_loss=0.002]   \n"
     ]
    },
    {
     "name": "stdout",
     "output_type": "stream",
     "text": [
      "epoch=30, loss=0.01356735977119413\n"
     ]
    },
    {
     "name": "stderr",
     "output_type": "stream",
     "text": [
      "100%|██████████| 18/18 [00:00<00:00, 26.49batch/s, train_loss=0.00196] \n"
     ]
    },
    {
     "name": "stdout",
     "output_type": "stream",
     "text": [
      "epoch=31, loss=0.013325002370209529\n"
     ]
    },
    {
     "name": "stderr",
     "output_type": "stream",
     "text": [
      "100%|██████████| 18/18 [00:00<00:00, 48.76batch/s, train_loss=0.00164] \n"
     ]
    },
    {
     "name": "stdout",
     "output_type": "stream",
     "text": [
      "epoch=32, loss=0.012898232369587337\n"
     ]
    },
    {
     "name": "stderr",
     "output_type": "stream",
     "text": [
      "100%|██████████| 18/18 [00:00<00:00, 35.20batch/s, train_loss=0.00158] \n"
     ]
    },
    {
     "name": "stdout",
     "output_type": "stream",
     "text": [
      "epoch=33, loss=0.012757887422010816\n"
     ]
    },
    {
     "name": "stderr",
     "output_type": "stream",
     "text": [
      "100%|██████████| 18/18 [00:00<00:00, 48.21batch/s, train_loss=0.00138] \n"
     ]
    },
    {
     "name": "stdout",
     "output_type": "stream",
     "text": [
      "epoch=34, loss=0.012506732647788937\n"
     ]
    },
    {
     "name": "stderr",
     "output_type": "stream",
     "text": [
      "100%|██████████| 18/18 [00:00<00:00, 59.66batch/s, train_loss=0.00157] \n"
     ]
    },
    {
     "name": "stdout",
     "output_type": "stream",
     "text": [
      "epoch=35, loss=0.012569092670391345\n"
     ]
    },
    {
     "name": "stderr",
     "output_type": "stream",
     "text": [
      "100%|██████████| 18/18 [00:00<00:00, 67.33batch/s, train_loss=0.00134] \n"
     ]
    },
    {
     "name": "stdout",
     "output_type": "stream",
     "text": [
      "epoch=36, loss=0.01223512912002103\n"
     ]
    },
    {
     "name": "stderr",
     "output_type": "stream",
     "text": [
      "100%|██████████| 18/18 [00:00<00:00, 48.86batch/s, train_loss=0.00149] \n"
     ]
    },
    {
     "name": "stdout",
     "output_type": "stream",
     "text": [
      "epoch=37, loss=0.012233913331196224\n"
     ]
    },
    {
     "name": "stderr",
     "output_type": "stream",
     "text": [
      "100%|██████████| 18/18 [00:00<00:00, 69.75batch/s, train_loss=0.00136] \n"
     ]
    },
    {
     "name": "stdout",
     "output_type": "stream",
     "text": [
      "epoch=38, loss=0.012119631891620571\n"
     ]
    },
    {
     "name": "stderr",
     "output_type": "stream",
     "text": [
      "100%|██████████| 18/18 [00:00<00:00, 38.68batch/s, train_loss=0.00113] \n"
     ]
    },
    {
     "name": "stdout",
     "output_type": "stream",
     "text": [
      "epoch=39, loss=0.011862889054520376\n"
     ]
    },
    {
     "name": "stderr",
     "output_type": "stream",
     "text": [
      "100%|██████████| 18/18 [00:00<00:00, 31.41batch/s, train_loss=0.00156] \n"
     ]
    },
    {
     "name": "stdout",
     "output_type": "stream",
     "text": [
      "epoch=40, loss=0.012126652686760341\n"
     ]
    },
    {
     "name": "stderr",
     "output_type": "stream",
     "text": [
      "100%|██████████| 18/18 [00:00<00:00, 23.86batch/s, train_loss=0.00158] \n"
     ]
    },
    {
     "name": "stdout",
     "output_type": "stream",
     "text": [
      "epoch=41, loss=0.012104234854722843\n"
     ]
    },
    {
     "name": "stderr",
     "output_type": "stream",
     "text": [
      "100%|██████████| 18/18 [00:00<00:00, 28.37batch/s, train_loss=0.00141] \n"
     ]
    },
    {
     "name": "stdout",
     "output_type": "stream",
     "text": [
      "epoch=42, loss=0.011856966771956148\n"
     ]
    },
    {
     "name": "stderr",
     "output_type": "stream",
     "text": [
      "100%|██████████| 18/18 [00:00<00:00, 45.12batch/s, train_loss=0.00129] \n"
     ]
    },
    {
     "name": "stdout",
     "output_type": "stream",
     "text": [
      "epoch=43, loss=0.01170292911858394\n"
     ]
    },
    {
     "name": "stderr",
     "output_type": "stream",
     "text": [
      "100%|██████████| 18/18 [00:00<00:00, 64.91batch/s, train_loss=0.00157] \n"
     ]
    },
    {
     "name": "stdout",
     "output_type": "stream",
     "text": [
      "epoch=44, loss=0.011902371007820656\n"
     ]
    },
    {
     "name": "stderr",
     "output_type": "stream",
     "text": [
      "100%|██████████| 18/18 [00:00<00:00, 65.47batch/s, train_loss=0.00169] \n"
     ]
    },
    {
     "name": "stdout",
     "output_type": "stream",
     "text": [
      "epoch=45, loss=0.011946059367780029\n"
     ]
    },
    {
     "name": "stderr",
     "output_type": "stream",
     "text": [
      "100%|██████████| 18/18 [00:00<00:00, 39.53batch/s, train_loss=0.00161] \n"
     ]
    },
    {
     "name": "stdout",
     "output_type": "stream",
     "text": [
      "epoch=46, loss=0.011815503164612013\n"
     ]
    },
    {
     "name": "stderr",
     "output_type": "stream",
     "text": [
      "100%|██████████| 18/18 [00:00<00:00, 67.16batch/s, train_loss=0.00141] \n"
     ]
    },
    {
     "name": "stdout",
     "output_type": "stream",
     "text": [
      "epoch=47, loss=0.011619970632010495\n"
     ]
    },
    {
     "name": "stderr",
     "output_type": "stream",
     "text": [
      "100%|██████████| 18/18 [00:00<00:00, 71.96batch/s, train_loss=0.0016]  \n"
     ]
    },
    {
     "name": "stdout",
     "output_type": "stream",
     "text": [
      "epoch=48, loss=0.011703841397474551\n"
     ]
    },
    {
     "name": "stderr",
     "output_type": "stream",
     "text": [
      "100%|██████████| 18/18 [00:00<00:00, 53.17batch/s, train_loss=0.00126] \n"
     ]
    },
    {
     "name": "stdout",
     "output_type": "stream",
     "text": [
      "epoch=49, loss=0.011387174252806036\n"
     ]
    },
    {
     "name": "stderr",
     "output_type": "stream",
     "text": [
      "100%|██████████| 18/18 [00:00<00:00, 60.15batch/s, train_loss=0.00165] \n"
     ]
    },
    {
     "name": "stdout",
     "output_type": "stream",
     "text": [
      "epoch=50, loss=0.011689461938266097\n"
     ]
    },
    {
     "name": "stderr",
     "output_type": "stream",
     "text": [
      "100%|██████████| 18/18 [00:00<00:00, 29.10batch/s, train_loss=0.00112] \n"
     ]
    },
    {
     "name": "stdout",
     "output_type": "stream",
     "text": [
      "epoch=51, loss=0.011212628335788332\n"
     ]
    },
    {
     "name": "stderr",
     "output_type": "stream",
     "text": [
      "100%|██████████| 18/18 [00:00<00:00, 55.12batch/s, train_loss=0.00136] \n"
     ]
    },
    {
     "name": "stdout",
     "output_type": "stream",
     "text": [
      "epoch=52, loss=0.01137335842231224\n"
     ]
    },
    {
     "name": "stderr",
     "output_type": "stream",
     "text": [
      "100%|██████████| 18/18 [00:00<00:00, 48.72batch/s, train_loss=0.00145] \n"
     ]
    },
    {
     "name": "stdout",
     "output_type": "stream",
     "text": [
      "epoch=53, loss=0.011443277657032012\n"
     ]
    },
    {
     "name": "stderr",
     "output_type": "stream",
     "text": [
      "100%|██████████| 18/18 [00:00<00:00, 74.16batch/s, train_loss=0.00127] \n"
     ]
    },
    {
     "name": "stdout",
     "output_type": "stream",
     "text": [
      "epoch=54, loss=0.011191426000718412\n"
     ]
    },
    {
     "name": "stderr",
     "output_type": "stream",
     "text": [
      "100%|██████████| 18/18 [00:00<00:00, 76.71batch/s, train_loss=0.00155] \n"
     ]
    },
    {
     "name": "stdout",
     "output_type": "stream",
     "text": [
      "epoch=55, loss=0.011447990990918259\n"
     ]
    },
    {
     "name": "stderr",
     "output_type": "stream",
     "text": [
      "100%|██████████| 18/18 [00:00<00:00, 59.48batch/s, train_loss=0.00138] \n"
     ]
    },
    {
     "name": "stdout",
     "output_type": "stream",
     "text": [
      "epoch=56, loss=0.011256182243084086\n"
     ]
    },
    {
     "name": "stderr",
     "output_type": "stream",
     "text": [
      "100%|██████████| 18/18 [00:00<00:00, 75.39batch/s, train_loss=0.0013]  \n"
     ]
    },
    {
     "name": "stdout",
     "output_type": "stream",
     "text": [
      "epoch=57, loss=0.01117065344391198\n"
     ]
    },
    {
     "name": "stderr",
     "output_type": "stream",
     "text": [
      "100%|██████████| 18/18 [00:00<00:00, 77.80batch/s, train_loss=0.00163] \n"
     ]
    },
    {
     "name": "stdout",
     "output_type": "stream",
     "text": [
      "epoch=58, loss=0.011412690320919301\n"
     ]
    },
    {
     "name": "stderr",
     "output_type": "stream",
     "text": [
      "100%|██████████| 18/18 [00:00<00:00, 58.68batch/s, train_loss=0.00121] \n"
     ]
    },
    {
     "name": "stdout",
     "output_type": "stream",
     "text": [
      "epoch=59, loss=0.010999818883065518\n"
     ]
    },
    {
     "name": "stderr",
     "output_type": "stream",
     "text": [
      "100%|██████████| 18/18 [00:00<00:00, 78.78batch/s, train_loss=0.00123] \n"
     ]
    },
    {
     "name": "stdout",
     "output_type": "stream",
     "text": [
      "epoch=60, loss=0.011033524824627515\n"
     ]
    },
    {
     "name": "stderr",
     "output_type": "stream",
     "text": [
      "100%|██████████| 18/18 [00:00<00:00, 76.87batch/s, train_loss=0.00111] \n"
     ]
    },
    {
     "name": "stdout",
     "output_type": "stream",
     "text": [
      "epoch=61, loss=0.010931790250128713\n"
     ]
    },
    {
     "name": "stderr",
     "output_type": "stream",
     "text": [
      "100%|██████████| 18/18 [00:00<00:00, 60.04batch/s, train_loss=0.00149]\n"
     ]
    },
    {
     "name": "stdout",
     "output_type": "stream",
     "text": [
      "epoch=62, loss=0.011182150031985909\n"
     ]
    },
    {
     "name": "stderr",
     "output_type": "stream",
     "text": [
      "100%|██████████| 18/18 [00:00<00:00, 77.94batch/s, train_loss=0.0014]  \n"
     ]
    },
    {
     "name": "stdout",
     "output_type": "stream",
     "text": [
      "epoch=63, loss=0.011146392148116538\n"
     ]
    },
    {
     "name": "stderr",
     "output_type": "stream",
     "text": [
      "100%|██████████| 18/18 [00:00<00:00, 88.74batch/s, train_loss=0.00113] \n"
     ]
    },
    {
     "name": "stdout",
     "output_type": "stream",
     "text": [
      "epoch=64, loss=0.010854975544173143\n"
     ]
    },
    {
     "name": "stderr",
     "output_type": "stream",
     "text": [
      "100%|██████████| 18/18 [00:00<00:00, 58.43batch/s, train_loss=0.00198] \n"
     ]
    },
    {
     "name": "stdout",
     "output_type": "stream",
     "text": [
      "epoch=65, loss=0.011590972148138904\n"
     ]
    },
    {
     "name": "stderr",
     "output_type": "stream",
     "text": [
      "100%|██████████| 18/18 [00:00<00:00, 77.92batch/s, train_loss=0.00133] \n"
     ]
    },
    {
     "name": "stdout",
     "output_type": "stream",
     "text": [
      "epoch=66, loss=0.011000273217414987\n"
     ]
    },
    {
     "name": "stderr",
     "output_type": "stream",
     "text": [
      "100%|██████████| 18/18 [00:00<00:00, 80.26batch/s, train_loss=0.00128]\n"
     ]
    },
    {
     "name": "stdout",
     "output_type": "stream",
     "text": [
      "epoch=67, loss=0.010952967426900205\n"
     ]
    },
    {
     "name": "stderr",
     "output_type": "stream",
     "text": [
      "100%|██████████| 18/18 [00:00<00:00, 58.84batch/s, train_loss=0.00113]\n"
     ]
    },
    {
     "name": "stdout",
     "output_type": "stream",
     "text": [
      "epoch=68, loss=0.010785556015269511\n"
     ]
    },
    {
     "name": "stderr",
     "output_type": "stream",
     "text": [
      "100%|██████████| 18/18 [00:00<00:00, 67.94batch/s, train_loss=0.00152] \n"
     ]
    },
    {
     "name": "stdout",
     "output_type": "stream",
     "text": [
      "epoch=69, loss=0.011099390512910381\n"
     ]
    },
    {
     "name": "stderr",
     "output_type": "stream",
     "text": [
      "100%|██████████| 18/18 [00:00<00:00, 74.91batch/s, train_loss=0.00132] \n"
     ]
    },
    {
     "name": "stdout",
     "output_type": "stream",
     "text": [
      "epoch=70, loss=0.01091842549011625\n"
     ]
    },
    {
     "name": "stderr",
     "output_type": "stream",
     "text": [
      "100%|██████████| 18/18 [00:00<00:00, 58.07batch/s, train_loss=0.00101] \n"
     ]
    },
    {
     "name": "stdout",
     "output_type": "stream",
     "text": [
      "epoch=71, loss=0.010670775893433342\n"
     ]
    },
    {
     "name": "stderr",
     "output_type": "stream",
     "text": [
      "100%|██████████| 18/18 [00:00<00:00, 84.70batch/s, train_loss=0.00098]\n"
     ]
    },
    {
     "name": "stdout",
     "output_type": "stream",
     "text": [
      "epoch=72, loss=0.010630900467264242\n"
     ]
    },
    {
     "name": "stderr",
     "output_type": "stream",
     "text": [
      "100%|██████████| 18/18 [00:00<00:00, 88.84batch/s, train_loss=0.00144] \n"
     ]
    },
    {
     "name": "stdout",
     "output_type": "stream",
     "text": [
      "epoch=73, loss=0.010983074768863876\n"
     ]
    },
    {
     "name": "stderr",
     "output_type": "stream",
     "text": [
      "100%|██████████| 18/18 [00:00<00:00, 57.10batch/s, train_loss=0.00141] \n"
     ]
    },
    {
     "name": "stdout",
     "output_type": "stream",
     "text": [
      "epoch=74, loss=0.010986764982856551\n"
     ]
    },
    {
     "name": "stderr",
     "output_type": "stream",
     "text": [
      "100%|██████████| 18/18 [00:00<00:00, 78.17batch/s, train_loss=0.000931]\n"
     ]
    },
    {
     "name": "stdout",
     "output_type": "stream",
     "text": [
      "epoch=75, loss=0.01058172884172407\n"
     ]
    },
    {
     "name": "stderr",
     "output_type": "stream",
     "text": [
      "100%|██████████| 18/18 [00:00<00:00, 81.28batch/s, train_loss=0.00174]\n"
     ]
    },
    {
     "name": "stdout",
     "output_type": "stream",
     "text": [
      "epoch=76, loss=0.011219659782689193\n"
     ]
    },
    {
     "name": "stderr",
     "output_type": "stream",
     "text": [
      "100%|██████████| 18/18 [00:00<00:00, 59.25batch/s, train_loss=0.00114] \n"
     ]
    },
    {
     "name": "stdout",
     "output_type": "stream",
     "text": [
      "epoch=77, loss=0.010682949155569077\n"
     ]
    },
    {
     "name": "stderr",
     "output_type": "stream",
     "text": [
      "100%|██████████| 18/18 [00:00<00:00, 76.33batch/s, train_loss=0.00125] \n"
     ]
    },
    {
     "name": "stdout",
     "output_type": "stream",
     "text": [
      "epoch=78, loss=0.010787951480725717\n"
     ]
    },
    {
     "name": "stderr",
     "output_type": "stream",
     "text": [
      "100%|██████████| 18/18 [00:00<00:00, 72.75batch/s, train_loss=0.0014]  \n"
     ]
    },
    {
     "name": "stdout",
     "output_type": "stream",
     "text": [
      "epoch=79, loss=0.010864962835764061\n"
     ]
    },
    {
     "name": "stderr",
     "output_type": "stream",
     "text": [
      "100%|██████████| 18/18 [00:00<00:00, 78.52batch/s, train_loss=0.00136] \n"
     ]
    },
    {
     "name": "stdout",
     "output_type": "stream",
     "text": [
      "epoch=80, loss=0.010844634256486234\n"
     ]
    },
    {
     "name": "stderr",
     "output_type": "stream",
     "text": [
      "100%|██████████| 18/18 [00:00<00:00, 58.73batch/s, train_loss=0.00148] \n"
     ]
    },
    {
     "name": "stdout",
     "output_type": "stream",
     "text": [
      "epoch=81, loss=0.010967199950382625\n"
     ]
    },
    {
     "name": "stderr",
     "output_type": "stream",
     "text": [
      "100%|██████████| 18/18 [00:00<00:00, 85.91batch/s, train_loss=0.000997]\n"
     ]
    },
    {
     "name": "stdout",
     "output_type": "stream",
     "text": [
      "epoch=82, loss=0.010541122527471905\n"
     ]
    },
    {
     "name": "stderr",
     "output_type": "stream",
     "text": [
      "100%|██████████| 18/18 [00:00<00:00, 85.71batch/s, train_loss=0.00107]\n"
     ]
    },
    {
     "name": "stdout",
     "output_type": "stream",
     "text": [
      "epoch=83, loss=0.01057154871009547\n"
     ]
    },
    {
     "name": "stderr",
     "output_type": "stream",
     "text": [
      "100%|██████████| 18/18 [00:00<00:00, 59.52batch/s, train_loss=0.00114] \n"
     ]
    },
    {
     "name": "stdout",
     "output_type": "stream",
     "text": [
      "epoch=84, loss=0.010643825430294563\n"
     ]
    },
    {
     "name": "stderr",
     "output_type": "stream",
     "text": [
      "100%|██████████| 18/18 [00:00<00:00, 78.27batch/s, train_loss=0.00161]\n"
     ]
    },
    {
     "name": "stdout",
     "output_type": "stream",
     "text": [
      "epoch=85, loss=0.01102953392061694\n"
     ]
    },
    {
     "name": "stderr",
     "output_type": "stream",
     "text": [
      "100%|██████████| 18/18 [00:00<00:00, 64.53batch/s, train_loss=0.00105]\n"
     ]
    },
    {
     "name": "stdout",
     "output_type": "stream",
     "text": [
      "epoch=86, loss=0.010548803306859115\n"
     ]
    },
    {
     "name": "stderr",
     "output_type": "stream",
     "text": [
      "100%|██████████| 18/18 [00:00<00:00, 45.93batch/s, train_loss=0.00167] \n"
     ]
    },
    {
     "name": "stdout",
     "output_type": "stream",
     "text": [
      "epoch=87, loss=0.01105461206415604\n"
     ]
    },
    {
     "name": "stderr",
     "output_type": "stream",
     "text": [
      "100%|██████████| 18/18 [00:00<00:00, 80.80batch/s, train_loss=0.0012]  \n"
     ]
    },
    {
     "name": "stdout",
     "output_type": "stream",
     "text": [
      "epoch=88, loss=0.010606162642610486\n"
     ]
    },
    {
     "name": "stderr",
     "output_type": "stream",
     "text": [
      "100%|██████████| 18/18 [00:00<00:00, 85.46batch/s, train_loss=0.00145]\n"
     ]
    },
    {
     "name": "stdout",
     "output_type": "stream",
     "text": [
      "epoch=89, loss=0.010881263182081026\n"
     ]
    },
    {
     "name": "stderr",
     "output_type": "stream",
     "text": [
      "100%|██████████| 18/18 [00:00<00:00, 61.01batch/s, train_loss=0.0017] \n"
     ]
    },
    {
     "name": "stdout",
     "output_type": "stream",
     "text": [
      "epoch=90, loss=0.011000490454764202\n"
     ]
    },
    {
     "name": "stderr",
     "output_type": "stream",
     "text": [
      "100%|██████████| 18/18 [00:00<00:00, 64.73batch/s, train_loss=0.00142] \n"
     ]
    },
    {
     "name": "stdout",
     "output_type": "stream",
     "text": [
      "epoch=91, loss=0.010814318221190881\n"
     ]
    },
    {
     "name": "stderr",
     "output_type": "stream",
     "text": [
      "100%|██████████| 18/18 [00:00<00:00, 64.63batch/s, train_loss=0.00117] \n"
     ]
    },
    {
     "name": "stdout",
     "output_type": "stream",
     "text": [
      "epoch=92, loss=0.01056087257738771\n"
     ]
    },
    {
     "name": "stderr",
     "output_type": "stream",
     "text": [
      "100%|██████████| 18/18 [00:00<00:00, 49.72batch/s, train_loss=0.00143] \n"
     ]
    },
    {
     "name": "stdout",
     "output_type": "stream",
     "text": [
      "epoch=93, loss=0.010864609404884536\n"
     ]
    },
    {
     "name": "stderr",
     "output_type": "stream",
     "text": [
      "100%|██████████| 18/18 [00:00<00:00, 70.25batch/s, train_loss=0.00102] \n"
     ]
    },
    {
     "name": "stdout",
     "output_type": "stream",
     "text": [
      "epoch=94, loss=0.010464558875766292\n"
     ]
    },
    {
     "name": "stderr",
     "output_type": "stream",
     "text": [
      "100%|██████████| 18/18 [00:00<00:00, 65.72batch/s, train_loss=0.0016]  \n"
     ]
    },
    {
     "name": "stdout",
     "output_type": "stream",
     "text": [
      "epoch=95, loss=0.010958411687407\n"
     ]
    },
    {
     "name": "stderr",
     "output_type": "stream",
     "text": [
      "100%|██████████| 18/18 [00:00<00:00, 47.33batch/s, train_loss=0.00143] \n"
     ]
    },
    {
     "name": "stdout",
     "output_type": "stream",
     "text": [
      "epoch=96, loss=0.01080928281668959\n"
     ]
    },
    {
     "name": "stderr",
     "output_type": "stream",
     "text": [
      "100%|██████████| 18/18 [00:00<00:00, 61.29batch/s, train_loss=0.00121] \n"
     ]
    },
    {
     "name": "stdout",
     "output_type": "stream",
     "text": [
      "epoch=97, loss=0.01061578077283399\n"
     ]
    },
    {
     "name": "stderr",
     "output_type": "stream",
     "text": [
      "100%|██████████| 18/18 [00:00<00:00, 62.52batch/s, train_loss=0.00117] \n"
     ]
    },
    {
     "name": "stdout",
     "output_type": "stream",
     "text": [
      "epoch=98, loss=0.010581601203515612\n"
     ]
    },
    {
     "name": "stderr",
     "output_type": "stream",
     "text": [
      "100%|██████████| 18/18 [00:00<00:00, 59.55batch/s, train_loss=0.000914]\n"
     ]
    },
    {
     "name": "stdout",
     "output_type": "stream",
     "text": [
      "epoch=99, loss=0.010408482466792239\n"
     ]
    },
    {
     "name": "stderr",
     "output_type": "stream",
     "text": [
      "100%|██████████| 18/18 [00:00<00:00, 45.81batch/s, train_loss=0.00158] \n"
     ]
    },
    {
     "name": "stdout",
     "output_type": "stream",
     "text": [
      "epoch=100, loss=0.010911776545746573\n"
     ]
    }
   ],
   "source": [
    "\"\"\"\n",
    "This block of code calculates the outliers alongside the arousal axis\n",
    "\"\"\"\n",
    "columns = [\"workerID\", \"SongId\", \"Arousal\"]\n",
    "original_df = read_csv(DF_PATH, skipinitialspace=True, usecols=columns)\n",
    "original_df.columns = [\"user_id\", \"item_id\", \"rating\"]\n",
    "\n",
    "data_converter = DataConverter(\n",
    "        original_df=original_df, n_random_users=0, n_ratings_per_random_user=9\n",
    ")\n",
    "\n",
    "arousal_model = MF(\n",
    "    n_users=data_converter.n_users,\n",
    "    n_items=data_converter.n_item,\n",
    "    include_bias=True\n",
    ")\n",
    "epochs = 100\n",
    "\n",
    "criterion = MSELoss()\n",
    "optimizer = SGD(arousal_model.parameters(), lr=5, weight_decay=1e-3)\n",
    "runner = Runner(\n",
    "    model=arousal_model,\n",
    "    criterion=criterion,\n",
    "    optimizer=optimizer,\n",
    "    epochs=epochs,\n",
    ")\n",
    "\n",
    "train_set = create_dataset(data_converter=data_converter)\n",
    "train_load = DataLoader(train_set, batch_size=1000, shuffle=True)\n",
    "users, items, ratings = select_n_random(train_set)\n",
    "\n",
    "with SummaryWriter(\"runs/DEAM/arousal\") as writer:\n",
    "    writer.add_graph(arousal_model, (users, items))\n",
    "\n",
    "    for epoch in range(epochs):\n",
    "        epoch_loss = runner.train(train_loader=train_load, epoch=epoch, writer=writer)\n",
    "        print(f\"epoch={epoch + 1}, loss={epoch_loss}\")\n",
    "\n",
    "torch.save(arousal_model.state_dict(), f\"{MODELS_DIR}/DEAM/raw/arousal.pt\")"
   ],
   "metadata": {
    "collapsed": false,
    "pycharm": {
     "name": "#%%\n"
    }
   }
  },
  {
   "cell_type": "code",
   "execution_count": 5,
   "outputs": [
    {
     "name": "stdout",
     "output_type": "stream",
     "text": [
      "user: 2a6b63b7690efa2390c8d9fee11b1407, dist: -24.267710561123145, #items: 3\n",
      "user: ad3b997c4f2382a66e49f035cacfa682, dist: -12.296149919475926, #items: 3\n",
      "user: 65794ea9f5122952403585a237bc5e52, dist: 3.9826956566666603, #items: 3\n",
      "user: 374a5659c02e12b01db6319436f17a7d, dist: 9.869268496983022, #items: 3\n",
      "user: 615d836ba25132081e0ebd2182221a59, dist: 11.557994451083452, #items: 6\n",
      "user: 623681f76a3eab5d9c86fbc0e1ca264b, dist: 12.954068824121107, #items: 12\n",
      "user: fd5b08ce362d855ca9152a894348130c, dist: 15.645982217473833, #items: 222\n",
      "user: da37d1548ffd0631809f7be341e4fe4d, dist: 20.323636435677617, #items: 3\n",
      "user: a30d244141cb2f51e0803e79bc4bd147, dist: 23.57655772998743, #items: 985\n",
      "user: 6222da90667e5b0de990ce6c26dcfa15, dist: 25.76786325272345, #items: 12\n",
      "user: 46a2289decf79f747406fa91cd92fc27, dist: 29.46003879800084, #items: 333\n",
      "user: 00de940f0b5cfc82cca4791199e3bfb3, dist: 30.80378344960348, #items: 751\n",
      "user: 485d8e33a731a830ef0aebd71b016d08, dist: 33.635854594780135, #items: 6\n",
      "user: 807f0025a626896f04566aa37cfbce0d, dist: 34.72954530456788, #items: 3\n",
      "user: bb50b45a1874ede476874bd57e4cabb4, dist: 34.86017715318195, #items: 178\n",
      "user: 80db3788bc598d1b32979bea958d9358, dist: 35.124635988278555, #items: 6\n",
      "user: 607f6e34a0b5923333f6b16d3a59cc98, dist: 36.96475027871867, #items: 955\n",
      "user: e336e40ae9ac101cec57e8e4323ffb79, dist: 41.40670769630835, #items: 6\n",
      "user: 027cefa6afc040448d29558b3175cdc1, dist: 41.92073266365344, #items: 9\n",
      "user: ba85e679d3c3ac42412cb8deaba66a5a, dist: 42.97710029674272, #items: 3\n",
      "user: 78b5e9744073532cc376976b5fc6b2fc, dist: 43.85913643948108, #items: 718\n",
      "user: de2b2c35312ac2f0a8510743742c0219, dist: 43.963192960877606, #items: 937\n",
      "user: 7cecbffe1da5ae974952db6c13695afe, dist: 46.11427476114703, #items: 428\n",
      "user: 1ac10b86ba5ac18e06eea9f9954ab216, dist: 52.568794147971026, #items: 217\n",
      "user: d5b7242bc8a4bb534b8489c24b81fc34, dist: 53.15022312969187, #items: 3\n",
      "user: 9edfd17e8b78d0981868f84c5f20a118, dist: 53.97902832346027, #items: 3\n",
      "user: d633894e43380403a7984858af42ecea, dist: 55.04071703616037, #items: 36\n",
      "user: ff9c1993d2a21f2117c30d8e295dd4ac, dist: 56.18850781239023, #items: 661\n",
      "user: 26bf37eb1750d163fe01ef21b0033a77, dist: 56.6564721210967, #items: 6\n",
      "user: b4ba75169c585b959f1247fac7e4be7a, dist: 57.00827874883038, #items: 3\n",
      "user: d88c800327bffffea5562e23c276ede3, dist: 57.22356763863166, #items: 2\n",
      "user: accbf566ae920d6260d28454e1ee0d6a, dist: 57.34724371867623, #items: 396\n",
      "user: 490951556961e4b88fe1a3ac53b3b186, dist: 57.78828791033706, #items: 313\n",
      "user: 8dcd4de7be6479561269b90c1dc8a3b4, dist: 59.548400881224694, #items: 454\n",
      "user: 3ca50399775f0540bd002cb0d6f54a3d, dist: 60.616095372689124, #items: 6\n",
      "user: 0aef6e22005035ac1b93e0a99c961f4c, dist: 60.626197503159986, #items: 6\n",
      "user: fc2fa5656d42b49f3caf01f663085069, dist: 62.79617950343342, #items: 6\n",
      "user: 2afd218c3aecb6828d2be327f8b9c46f, dist: 62.995527780484096, #items: 760\n",
      "user: 883449004b1bf2a07a284f59ddae1fd7, dist: 63.11568450566586, #items: 190\n",
      "user: b92704ea431d60d62bd8fd18e2940067, dist: 63.71530157058253, #items: 6\n",
      "user: 2db8293d2a35a17f16ddf8e97122ec11, dist: 65.28885972487748, #items: 219\n",
      "user: f7502ffb3616a789e3e5b38f7325b95f, dist: 65.48698036329131, #items: 12\n",
      "user: b09a5957e5d5e47e556d203529a0ae6d, dist: 66.52776667950405, #items: 708\n",
      "user: 51452faff8948ad4780f9b6261e813a7, dist: 66.87436575057397, #items: 15\n",
      "user: 55016bfc877fc509861b4aba22ee4f7a, dist: 67.38822414915263, #items: 9\n",
      "user: 1065a2110392d3e83d61b4282f55353c, dist: 67.49261917116294, #items: 7\n",
      "user: ff18a27328ffd40ef52b7ebb7a0ded94, dist: 67.92429858491067, #items: 20\n",
      "user: 5b044cf509da1d8444b6f60c465240ef, dist: 67.93488122090648, #items: 3\n",
      "user: a00de41fdf121f6dfe5db851a575d2d1, dist: 69.29365405879143, #items: 146\n",
      "user: 67785f343e6d117fac4d1697697cd8ae, dist: 69.45509006251667, #items: 3\n",
      "user: b36ffffcd1831441a2a3b60919312ccd, dist: 70.4640470476499, #items: 118\n",
      "user: 0c37993dcf5f99f7b00d02495ed01bc3, dist: 70.47118007658835, #items: 339\n",
      "user: 651938620e6e6c78bfa7854784fe62c2, dist: 70.94860075034309, #items: 3\n",
      "user: f8ecfe868f673b16e2f6e5614cb46b7d, dist: 72.56364984001544, #items: 3\n",
      "user: 4c2037269ef8fd0a3349e6b54dd1bb1f, dist: 73.05156421889843, #items: 9\n",
      "user: a2a845665afabbc319eb7c5305b0a7ec, dist: 73.0817978369723, #items: 6\n",
      "user: c182e8b2f013e4e3c78cbfb01b8970c8, dist: 73.29784205479271, #items: 30\n",
      "user: 4eb43aa7f89260bb40b3970a45a82678, dist: 73.93615927268306, #items: 333\n",
      "user: a4410f548a05bf09b8541ec2672d8490, dist: 74.13642894662573, #items: 3\n",
      "user: 610d5d89f56667e3d4537c529aae496e, dist: 74.48122685696293, #items: 6\n",
      "user: 49be5653eaba26f1eb60fd9d63f23502, dist: 74.6071756136947, #items: 3\n",
      "user: 93f4b8995f647ceb58689b78eb2087ef, dist: 75.05355749102301, #items: 36\n",
      "user: d5cf45435e35cb9166f51f0a55b74a0e, dist: 75.21265923875296, #items: 75\n",
      "user: d0c51e42ea093dc9a9a98ef888637c8e, dist: 75.2347044678697, #items: 2\n",
      "user: 35536d2d90b93461aa74200967d002e8, dist: 76.03664014668671, #items: 3\n",
      "user: 6d59196a3f495939a1a776cbebe212ba, dist: 76.19018188547022, #items: 3\n",
      "user: 38531641e6c0628757776b0088bcc854, dist: 76.40630825371952, #items: 7\n",
      "user: d4d0cd1ae06f54909291d34ddd6ab497, dist: 77.04103583380449, #items: 78\n",
      "user: 259443e9cad56b4f68b664daa20cb323, dist: 77.24921979064723, #items: 305\n",
      "user: d0520656367db74cb316b9a26f60864e, dist: 77.28153071908571, #items: 12\n",
      "user: 0bda2743e12d8a204ab04122658d73a3, dist: 77.85192390902786, #items: 18\n",
      "user: 6cb1856680ea078c9f46437e2bdcd09e, dist: 77.92461079183778, #items: 6\n",
      "user: 186575d01f40537515988f1369d395eb, dist: 79.33202702706498, #items: 12\n",
      "user: e9fda1f240982b20e0df5ba9c4a337e9, dist: 79.37699271585419, #items: 18\n",
      "user: 3111e02887b600ee085c72c0a3df33e8, dist: 80.48306328331395, #items: 1\n",
      "user: 4dedf223de3f8ebde100df78a5428251, dist: 80.55179531633604, #items: 3\n",
      "user: 9d32be9708a9520ec07e91aec9653291, dist: 80.73070760177971, #items: 3\n",
      "user: 8ef6c1b6e31d907a3bba6f4edd303371, dist: 80.79185494644013, #items: 18\n",
      "user: dbb8ffe292aaa9bc2de69ca511af2b3a, dist: 81.33908065250183, #items: 3\n",
      "user: c19c053aafbf1492b9e57ce3da5d45c1, dist: 81.705685056161, #items: 24\n",
      "user: 11e5c2ba0236fe3643cac09dbdb96580, dist: 82.55019455688316, #items: 30\n",
      "user: d3b1de8ed2ffc3eb9af2ef40a80c7d7d, dist: 82.7045686282201, #items: 3\n",
      "user: 5bdea9864567a8614b659bf4b2132ab0, dist: 82.96806443509982, #items: 78\n",
      "user: a186cdd58a92051b7c73adc9bd6e65ca, dist: 82.99575128754651, #items: 7\n",
      "user: 77055e16055dc7bc817f7c4bb2eb8fae, dist: 83.10148776326845, #items: 6\n",
      "user: f71b423642d3d61dffba53ddee48a7e0, dist: 83.24897048500287, #items: 15\n",
      "user: 888b76dff350bdb6b25783d7c4110081, dist: 83.299129398909, #items: 12\n",
      "user: 9c8073214a052e414811b76012df8847, dist: 83.30351663985533, #items: 160\n",
      "user: 54cc66fe7cbb01775a6b7c7d703cdeff, dist: 83.43427609401401, #items: 3\n",
      "user: ca76c553e32c2f096c3bc8f7280ba408, dist: 83.47325940127435, #items: 3\n",
      "user: 19fee46f2810f34a8b69a7768d897a59, dist: 84.59998884550195, #items: 1\n",
      "user: 62ef0e23f21039e337b545ccc4851525, dist: 84.84463643284629, #items: 48\n",
      "user: 659accfd85162122ca361ac34e730c4d, dist: 85.16090795642064, #items: 3\n",
      "user: 8eb1abd1acca601d1e23e85c69b1742a, dist: 85.7504808294137, #items: 34\n",
      "user: 5862049dbaad1750964d91a98930832f, dist: 85.75399517312505, #items: 33\n",
      "user: 722ad4c331b7d7bebd697bfbb91ee0e8, dist: 85.80033919514716, #items: 36\n",
      "user: 248172d9efbbd5eb72d48de6884054ab, dist: 86.75247556139885, #items: 24\n",
      "user: c3c21239b85dcdd6679fc212afd02a49, dist: 87.08891488852615, #items: 9\n",
      "user: 514278711fcdb6dfb235c03a3aa38ee3, dist: 87.35394123748655, #items: 269\n",
      "user: 861d48b913f37227fcf9a7b1e547c0bb, dist: 87.72290319525673, #items: 8\n",
      "user: 2461c19378deafd4ec26d3993eeef635, dist: 87.94207264360283, #items: 15\n",
      "user: fa3305c1bc04047d36a8b7a4c77fa81b, dist: 89.7851264442073, #items: 4\n",
      "user: 987a16808cac2496853b6f531c0878cb, dist: 89.90168865159907, #items: 3\n",
      "user: a9f376da22eb77185afae90b192bf9ac, dist: 90.534664283875, #items: 48\n",
      "user: 15ec33e862185406170ff931583b014f, dist: 90.7228560708792, #items: 4\n",
      "user: f0e2dfdbc324f309660b731ad16ce2fd, dist: 91.97420278201048, #items: 17\n",
      "user: b37092cf23b42f8b8497d8ba89be157a, dist: 92.54041162750886, #items: 2\n",
      "user: 34fb7d43f3a35d4afac7563b7453e31c, dist: 92.75076131034558, #items: 5\n",
      "user: 6010bbc8e7ef4b21fa38f9c3a9754ef3, dist: 92.85586183679689, #items: 396\n",
      "user: c795c7de8f350ab35dfd1100a84bf213, dist: 93.13090992151373, #items: 68\n",
      "user: d8188e46705e2e87f6a051e0cb338dea, dist: 94.32753477328603, #items: 2\n",
      "user: 1eb9e2c62709ff203b2d9a558abc0937, dist: 94.8373608834061, #items: 39\n",
      "user: ccfcf36a939a8af15a987fa562a49207, dist: 95.56543787111889, #items: 7\n",
      "user: ed7ed76453bd846859f5e6b9149df276, dist: 95.89672891653831, #items: 675\n",
      "user: 6b492acb1838463dc7c07a76b26313c4, dist: 96.9839950407609, #items: 247\n",
      "user: bf34e3c5724ce07d29ef12db5f767258, dist: 97.53289713389611, #items: 249\n",
      "user: b6927bdee51077f7868f05f1ed39485f, dist: 97.7129935625653, #items: 18\n",
      "user: 74f10ac255db9e37db6c6cbf604eb7e0, dist: 97.94972013372313, #items: 18\n",
      "user: 28b56a449c99c88e1f9fff59d0f16aac, dist: 97.96041967267257, #items: 84\n",
      "user: 4c7a94e0937450ef406135849493ab99, dist: 98.39963598171451, #items: 57\n",
      "user: 2fb527b567d10a3ea0dac783c7c2f364, dist: 98.46860623155808, #items: 6\n",
      "user: 24ebcf86498b0f2793b55c5b9a7756b5, dist: 99.24336181817007, #items: 210\n",
      "user: 0ca907e233b8bf33bf4eca86fcbfcc8f, dist: 99.27835341449061, #items: 54\n",
      "user: eca1130f44cd2e17645e40a0fa2ef59b, dist: 99.74476645737437, #items: 1005\n",
      "user: 6db6afec230a8c59397b5f4d97f5da28, dist: 100.27399348250617, #items: 12\n",
      "user: 5fa91ab06a079c59a1d9e8174a488f91, dist: 101.10081899494517, #items: 3\n",
      "user: a34913ea1010b5812a14d1fef9586a4f, dist: 102.23882056206085, #items: 3\n",
      "user: b8ef6a913a63225faafd661ee2e1a7c0, dist: 102.87395440805909, #items: 10\n",
      "user: 64cae7b86c7dcb1b40d17e43c0c2109e, dist: 104.51259052252382, #items: 365\n",
      "user: 1bd2dc9e0406a2e240b288685c87fa76, dist: 104.79424020734956, #items: 3\n",
      "user: 7a81cab11e4b2b4aa9c0718c90835611, dist: 106.61704236769366, #items: 30\n",
      "user: dd80f1940fe5b84eddde6e83542bd89b, dist: 107.95989883588672, #items: 12\n",
      "user: be6ec863f38f611dff4958ccd33cf638, dist: 108.73535465061236, #items: 60\n",
      "user: 9c3b8737a6a00626867c5e05ee80157e, dist: 109.4886314454201, #items: 3\n",
      "user: 52b597296a8dca0c5cc5a19231eeff89, dist: 109.95975045527057, #items: 2\n",
      "user: 27f51a4a7fe8565d26cadb88584441e5, dist: 110.25151624203198, #items: 2\n",
      "user: e105c200f413d7b2c5850c0df4b9687e, dist: 110.78661622927278, #items: 2\n",
      "user: 3deba1aaf448d3857c6c70f63c2a6430, dist: 110.85052753078806, #items: 11\n",
      "user: cbc86e332e889251fe0fa71df472f202, dist: 112.1229790467786, #items: 151\n",
      "user: 7685fa48defdc384f720bd1edbf17ed6, dist: 112.36323633172114, #items: 55\n",
      "user: 04db9e73677c3b8882908ef7ee4a3424, dist: 112.64529916319295, #items: 3\n",
      "user: 2c5952c4f931410e9010eb87c276020d, dist: 113.67661379682364, #items: 73\n",
      "user: 3226bc99212ad30ce2ced981de1c437a, dist: 114.41554723738528, #items: 34\n",
      "user: 3c63524f15931dc8bed7a768cb7d6150, dist: 114.48886364828059, #items: 14\n",
      "user: be4e771b30940fb2d5f5dcfe3877dd2e, dist: 114.614414402286, #items: 6\n",
      "user: 6ca7c27715f54e2f47ebe4e1c9dcf842, dist: 115.57297066289684, #items: 72\n",
      "user: a0f5cedc3a2371ec13663226c4b44771, dist: 116.47895972441148, #items: 4\n",
      "user: 1ee4bd59c9ea084016ff2811dbb00568, dist: 116.99950198215936, #items: 53\n",
      "user: c1edc56f4d30d94a94ee41654c4f6734, dist: 117.2293950483724, #items: 31\n",
      "user: de0b07c32bb6ca4655487026e0f3fc38, dist: 117.41580428597229, #items: 74\n",
      "user: 84c2d6fc2e78a1d1283c386c0d4daee4, dist: 118.8592950756478, #items: 9\n",
      "user: 4480a650a96730fb629aa7fa2079e7c3, dist: 118.86275370007134, #items: 37\n",
      "user: 594f3fb0d194f109697627b5241f4011, dist: 118.8815487949338, #items: 3\n",
      "user: 212246528da7c13457844fc4453e6019, dist: 118.90036121510197, #items: 22\n",
      "user: 3c888e77b992ae3cd2adfe16774e23b9, dist: 119.117158385836, #items: 11\n",
      "user: 478905563bab736f35d94bd7b0a27f9a, dist: 119.3362749778555, #items: 15\n",
      "user: 504b651e27c89d1d46d101dd87823ab6, dist: 119.74511605851833, #items: 9\n",
      "user: 2f790705ae66e70e81cc0f11ce0f4b9b, dist: 119.89310567653392, #items: 2\n",
      "user: a2a15d03117e137478c5718212805270, dist: 119.95406448654397, #items: 50\n",
      "user: 7a23690289260d2b8c1d71d8c22b69f0, dist: 121.87192625278232, #items: 18\n",
      "user: b13fb0da6dd2f5d7fe398e6e53b52110, dist: 122.09628379849113, #items: 7\n",
      "user: d8e56509dc582df255732a0170323231, dist: 122.36314119161153, #items: 61\n",
      "user: 571d66ea4abfb694d9bb1281d7701710, dist: 122.43727889018074, #items: 68\n",
      "user: 94d7a0f7c8f2e1c714b0649f835c538c, dist: 123.54564255867398, #items: 150\n",
      "user: e347f98d0a810ded7c14d7be813a5868, dist: 123.81086218893154, #items: 19\n",
      "user: 145b408fa103c16bb00e8734cc39a29f, dist: 125.32763556023954, #items: 18\n",
      "user: cd09cd99c38d4bfb7b554dff21196c22, dist: 125.84909437397263, #items: 26\n",
      "user: 56a384c7fb2545f9de3e85fa7445d92b, dist: 126.42048879318943, #items: 2\n",
      "user: 5bf3c29fd496e2cafa9c531c7e9c6d61, dist: 127.27041269643519, #items: 29\n",
      "user: 51f5fb156a5c0051682ee1835e30fbbd, dist: 127.71463367951944, #items: 5\n",
      "user: 40b86bbb6927a793c05968b8b95e214d, dist: 128.60286593693223, #items: 13\n",
      "user: 855ba3170f3e470170d23a748ccb41ed, dist: 128.72131218966706, #items: 42\n",
      "user: 9d1aa48692579ca9330d3c61d10e22e6, dist: 129.87474627953475, #items: 84\n",
      "user: 9ad2a06dfac81761a123cb40084dcbd7, dist: 129.88277493343023, #items: 23\n",
      "user: f3008c23ea8f35ef870e735df67fcc46, dist: 130.29396234780643, #items: 7\n",
      "user: d84d58533b58797bccca5811b4135c95, dist: 130.5012894808095, #items: 31\n",
      "user: 7975199043cec980e587889f1639c0a4, dist: 131.15194023821255, #items: 11\n",
      "user: ce209fb2fe01d6c85dbb29b6fd84b563, dist: 131.16905508779172, #items: 49\n",
      "user: 4b4c4f319a356ea87affb872173a2095, dist: 132.34705910050087, #items: 34\n",
      "user: fecd63ea857606ed61cbfe2ba1a70b3b, dist: 132.49740841705204, #items: 4\n",
      "user: 00fa8d61b5f75e16ea71bff7a3def9c9, dist: 132.75378113096804, #items: 30\n",
      "user: 3bf93d5f7b82b46e38feb881d00c5798, dist: 133.57338160787913, #items: 36\n",
      "user: 5097e48e561bf0261b242f211b289825, dist: 134.03922077724266, #items: 53\n",
      "user: 807dfc125f09be392a1f1b58c05b3742, dist: 134.25517329676336, #items: 11\n",
      "user: 4dfca2f4dc4e8e6c3b1b7d32e10579c1, dist: 136.18309939514722, #items: 17\n",
      "user: 2ec24376127909f3be36d770e6ae41a6, dist: 137.07018948454984, #items: 14\n",
      "user: 20c7d1ee0615a09b0bac9438cc8325e2, dist: 137.50049931520067, #items: 66\n"
     ]
    }
   ],
   "source": [
    "valence_outliers = mine_outliers_scipy(model=valence_model, data_converter=data_converter)\n",
    "arousal_outliers = mine_outliers_scipy(model=arousal_model, data_converter=data_converter)\n",
    "\n",
    "items_group_by_users = data_converter.original_df.groupby(\"user_id\")\n",
    "combined_outliers = {}\n",
    "for user_id, valence_dist in valence_outliers.items():\n",
    "    arousal_dist = arousal_outliers[user_id]\n",
    "    combined_outliers[user_id] = valence_dist + arousal_dist\n",
    "\n",
    "combined_outliers = dict(sorted(combined_outliers.items(), key=lambda item: item[1]))\n",
    "for user_id, item_id in combined_outliers.items():\n",
    "    number_of_items = len(items_group_by_users.get_group(user_id))\n",
    "    print(f\"user: {user_id}, dist: {item_id}, #items: {number_of_items}\")"
   ],
   "metadata": {
    "collapsed": false,
    "pycharm": {
     "name": "#%%\n"
    }
   }
  },
  {
   "cell_type": "code",
   "execution_count": 5,
   "outputs": [],
   "source": [],
   "metadata": {
    "collapsed": false,
    "pycharm": {
     "name": "#%%\n"
    }
   }
  }
 ],
 "metadata": {
  "kernelspec": {
   "display_name": "Python 3",
   "language": "python",
   "name": "python3"
  },
  "language_info": {
   "codemirror_mode": {
    "name": "ipython",
    "version": 2
   },
   "file_extension": ".py",
   "mimetype": "text/x-python",
   "name": "python",
   "nbconvert_exporter": "python",
   "pygments_lexer": "ipython2",
   "version": "2.7.6"
  }
 },
 "nbformat": 4,
 "nbformat_minor": 0
}