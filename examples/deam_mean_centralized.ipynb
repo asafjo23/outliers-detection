{
 "cells": [
  {
   "cell_type": "code",
   "execution_count": 1,
   "metadata": {
    "collapsed": true,
    "pycharm": {
     "name": "#%%\n"
    }
   },
   "outputs": [],
   "source": [
    "from pandas import read_csv\n",
    "from torch.optim import SGD\n",
    "from torch.nn import MSELoss\n",
    "from torch.utils.data import DataLoader\n",
    "from tensorboardX import SummaryWriter\n",
    "from torch import randperm\n",
    "from config import DATA_DIR\n",
    "from src.data_set import RatingsDataset\n",
    "from src.model import MF\n",
    "from src.runner import Runner\n",
    "from src.utils import (\n",
    "    create_dataset,\n",
    "    mine_outliers_scipy,\n",
    "    mine_outliers_sklearn,\n",
    "    mine_outliers_torch,\n",
    "    DataConverter,\n",
    "    DataProcessor,\n",
    "    mean_centralised\n",
    ")\n",
    "from src.consistency import direct_calculation\n",
    "\n",
    "\"\"\"\n",
    "The Deam dataset is based on Arousal-Valence 2D emotional model.\n",
    "The Valence/Arousal ratings were collected using Amazon Mechanical Turks service.\n",
    "Each turk from the collected crowd were asked to mark his own emotion for the current song on a 2D plane, Arousal/Valence.\n",
    "For more information please read: https://journals.plos.org/plosone/article?id=10.1371/journal.pone.0173392\n",
    "\"\"\"\n",
    "\n",
    "DF_PATH = f\"{DATA_DIR}\" \\\n",
    "          f\"/DEAM/annotations/annotations per each rater/\" \\\n",
    "          f\"song_level/static_annotations_songs_1_2000_mean_centralised.csv\"\n",
    "\n",
    "def select_n_random(trainset: RatingsDataset):\n",
    "    \"\"\"\n",
    "    Selects n random data points and their corresponding labels from a dataset\n",
    "    \"\"\"\n",
    "    perm = randperm(len(trainset))\n",
    "    return trainset[perm][:100]"
   ]
  },
  {
   "cell_type": "code",
   "execution_count": 2,
   "outputs": [
    {
     "data": {
      "text/plain": "  0%|          | 0/3 [00:00<?, ?it/s]",
      "application/vnd.jupyter.widget-view+json": {
       "version_major": 2,
       "version_minor": 0,
       "model_id": "04b50d8a1b8f4266899abad33220b433"
      }
     },
     "metadata": {},
     "output_type": "display_data"
    },
    {
     "ename": "KeyError",
     "evalue": "'rating'",
     "output_type": "error",
     "traceback": [
      "\u001B[0;31m---------------------------------------------------------------------------\u001B[0m",
      "\u001B[0;31mKeyError\u001B[0m                                  Traceback (most recent call last)",
      "Input \u001B[0;32mIn [2]\u001B[0m, in \u001B[0;36m<cell line: 8>\u001B[0;34m()\u001B[0m\n\u001B[1;32m      6\u001B[0m original_df \u001B[38;5;241m=\u001B[39m read_csv(DF_PATH, skipinitialspace\u001B[38;5;241m=\u001B[39m\u001B[38;5;28;01mTrue\u001B[39;00m, usecols\u001B[38;5;241m=\u001B[39mcolumns)\n\u001B[1;32m      7\u001B[0m original_df\u001B[38;5;241m.\u001B[39mcolumns \u001B[38;5;241m=\u001B[39m [\u001B[38;5;124m\"\u001B[39m\u001B[38;5;124muser_id\u001B[39m\u001B[38;5;124m\"\u001B[39m, \u001B[38;5;124m\"\u001B[39m\u001B[38;5;124mitem_id\u001B[39m\u001B[38;5;124m\"\u001B[39m, \u001B[38;5;124m\"\u001B[39m\u001B[38;5;124mrating\u001B[39m\u001B[38;5;124m\"\u001B[39m]\n\u001B[0;32m----> 8\u001B[0m \u001B[43mmean_centralised\u001B[49m\u001B[43m(\u001B[49m\u001B[43mdataframe\u001B[49m\u001B[38;5;241;43m=\u001B[39;49m\u001B[43moriginal_df\u001B[49m\u001B[43m)\u001B[49m\n\u001B[1;32m      9\u001B[0m consistency \u001B[38;5;241m=\u001B[39m direct_calculation(data_frame\u001B[38;5;241m=\u001B[39moriginal_df)\n\u001B[1;32m     10\u001B[0m \u001B[38;5;28mprint\u001B[39m(\u001B[38;5;124mf\u001B[39m\u001B[38;5;124m\"\u001B[39m\u001B[38;5;124mRaw data consistency according to direct calculation is: \u001B[39m\u001B[38;5;130;01m\\x1b\u001B[39;00m\u001B[38;5;124m[31m\u001B[39m\u001B[38;5;132;01m{\u001B[39;00mconsistency\u001B[38;5;132;01m}\u001B[39;00m\u001B[38;5;130;01m\\x1b\u001B[39;00m\u001B[38;5;124m[0m\u001B[39m\u001B[38;5;124m\"\u001B[39m)\n",
      "File \u001B[0;32m~/Desktop/Academy/Vision/Project/detecting_outliers/src/utils.py:127\u001B[0m, in \u001B[0;36mmean_centralised\u001B[0;34m(dataframe)\u001B[0m\n\u001B[1;32m    125\u001B[0m normalized_data \u001B[38;5;241m=\u001B[39m dataframe\u001B[38;5;241m.\u001B[39mcopy()\n\u001B[1;32m    126\u001B[0m tqdm_notebook\u001B[38;5;241m.\u001B[39mpandas()\n\u001B[0;32m--> 127\u001B[0m result \u001B[38;5;241m=\u001B[39m \u001B[43mnormalized_data\u001B[49m\u001B[38;5;241;43m.\u001B[39;49m\u001B[43mprogress_apply\u001B[49m\u001B[43m(\u001B[49m\n\u001B[1;32m    128\u001B[0m \u001B[43m    \u001B[49m\u001B[38;5;28;43;01mlambda\u001B[39;49;00m\u001B[43m \u001B[49m\u001B[43mrow\u001B[49m\u001B[43m:\u001B[49m\u001B[43m \u001B[49m\u001B[43mrow\u001B[49m\u001B[43m[\u001B[49m\u001B[38;5;124;43m\"\u001B[39;49m\u001B[38;5;124;43mrating\u001B[39;49m\u001B[38;5;124;43m\"\u001B[39;49m\u001B[43m]\u001B[49m\n\u001B[1;32m    129\u001B[0m \u001B[43m    \u001B[49m\u001B[38;5;241;43m-\u001B[39;49m\u001B[43m \u001B[49m\u001B[43m(\u001B[49m\n\u001B[1;32m    130\u001B[0m \u001B[43m        \u001B[49m\u001B[38;5;28;43msum\u001B[39;49m\u001B[43m(\u001B[49m\u001B[43mitems_group_by_users\u001B[49m\u001B[38;5;241;43m.\u001B[39;49m\u001B[43mget_group\u001B[49m\u001B[43m(\u001B[49m\u001B[43mrow\u001B[49m\u001B[43m[\u001B[49m\u001B[38;5;124;43m\"\u001B[39;49m\u001B[38;5;124;43muser_id\u001B[39;49m\u001B[38;5;124;43m\"\u001B[39;49m\u001B[43m]\u001B[49m\u001B[43m)\u001B[49m\u001B[38;5;241;43m.\u001B[39;49m\u001B[43mrating\u001B[49m\u001B[43m)\u001B[49m\n\u001B[1;32m    131\u001B[0m \u001B[43m        \u001B[49m\u001B[38;5;241;43m/\u001B[39;49m\u001B[43m \u001B[49m\u001B[38;5;28;43mlen\u001B[39;49m\u001B[43m(\u001B[49m\u001B[43mitems_group_by_users\u001B[49m\u001B[38;5;241;43m.\u001B[39;49m\u001B[43mget_group\u001B[49m\u001B[43m(\u001B[49m\u001B[43mrow\u001B[49m\u001B[43m[\u001B[49m\u001B[38;5;124;43m\"\u001B[39;49m\u001B[38;5;124;43muser_id\u001B[39;49m\u001B[38;5;124;43m\"\u001B[39;49m\u001B[43m]\u001B[49m\u001B[43m)\u001B[49m\u001B[43m)\u001B[49m\n\u001B[1;32m    132\u001B[0m \u001B[43m    \u001B[49m\u001B[43m)\u001B[49m\n\u001B[1;32m    133\u001B[0m \u001B[43m\u001B[49m\u001B[43m)\u001B[49m\n\u001B[1;32m    134\u001B[0m \u001B[38;5;28mprint\u001B[39m(result)\n\u001B[1;32m    135\u001B[0m \u001B[38;5;66;03m# with tqdm(total=normalized_data.shape[0], desc=\"_mean_centralised\") as pbar:\u001B[39;00m\n\u001B[1;32m    136\u001B[0m \u001B[38;5;66;03m#     for (index, user_id, item_id, rating) in normalized_data.itertuples():\u001B[39;00m\n\u001B[1;32m    137\u001B[0m \u001B[38;5;66;03m#         group = items_group_by_users.get_group(user_id)\u001B[39;00m\n\u001B[1;32m    138\u001B[0m \u001B[38;5;66;03m#         total_sum = sum(group.rating.values)\u001B[39;00m\n\u001B[1;32m    139\u001B[0m \u001B[38;5;66;03m#         normalized_data.at[index, \"rating\"] = rating - (total_sum / len(group))\u001B[39;00m\n\u001B[1;32m    140\u001B[0m \u001B[38;5;66;03m#         pbar.update(1)\u001B[39;00m\n",
      "File \u001B[0;32m~/Desktop/Academy/Vision/Project/detecting_outliers/venv/lib/python3.9/site-packages/tqdm/std.py:814\u001B[0m, in \u001B[0;36mtqdm.pandas.<locals>.inner_generator.<locals>.inner\u001B[0;34m(df, func, *args, **kwargs)\u001B[0m\n\u001B[1;32m    811\u001B[0m \u001B[38;5;66;03m# Apply the provided function (in **kwargs)\u001B[39;00m\n\u001B[1;32m    812\u001B[0m \u001B[38;5;66;03m# on the df using our wrapper (which provides bar updating)\u001B[39;00m\n\u001B[1;32m    813\u001B[0m \u001B[38;5;28;01mtry\u001B[39;00m:\n\u001B[0;32m--> 814\u001B[0m     \u001B[38;5;28;01mreturn\u001B[39;00m \u001B[38;5;28;43mgetattr\u001B[39;49m\u001B[43m(\u001B[49m\u001B[43mdf\u001B[49m\u001B[43m,\u001B[49m\u001B[43m \u001B[49m\u001B[43mdf_function\u001B[49m\u001B[43m)\u001B[49m\u001B[43m(\u001B[49m\u001B[43mwrapper\u001B[49m\u001B[43m,\u001B[49m\u001B[43m \u001B[49m\u001B[38;5;241;43m*\u001B[39;49m\u001B[38;5;241;43m*\u001B[39;49m\u001B[43mkwargs\u001B[49m\u001B[43m)\u001B[49m\n\u001B[1;32m    815\u001B[0m \u001B[38;5;28;01mfinally\u001B[39;00m:\n\u001B[1;32m    816\u001B[0m     t\u001B[38;5;241m.\u001B[39mclose()\n",
      "File \u001B[0;32m~/Desktop/Academy/Vision/Project/detecting_outliers/venv/lib/python3.9/site-packages/pandas/core/frame.py:8833\u001B[0m, in \u001B[0;36mDataFrame.apply\u001B[0;34m(self, func, axis, raw, result_type, args, **kwargs)\u001B[0m\n\u001B[1;32m   8822\u001B[0m \u001B[38;5;28;01mfrom\u001B[39;00m \u001B[38;5;21;01mpandas\u001B[39;00m\u001B[38;5;21;01m.\u001B[39;00m\u001B[38;5;21;01mcore\u001B[39;00m\u001B[38;5;21;01m.\u001B[39;00m\u001B[38;5;21;01mapply\u001B[39;00m \u001B[38;5;28;01mimport\u001B[39;00m frame_apply\n\u001B[1;32m   8824\u001B[0m op \u001B[38;5;241m=\u001B[39m frame_apply(\n\u001B[1;32m   8825\u001B[0m     \u001B[38;5;28mself\u001B[39m,\n\u001B[1;32m   8826\u001B[0m     func\u001B[38;5;241m=\u001B[39mfunc,\n\u001B[0;32m   (...)\u001B[0m\n\u001B[1;32m   8831\u001B[0m     kwargs\u001B[38;5;241m=\u001B[39mkwargs,\n\u001B[1;32m   8832\u001B[0m )\n\u001B[0;32m-> 8833\u001B[0m \u001B[38;5;28;01mreturn\u001B[39;00m \u001B[43mop\u001B[49m\u001B[38;5;241;43m.\u001B[39;49m\u001B[43mapply\u001B[49m\u001B[43m(\u001B[49m\u001B[43m)\u001B[49m\u001B[38;5;241m.\u001B[39m__finalize__(\u001B[38;5;28mself\u001B[39m, method\u001B[38;5;241m=\u001B[39m\u001B[38;5;124m\"\u001B[39m\u001B[38;5;124mapply\u001B[39m\u001B[38;5;124m\"\u001B[39m)\n",
      "File \u001B[0;32m~/Desktop/Academy/Vision/Project/detecting_outliers/venv/lib/python3.9/site-packages/pandas/core/apply.py:727\u001B[0m, in \u001B[0;36mFrameApply.apply\u001B[0;34m(self)\u001B[0m\n\u001B[1;32m    724\u001B[0m \u001B[38;5;28;01melif\u001B[39;00m \u001B[38;5;28mself\u001B[39m\u001B[38;5;241m.\u001B[39mraw:\n\u001B[1;32m    725\u001B[0m     \u001B[38;5;28;01mreturn\u001B[39;00m \u001B[38;5;28mself\u001B[39m\u001B[38;5;241m.\u001B[39mapply_raw()\n\u001B[0;32m--> 727\u001B[0m \u001B[38;5;28;01mreturn\u001B[39;00m \u001B[38;5;28;43mself\u001B[39;49m\u001B[38;5;241;43m.\u001B[39;49m\u001B[43mapply_standard\u001B[49m\u001B[43m(\u001B[49m\u001B[43m)\u001B[49m\n",
      "File \u001B[0;32m~/Desktop/Academy/Vision/Project/detecting_outliers/venv/lib/python3.9/site-packages/pandas/core/apply.py:851\u001B[0m, in \u001B[0;36mFrameApply.apply_standard\u001B[0;34m(self)\u001B[0m\n\u001B[1;32m    850\u001B[0m \u001B[38;5;28;01mdef\u001B[39;00m \u001B[38;5;21mapply_standard\u001B[39m(\u001B[38;5;28mself\u001B[39m):\n\u001B[0;32m--> 851\u001B[0m     results, res_index \u001B[38;5;241m=\u001B[39m \u001B[38;5;28;43mself\u001B[39;49m\u001B[38;5;241;43m.\u001B[39;49m\u001B[43mapply_series_generator\u001B[49m\u001B[43m(\u001B[49m\u001B[43m)\u001B[49m\n\u001B[1;32m    853\u001B[0m     \u001B[38;5;66;03m# wrap results\u001B[39;00m\n\u001B[1;32m    854\u001B[0m     \u001B[38;5;28;01mreturn\u001B[39;00m \u001B[38;5;28mself\u001B[39m\u001B[38;5;241m.\u001B[39mwrap_results(results, res_index)\n",
      "File \u001B[0;32m~/Desktop/Academy/Vision/Project/detecting_outliers/venv/lib/python3.9/site-packages/pandas/core/apply.py:867\u001B[0m, in \u001B[0;36mFrameApply.apply_series_generator\u001B[0;34m(self)\u001B[0m\n\u001B[1;32m    864\u001B[0m \u001B[38;5;28;01mwith\u001B[39;00m option_context(\u001B[38;5;124m\"\u001B[39m\u001B[38;5;124mmode.chained_assignment\u001B[39m\u001B[38;5;124m\"\u001B[39m, \u001B[38;5;28;01mNone\u001B[39;00m):\n\u001B[1;32m    865\u001B[0m     \u001B[38;5;28;01mfor\u001B[39;00m i, v \u001B[38;5;129;01min\u001B[39;00m \u001B[38;5;28menumerate\u001B[39m(series_gen):\n\u001B[1;32m    866\u001B[0m         \u001B[38;5;66;03m# ignore SettingWithCopy here in case the user mutates\u001B[39;00m\n\u001B[0;32m--> 867\u001B[0m         results[i] \u001B[38;5;241m=\u001B[39m \u001B[38;5;28;43mself\u001B[39;49m\u001B[38;5;241;43m.\u001B[39;49m\u001B[43mf\u001B[49m\u001B[43m(\u001B[49m\u001B[43mv\u001B[49m\u001B[43m)\u001B[49m\n\u001B[1;32m    868\u001B[0m         \u001B[38;5;28;01mif\u001B[39;00m \u001B[38;5;28misinstance\u001B[39m(results[i], ABCSeries):\n\u001B[1;32m    869\u001B[0m             \u001B[38;5;66;03m# If we have a view on v, we need to make a copy because\u001B[39;00m\n\u001B[1;32m    870\u001B[0m             \u001B[38;5;66;03m#  series_generator will swap out the underlying data\u001B[39;00m\n\u001B[1;32m    871\u001B[0m             results[i] \u001B[38;5;241m=\u001B[39m results[i]\u001B[38;5;241m.\u001B[39mcopy(deep\u001B[38;5;241m=\u001B[39m\u001B[38;5;28;01mFalse\u001B[39;00m)\n",
      "File \u001B[0;32m~/Desktop/Academy/Vision/Project/detecting_outliers/venv/lib/python3.9/site-packages/tqdm/std.py:809\u001B[0m, in \u001B[0;36mtqdm.pandas.<locals>.inner_generator.<locals>.inner.<locals>.wrapper\u001B[0;34m(*args, **kwargs)\u001B[0m\n\u001B[1;32m    803\u001B[0m \u001B[38;5;28;01mdef\u001B[39;00m \u001B[38;5;21mwrapper\u001B[39m(\u001B[38;5;241m*\u001B[39margs, \u001B[38;5;241m*\u001B[39m\u001B[38;5;241m*\u001B[39mkwargs):\n\u001B[1;32m    804\u001B[0m     \u001B[38;5;66;03m# update tbar correctly\u001B[39;00m\n\u001B[1;32m    805\u001B[0m     \u001B[38;5;66;03m# it seems `pandas apply` calls `func` twice\u001B[39;00m\n\u001B[1;32m    806\u001B[0m     \u001B[38;5;66;03m# on the first column/row to decide whether it can\u001B[39;00m\n\u001B[1;32m    807\u001B[0m     \u001B[38;5;66;03m# take a fast or slow code path; so stop when t.total==t.n\u001B[39;00m\n\u001B[1;32m    808\u001B[0m     t\u001B[38;5;241m.\u001B[39mupdate(n\u001B[38;5;241m=\u001B[39m\u001B[38;5;241m1\u001B[39m \u001B[38;5;28;01mif\u001B[39;00m \u001B[38;5;129;01mnot\u001B[39;00m t\u001B[38;5;241m.\u001B[39mtotal \u001B[38;5;129;01mor\u001B[39;00m t\u001B[38;5;241m.\u001B[39mn \u001B[38;5;241m<\u001B[39m t\u001B[38;5;241m.\u001B[39mtotal \u001B[38;5;28;01melse\u001B[39;00m \u001B[38;5;241m0\u001B[39m)\n\u001B[0;32m--> 809\u001B[0m     \u001B[38;5;28;01mreturn\u001B[39;00m \u001B[43mfunc\u001B[49m\u001B[43m(\u001B[49m\u001B[38;5;241;43m*\u001B[39;49m\u001B[43margs\u001B[49m\u001B[43m,\u001B[49m\u001B[43m \u001B[49m\u001B[38;5;241;43m*\u001B[39;49m\u001B[38;5;241;43m*\u001B[39;49m\u001B[43mkwargs\u001B[49m\u001B[43m)\u001B[49m\n",
      "File \u001B[0;32m~/Desktop/Academy/Vision/Project/detecting_outliers/src/utils.py:128\u001B[0m, in \u001B[0;36mmean_centralised.<locals>.<lambda>\u001B[0;34m(row)\u001B[0m\n\u001B[1;32m    125\u001B[0m normalized_data \u001B[38;5;241m=\u001B[39m dataframe\u001B[38;5;241m.\u001B[39mcopy()\n\u001B[1;32m    126\u001B[0m tqdm_notebook\u001B[38;5;241m.\u001B[39mpandas()\n\u001B[1;32m    127\u001B[0m result \u001B[38;5;241m=\u001B[39m normalized_data\u001B[38;5;241m.\u001B[39mprogress_apply(\n\u001B[0;32m--> 128\u001B[0m     \u001B[38;5;28;01mlambda\u001B[39;00m row: \u001B[43mrow\u001B[49m\u001B[43m[\u001B[49m\u001B[38;5;124;43m\"\u001B[39;49m\u001B[38;5;124;43mrating\u001B[39;49m\u001B[38;5;124;43m\"\u001B[39;49m\u001B[43m]\u001B[49m\n\u001B[1;32m    129\u001B[0m     \u001B[38;5;241m-\u001B[39m (\n\u001B[1;32m    130\u001B[0m         \u001B[38;5;28msum\u001B[39m(items_group_by_users\u001B[38;5;241m.\u001B[39mget_group(row[\u001B[38;5;124m\"\u001B[39m\u001B[38;5;124muser_id\u001B[39m\u001B[38;5;124m\"\u001B[39m])\u001B[38;5;241m.\u001B[39mrating)\n\u001B[1;32m    131\u001B[0m         \u001B[38;5;241m/\u001B[39m \u001B[38;5;28mlen\u001B[39m(items_group_by_users\u001B[38;5;241m.\u001B[39mget_group(row[\u001B[38;5;124m\"\u001B[39m\u001B[38;5;124muser_id\u001B[39m\u001B[38;5;124m\"\u001B[39m]))\n\u001B[1;32m    132\u001B[0m     )\n\u001B[1;32m    133\u001B[0m )\n\u001B[1;32m    134\u001B[0m \u001B[38;5;28mprint\u001B[39m(result)\n\u001B[1;32m    135\u001B[0m \u001B[38;5;66;03m# with tqdm(total=normalized_data.shape[0], desc=\"_mean_centralised\") as pbar:\u001B[39;00m\n\u001B[1;32m    136\u001B[0m \u001B[38;5;66;03m#     for (index, user_id, item_id, rating) in normalized_data.itertuples():\u001B[39;00m\n\u001B[1;32m    137\u001B[0m \u001B[38;5;66;03m#         group = items_group_by_users.get_group(user_id)\u001B[39;00m\n\u001B[1;32m    138\u001B[0m \u001B[38;5;66;03m#         total_sum = sum(group.rating.values)\u001B[39;00m\n\u001B[1;32m    139\u001B[0m \u001B[38;5;66;03m#         normalized_data.at[index, \"rating\"] = rating - (total_sum / len(group))\u001B[39;00m\n\u001B[1;32m    140\u001B[0m \u001B[38;5;66;03m#         pbar.update(1)\u001B[39;00m\n",
      "File \u001B[0;32m~/Desktop/Academy/Vision/Project/detecting_outliers/venv/lib/python3.9/site-packages/pandas/core/series.py:958\u001B[0m, in \u001B[0;36mSeries.__getitem__\u001B[0;34m(self, key)\u001B[0m\n\u001B[1;32m    955\u001B[0m     \u001B[38;5;28;01mreturn\u001B[39;00m \u001B[38;5;28mself\u001B[39m\u001B[38;5;241m.\u001B[39m_values[key]\n\u001B[1;32m    957\u001B[0m \u001B[38;5;28;01melif\u001B[39;00m key_is_scalar:\n\u001B[0;32m--> 958\u001B[0m     \u001B[38;5;28;01mreturn\u001B[39;00m \u001B[38;5;28;43mself\u001B[39;49m\u001B[38;5;241;43m.\u001B[39;49m\u001B[43m_get_value\u001B[49m\u001B[43m(\u001B[49m\u001B[43mkey\u001B[49m\u001B[43m)\u001B[49m\n\u001B[1;32m    960\u001B[0m \u001B[38;5;28;01mif\u001B[39;00m is_hashable(key):\n\u001B[1;32m    961\u001B[0m     \u001B[38;5;66;03m# Otherwise index.get_value will raise InvalidIndexError\u001B[39;00m\n\u001B[1;32m    962\u001B[0m     \u001B[38;5;28;01mtry\u001B[39;00m:\n\u001B[1;32m    963\u001B[0m         \u001B[38;5;66;03m# For labels that don't resolve as scalars like tuples and frozensets\u001B[39;00m\n",
      "File \u001B[0;32m~/Desktop/Academy/Vision/Project/detecting_outliers/venv/lib/python3.9/site-packages/pandas/core/series.py:1069\u001B[0m, in \u001B[0;36mSeries._get_value\u001B[0;34m(self, label, takeable)\u001B[0m\n\u001B[1;32m   1066\u001B[0m     \u001B[38;5;28;01mreturn\u001B[39;00m \u001B[38;5;28mself\u001B[39m\u001B[38;5;241m.\u001B[39m_values[label]\n\u001B[1;32m   1068\u001B[0m \u001B[38;5;66;03m# Similar to Index.get_value, but we do not fall back to positional\u001B[39;00m\n\u001B[0;32m-> 1069\u001B[0m loc \u001B[38;5;241m=\u001B[39m \u001B[38;5;28;43mself\u001B[39;49m\u001B[38;5;241;43m.\u001B[39;49m\u001B[43mindex\u001B[49m\u001B[38;5;241;43m.\u001B[39;49m\u001B[43mget_loc\u001B[49m\u001B[43m(\u001B[49m\u001B[43mlabel\u001B[49m\u001B[43m)\u001B[49m\n\u001B[1;32m   1070\u001B[0m \u001B[38;5;28;01mreturn\u001B[39;00m \u001B[38;5;28mself\u001B[39m\u001B[38;5;241m.\u001B[39mindex\u001B[38;5;241m.\u001B[39m_get_values_for_loc(\u001B[38;5;28mself\u001B[39m, loc, label)\n",
      "File \u001B[0;32m~/Desktop/Academy/Vision/Project/detecting_outliers/venv/lib/python3.9/site-packages/pandas/core/indexes/range.py:389\u001B[0m, in \u001B[0;36mRangeIndex.get_loc\u001B[0;34m(self, key, method, tolerance)\u001B[0m\n\u001B[1;32m    387\u001B[0m             \u001B[38;5;28;01mraise\u001B[39;00m \u001B[38;5;167;01mKeyError\u001B[39;00m(key) \u001B[38;5;28;01mfrom\u001B[39;00m \u001B[38;5;21;01merr\u001B[39;00m\n\u001B[1;32m    388\u001B[0m     \u001B[38;5;28mself\u001B[39m\u001B[38;5;241m.\u001B[39m_check_indexing_error(key)\n\u001B[0;32m--> 389\u001B[0m     \u001B[38;5;28;01mraise\u001B[39;00m \u001B[38;5;167;01mKeyError\u001B[39;00m(key)\n\u001B[1;32m    390\u001B[0m \u001B[38;5;28;01mreturn\u001B[39;00m \u001B[38;5;28msuper\u001B[39m()\u001B[38;5;241m.\u001B[39mget_loc(key, method\u001B[38;5;241m=\u001B[39mmethod, tolerance\u001B[38;5;241m=\u001B[39mtolerance)\n",
      "\u001B[0;31mKeyError\u001B[0m: 'rating'"
     ]
    }
   ],
   "source": [
    "\"\"\"\n",
    "This block analyze mean-centralized data consistency using the direct calculation defined by:\n",
    "consistency += row.rating - row.song.mean() for all rows in dataset\n",
    "\"\"\"\n",
    "columns = [\"user_id\", \"item_id\", \"rating\"]\n",
    "original_df = read_csv(DF_PATH, skipinitialspace=True, usecols=columns)\n",
    "original_df.columns = [\"user_id\", \"item_id\", \"rating\"]\n",
    "mean_centralised(dataframe=original_df)\n",
    "consistency = direct_calculation(data_frame=original_df)\n",
    "print(f\"Raw data consistency according to direct calculation is: \\x1b[31m{consistency}\\x1b[0m\")"
   ],
   "metadata": {
    "collapsed": false,
    "pycharm": {
     "name": "#%%\n"
    }
   }
  },
  {
   "cell_type": "code",
   "execution_count": 2,
   "outputs": [
    {
     "name": "stderr",
     "output_type": "stream",
     "text": [
      "_mean_centralised: 100%|██████████| 17464/17464 [00:03<00:00, 4730.12it/s]\n",
      "100%|██████████| 18/18 [00:00<00:00, 82.71batch/s, train_loss=0.00541]\n"
     ]
    },
    {
     "name": "stdout",
     "output_type": "stream",
     "text": [
      "epoch=1, loss=0.06094814507797737\n"
     ]
    },
    {
     "name": "stderr",
     "output_type": "stream",
     "text": [
      "100%|██████████| 18/18 [00:00<00:00, 100.18batch/s, train_loss=0.00597]\n"
     ]
    },
    {
     "name": "stdout",
     "output_type": "stream",
     "text": [
      "epoch=2, loss=0.06078394703486335\n"
     ]
    },
    {
     "name": "stderr",
     "output_type": "stream",
     "text": [
      "100%|██████████| 18/18 [00:00<00:00, 87.67batch/s, train_loss=0.0059] \n"
     ]
    },
    {
     "name": "stdout",
     "output_type": "stream",
     "text": [
      "epoch=3, loss=0.05954172505798753\n"
     ]
    },
    {
     "name": "stderr",
     "output_type": "stream",
     "text": [
      "100%|██████████| 18/18 [00:00<00:00, 108.87batch/s, train_loss=0.00504]\n"
     ]
    },
    {
     "name": "stdout",
     "output_type": "stream",
     "text": [
      "epoch=4, loss=0.0553037546455645\n"
     ]
    },
    {
     "name": "stderr",
     "output_type": "stream",
     "text": [
      "100%|██████████| 18/18 [00:00<00:00, 103.85batch/s, train_loss=0.00476]\n"
     ]
    },
    {
     "name": "stdout",
     "output_type": "stream",
     "text": [
      "epoch=5, loss=0.04786025161949735\n"
     ]
    },
    {
     "name": "stderr",
     "output_type": "stream",
     "text": [
      "100%|██████████| 18/18 [00:00<00:00, 90.32batch/s, train_loss=0.00366]\n"
     ]
    },
    {
     "name": "stdout",
     "output_type": "stream",
     "text": [
      "epoch=6, loss=0.0396903656970723\n"
     ]
    },
    {
     "name": "stderr",
     "output_type": "stream",
     "text": [
      "100%|██████████| 18/18 [00:00<00:00, 115.20batch/s, train_loss=0.00316]\n"
     ]
    },
    {
     "name": "stdout",
     "output_type": "stream",
     "text": [
      "epoch=7, loss=0.0336275645257764\n"
     ]
    },
    {
     "name": "stderr",
     "output_type": "stream",
     "text": [
      "100%|██████████| 18/18 [00:00<00:00, 91.06batch/s, train_loss=0.00282]\n"
     ]
    },
    {
     "name": "stdout",
     "output_type": "stream",
     "text": [
      "epoch=8, loss=0.02946694544162131\n"
     ]
    },
    {
     "name": "stderr",
     "output_type": "stream",
     "text": [
      "100%|██████████| 18/18 [00:00<00:00, 103.81batch/s, train_loss=0.00237]\n"
     ]
    },
    {
     "name": "stdout",
     "output_type": "stream",
     "text": [
      "epoch=9, loss=0.026311553996392536\n"
     ]
    },
    {
     "name": "stderr",
     "output_type": "stream",
     "text": [
      "100%|██████████| 18/18 [00:00<00:00, 77.13batch/s, train_loss=0.00228] \n"
     ]
    },
    {
     "name": "stdout",
     "output_type": "stream",
     "text": [
      "epoch=10, loss=0.02392782592343079\n"
     ]
    },
    {
     "name": "stderr",
     "output_type": "stream",
     "text": [
      "100%|██████████| 18/18 [00:00<00:00, 90.71batch/s, train_loss=0.00217]\n"
     ]
    },
    {
     "name": "stdout",
     "output_type": "stream",
     "text": [
      "epoch=11, loss=0.021821238131729703\n"
     ]
    },
    {
     "name": "stderr",
     "output_type": "stream",
     "text": [
      "100%|██████████| 18/18 [00:00<00:00, 73.52batch/s, train_loss=0.002] \n"
     ]
    },
    {
     "name": "stdout",
     "output_type": "stream",
     "text": [
      "epoch=12, loss=0.020054897148901806\n"
     ]
    },
    {
     "name": "stderr",
     "output_type": "stream",
     "text": [
      "100%|██████████| 18/18 [00:00<00:00, 67.70batch/s, train_loss=0.00176] \n"
     ]
    },
    {
     "name": "stdout",
     "output_type": "stream",
     "text": [
      "epoch=13, loss=0.01850904777635306\n"
     ]
    },
    {
     "name": "stderr",
     "output_type": "stream",
     "text": [
      "100%|██████████| 18/18 [00:00<00:00, 119.22batch/s, train_loss=0.00177] \n"
     ]
    },
    {
     "name": "stdout",
     "output_type": "stream",
     "text": [
      "epoch=14, loss=0.017358578108277994\n"
     ]
    },
    {
     "name": "stderr",
     "output_type": "stream",
     "text": [
      "100%|██████████| 18/18 [00:00<00:00, 89.53batch/s, train_loss=0.00165] \n"
     ]
    },
    {
     "name": "stdout",
     "output_type": "stream",
     "text": [
      "epoch=15, loss=0.016252334740618078\n"
     ]
    },
    {
     "name": "stderr",
     "output_type": "stream",
     "text": [
      "100%|██████████| 18/18 [00:00<00:00, 108.76batch/s, train_loss=0.0016]  \n"
     ]
    },
    {
     "name": "stdout",
     "output_type": "stream",
     "text": [
      "epoch=16, loss=0.015397468968203782\n"
     ]
    },
    {
     "name": "stderr",
     "output_type": "stream",
     "text": [
      "100%|██████████| 18/18 [00:00<00:00, 75.40batch/s, train_loss=0.00147]  \n"
     ]
    },
    {
     "name": "stdout",
     "output_type": "stream",
     "text": [
      "epoch=17, loss=0.01456084486982022\n"
     ]
    },
    {
     "name": "stderr",
     "output_type": "stream",
     "text": [
      "100%|██████████| 18/18 [00:00<00:00, 117.02batch/s, train_loss=0.00146] \n"
     ]
    },
    {
     "name": "stdout",
     "output_type": "stream",
     "text": [
      "epoch=18, loss=0.013933922126835432\n"
     ]
    },
    {
     "name": "stderr",
     "output_type": "stream",
     "text": [
      "100%|██████████| 18/18 [00:00<00:00, 114.47batch/s, train_loss=0.00124] \n"
     ]
    },
    {
     "name": "stdout",
     "output_type": "stream",
     "text": [
      "epoch=19, loss=0.013208779066478304\n"
     ]
    },
    {
     "name": "stderr",
     "output_type": "stream",
     "text": [
      "100%|██████████| 18/18 [00:00<00:00, 88.12batch/s, train_loss=0.00146]\n"
     ]
    },
    {
     "name": "stdout",
     "output_type": "stream",
     "text": [
      "epoch=20, loss=0.012917098163697693\n"
     ]
    },
    {
     "name": "stderr",
     "output_type": "stream",
     "text": [
      "100%|██████████| 18/18 [00:00<00:00, 113.04batch/s, train_loss=0.00115] \n"
     ]
    },
    {
     "name": "stdout",
     "output_type": "stream",
     "text": [
      "epoch=21, loss=0.012282135931808597\n"
     ]
    },
    {
     "name": "stderr",
     "output_type": "stream",
     "text": [
      "100%|██████████| 18/18 [00:00<00:00, 91.41batch/s, train_loss=0.00126] \n"
     ]
    },
    {
     "name": "stdout",
     "output_type": "stream",
     "text": [
      "epoch=22, loss=0.012002097581267789\n"
     ]
    },
    {
     "name": "stderr",
     "output_type": "stream",
     "text": [
      "100%|██████████| 18/18 [00:00<00:00, 117.18batch/s, train_loss=0.00108] \n"
     ]
    },
    {
     "name": "stdout",
     "output_type": "stream",
     "text": [
      "epoch=23, loss=0.011576259160084843\n"
     ]
    },
    {
     "name": "stderr",
     "output_type": "stream",
     "text": [
      "100%|██████████| 18/18 [00:00<00:00, 109.29batch/s, train_loss=0.00134] \n"
     ]
    },
    {
     "name": "stdout",
     "output_type": "stream",
     "text": [
      "epoch=24, loss=0.011484834173095785\n"
     ]
    },
    {
     "name": "stderr",
     "output_type": "stream",
     "text": [
      "100%|██████████| 18/18 [00:00<00:00, 87.43batch/s, train_loss=0.00107]\n"
     ]
    },
    {
     "name": "stdout",
     "output_type": "stream",
     "text": [
      "epoch=25, loss=0.01106275428740126\n"
     ]
    },
    {
     "name": "stderr",
     "output_type": "stream",
     "text": [
      "100%|██████████| 18/18 [00:00<00:00, 115.97batch/s, train_loss=0.001]   \n"
     ]
    },
    {
     "name": "stdout",
     "output_type": "stream",
     "text": [
      "epoch=26, loss=0.010801246668672732\n"
     ]
    },
    {
     "name": "stderr",
     "output_type": "stream",
     "text": [
      "100%|██████████| 18/18 [00:00<00:00, 86.58batch/s, train_loss=0.00102]\n"
     ]
    },
    {
     "name": "stdout",
     "output_type": "stream",
     "text": [
      "epoch=27, loss=0.010650357319667451\n"
     ]
    },
    {
     "name": "stderr",
     "output_type": "stream",
     "text": [
      "100%|██████████| 18/18 [00:00<00:00, 108.23batch/s, train_loss=0.00101] \n"
     ]
    },
    {
     "name": "stdout",
     "output_type": "stream",
     "text": [
      "epoch=28, loss=0.010456837111754538\n"
     ]
    },
    {
     "name": "stderr",
     "output_type": "stream",
     "text": [
      "100%|██████████| 18/18 [00:00<00:00, 87.00batch/s, train_loss=0.000958] \n"
     ]
    },
    {
     "name": "stdout",
     "output_type": "stream",
     "text": [
      "epoch=29, loss=0.010271411168661357\n"
     ]
    },
    {
     "name": "stderr",
     "output_type": "stream",
     "text": [
      "100%|██████████| 18/18 [00:00<00:00, 107.72batch/s, train_loss=0.00106] \n"
     ]
    },
    {
     "name": "stdout",
     "output_type": "stream",
     "text": [
      "epoch=30, loss=0.010238658978835767\n"
     ]
    },
    {
     "name": "stderr",
     "output_type": "stream",
     "text": [
      "100%|██████████| 18/18 [00:00<00:00, 117.37batch/s, train_loss=0.00109] \n"
     ]
    },
    {
     "name": "stdout",
     "output_type": "stream",
     "text": [
      "epoch=31, loss=0.010140101463140564\n"
     ]
    },
    {
     "name": "stderr",
     "output_type": "stream",
     "text": [
      "100%|██████████| 18/18 [00:00<00:00, 89.11batch/s, train_loss=0.000948]\n"
     ]
    },
    {
     "name": "stdout",
     "output_type": "stream",
     "text": [
      "epoch=32, loss=0.009945880801023559\n"
     ]
    },
    {
     "name": "stderr",
     "output_type": "stream",
     "text": [
      "100%|██████████| 18/18 [00:00<00:00, 117.18batch/s, train_loss=0.00104] \n"
     ]
    },
    {
     "name": "stdout",
     "output_type": "stream",
     "text": [
      "epoch=33, loss=0.009899177687047619\n"
     ]
    },
    {
     "name": "stderr",
     "output_type": "stream",
     "text": [
      "100%|██████████| 18/18 [00:00<00:00, 82.83batch/s, train_loss=0.000859]\n"
     ]
    },
    {
     "name": "stdout",
     "output_type": "stream",
     "text": [
      "epoch=34, loss=0.009681856770162547\n"
     ]
    },
    {
     "name": "stderr",
     "output_type": "stream",
     "text": [
      "100%|██████████| 18/18 [00:00<00:00, 108.41batch/s, train_loss=0.000991]\n"
     ]
    },
    {
     "name": "stdout",
     "output_type": "stream",
     "text": [
      "epoch=35, loss=0.009702568755575895\n"
     ]
    },
    {
     "name": "stderr",
     "output_type": "stream",
     "text": [
      "100%|██████████| 18/18 [00:00<00:00, 85.65batch/s, train_loss=0.00097]  \n"
     ]
    },
    {
     "name": "stdout",
     "output_type": "stream",
     "text": [
      "epoch=36, loss=0.009589485083999184\n"
     ]
    },
    {
     "name": "stderr",
     "output_type": "stream",
     "text": [
      "100%|██████████| 18/18 [00:00<00:00, 116.44batch/s, train_loss=0.00107] \n"
     ]
    },
    {
     "name": "stdout",
     "output_type": "stream",
     "text": [
      "epoch=37, loss=0.009586916365563225\n"
     ]
    },
    {
     "name": "stderr",
     "output_type": "stream",
     "text": [
      "100%|██████████| 18/18 [00:00<00:00, 115.19batch/s, train_loss=0.00111] \n"
     ]
    },
    {
     "name": "stdout",
     "output_type": "stream",
     "text": [
      "epoch=38, loss=0.009571164331173639\n"
     ]
    },
    {
     "name": "stderr",
     "output_type": "stream",
     "text": [
      "100%|██████████| 18/18 [00:00<00:00, 78.33batch/s, train_loss=0.000985]\n"
     ]
    },
    {
     "name": "stdout",
     "output_type": "stream",
     "text": [
      "epoch=39, loss=0.009411893893019817\n"
     ]
    },
    {
     "name": "stderr",
     "output_type": "stream",
     "text": [
      "100%|██████████| 18/18 [00:00<00:00, 119.36batch/s, train_loss=0.000928]\n"
     ]
    },
    {
     "name": "stdout",
     "output_type": "stream",
     "text": [
      "epoch=40, loss=0.009334851530915133\n"
     ]
    },
    {
     "name": "stderr",
     "output_type": "stream",
     "text": [
      "100%|██████████| 18/18 [00:00<00:00, 93.75batch/s, train_loss=0.000973]\n"
     ]
    },
    {
     "name": "stdout",
     "output_type": "stream",
     "text": [
      "epoch=41, loss=0.009286942095317566\n"
     ]
    },
    {
     "name": "stderr",
     "output_type": "stream",
     "text": [
      "100%|██████████| 18/18 [00:00<00:00, 121.89batch/s, train_loss=0.000944]\n"
     ]
    },
    {
     "name": "stdout",
     "output_type": "stream",
     "text": [
      "epoch=42, loss=0.00922769113987792\n"
     ]
    },
    {
     "name": "stderr",
     "output_type": "stream",
     "text": [
      "100%|██████████| 18/18 [00:00<00:00, 116.73batch/s, train_loss=0.000838]\n"
     ]
    },
    {
     "name": "stdout",
     "output_type": "stream",
     "text": [
      "epoch=43, loss=0.009120424749296063\n"
     ]
    },
    {
     "name": "stderr",
     "output_type": "stream",
     "text": [
      "100%|██████████| 18/18 [00:00<00:00, 92.67batch/s, train_loss=0.000924]\n"
     ]
    },
    {
     "name": "stdout",
     "output_type": "stream",
     "text": [
      "epoch=44, loss=0.00912650846800219\n"
     ]
    },
    {
     "name": "stderr",
     "output_type": "stream",
     "text": [
      "100%|██████████| 18/18 [00:00<00:00, 124.02batch/s, train_loss=0.00092] \n"
     ]
    },
    {
     "name": "stdout",
     "output_type": "stream",
     "text": [
      "epoch=45, loss=0.00905084888427266\n"
     ]
    },
    {
     "name": "stderr",
     "output_type": "stream",
     "text": [
      "100%|██████████| 18/18 [00:00<00:00, 94.06batch/s, train_loss=0.00108]\n"
     ]
    },
    {
     "name": "stdout",
     "output_type": "stream",
     "text": [
      "epoch=46, loss=0.009156656246215429\n"
     ]
    },
    {
     "name": "stderr",
     "output_type": "stream",
     "text": [
      "100%|██████████| 18/18 [00:00<00:00, 121.71batch/s, train_loss=0.000839]\n"
     ]
    },
    {
     "name": "stdout",
     "output_type": "stream",
     "text": [
      "epoch=47, loss=0.008933796103573019\n"
     ]
    },
    {
     "name": "stderr",
     "output_type": "stream",
     "text": [
      "100%|██████████| 18/18 [00:00<00:00, 93.61batch/s, train_loss=0.000939]\n"
     ]
    },
    {
     "name": "stdout",
     "output_type": "stream",
     "text": [
      "epoch=48, loss=0.00898100371018644\n"
     ]
    },
    {
     "name": "stderr",
     "output_type": "stream",
     "text": [
      "100%|██████████| 18/18 [00:00<00:00, 124.22batch/s, train_loss=0.000911]\n"
     ]
    },
    {
     "name": "stdout",
     "output_type": "stream",
     "text": [
      "epoch=49, loss=0.008952625444864968\n"
     ]
    },
    {
     "name": "stderr",
     "output_type": "stream",
     "text": [
      "100%|██████████| 18/18 [00:00<00:00, 124.40batch/s, train_loss=0.000939]\n"
     ]
    },
    {
     "name": "stdout",
     "output_type": "stream",
     "text": [
      "epoch=50, loss=0.008933515845868562\n"
     ]
    },
    {
     "name": "stderr",
     "output_type": "stream",
     "text": [
      "100%|██████████| 18/18 [00:00<00:00, 96.38batch/s, train_loss=0.000913]\n"
     ]
    },
    {
     "name": "stdout",
     "output_type": "stream",
     "text": [
      "epoch=51, loss=0.008903035915070063\n"
     ]
    },
    {
     "name": "stderr",
     "output_type": "stream",
     "text": [
      "100%|██████████| 18/18 [00:00<00:00, 127.40batch/s, train_loss=0.00077] \n"
     ]
    },
    {
     "name": "stdout",
     "output_type": "stream",
     "text": [
      "epoch=52, loss=0.008758784768275837\n"
     ]
    },
    {
     "name": "stderr",
     "output_type": "stream",
     "text": [
      "100%|██████████| 18/18 [00:00<00:00, 95.33batch/s, train_loss=0.000863]\n"
     ]
    },
    {
     "name": "stdout",
     "output_type": "stream",
     "text": [
      "epoch=53, loss=0.008806829313508869\n"
     ]
    },
    {
     "name": "stderr",
     "output_type": "stream",
     "text": [
      "100%|██████████| 18/18 [00:00<00:00, 125.57batch/s, train_loss=0.00085] \n"
     ]
    },
    {
     "name": "stdout",
     "output_type": "stream",
     "text": [
      "epoch=54, loss=0.008772761566113911\n"
     ]
    },
    {
     "name": "stderr",
     "output_type": "stream",
     "text": [
      "100%|██████████| 18/18 [00:00<00:00, 92.60batch/s, train_loss=0.00104]  \n"
     ]
    },
    {
     "name": "stdout",
     "output_type": "stream",
     "text": [
      "epoch=55, loss=0.00887598709251046\n"
     ]
    },
    {
     "name": "stderr",
     "output_type": "stream",
     "text": [
      "100%|██████████| 18/18 [00:00<00:00, 117.21batch/s, train_loss=0.00104] \n"
     ]
    },
    {
     "name": "stdout",
     "output_type": "stream",
     "text": [
      "epoch=56, loss=0.008872301675997918\n"
     ]
    },
    {
     "name": "stderr",
     "output_type": "stream",
     "text": [
      "100%|██████████| 18/18 [00:00<00:00, 127.03batch/s, train_loss=0.00103] \n"
     ]
    },
    {
     "name": "stdout",
     "output_type": "stream",
     "text": [
      "epoch=57, loss=0.008846213233707614\n"
     ]
    },
    {
     "name": "stderr",
     "output_type": "stream",
     "text": [
      "100%|██████████| 18/18 [00:00<00:00, 101.11batch/s, train_loss=0.00122]\n"
     ]
    },
    {
     "name": "stdout",
     "output_type": "stream",
     "text": [
      "epoch=58, loss=0.00895187586632016\n"
     ]
    },
    {
     "name": "stderr",
     "output_type": "stream",
     "text": [
      "100%|██████████| 18/18 [00:00<00:00, 133.59batch/s, train_loss=0.000874]\n"
     ]
    },
    {
     "name": "stdout",
     "output_type": "stream",
     "text": [
      "epoch=59, loss=0.008651261609921818\n"
     ]
    },
    {
     "name": "stderr",
     "output_type": "stream",
     "text": [
      "100%|██████████| 18/18 [00:00<00:00, 94.09batch/s, train_loss=0.000814]\n"
     ]
    },
    {
     "name": "stdout",
     "output_type": "stream",
     "text": [
      "epoch=60, loss=0.008632509602966722\n"
     ]
    },
    {
     "name": "stderr",
     "output_type": "stream",
     "text": [
      "100%|██████████| 18/18 [00:00<00:00, 132.02batch/s, train_loss=0.000997]\n"
     ]
    },
    {
     "name": "stdout",
     "output_type": "stream",
     "text": [
      "epoch=61, loss=0.008768848138272977\n"
     ]
    },
    {
     "name": "stderr",
     "output_type": "stream",
     "text": [
      "100%|██████████| 18/18 [00:00<00:00, 126.53batch/s, train_loss=0.000845]\n"
     ]
    },
    {
     "name": "stdout",
     "output_type": "stream",
     "text": [
      "epoch=62, loss=0.008618426372535822\n"
     ]
    },
    {
     "name": "stderr",
     "output_type": "stream",
     "text": [
      "100%|██████████| 18/18 [00:00<00:00, 104.00batch/s, train_loss=0.000975]\n"
     ]
    },
    {
     "name": "stdout",
     "output_type": "stream",
     "text": [
      "epoch=63, loss=0.008707423531836981\n"
     ]
    },
    {
     "name": "stderr",
     "output_type": "stream",
     "text": [
      "100%|██████████| 18/18 [00:00<00:00, 129.47batch/s, train_loss=0.000872]\n"
     ]
    },
    {
     "name": "stdout",
     "output_type": "stream",
     "text": [
      "epoch=64, loss=0.008599406719100174\n"
     ]
    },
    {
     "name": "stderr",
     "output_type": "stream",
     "text": [
      "100%|██████████| 18/18 [00:00<00:00, 101.03batch/s, train_loss=0.000759]\n"
     ]
    },
    {
     "name": "stdout",
     "output_type": "stream",
     "text": [
      "epoch=65, loss=0.008529145813375603\n"
     ]
    },
    {
     "name": "stderr",
     "output_type": "stream",
     "text": [
      "100%|██████████| 18/18 [00:00<00:00, 124.58batch/s, train_loss=0.00102] \n"
     ]
    },
    {
     "name": "stdout",
     "output_type": "stream",
     "text": [
      "epoch=66, loss=0.008694615820039482\n"
     ]
    },
    {
     "name": "stderr",
     "output_type": "stream",
     "text": [
      "100%|██████████| 18/18 [00:00<00:00, 92.22batch/s, train_loss=0.000851]\n"
     ]
    },
    {
     "name": "stdout",
     "output_type": "stream",
     "text": [
      "epoch=67, loss=0.008553055419065462\n"
     ]
    },
    {
     "name": "stderr",
     "output_type": "stream",
     "text": [
      "100%|██████████| 18/18 [00:00<00:00, 130.13batch/s, train_loss=0.000821]\n"
     ]
    },
    {
     "name": "stdout",
     "output_type": "stream",
     "text": [
      "epoch=68, loss=0.008523507755155597\n"
     ]
    },
    {
     "name": "stderr",
     "output_type": "stream",
     "text": [
      "100%|██████████| 18/18 [00:00<00:00, 127.33batch/s, train_loss=0.00114] \n"
     ]
    },
    {
     "name": "stdout",
     "output_type": "stream",
     "text": [
      "epoch=69, loss=0.008758145368486535\n"
     ]
    },
    {
     "name": "stderr",
     "output_type": "stream",
     "text": [
      "100%|██████████| 18/18 [00:00<00:00, 95.99batch/s, train_loss=0.000959]\n"
     ]
    },
    {
     "name": "stdout",
     "output_type": "stream",
     "text": [
      "epoch=70, loss=0.008599895050809702\n"
     ]
    },
    {
     "name": "stderr",
     "output_type": "stream",
     "text": [
      "100%|██████████| 18/18 [00:00<00:00, 132.49batch/s, train_loss=0.00069] \n"
     ]
    },
    {
     "name": "stdout",
     "output_type": "stream",
     "text": [
      "epoch=71, loss=0.008400601187337608\n"
     ]
    },
    {
     "name": "stderr",
     "output_type": "stream",
     "text": [
      "100%|██████████| 18/18 [00:00<00:00, 101.31batch/s, train_loss=0.000776]\n"
     ]
    },
    {
     "name": "stdout",
     "output_type": "stream",
     "text": [
      "epoch=72, loss=0.008468005591136023\n"
     ]
    },
    {
     "name": "stderr",
     "output_type": "stream",
     "text": [
      "100%|██████████| 18/18 [00:00<00:00, 134.38batch/s, train_loss=0.000805]\n"
     ]
    },
    {
     "name": "stdout",
     "output_type": "stream",
     "text": [
      "epoch=73, loss=0.008461287516118817\n"
     ]
    },
    {
     "name": "stderr",
     "output_type": "stream",
     "text": [
      "100%|██████████| 18/18 [00:00<00:00, 102.84batch/s, train_loss=0.000913]\n"
     ]
    },
    {
     "name": "stdout",
     "output_type": "stream",
     "text": [
      "epoch=74, loss=0.008548406488090646\n"
     ]
    },
    {
     "name": "stderr",
     "output_type": "stream",
     "text": [
      "100%|██████████| 18/18 [00:00<00:00, 132.74batch/s, train_loss=0.000932]\n"
     ]
    },
    {
     "name": "stdout",
     "output_type": "stream",
     "text": [
      "epoch=75, loss=0.008557328562766637\n"
     ]
    },
    {
     "name": "stderr",
     "output_type": "stream",
     "text": [
      "100%|██████████| 18/18 [00:00<00:00, 132.25batch/s, train_loss=0.001]   \n"
     ]
    },
    {
     "name": "stdout",
     "output_type": "stream",
     "text": [
      "epoch=76, loss=0.008586688164016401\n"
     ]
    },
    {
     "name": "stderr",
     "output_type": "stream",
     "text": [
      "100%|██████████| 18/18 [00:00<00:00, 101.08batch/s, train_loss=0.000798]\n"
     ]
    },
    {
     "name": "stdout",
     "output_type": "stream",
     "text": [
      "epoch=77, loss=0.008419108584899764\n"
     ]
    },
    {
     "name": "stderr",
     "output_type": "stream",
     "text": [
      "100%|██████████| 18/18 [00:00<00:00, 121.76batch/s, train_loss=0.000781]\n"
     ]
    },
    {
     "name": "stdout",
     "output_type": "stream",
     "text": [
      "epoch=78, loss=0.008417506901258167\n"
     ]
    },
    {
     "name": "stderr",
     "output_type": "stream",
     "text": [
      "100%|██████████| 18/18 [00:00<00:00, 83.48batch/s, train_loss=0.000881]\n"
     ]
    },
    {
     "name": "stdout",
     "output_type": "stream",
     "text": [
      "epoch=79, loss=0.008494522238143514\n"
     ]
    },
    {
     "name": "stderr",
     "output_type": "stream",
     "text": [
      "100%|██████████| 18/18 [00:00<00:00, 116.87batch/s, train_loss=0.000811]\n"
     ]
    },
    {
     "name": "stdout",
     "output_type": "stream",
     "text": [
      "epoch=80, loss=0.008415539929152395\n"
     ]
    },
    {
     "name": "stderr",
     "output_type": "stream",
     "text": [
      "100%|██████████| 18/18 [00:00<00:00, 126.84batch/s, train_loss=0.000778]\n"
     ]
    },
    {
     "name": "stdout",
     "output_type": "stream",
     "text": [
      "epoch=81, loss=0.008404972948967766\n"
     ]
    },
    {
     "name": "stderr",
     "output_type": "stream",
     "text": [
      "100%|██████████| 18/18 [00:00<00:00, 99.62batch/s, train_loss=0.000829]\n"
     ]
    },
    {
     "name": "stdout",
     "output_type": "stream",
     "text": [
      "epoch=82, loss=0.008430143194938825\n"
     ]
    },
    {
     "name": "stderr",
     "output_type": "stream",
     "text": [
      "100%|██████████| 18/18 [00:00<00:00, 126.12batch/s, train_loss=0.000822]\n"
     ]
    },
    {
     "name": "stdout",
     "output_type": "stream",
     "text": [
      "epoch=83, loss=0.00842412122901166\n"
     ]
    },
    {
     "name": "stderr",
     "output_type": "stream",
     "text": [
      "100%|██████████| 18/18 [00:00<00:00, 95.97batch/s, train_loss=0.000994]\n"
     ]
    },
    {
     "name": "stdout",
     "output_type": "stream",
     "text": [
      "epoch=84, loss=0.008520774500572292\n"
     ]
    },
    {
     "name": "stderr",
     "output_type": "stream",
     "text": [
      "100%|██████████| 18/18 [00:00<00:00, 127.51batch/s, train_loss=0.000764]\n"
     ]
    },
    {
     "name": "stdout",
     "output_type": "stream",
     "text": [
      "epoch=85, loss=0.008375604412077997\n"
     ]
    },
    {
     "name": "stderr",
     "output_type": "stream",
     "text": [
      "100%|██████████| 18/18 [00:00<00:00, 98.29batch/s, train_loss=0.000867]\n"
     ]
    },
    {
     "name": "stdout",
     "output_type": "stream",
     "text": [
      "epoch=86, loss=0.008432529157464686\n"
     ]
    },
    {
     "name": "stderr",
     "output_type": "stream",
     "text": [
      "100%|██████████| 18/18 [00:00<00:00, 129.71batch/s, train_loss=0.0012]  \n"
     ]
    },
    {
     "name": "stdout",
     "output_type": "stream",
     "text": [
      "epoch=87, loss=0.008660535102716853\n"
     ]
    },
    {
     "name": "stderr",
     "output_type": "stream",
     "text": [
      "100%|██████████| 18/18 [00:00<00:00, 126.92batch/s, train_loss=0.000827]\n"
     ]
    },
    {
     "name": "stdout",
     "output_type": "stream",
     "text": [
      "epoch=88, loss=0.008353821198109686\n"
     ]
    },
    {
     "name": "stderr",
     "output_type": "stream",
     "text": [
      "100%|██████████| 18/18 [00:00<00:00, 94.42batch/s, train_loss=0.000933]\n"
     ]
    },
    {
     "name": "stdout",
     "output_type": "stream",
     "text": [
      "epoch=89, loss=0.008458711426288214\n"
     ]
    },
    {
     "name": "stderr",
     "output_type": "stream",
     "text": [
      "100%|██████████| 18/18 [00:00<00:00, 126.66batch/s, train_loss=0.000931]\n"
     ]
    },
    {
     "name": "stdout",
     "output_type": "stream",
     "text": [
      "epoch=90, loss=0.008455822082417967\n"
     ]
    },
    {
     "name": "stderr",
     "output_type": "stream",
     "text": [
      "100%|██████████| 18/18 [00:00<00:00, 76.34batch/s, train_loss=0.000782]\n"
     ]
    },
    {
     "name": "stdout",
     "output_type": "stream",
     "text": [
      "epoch=91, loss=0.008368600310831724\n"
     ]
    },
    {
     "name": "stderr",
     "output_type": "stream",
     "text": [
      "100%|██████████| 18/18 [00:00<00:00, 92.80batch/s, train_loss=0.000745]\n"
     ]
    },
    {
     "name": "stdout",
     "output_type": "stream",
     "text": [
      "epoch=92, loss=0.00833303556685413\n"
     ]
    },
    {
     "name": "stderr",
     "output_type": "stream",
     "text": [
      "100%|██████████| 18/18 [00:00<00:00, 72.86batch/s, train_loss=0.000786]\n"
     ]
    },
    {
     "name": "stdout",
     "output_type": "stream",
     "text": [
      "epoch=93, loss=0.008348107977141542\n"
     ]
    },
    {
     "name": "stderr",
     "output_type": "stream",
     "text": [
      "100%|██████████| 18/18 [00:00<00:00, 87.42batch/s, train_loss=0.000936]\n"
     ]
    },
    {
     "name": "stdout",
     "output_type": "stream",
     "text": [
      "epoch=94, loss=0.008422330342582848\n"
     ]
    },
    {
     "name": "stderr",
     "output_type": "stream",
     "text": [
      "100%|██████████| 18/18 [00:00<00:00, 91.52batch/s, train_loss=0.000822]\n"
     ]
    },
    {
     "name": "stdout",
     "output_type": "stream",
     "text": [
      "epoch=95, loss=0.008371224005622553\n"
     ]
    },
    {
     "name": "stderr",
     "output_type": "stream",
     "text": [
      "100%|██████████| 18/18 [00:00<00:00, 77.54batch/s, train_loss=0.000757]\n"
     ]
    },
    {
     "name": "stdout",
     "output_type": "stream",
     "text": [
      "epoch=96, loss=0.008311983256133455\n"
     ]
    },
    {
     "name": "stderr",
     "output_type": "stream",
     "text": [
      "100%|██████████| 18/18 [00:00<00:00, 85.86batch/s, train_loss=0.00102]\n"
     ]
    },
    {
     "name": "stdout",
     "output_type": "stream",
     "text": [
      "epoch=97, loss=0.008487910872224436\n"
     ]
    },
    {
     "name": "stderr",
     "output_type": "stream",
     "text": [
      "100%|██████████| 18/18 [00:00<00:00, 71.36batch/s, train_loss=0.000954]\n"
     ]
    },
    {
     "name": "stdout",
     "output_type": "stream",
     "text": [
      "epoch=98, loss=0.008457367343485142\n"
     ]
    },
    {
     "name": "stderr",
     "output_type": "stream",
     "text": [
      "100%|██████████| 18/18 [00:00<00:00, 91.54batch/s, train_loss=0.00087] \n"
     ]
    },
    {
     "name": "stdout",
     "output_type": "stream",
     "text": [
      "epoch=99, loss=0.008397215937126414\n"
     ]
    },
    {
     "name": "stderr",
     "output_type": "stream",
     "text": [
      "100%|██████████| 18/18 [00:00<00:00, 83.87batch/s, train_loss=0.000754]"
     ]
    },
    {
     "name": "stdout",
     "output_type": "stream",
     "text": [
      "epoch=100, loss=0.008303904206636578\n"
     ]
    },
    {
     "name": "stderr",
     "output_type": "stream",
     "text": [
      "\n"
     ]
    }
   ],
   "source": [
    "\"\"\"\n",
    "This block of code calculates the outliers alongside the valence axis\n",
    "\"\"\"\n",
    "columns = [\"workerID\", \"SongId\", \"Valence\"]\n",
    "original_df = read_csv(DF_PATH, skipinitialspace=True, usecols=columns)\n",
    "original_df.columns = [\"user_id\", \"item_id\", \"rating\"]\n",
    "original_df = mean_centralised(dataframe=original_df)\n",
    "\n",
    "data_converter = DataConverter(\n",
    "        original_df=original_df, n_random_users=10, n_ratings_per_random_user=9\n",
    ")\n",
    "\n",
    "valence_model = MF(\n",
    "    n_users=data_converter.n_users,\n",
    "    n_items=data_converter.n_item,\n",
    ")\n",
    "epochs = 100\n",
    "\n",
    "criterion = MSELoss()\n",
    "optimizer = SGD(valence_model.parameters(), lr=5, weight_decay=1e-3)\n",
    "runner = Runner(\n",
    "    model=valence_model,\n",
    "    criterion=criterion,\n",
    "    optimizer=optimizer,\n",
    "    epochs=epochs\n",
    ")\n",
    "\n",
    "train_set = create_dataset(data_converter=data_converter)\n",
    "train_load = DataLoader(train_set, batch_size=1000, shuffle=True)\n",
    "users, items, ratings = select_n_random(train_set)\n",
    "\n",
    "with SummaryWriter(\"runs/DEAM/valence\") as writer:\n",
    "    writer.add_graph(valence_model, (users, items))\n",
    "\n",
    "    for epoch in range(epochs):\n",
    "        epoch_loss = runner.train(train_loader=train_load, epoch=epoch, writer=writer)\n",
    "        print(f\"epoch={epoch + 1}, loss={epoch_loss}\")"
   ],
   "metadata": {
    "collapsed": false,
    "pycharm": {
     "name": "#%%\n"
    }
   }
  },
  {
   "cell_type": "code",
   "execution_count": 3,
   "outputs": [
    {
     "name": "stderr",
     "output_type": "stream",
     "text": [
      "_mean_centralised: 100%|██████████| 17464/17464 [00:03<00:00, 4476.74it/s]\n",
      "100%|██████████| 18/18 [00:00<00:00, 88.02batch/s, train_loss=0.00531]\n"
     ]
    },
    {
     "name": "stdout",
     "output_type": "stream",
     "text": [
      "epoch=1, loss=0.06177968693468115\n"
     ]
    },
    {
     "name": "stderr",
     "output_type": "stream",
     "text": [
      "100%|██████████| 18/18 [00:00<00:00, 99.79batch/s, train_loss=0.00548]\n"
     ]
    },
    {
     "name": "stdout",
     "output_type": "stream",
     "text": [
      "epoch=2, loss=0.061219564320808724\n"
     ]
    },
    {
     "name": "stderr",
     "output_type": "stream",
     "text": [
      "100%|██████████| 18/18 [00:00<00:00, 76.59batch/s, train_loss=0.00539]\n"
     ]
    },
    {
     "name": "stdout",
     "output_type": "stream",
     "text": [
      "epoch=3, loss=0.05880930537523346\n"
     ]
    },
    {
     "name": "stderr",
     "output_type": "stream",
     "text": [
      "100%|██████████| 18/18 [00:00<00:00, 99.93batch/s, train_loss=0.00424]\n"
     ]
    },
    {
     "name": "stdout",
     "output_type": "stream",
     "text": [
      "epoch=4, loss=0.05056525908050124\n"
     ]
    },
    {
     "name": "stderr",
     "output_type": "stream",
     "text": [
      "100%|██████████| 18/18 [00:00<00:00, 104.21batch/s, train_loss=0.00413]\n"
     ]
    },
    {
     "name": "stdout",
     "output_type": "stream",
     "text": [
      "epoch=5, loss=0.04294225284855288\n"
     ]
    },
    {
     "name": "stderr",
     "output_type": "stream",
     "text": [
      "100%|██████████| 18/18 [00:00<00:00, 126.04batch/s, train_loss=0.00367]\n"
     ]
    },
    {
     "name": "stdout",
     "output_type": "stream",
     "text": [
      "epoch=6, loss=0.03844450640161975\n"
     ]
    },
    {
     "name": "stderr",
     "output_type": "stream",
     "text": [
      "100%|██████████| 18/18 [00:00<00:00, 135.05batch/s, train_loss=0.0035] \n"
     ]
    },
    {
     "name": "stdout",
     "output_type": "stream",
     "text": [
      "epoch=7, loss=0.03446296998912247\n"
     ]
    },
    {
     "name": "stderr",
     "output_type": "stream",
     "text": [
      "100%|██████████| 18/18 [00:00<00:00, 96.58batch/s, train_loss=0.00276]\n"
     ]
    },
    {
     "name": "stdout",
     "output_type": "stream",
     "text": [
      "epoch=8, loss=0.03055297167895073\n"
     ]
    },
    {
     "name": "stderr",
     "output_type": "stream",
     "text": [
      "100%|██████████| 18/18 [00:00<00:00, 124.81batch/s, train_loss=0.00273]\n"
     ]
    },
    {
     "name": "stdout",
     "output_type": "stream",
     "text": [
      "epoch=9, loss=0.02759223397501109\n"
     ]
    },
    {
     "name": "stderr",
     "output_type": "stream",
     "text": [
      "100%|██████████| 18/18 [00:00<00:00, 101.52batch/s, train_loss=0.00254]\n"
     ]
    },
    {
     "name": "stdout",
     "output_type": "stream",
     "text": [
      "epoch=10, loss=0.02492386337738175\n"
     ]
    },
    {
     "name": "stderr",
     "output_type": "stream",
     "text": [
      "100%|██████████| 18/18 [00:00<00:00, 134.45batch/s, train_loss=0.00204]\n"
     ]
    },
    {
     "name": "stdout",
     "output_type": "stream",
     "text": [
      "epoch=11, loss=0.022456975424332743\n"
     ]
    },
    {
     "name": "stderr",
     "output_type": "stream",
     "text": [
      "100%|██████████| 18/18 [00:00<00:00, 136.21batch/s, train_loss=0.00197]\n"
     ]
    },
    {
     "name": "stdout",
     "output_type": "stream",
     "text": [
      "epoch=12, loss=0.02074015529104088\n"
     ]
    },
    {
     "name": "stderr",
     "output_type": "stream",
     "text": [
      "100%|██████████| 18/18 [00:00<00:00, 97.95batch/s, train_loss=0.00183]\n"
     ]
    },
    {
     "name": "stdout",
     "output_type": "stream",
     "text": [
      "epoch=13, loss=0.019218768156822837\n"
     ]
    },
    {
     "name": "stderr",
     "output_type": "stream",
     "text": [
      "100%|██████████| 18/18 [00:00<00:00, 135.46batch/s, train_loss=0.00168] \n"
     ]
    },
    {
     "name": "stdout",
     "output_type": "stream",
     "text": [
      "epoch=14, loss=0.017852716377711034\n"
     ]
    },
    {
     "name": "stderr",
     "output_type": "stream",
     "text": [
      "100%|██████████| 18/18 [00:00<00:00, 99.86batch/s, train_loss=0.00159]\n"
     ]
    },
    {
     "name": "stdout",
     "output_type": "stream",
     "text": [
      "epoch=15, loss=0.016716037929488434\n"
     ]
    },
    {
     "name": "stderr",
     "output_type": "stream",
     "text": [
      "100%|██████████| 18/18 [00:00<00:00, 126.75batch/s, train_loss=0.00145] \n"
     ]
    },
    {
     "name": "stdout",
     "output_type": "stream",
     "text": [
      "epoch=16, loss=0.015654625729318132\n"
     ]
    },
    {
     "name": "stderr",
     "output_type": "stream",
     "text": [
      "100%|██████████| 18/18 [00:00<00:00, 97.92batch/s, train_loss=0.00175]  \n"
     ]
    },
    {
     "name": "stdout",
     "output_type": "stream",
     "text": [
      "epoch=17, loss=0.015065829108553242\n"
     ]
    },
    {
     "name": "stderr",
     "output_type": "stream",
     "text": [
      "100%|██████████| 18/18 [00:00<00:00, 126.21batch/s, train_loss=0.00155] \n"
     ]
    },
    {
     "name": "stdout",
     "output_type": "stream",
     "text": [
      "epoch=18, loss=0.01419418268061717\n"
     ]
    },
    {
     "name": "stderr",
     "output_type": "stream",
     "text": [
      "100%|██████████| 18/18 [00:00<00:00, 124.62batch/s, train_loss=0.00138] \n"
     ]
    },
    {
     "name": "stdout",
     "output_type": "stream",
     "text": [
      "epoch=19, loss=0.013487674159693808\n"
     ]
    },
    {
     "name": "stderr",
     "output_type": "stream",
     "text": [
      "100%|██████████| 18/18 [00:00<00:00, 100.60batch/s, train_loss=0.00124]\n"
     ]
    },
    {
     "name": "stdout",
     "output_type": "stream",
     "text": [
      "epoch=20, loss=0.012864570419495718\n"
     ]
    },
    {
     "name": "stderr",
     "output_type": "stream",
     "text": [
      "100%|██████████| 18/18 [00:00<00:00, 108.15batch/s, train_loss=0.00137] \n"
     ]
    },
    {
     "name": "stdout",
     "output_type": "stream",
     "text": [
      "epoch=21, loss=0.01248558176940959\n"
     ]
    },
    {
     "name": "stderr",
     "output_type": "stream",
     "text": [
      "100%|██████████| 18/18 [00:00<00:00, 88.58batch/s, train_loss=0.00105] \n"
     ]
    },
    {
     "name": "stdout",
     "output_type": "stream",
     "text": [
      "epoch=22, loss=0.011887845435512625\n"
     ]
    },
    {
     "name": "stderr",
     "output_type": "stream",
     "text": [
      "100%|██████████| 18/18 [00:00<00:00, 132.56batch/s, train_loss=0.000997]\n"
     ]
    },
    {
     "name": "stdout",
     "output_type": "stream",
     "text": [
      "epoch=23, loss=0.011544134702708316\n"
     ]
    },
    {
     "name": "stderr",
     "output_type": "stream",
     "text": [
      "100%|██████████| 18/18 [00:00<00:00, 107.79batch/s, train_loss=0.00134] \n"
     ]
    },
    {
     "name": "stdout",
     "output_type": "stream",
     "text": [
      "epoch=24, loss=0.01148600603139788\n"
     ]
    },
    {
     "name": "stderr",
     "output_type": "stream",
     "text": [
      "100%|██████████| 18/18 [00:00<00:00, 78.90batch/s, train_loss=0.00107] \n"
     ]
    },
    {
     "name": "stdout",
     "output_type": "stream",
     "text": [
      "epoch=25, loss=0.01104184166425402\n"
     ]
    },
    {
     "name": "stderr",
     "output_type": "stream",
     "text": [
      "100%|██████████| 18/18 [00:00<00:00, 103.66batch/s, train_loss=0.000977]\n"
     ]
    },
    {
     "name": "stdout",
     "output_type": "stream",
     "text": [
      "epoch=26, loss=0.010758811741099031\n"
     ]
    },
    {
     "name": "stderr",
     "output_type": "stream",
     "text": [
      "100%|██████████| 18/18 [00:00<00:00, 75.97batch/s, train_loss=0.00117]\n"
     ]
    },
    {
     "name": "stdout",
     "output_type": "stream",
     "text": [
      "epoch=27, loss=0.010670429566491814\n"
     ]
    },
    {
     "name": "stderr",
     "output_type": "stream",
     "text": [
      "100%|██████████| 18/18 [00:00<00:00, 110.63batch/s, train_loss=0.0011]  \n"
     ]
    },
    {
     "name": "stdout",
     "output_type": "stream",
     "text": [
      "epoch=28, loss=0.010483177275756634\n"
     ]
    },
    {
     "name": "stderr",
     "output_type": "stream",
     "text": [
      "100%|██████████| 18/18 [00:00<00:00, 84.58batch/s, train_loss=0.00107]  \n"
     ]
    },
    {
     "name": "stdout",
     "output_type": "stream",
     "text": [
      "epoch=29, loss=0.010304130183122647\n"
     ]
    },
    {
     "name": "stderr",
     "output_type": "stream",
     "text": [
      "100%|██████████| 18/18 [00:00<00:00, 113.77batch/s, train_loss=0.000947]\n"
     ]
    },
    {
     "name": "stdout",
     "output_type": "stream",
     "text": [
      "epoch=30, loss=0.010078343936144658\n"
     ]
    },
    {
     "name": "stderr",
     "output_type": "stream",
     "text": [
      "100%|██████████| 18/18 [00:00<00:00, 105.48batch/s, train_loss=0.00127]\n"
     ]
    },
    {
     "name": "stdout",
     "output_type": "stream",
     "text": [
      "epoch=31, loss=0.010188875414942147\n"
     ]
    },
    {
     "name": "stderr",
     "output_type": "stream",
     "text": [
      "100%|██████████| 18/18 [00:00<00:00, 81.54batch/s, train_loss=0.00117] \n"
     ]
    },
    {
     "name": "stdout",
     "output_type": "stream",
     "text": [
      "epoch=32, loss=0.01000419374913085\n"
     ]
    },
    {
     "name": "stderr",
     "output_type": "stream",
     "text": [
      "100%|██████████| 18/18 [00:00<00:00, 101.16batch/s, train_loss=0.000967]\n"
     ]
    },
    {
     "name": "stdout",
     "output_type": "stream",
     "text": [
      "epoch=33, loss=0.00976070651272144\n"
     ]
    },
    {
     "name": "stderr",
     "output_type": "stream",
     "text": [
      "100%|██████████| 18/18 [00:00<00:00, 91.00batch/s, train_loss=0.00114] \n"
     ]
    },
    {
     "name": "stdout",
     "output_type": "stream",
     "text": [
      "epoch=34, loss=0.009789351888081657\n"
     ]
    },
    {
     "name": "stderr",
     "output_type": "stream",
     "text": [
      "100%|██████████| 18/18 [00:00<00:00, 117.57batch/s, train_loss=0.000947]\n"
     ]
    },
    {
     "name": "stdout",
     "output_type": "stream",
     "text": [
      "epoch=35, loss=0.00957501825216875\n"
     ]
    },
    {
     "name": "stderr",
     "output_type": "stream",
     "text": [
      "100%|██████████| 18/18 [00:00<00:00, 120.30batch/s, train_loss=0.00106] \n"
     ]
    },
    {
     "name": "stdout",
     "output_type": "stream",
     "text": [
      "epoch=36, loss=0.009574013761019448\n"
     ]
    },
    {
     "name": "stderr",
     "output_type": "stream",
     "text": [
      "100%|██████████| 18/18 [00:00<00:00, 82.63batch/s, train_loss=0.000976]\n"
     ]
    },
    {
     "name": "stdout",
     "output_type": "stream",
     "text": [
      "epoch=37, loss=0.009433566319490598\n"
     ]
    },
    {
     "name": "stderr",
     "output_type": "stream",
     "text": [
      "100%|██████████| 18/18 [00:00<00:00, 119.76batch/s, train_loss=0.000821]\n"
     ]
    },
    {
     "name": "stdout",
     "output_type": "stream",
     "text": [
      "epoch=38, loss=0.009268240552946979\n"
     ]
    },
    {
     "name": "stderr",
     "output_type": "stream",
     "text": [
      "100%|██████████| 18/18 [00:00<00:00, 91.32batch/s, train_loss=0.000936]\n"
     ]
    },
    {
     "name": "stdout",
     "output_type": "stream",
     "text": [
      "epoch=39, loss=0.009273213625922531\n"
     ]
    },
    {
     "name": "stderr",
     "output_type": "stream",
     "text": [
      "100%|██████████| 18/18 [00:00<00:00, 125.04batch/s, train_loss=0.000947]\n"
     ]
    },
    {
     "name": "stdout",
     "output_type": "stream",
     "text": [
      "epoch=40, loss=0.009234206074519278\n"
     ]
    },
    {
     "name": "stderr",
     "output_type": "stream",
     "text": [
      "100%|██████████| 18/18 [00:00<00:00, 93.98batch/s, train_loss=0.00096]  \n"
     ]
    },
    {
     "name": "stdout",
     "output_type": "stream",
     "text": [
      "epoch=41, loss=0.00922168349014723\n"
     ]
    },
    {
     "name": "stderr",
     "output_type": "stream",
     "text": [
      "100%|██████████| 18/18 [00:00<00:00, 121.44batch/s, train_loss=0.00108] \n"
     ]
    },
    {
     "name": "stdout",
     "output_type": "stream",
     "text": [
      "epoch=42, loss=0.009228686052431698\n"
     ]
    },
    {
     "name": "stderr",
     "output_type": "stream",
     "text": [
      "100%|██████████| 18/18 [00:00<00:00, 117.38batch/s, train_loss=0.000786]\n"
     ]
    },
    {
     "name": "stdout",
     "output_type": "stream",
     "text": [
      "epoch=43, loss=0.008996064990113357\n"
     ]
    },
    {
     "name": "stderr",
     "output_type": "stream",
     "text": [
      "100%|██████████| 18/18 [00:00<00:00, 92.78batch/s, train_loss=0.000915]\n"
     ]
    },
    {
     "name": "stdout",
     "output_type": "stream",
     "text": [
      "epoch=44, loss=0.00904342381510924\n"
     ]
    },
    {
     "name": "stderr",
     "output_type": "stream",
     "text": [
      "100%|██████████| 18/18 [00:00<00:00, 123.35batch/s, train_loss=0.000903]\n"
     ]
    },
    {
     "name": "stdout",
     "output_type": "stream",
     "text": [
      "epoch=45, loss=0.009009467224782125\n"
     ]
    },
    {
     "name": "stderr",
     "output_type": "stream",
     "text": [
      "100%|██████████| 18/18 [00:00<00:00, 96.72batch/s, train_loss=0.000987]\n"
     ]
    },
    {
     "name": "stdout",
     "output_type": "stream",
     "text": [
      "epoch=46, loss=0.009036302367057181\n"
     ]
    },
    {
     "name": "stderr",
     "output_type": "stream",
     "text": [
      "100%|██████████| 18/18 [00:00<00:00, 125.68batch/s, train_loss=0.000973]\n"
     ]
    },
    {
     "name": "stdout",
     "output_type": "stream",
     "text": [
      "epoch=47, loss=0.008993057610756224\n"
     ]
    },
    {
     "name": "stderr",
     "output_type": "stream",
     "text": [
      "100%|██████████| 18/18 [00:00<00:00, 119.46batch/s, train_loss=0.000821]\n"
     ]
    },
    {
     "name": "stdout",
     "output_type": "stream",
     "text": [
      "epoch=48, loss=0.008829355460749637\n"
     ]
    },
    {
     "name": "stderr",
     "output_type": "stream",
     "text": [
      "100%|██████████| 18/18 [00:00<00:00, 98.94batch/s, train_loss=0.000833]\n"
     ]
    },
    {
     "name": "stdout",
     "output_type": "stream",
     "text": [
      "epoch=49, loss=0.008812095176226827\n"
     ]
    },
    {
     "name": "stderr",
     "output_type": "stream",
     "text": [
      "100%|██████████| 18/18 [00:00<00:00, 119.05batch/s, train_loss=0.000951]\n"
     ]
    },
    {
     "name": "stdout",
     "output_type": "stream",
     "text": [
      "epoch=50, loss=0.008880359372507364\n"
     ]
    },
    {
     "name": "stderr",
     "output_type": "stream",
     "text": [
      "100%|██████████| 18/18 [00:00<00:00, 73.57batch/s, train_loss=0.000966]\n"
     ]
    },
    {
     "name": "stdout",
     "output_type": "stream",
     "text": [
      "epoch=51, loss=0.008855069578339477\n"
     ]
    },
    {
     "name": "stderr",
     "output_type": "stream",
     "text": [
      "100%|██████████| 18/18 [00:00<00:00, 83.83batch/s, train_loss=0.00106]\n"
     ]
    },
    {
     "name": "stdout",
     "output_type": "stream",
     "text": [
      "epoch=52, loss=0.008902532685534618\n"
     ]
    },
    {
     "name": "stderr",
     "output_type": "stream",
     "text": [
      "100%|██████████| 18/18 [00:00<00:00, 61.69batch/s, train_loss=0.000848]\n"
     ]
    },
    {
     "name": "stdout",
     "output_type": "stream",
     "text": [
      "epoch=53, loss=0.008722343965450349\n"
     ]
    },
    {
     "name": "stderr",
     "output_type": "stream",
     "text": [
      "100%|██████████| 18/18 [00:00<00:00, 99.94batch/s, train_loss=0.00099]  \n"
     ]
    },
    {
     "name": "stdout",
     "output_type": "stream",
     "text": [
      "epoch=54, loss=0.008824968575355379\n"
     ]
    },
    {
     "name": "stderr",
     "output_type": "stream",
     "text": [
      "100%|██████████| 18/18 [00:00<00:00, 69.08batch/s, train_loss=0.000908]\n"
     ]
    },
    {
     "name": "stdout",
     "output_type": "stream",
     "text": [
      "epoch=55, loss=0.008755824677780646\n"
     ]
    },
    {
     "name": "stderr",
     "output_type": "stream",
     "text": [
      "100%|██████████| 18/18 [00:00<00:00, 65.21batch/s, train_loss=0.000901]\n"
     ]
    },
    {
     "name": "stdout",
     "output_type": "stream",
     "text": [
      "epoch=56, loss=0.008714007237327659\n"
     ]
    },
    {
     "name": "stderr",
     "output_type": "stream",
     "text": [
      "100%|██████████| 18/18 [00:00<00:00, 96.72batch/s, train_loss=0.00104] \n"
     ]
    },
    {
     "name": "stdout",
     "output_type": "stream",
     "text": [
      "epoch=57, loss=0.008790068184533274\n"
     ]
    },
    {
     "name": "stderr",
     "output_type": "stream",
     "text": [
      "100%|██████████| 18/18 [00:00<00:00, 53.79batch/s, train_loss=0.000897]\n"
     ]
    },
    {
     "name": "stdout",
     "output_type": "stream",
     "text": [
      "epoch=58, loss=0.008679119224582768\n"
     ]
    },
    {
     "name": "stderr",
     "output_type": "stream",
     "text": [
      "100%|██████████| 18/18 [00:00<00:00, 53.58batch/s, train_loss=0.000891]\n"
     ]
    },
    {
     "name": "stdout",
     "output_type": "stream",
     "text": [
      "epoch=59, loss=0.008652061496077893\n"
     ]
    },
    {
     "name": "stderr",
     "output_type": "stream",
     "text": [
      "100%|██████████| 18/18 [00:00<00:00, 73.49batch/s, train_loss=0.000911]\n"
     ]
    },
    {
     "name": "stdout",
     "output_type": "stream",
     "text": [
      "epoch=60, loss=0.008669177349508886\n"
     ]
    },
    {
     "name": "stderr",
     "output_type": "stream",
     "text": [
      "100%|██████████| 18/18 [00:00<00:00, 63.76batch/s, train_loss=0.000792]\n"
     ]
    },
    {
     "name": "stdout",
     "output_type": "stream",
     "text": [
      "epoch=61, loss=0.008583724424942306\n"
     ]
    },
    {
     "name": "stderr",
     "output_type": "stream",
     "text": [
      "100%|██████████| 18/18 [00:00<00:00, 92.14batch/s, train_loss=0.000944]\n"
     ]
    },
    {
     "name": "stdout",
     "output_type": "stream",
     "text": [
      "epoch=62, loss=0.008650948699200627\n"
     ]
    },
    {
     "name": "stderr",
     "output_type": "stream",
     "text": [
      "100%|██████████| 18/18 [00:00<00:00, 70.59batch/s, train_loss=0.000838]\n"
     ]
    },
    {
     "name": "stdout",
     "output_type": "stream",
     "text": [
      "epoch=63, loss=0.00857929152207254\n"
     ]
    },
    {
     "name": "stderr",
     "output_type": "stream",
     "text": [
      "100%|██████████| 18/18 [00:00<00:00, 104.79batch/s, train_loss=0.001]  \n"
     ]
    },
    {
     "name": "stdout",
     "output_type": "stream",
     "text": [
      "epoch=64, loss=0.0086605291658145\n"
     ]
    },
    {
     "name": "stderr",
     "output_type": "stream",
     "text": [
      "100%|██████████| 18/18 [00:00<00:00, 72.41batch/s, train_loss=0.000878]\n"
     ]
    },
    {
     "name": "stdout",
     "output_type": "stream",
     "text": [
      "epoch=65, loss=0.008569704672489787\n"
     ]
    },
    {
     "name": "stderr",
     "output_type": "stream",
     "text": [
      "100%|██████████| 18/18 [00:00<00:00, 106.59batch/s, train_loss=0.000971]\n"
     ]
    },
    {
     "name": "stdout",
     "output_type": "stream",
     "text": [
      "epoch=66, loss=0.008628490057662938\n"
     ]
    },
    {
     "name": "stderr",
     "output_type": "stream",
     "text": [
      "100%|██████████| 18/18 [00:00<00:00, 100.85batch/s, train_loss=0.000902]\n"
     ]
    },
    {
     "name": "stdout",
     "output_type": "stream",
     "text": [
      "epoch=67, loss=0.00856293073221234\n"
     ]
    },
    {
     "name": "stderr",
     "output_type": "stream",
     "text": [
      "100%|██████████| 18/18 [00:00<00:00, 80.17batch/s, train_loss=0.000904]\n"
     ]
    },
    {
     "name": "stdout",
     "output_type": "stream",
     "text": [
      "epoch=68, loss=0.008561188391830087\n"
     ]
    },
    {
     "name": "stderr",
     "output_type": "stream",
     "text": [
      "100%|██████████| 18/18 [00:00<00:00, 112.03batch/s, train_loss=0.000989]\n"
     ]
    },
    {
     "name": "stdout",
     "output_type": "stream",
     "text": [
      "epoch=69, loss=0.008593135593062275\n"
     ]
    },
    {
     "name": "stderr",
     "output_type": "stream",
     "text": [
      "100%|██████████| 18/18 [00:00<00:00, 87.72batch/s, train_loss=0.000952]\n"
     ]
    },
    {
     "name": "stdout",
     "output_type": "stream",
     "text": [
      "epoch=70, loss=0.008585417657660233\n"
     ]
    },
    {
     "name": "stderr",
     "output_type": "stream",
     "text": [
      "100%|██████████| 18/18 [00:00<00:00, 113.90batch/s, train_loss=0.000746]\n"
     ]
    },
    {
     "name": "stdout",
     "output_type": "stream",
     "text": [
      "epoch=71, loss=0.008416415419496785\n"
     ]
    },
    {
     "name": "stderr",
     "output_type": "stream",
     "text": [
      "100%|██████████| 18/18 [00:00<00:00, 115.32batch/s, train_loss=0.00089] \n"
     ]
    },
    {
     "name": "stdout",
     "output_type": "stream",
     "text": [
      "epoch=72, loss=0.008506804903599329\n"
     ]
    },
    {
     "name": "stderr",
     "output_type": "stream",
     "text": [
      "100%|██████████| 18/18 [00:00<00:00, 85.97batch/s, train_loss=0.000893]\n"
     ]
    },
    {
     "name": "stdout",
     "output_type": "stream",
     "text": [
      "epoch=73, loss=0.008522618005852406\n"
     ]
    },
    {
     "name": "stderr",
     "output_type": "stream",
     "text": [
      "100%|██████████| 18/18 [00:00<00:00, 106.14batch/s, train_loss=0.000915]\n"
     ]
    },
    {
     "name": "stdout",
     "output_type": "stream",
     "text": [
      "epoch=74, loss=0.008520061059871735\n"
     ]
    },
    {
     "name": "stderr",
     "output_type": "stream",
     "text": [
      "100%|██████████| 18/18 [00:00<00:00, 87.80batch/s, train_loss=0.00084]\n"
     ]
    },
    {
     "name": "stdout",
     "output_type": "stream",
     "text": [
      "epoch=75, loss=0.008453872442137893\n"
     ]
    },
    {
     "name": "stderr",
     "output_type": "stream",
     "text": [
      "100%|██████████| 18/18 [00:00<00:00, 117.25batch/s, train_loss=0.000875]\n"
     ]
    },
    {
     "name": "stdout",
     "output_type": "stream",
     "text": [
      "epoch=76, loss=0.008467059796682764\n"
     ]
    },
    {
     "name": "stderr",
     "output_type": "stream",
     "text": [
      "100%|██████████| 18/18 [00:00<00:00, 90.09batch/s, train_loss=0.000922] \n"
     ]
    },
    {
     "name": "stdout",
     "output_type": "stream",
     "text": [
      "epoch=77, loss=0.008516995383944324\n"
     ]
    },
    {
     "name": "stderr",
     "output_type": "stream",
     "text": [
      "100%|██████████| 18/18 [00:00<00:00, 113.78batch/s, train_loss=0.00082] \n"
     ]
    },
    {
     "name": "stdout",
     "output_type": "stream",
     "text": [
      "epoch=78, loss=0.008419798068944299\n"
     ]
    },
    {
     "name": "stderr",
     "output_type": "stream",
     "text": [
      "100%|██████████| 18/18 [00:00<00:00, 99.67batch/s, train_loss=0.000891] \n"
     ]
    },
    {
     "name": "stdout",
     "output_type": "stream",
     "text": [
      "epoch=79, loss=0.008465827810957975\n"
     ]
    },
    {
     "name": "stderr",
     "output_type": "stream",
     "text": [
      "100%|██████████| 18/18 [00:00<00:00, 69.54batch/s, train_loss=0.00088] \n"
     ]
    },
    {
     "name": "stdout",
     "output_type": "stream",
     "text": [
      "epoch=80, loss=0.008453096466374311\n"
     ]
    },
    {
     "name": "stderr",
     "output_type": "stream",
     "text": [
      "100%|██████████| 18/18 [00:00<00:00, 99.50batch/s, train_loss=0.000777]\n"
     ]
    },
    {
     "name": "stdout",
     "output_type": "stream",
     "text": [
      "epoch=81, loss=0.008362331789861087\n"
     ]
    },
    {
     "name": "stderr",
     "output_type": "stream",
     "text": [
      "100%|██████████| 18/18 [00:00<00:00, 85.13batch/s, train_loss=0.000889]\n"
     ]
    },
    {
     "name": "stdout",
     "output_type": "stream",
     "text": [
      "epoch=82, loss=0.008452140074667087\n"
     ]
    },
    {
     "name": "stderr",
     "output_type": "stream",
     "text": [
      "100%|██████████| 18/18 [00:00<00:00, 105.17batch/s, train_loss=0.000847]\n"
     ]
    },
    {
     "name": "stdout",
     "output_type": "stream",
     "text": [
      "epoch=83, loss=0.008433972404751964\n"
     ]
    },
    {
     "name": "stderr",
     "output_type": "stream",
     "text": [
      "100%|██████████| 18/18 [00:00<00:00, 117.07batch/s, train_loss=0.000825]\n"
     ]
    },
    {
     "name": "stdout",
     "output_type": "stream",
     "text": [
      "epoch=84, loss=0.008391477279929909\n"
     ]
    },
    {
     "name": "stderr",
     "output_type": "stream",
     "text": [
      "100%|██████████| 18/18 [00:00<00:00, 84.16batch/s, train_loss=0.00101]\n"
     ]
    },
    {
     "name": "stdout",
     "output_type": "stream",
     "text": [
      "epoch=85, loss=0.008537266037094033\n"
     ]
    },
    {
     "name": "stderr",
     "output_type": "stream",
     "text": [
      "100%|██████████| 18/18 [00:00<00:00, 109.22batch/s, train_loss=0.000907]\n"
     ]
    },
    {
     "name": "stdout",
     "output_type": "stream",
     "text": [
      "epoch=86, loss=0.008429921326008944\n"
     ]
    },
    {
     "name": "stderr",
     "output_type": "stream",
     "text": [
      "100%|██████████| 18/18 [00:00<00:00, 96.08batch/s, train_loss=0.000926]\n"
     ]
    },
    {
     "name": "stdout",
     "output_type": "stream",
     "text": [
      "epoch=87, loss=0.008442570243178722\n"
     ]
    },
    {
     "name": "stderr",
     "output_type": "stream",
     "text": [
      "100%|██████████| 18/18 [00:00<00:00, 124.29batch/s, train_loss=0.000691]\n"
     ]
    },
    {
     "name": "stdout",
     "output_type": "stream",
     "text": [
      "epoch=88, loss=0.008263153724937232\n"
     ]
    },
    {
     "name": "stderr",
     "output_type": "stream",
     "text": [
      "100%|██████████| 18/18 [00:00<00:00, 86.12batch/s, train_loss=0.000817] \n"
     ]
    },
    {
     "name": "stdout",
     "output_type": "stream",
     "text": [
      "epoch=89, loss=0.00833997714702403\n"
     ]
    },
    {
     "name": "stderr",
     "output_type": "stream",
     "text": [
      "100%|██████████| 18/18 [00:00<00:00, 114.65batch/s, train_loss=0.000971]\n"
     ]
    },
    {
     "name": "stdout",
     "output_type": "stream",
     "text": [
      "epoch=90, loss=0.008460861172809498\n"
     ]
    },
    {
     "name": "stderr",
     "output_type": "stream",
     "text": [
      "100%|██████████| 18/18 [00:00<00:00, 82.20batch/s, train_loss=0.000957]\n"
     ]
    },
    {
     "name": "stdout",
     "output_type": "stream",
     "text": [
      "epoch=91, loss=0.008437148560685802\n"
     ]
    },
    {
     "name": "stderr",
     "output_type": "stream",
     "text": [
      "100%|██████████| 18/18 [00:00<00:00, 71.51batch/s, train_loss=0.00064] \n"
     ]
    },
    {
     "name": "stdout",
     "output_type": "stream",
     "text": [
      "epoch=92, loss=0.008230023853400124\n"
     ]
    },
    {
     "name": "stderr",
     "output_type": "stream",
     "text": [
      "100%|██████████| 18/18 [00:00<00:00, 82.36batch/s, train_loss=0.000899]\n"
     ]
    },
    {
     "name": "stdout",
     "output_type": "stream",
     "text": [
      "epoch=93, loss=0.008391896040968946\n"
     ]
    },
    {
     "name": "stderr",
     "output_type": "stream",
     "text": [
      "100%|██████████| 18/18 [00:00<00:00, 73.23batch/s, train_loss=0.000964]\n"
     ]
    },
    {
     "name": "stdout",
     "output_type": "stream",
     "text": [
      "epoch=94, loss=0.008446841176774097\n"
     ]
    },
    {
     "name": "stderr",
     "output_type": "stream",
     "text": [
      "100%|██████████| 18/18 [00:00<00:00, 84.48batch/s, train_loss=0.000923]\n"
     ]
    },
    {
     "name": "stdout",
     "output_type": "stream",
     "text": [
      "epoch=95, loss=0.008400783438544843\n"
     ]
    },
    {
     "name": "stderr",
     "output_type": "stream",
     "text": [
      "100%|██████████| 18/18 [00:00<00:00, 87.85batch/s, train_loss=0.000849]\n"
     ]
    },
    {
     "name": "stdout",
     "output_type": "stream",
     "text": [
      "epoch=96, loss=0.00834931815176234\n"
     ]
    },
    {
     "name": "stderr",
     "output_type": "stream",
     "text": [
      "100%|██████████| 18/18 [00:00<00:00, 69.56batch/s, train_loss=0.000884]\n"
     ]
    },
    {
     "name": "stdout",
     "output_type": "stream",
     "text": [
      "epoch=97, loss=0.008387542540093192\n"
     ]
    },
    {
     "name": "stderr",
     "output_type": "stream",
     "text": [
      "100%|██████████| 18/18 [00:00<00:00, 83.60batch/s, train_loss=0.000886]\n"
     ]
    },
    {
     "name": "stdout",
     "output_type": "stream",
     "text": [
      "epoch=98, loss=0.008367749842172926\n"
     ]
    },
    {
     "name": "stderr",
     "output_type": "stream",
     "text": [
      "100%|██████████| 18/18 [00:00<00:00, 75.66batch/s, train_loss=0.000901]\n"
     ]
    },
    {
     "name": "stdout",
     "output_type": "stream",
     "text": [
      "epoch=99, loss=0.008399177120480727\n"
     ]
    },
    {
     "name": "stderr",
     "output_type": "stream",
     "text": [
      "100%|██████████| 18/18 [00:00<00:00, 94.28batch/s, train_loss=0.00084] "
     ]
    },
    {
     "name": "stdout",
     "output_type": "stream",
     "text": [
      "epoch=100, loss=0.008326734231589934\n"
     ]
    },
    {
     "name": "stderr",
     "output_type": "stream",
     "text": [
      "\n"
     ]
    }
   ],
   "source": [
    "\"\"\"\n",
    "This block of code calculates the outliers alongside the arousal axis\n",
    "\"\"\"\n",
    "columns = [\"workerID\", \"SongId\", \"Arousal\"]\n",
    "original_df = read_csv(DF_PATH, skipinitialspace=True, usecols=columns)\n",
    "original_df.columns = [\"user_id\", \"item_id\", \"rating\"]\n",
    "original_df = mean_centralised(dataframe=original_df)\n",
    "\n",
    "data_converter = DataConverter(\n",
    "        original_df=original_df, n_random_users=10, n_ratings_per_random_user=9\n",
    ")\n",
    "\n",
    "arousal_model = MF(\n",
    "    n_users=data_converter.n_users,\n",
    "    n_items=data_converter.n_item,\n",
    ")\n",
    "epochs = 100\n",
    "\n",
    "criterion = MSELoss()\n",
    "optimizer = SGD(arousal_model.parameters(), lr=5, weight_decay=1e-3)\n",
    "runner = Runner(\n",
    "    model=arousal_model,\n",
    "    criterion=criterion,\n",
    "    optimizer=optimizer,\n",
    "    epochs=epochs,\n",
    ")\n",
    "\n",
    "train_set = create_dataset(data_converter=data_converter)\n",
    "train_load = DataLoader(train_set, batch_size=1000, shuffle=True)\n",
    "users, items, ratings = select_n_random(train_set)\n",
    "\n",
    "with SummaryWriter(\"runs/DEAM/arousal\") as writer:\n",
    "    writer.add_graph(arousal_model, (users, items))\n",
    "\n",
    "    for epoch in range(epochs):\n",
    "        epoch_loss = runner.train(train_loader=train_load, epoch=epoch, writer=writer)\n",
    "        print(f\"epoch={epoch + 1}, loss={epoch_loss}\")"
   ],
   "metadata": {
    "collapsed": false,
    "pycharm": {
     "name": "#%%\n"
    }
   }
  },
  {
   "cell_type": "code",
   "execution_count": 4,
   "outputs": [
    {
     "name": "stdout",
     "output_type": "stream",
     "text": [
      "user: random_guy_187, dist: -79.87926167514736, #items: 9\n",
      "user: random_guy_196, dist: -61.504188142567614, #items: 9\n",
      "user: random_guy_194, dist: -49.64625212429112, #items: 9\n",
      "user: random_guy_188, dist: -38.71032156074537, #items: 9\n",
      "user: 19fee46f2810f34a8b69a7768d897a59, dist: -36.5754049091067, #items: 1\n",
      "user: random_guy_190, dist: -34.09597821371794, #items: 9\n",
      "user: ff18a27328ffd40ef52b7ebb7a0ded94, dist: -17.543451446355363, #items: 20\n",
      "user: random_guy_191, dist: -17.20264469597077, #items: 9\n",
      "user: random_guy_189, dist: -4.519798138322379, #items: 9\n",
      "user: random_guy_192, dist: -3.8970388278711994, #items: 9\n",
      "user: fd5b08ce362d855ca9152a894348130c, dist: -2.962559945499283, #items: 222\n",
      "user: e105c200f413d7b2c5850c0df4b9687e, dist: -1.7301799548594072, #items: 2\n",
      "user: c3c21239b85dcdd6679fc212afd02a49, dist: 6.671131268637211, #items: 9\n",
      "user: 7cecbffe1da5ae974952db6c13695afe, dist: 11.214156184287361, #items: 428\n",
      "user: a0f5cedc3a2371ec13663226c4b44771, dist: 13.959845416054605, #items: 4\n",
      "user: random_guy_193, dist: 15.466270469873782, #items: 9\n",
      "user: ad3b997c4f2382a66e49f035cacfa682, dist: 20.43698650671063, #items: 3\n",
      "user: a186cdd58a92051b7c73adc9bd6e65ca, dist: 21.55055432571163, #items: 7\n",
      "user: 1065a2110392d3e83d61b4282f55353c, dist: 21.897680580854143, #items: 7\n",
      "user: 4dedf223de3f8ebde100df78a5428251, dist: 25.268958908289306, #items: 3\n",
      "user: 027cefa6afc040448d29558b3175cdc1, dist: 26.859306363387986, #items: 9\n",
      "user: 3111e02887b600ee085c72c0a3df33e8, dist: 28.239116685652263, #items: 1\n",
      "user: 54cc66fe7cbb01775a6b7c7d703cdeff, dist: 29.375350037570435, #items: 3\n",
      "user: bb50b45a1874ede476874bd57e4cabb4, dist: 31.99578211283481, #items: 178\n",
      "user: 607f6e34a0b5923333f6b16d3a59cc98, dist: 32.16241052423152, #items: 955\n",
      "user: 38531641e6c0628757776b0088bcc854, dist: 37.21067208413698, #items: 7\n",
      "user: fc2fa5656d42b49f3caf01f663085069, dist: 38.938018504159416, #items: 6\n",
      "user: 9c3b8737a6a00626867c5e05ee80157e, dist: 39.74965077211958, #items: 3\n",
      "user: 46a2289decf79f747406fa91cd92fc27, dist: 40.265797413096124, #items: 333\n",
      "user: 04db9e73677c3b8882908ef7ee4a3424, dist: 48.42692428070565, #items: 3\n",
      "user: 8eb1abd1acca601d1e23e85c69b1742a, dist: 51.910879746865376, #items: 34\n",
      "user: 259443e9cad56b4f68b664daa20cb323, dist: 53.10937760425113, #items: 305\n",
      "user: a30d244141cb2f51e0803e79bc4bd147, dist: 53.92953807778133, #items: 985\n",
      "user: da37d1548ffd0631809f7be341e4fe4d, dist: 54.30940774093476, #items: 3\n",
      "user: 80db3788bc598d1b32979bea958d9358, dist: 54.49290510914345, #items: 6\n",
      "user: a4410f548a05bf09b8541ec2672d8490, dist: 54.55002989354217, #items: 3\n",
      "user: 00de940f0b5cfc82cca4791199e3bfb3, dist: 55.35539898844301, #items: 751\n",
      "user: d8188e46705e2e87f6a051e0cb338dea, dist: 56.66910684285777, #items: 2\n",
      "user: 490951556961e4b88fe1a3ac53b3b186, dist: 56.89463026567078, #items: 313\n",
      "user: 8dcd4de7be6479561269b90c1dc8a3b4, dist: 58.680032012010415, #items: 454\n",
      "user: 2f790705ae66e70e81cc0f11ce0f4b9b, dist: 58.80383558446485, #items: 2\n",
      "user: 6222da90667e5b0de990ce6c26dcfa15, dist: 58.804781533241055, #items: 12\n",
      "user: 1ac10b86ba5ac18e06eea9f9954ab216, dist: 61.35844917167276, #items: 217\n",
      "user: f8ecfe868f673b16e2f6e5614cb46b7d, dist: 62.512866670498326, #items: 3\n",
      "user: d0c51e42ea093dc9a9a98ef888637c8e, dist: 64.3544622650591, #items: 2\n",
      "user: b4ba75169c585b959f1247fac7e4be7a, dist: 64.76865417501551, #items: 3\n",
      "user: 0c37993dcf5f99f7b00d02495ed01bc3, dist: 65.89243709550627, #items: 339\n",
      "user: b09a5957e5d5e47e556d203529a0ae6d, dist: 66.06643502284479, #items: 708\n",
      "user: a00de41fdf121f6dfe5db851a575d2d1, dist: 66.61513791496193, #items: 146\n",
      "user: 2461c19378deafd4ec26d3993eeef635, dist: 66.92243232344346, #items: 15\n",
      "user: 78b5e9744073532cc376976b5fc6b2fc, dist: 68.82676902872052, #items: 718\n",
      "user: ccfcf36a939a8af15a987fa562a49207, dist: 72.54189626004384, #items: 7\n",
      "user: 861d48b913f37227fcf9a7b1e547c0bb, dist: 74.00322043459707, #items: 8\n",
      "user: 7685fa48defdc384f720bd1edbf17ed6, dist: 74.25116762233392, #items: 55\n",
      "user: random_guy_195, dist: 74.33237273318862, #items: 9\n",
      "user: 5b044cf509da1d8444b6f60c465240ef, dist: 74.87138047464143, #items: 3\n",
      "user: ca76c553e32c2f096c3bc8f7280ba408, dist: 75.56040481762179, #items: 3\n",
      "user: de2b2c35312ac2f0a8510743742c0219, dist: 76.76161233966403, #items: 937\n",
      "user: 883449004b1bf2a07a284f59ddae1fd7, dist: 77.08545353201382, #items: 190\n",
      "user: 615d836ba25132081e0ebd2182221a59, dist: 77.50571889761964, #items: 6\n",
      "user: ff9c1993d2a21f2117c30d8e295dd4ac, dist: 77.59179355284294, #items: 661\n",
      "user: 374a5659c02e12b01db6319436f17a7d, dist: 78.9651756898147, #items: 3\n",
      "user: accbf566ae920d6260d28454e1ee0d6a, dist: 79.02335388160422, #items: 396\n",
      "user: c182e8b2f013e4e3c78cbfb01b8970c8, dist: 81.09260705425355, #items: 30\n",
      "user: dbb8ffe292aaa9bc2de69ca511af2b3a, dist: 81.10038104004903, #items: 3\n",
      "user: 2afd218c3aecb6828d2be327f8b9c46f, dist: 81.28353830606436, #items: 760\n",
      "user: d5cf45435e35cb9166f51f0a55b74a0e, dist: 81.37058700675084, #items: 75\n",
      "user: e336e40ae9ac101cec57e8e4323ffb79, dist: 81.56095064425757, #items: 6\n",
      "user: 594f3fb0d194f109697627b5241f4011, dist: 83.53781739825727, #items: 3\n",
      "user: 2fb527b567d10a3ea0dac783c7c2f364, dist: 83.57193481510261, #items: 6\n",
      "user: 485d8e33a731a830ef0aebd71b016d08, dist: 84.16589613487449, #items: 6\n",
      "user: a34913ea1010b5812a14d1fef9586a4f, dist: 84.23494895243253, #items: 3\n",
      "user: a2a845665afabbc319eb7c5305b0a7ec, dist: 84.40790124223119, #items: 6\n",
      "user: 56a384c7fb2545f9de3e85fa7445d92b, dist: 85.12164298601476, #items: 2\n",
      "user: d633894e43380403a7984858af42ecea, dist: 85.2226368018429, #items: 36\n",
      "user: 4eb43aa7f89260bb40b3970a45a82678, dist: 85.45574344385425, #items: 333\n",
      "user: 74f10ac255db9e37db6c6cbf604eb7e0, dist: 85.7782098576229, #items: 18\n",
      "user: 0aef6e22005035ac1b93e0a99c961f4c, dist: 85.8537573633394, #items: 6\n",
      "user: 623681f76a3eab5d9c86fbc0e1ca264b, dist: 86.64344461080029, #items: 12\n",
      "user: fa3305c1bc04047d36a8b7a4c77fa81b, dist: 87.07234768483013, #items: 4\n",
      "user: 9c8073214a052e414811b76012df8847, dist: 87.7411154271056, #items: 160\n",
      "user: 6b492acb1838463dc7c07a76b26313c4, dist: 88.67719011930708, #items: 247\n",
      "user: 659accfd85162122ca361ac34e730c4d, dist: 88.9742603246028, #items: 3\n",
      "user: 2db8293d2a35a17f16ddf8e97122ec11, dist: 89.19155654460334, #items: 219\n",
      "user: 212246528da7c13457844fc4453e6019, dist: 90.91639668990088, #items: 22\n",
      "user: 987a16808cac2496853b6f531c0878cb, dist: 91.6336330223744, #items: 3\n",
      "user: 807f0025a626896f04566aa37cfbce0d, dist: 91.68631562514696, #items: 3\n",
      "user: 610d5d89f56667e3d4537c529aae496e, dist: 92.27654135253005, #items: 6\n",
      "user: ba85e679d3c3ac42412cb8deaba66a5a, dist: 92.74389465485208, #items: 3\n",
      "user: 2c5952c4f931410e9010eb87c276020d, dist: 93.28423977919711, #items: 73\n",
      "user: 2a6b63b7690efa2390c8d9fee11b1407, dist: 93.3679904669236, #items: 3\n",
      "user: 5fa91ab06a079c59a1d9e8174a488f91, dist: 93.45822436195365, #items: 3\n",
      "user: 26bf37eb1750d163fe01ef21b0033a77, dist: 94.20624160256614, #items: 6\n",
      "user: f7502ffb3616a789e3e5b38f7325b95f, dist: 95.80115779864639, #items: 12\n",
      "user: bf34e3c5724ce07d29ef12db5f767258, dist: 96.05497730173579, #items: 249\n",
      "user: 6010bbc8e7ef4b21fa38f9c3a9754ef3, dist: 96.32771051746755, #items: 396\n",
      "user: 15ec33e862185406170ff931583b014f, dist: 96.60696951971241, #items: 4\n",
      "user: 504b651e27c89d1d46d101dd87823ab6, dist: 96.72975993609808, #items: 9\n",
      "user: 514278711fcdb6dfb235c03a3aa38ee3, dist: 97.62362508150426, #items: 269\n",
      "user: b8ef6a913a63225faafd661ee2e1a7c0, dist: 98.18486198533047, #items: 10\n",
      "user: 5bdea9864567a8614b659bf4b2132ab0, dist: 99.60020449488924, #items: 78\n",
      "user: ed7ed76453bd846859f5e6b9149df276, dist: 100.59835378353644, #items: 675\n",
      "user: d0520656367db74cb316b9a26f60864e, dist: 102.28016877681043, #items: 12\n",
      "user: 5862049dbaad1750964d91a98930832f, dist: 102.52974346902583, #items: 33\n",
      "user: 34fb7d43f3a35d4afac7563b7453e31c, dist: 102.78549749459884, #items: 5\n",
      "user: b92704ea431d60d62bd8fd18e2940067, dist: 103.75836114029445, #items: 6\n",
      "user: 3c63524f15931dc8bed7a768cb7d6150, dist: 104.52338415871588, #items: 14\n",
      "user: c795c7de8f350ab35dfd1100a84bf213, dist: 106.5420433115398, #items: 68\n",
      "user: a2a15d03117e137478c5718212805270, dist: 106.64885874998237, #items: 50\n",
      "user: 6ca7c27715f54e2f47ebe4e1c9dcf842, dist: 106.69068079742875, #items: 72\n",
      "user: 24ebcf86498b0f2793b55c5b9a7756b5, dist: 107.0750149310835, #items: 210\n",
      "user: b36ffffcd1831441a2a3b60919312ccd, dist: 107.09341360304508, #items: 118\n",
      "user: 28b56a449c99c88e1f9fff59d0f16aac, dist: 107.66562552391703, #items: 84\n",
      "user: 9edfd17e8b78d0981868f84c5f20a118, dist: 108.37880054754898, #items: 3\n",
      "user: d4d0cd1ae06f54909291d34ddd6ab497, dist: 108.42081375898269, #items: 78\n",
      "user: c19c053aafbf1492b9e57ce3da5d45c1, dist: 108.69948775345165, #items: 24\n",
      "user: 84c2d6fc2e78a1d1283c386c0d4daee4, dist: 108.85630764980476, #items: 9\n",
      "user: 35536d2d90b93461aa74200967d002e8, dist: 108.91275391185434, #items: 3\n",
      "user: 64cae7b86c7dcb1b40d17e43c0c2109e, dist: 109.25538985442807, #items: 365\n",
      "user: 4480a650a96730fb629aa7fa2079e7c3, dist: 111.16903488739334, #items: 37\n",
      "user: eca1130f44cd2e17645e40a0fa2ef59b, dist: 111.21346481503801, #items: 1005\n",
      "user: 62ef0e23f21039e337b545ccc4851525, dist: 111.22460798597578, #items: 48\n",
      "user: 67785f343e6d117fac4d1697697cd8ae, dist: 111.77631718093653, #items: 3\n",
      "user: 9d32be9708a9520ec07e91aec9653291, dist: 112.64744178215429, #items: 3\n",
      "user: 51452faff8948ad4780f9b6261e813a7, dist: 113.60305342503158, #items: 15\n",
      "user: f71b423642d3d61dffba53ddee48a7e0, dist: 113.68605215394895, #items: 15\n",
      "user: a9f376da22eb77185afae90b192bf9ac, dist: 114.40027197231574, #items: 48\n",
      "user: fecd63ea857606ed61cbfe2ba1a70b3b, dist: 114.45823193490435, #items: 4\n",
      "user: 888b76dff350bdb6b25783d7c4110081, dist: 114.56882950091509, #items: 12\n",
      "user: 0bda2743e12d8a204ab04122658d73a3, dist: 115.57002632723812, #items: 18\n",
      "user: be4e771b30940fb2d5f5dcfe3877dd2e, dist: 116.94484807124087, #items: 6\n",
      "user: 248172d9efbbd5eb72d48de6884054ab, dist: 116.9964506255022, #items: 24\n",
      "user: d5b7242bc8a4bb534b8489c24b81fc34, dist: 117.2955780894689, #items: 3\n",
      "user: d84d58533b58797bccca5811b4135c95, dist: 118.17856135927434, #items: 31\n",
      "user: b6927bdee51077f7868f05f1ed39485f, dist: 118.61094987955882, #items: 18\n",
      "user: 65794ea9f5122952403585a237bc5e52, dist: 118.98147645909471, #items: 3\n",
      "user: d8e56509dc582df255732a0170323231, dist: 119.68100342446829, #items: 61\n",
      "user: 77055e16055dc7bc817f7c4bb2eb8fae, dist: 120.5153149045062, #items: 6\n",
      "user: 3ca50399775f0540bd002cb0d6f54a3d, dist: 121.11753404902774, #items: 6\n",
      "user: cbc86e332e889251fe0fa71df472f202, dist: 121.36180985838391, #items: 151\n",
      "user: 49be5653eaba26f1eb60fd9d63f23502, dist: 121.45633107048837, #items: 3\n",
      "user: 55016bfc877fc509861b4aba22ee4f7a, dist: 121.4661774613176, #items: 9\n",
      "user: 651938620e6e6c78bfa7854784fe62c2, dist: 121.69000586513651, #items: 3\n",
      "user: f0e2dfdbc324f309660b731ad16ce2fd, dist: 121.6961941505132, #items: 17\n",
      "user: 1bd2dc9e0406a2e240b288685c87fa76, dist: 122.67778990540985, #items: 3\n",
      "user: 93f4b8995f647ceb58689b78eb2087ef, dist: 123.10250275690805, #items: 36\n",
      "user: 51f5fb156a5c0051682ee1835e30fbbd, dist: 123.26483452757665, #items: 5\n",
      "user: 7a81cab11e4b2b4aa9c0718c90835611, dist: 123.91426927132882, #items: 30\n",
      "user: 1eb9e2c62709ff203b2d9a558abc0937, dist: 123.91800707784118, #items: 39\n",
      "user: 722ad4c331b7d7bebd697bfbb91ee0e8, dist: 125.33780226435655, #items: 36\n",
      "user: 8ef6c1b6e31d907a3bba6f4edd303371, dist: 125.6393247535802, #items: 18\n",
      "user: c1edc56f4d30d94a94ee41654c4f6734, dist: 126.34635582145141, #items: 31\n",
      "user: 6db6afec230a8c59397b5f4d97f5da28, dist: 126.90058233862624, #items: 12\n",
      "user: b13fb0da6dd2f5d7fe398e6e53b52110, dist: 127.01117795245608, #items: 7\n",
      "user: d3b1de8ed2ffc3eb9af2ef40a80c7d7d, dist: 127.74462531611101, #items: 3\n",
      "user: b37092cf23b42f8b8497d8ba89be157a, dist: 127.84461848382794, #items: 2\n",
      "user: 186575d01f40537515988f1369d395eb, dist: 128.02926673548922, #items: 12\n",
      "user: 0ca907e233b8bf33bf4eca86fcbfcc8f, dist: 128.98456617098333, #items: 54\n",
      "user: 6cb1856680ea078c9f46437e2bdcd09e, dist: 129.29653017207056, #items: 6\n",
      "user: 1ee4bd59c9ea084016ff2811dbb00568, dist: 129.6919123848094, #items: 53\n",
      "user: 4c7a94e0937450ef406135849493ab99, dist: 129.79446335755893, #items: 57\n",
      "user: de0b07c32bb6ca4655487026e0f3fc38, dist: 130.00043893426437, #items: 74\n",
      "user: be6ec863f38f611dff4958ccd33cf638, dist: 130.31211386798887, #items: 60\n",
      "user: 6d59196a3f495939a1a776cbebe212ba, dist: 130.81353460029877, #items: 3\n",
      "user: 7a23690289260d2b8c1d71d8c22b69f0, dist: 130.92110019548812, #items: 18\n",
      "user: 145b408fa103c16bb00e8734cc39a29f, dist: 132.28568941336954, #items: 18\n",
      "user: 11e5c2ba0236fe3643cac09dbdb96580, dist: 132.4163339361573, #items: 30\n",
      "user: e9fda1f240982b20e0df5ba9c4a337e9, dist: 133.74432519706966, #items: 18\n",
      "user: dd80f1940fe5b84eddde6e83542bd89b, dist: 133.95561761752455, #items: 12\n",
      "user: 478905563bab736f35d94bd7b0a27f9a, dist: 134.28773781897183, #items: 15\n",
      "user: 94d7a0f7c8f2e1c714b0649f835c538c, dist: 134.4489747243577, #items: 150\n",
      "user: 9ad2a06dfac81761a123cb40084dcbd7, dist: 134.53287743687832, #items: 23\n",
      "user: 00fa8d61b5f75e16ea71bff7a3def9c9, dist: 135.1077150527596, #items: 30\n",
      "user: 3226bc99212ad30ce2ced981de1c437a, dist: 135.6783069451945, #items: 34\n",
      "user: 20c7d1ee0615a09b0bac9438cc8325e2, dist: 136.0912131325926, #items: 66\n",
      "user: 7975199043cec980e587889f1639c0a4, dist: 136.45525387434589, #items: 11\n",
      "user: 807dfc125f09be392a1f1b58c05b3742, dist: 136.53823144406084, #items: 11\n",
      "user: 52b597296a8dca0c5cc5a19231eeff89, dist: 137.52900367395264, #items: 2\n",
      "user: 27f51a4a7fe8565d26cadb88584441e5, dist: 137.9771727085604, #items: 2\n",
      "user: ce209fb2fe01d6c85dbb29b6fd84b563, dist: 138.31831582062307, #items: 49\n",
      "user: 5097e48e561bf0261b242f211b289825, dist: 138.77800909694582, #items: 53\n",
      "user: 4b4c4f319a356ea87affb872173a2095, dist: 139.92459985320698, #items: 34\n",
      "user: 4dfca2f4dc4e8e6c3b1b7d32e10579c1, dist: 140.1196170891815, #items: 17\n",
      "user: cd09cd99c38d4bfb7b554dff21196c22, dist: 140.2874050978958, #items: 26\n",
      "user: 40b86bbb6927a793c05968b8b95e214d, dist: 140.48185217257205, #items: 13\n",
      "user: e347f98d0a810ded7c14d7be813a5868, dist: 140.9162129274175, #items: 19\n",
      "user: 2ec24376127909f3be36d770e6ae41a6, dist: 141.71672863875844, #items: 14\n",
      "user: d88c800327bffffea5562e23c276ede3, dist: 142.1536321901665, #items: 2\n",
      "user: 855ba3170f3e470170d23a748ccb41ed, dist: 142.3790519473596, #items: 42\n",
      "user: 3c888e77b992ae3cd2adfe16774e23b9, dist: 142.55436835861138, #items: 11\n",
      "user: 571d66ea4abfb694d9bb1281d7701710, dist: 143.12270279438985, #items: 68\n",
      "user: 9d1aa48692579ca9330d3c61d10e22e6, dist: 143.4405038516096, #items: 84\n",
      "user: 4c2037269ef8fd0a3349e6b54dd1bb1f, dist: 145.92071155779945, #items: 9\n",
      "user: 5bf3c29fd496e2cafa9c531c7e9c6d61, dist: 148.35242636268595, #items: 29\n",
      "user: f3008c23ea8f35ef870e735df67fcc46, dist: 148.54015287427723, #items: 7\n",
      "user: 3bf93d5f7b82b46e38feb881d00c5798, dist: 149.0315212873504, #items: 36\n",
      "user: 3deba1aaf448d3857c6c70f63c2a6430, dist: 150.4443489014983, #items: 11\n"
     ]
    }
   ],
   "source": [
    "valence_outliers = mine_outliers_scipy(model=valence_model, data_converter=data_converter)\n",
    "arousal_outliers = mine_outliers_scipy(model=arousal_model, data_converter=data_converter)\n",
    "\n",
    "items_group_by_users = data_converter.original_df.groupby(\"user_id\")\n",
    "combined_outliers = {}\n",
    "for user_id, valence_dist in valence_outliers.items():\n",
    "    arousal_dist = arousal_outliers[user_id]\n",
    "    combined_outliers[user_id] = valence_dist + arousal_dist\n",
    "\n",
    "combined_outliers = dict(sorted(combined_outliers.items(), key=lambda item: item[1]))\n",
    "for user_id, item_id in combined_outliers.items():\n",
    "    number_of_items = len(items_group_by_users.get_group(user_id))\n",
    "    print(f\"user: {user_id}, dist: {item_id}, #items: {number_of_items}\")"
   ],
   "metadata": {
    "collapsed": false,
    "pycharm": {
     "name": "#%%\n"
    }
   }
  },
  {
   "cell_type": "code",
   "execution_count": 4,
   "outputs": [],
   "source": [],
   "metadata": {
    "collapsed": false,
    "pycharm": {
     "name": "#%%\n"
    }
   }
  }
 ],
 "metadata": {
  "kernelspec": {
   "display_name": "Python 3",
   "language": "python",
   "name": "python3"
  },
  "language_info": {
   "codemirror_mode": {
    "name": "ipython",
    "version": 2
   },
   "file_extension": ".py",
   "mimetype": "text/x-python",
   "name": "python",
   "nbconvert_exporter": "python",
   "pygments_lexer": "ipython2",
   "version": "2.7.6"
  }
 },
 "nbformat": 4,
 "nbformat_minor": 0
}