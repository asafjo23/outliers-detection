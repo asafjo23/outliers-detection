{
 "cells": [
  {
   "cell_type": "code",
   "execution_count": 2,
   "outputs": [],
   "source": [
    "import os.path\n",
    "\n",
    "import numpy as np\n",
    "import torch\n",
    "\n",
    "from pandas import read_csv\n",
    "from torch.optim import SGD\n",
    "from torch.nn import MSELoss\n",
    "from torch.utils.data import DataLoader\n",
    "from tensorboardX import SummaryWriter\n",
    "from torch import randperm\n",
    "from config import DATA_DIR, MODELS_DIR\n",
    "from src.data_set import RatingsDataset\n",
    "from src.loss import MiningOutliersLoss\n",
    "from src.model import MF\n",
    "from src.runner import Runner\n",
    "from src.utils import (\n",
    "    create_dataset,\n",
    "    mine_outliers_scipy,\n",
    "    mine_outliers_sklearn,\n",
    "    mine_outliers_torch,\n",
    "    DataConverter,\n",
    "    DataProcessor,\n",
    ")"
   ],
   "metadata": {
    "collapsed": false,
    "pycharm": {
     "name": "#%%\n"
    }
   }
  },
  {
   "cell_type": "code",
   "execution_count": 3,
   "metadata": {
    "collapsed": true
   },
   "outputs": [
    {
     "data": {
      "text/plain": "       user_id item_id  rating\n0.0        1.0     1.0     5.0\n1.0        1.0     2.0     3.0\n2.0        1.0     3.0     4.0\n3.0        1.0     4.0     3.0\n4.0        1.0     5.0     3.0\n...        ...     ...     ...\n195.0      1.0   205.0     3.0\n196.0      1.0   206.0     4.0\n197.0      1.0   207.0     5.0\n198.0      1.0   208.0     5.0\n199.0      1.0   209.0     4.0\n\n[200 rows x 3 columns]",
      "text/html": "<div>\n<style scoped>\n    .dataframe tbody tr th:only-of-type {\n        vertical-align: middle;\n    }\n\n    .dataframe tbody tr th {\n        vertical-align: top;\n    }\n\n    .dataframe thead th {\n        text-align: right;\n    }\n</style>\n<table border=\"1\" class=\"dataframe\">\n  <thead>\n    <tr style=\"text-align: right;\">\n      <th></th>\n      <th>user_id</th>\n      <th>item_id</th>\n      <th>rating</th>\n    </tr>\n  </thead>\n  <tbody>\n    <tr>\n      <th>0.0</th>\n      <td>1.0</td>\n      <td>1.0</td>\n      <td>5.0</td>\n    </tr>\n    <tr>\n      <th>1.0</th>\n      <td>1.0</td>\n      <td>2.0</td>\n      <td>3.0</td>\n    </tr>\n    <tr>\n      <th>2.0</th>\n      <td>1.0</td>\n      <td>3.0</td>\n      <td>4.0</td>\n    </tr>\n    <tr>\n      <th>3.0</th>\n      <td>1.0</td>\n      <td>4.0</td>\n      <td>3.0</td>\n    </tr>\n    <tr>\n      <th>4.0</th>\n      <td>1.0</td>\n      <td>5.0</td>\n      <td>3.0</td>\n    </tr>\n    <tr>\n      <th>...</th>\n      <td>...</td>\n      <td>...</td>\n      <td>...</td>\n    </tr>\n    <tr>\n      <th>195.0</th>\n      <td>1.0</td>\n      <td>205.0</td>\n      <td>3.0</td>\n    </tr>\n    <tr>\n      <th>196.0</th>\n      <td>1.0</td>\n      <td>206.0</td>\n      <td>4.0</td>\n    </tr>\n    <tr>\n      <th>197.0</th>\n      <td>1.0</td>\n      <td>207.0</td>\n      <td>5.0</td>\n    </tr>\n    <tr>\n      <th>198.0</th>\n      <td>1.0</td>\n      <td>208.0</td>\n      <td>5.0</td>\n    </tr>\n    <tr>\n      <th>199.0</th>\n      <td>1.0</td>\n      <td>209.0</td>\n      <td>4.0</td>\n    </tr>\n  </tbody>\n</table>\n<p>200 rows × 3 columns</p>\n</div>"
     },
     "execution_count": 3,
     "metadata": {},
     "output_type": "execute_result"
    }
   ],
   "source": [
    "columns = [\"user_id\", \"item_id\", \"rating\", \"original_mass\", \"total_mass\"]\n",
    "original_df = read_csv(f\"{DATA_DIR}/MovieLens100k/ua_with_histogram_features.csv\", skipinitialspace=True, names=columns, low_memory=False)\n",
    "original_df = original_df.iloc[1:, :]\n",
    "\n",
    "original_df = original_df.astype({\"user_id\": \"float64\"})\n",
    "original_df = original_df.astype({\"item_id\": str})\n",
    "original_df = original_df.astype({\"rating\": \"float64\"})\n",
    "original_df = original_df.astype({\"original_mass\": \"float64\"})\n",
    "original_df = original_df.astype({\"total_mass\": \"float64\"})\n",
    "\n",
    "original_df = original_df[[\"user_id\", \"item_id\", \"rating\"]]\n",
    "\n",
    "original_df.head(200)"
   ]
  },
  {
   "cell_type": "code",
   "execution_count": 4,
   "outputs": [],
   "source": [
    "data_converter = DataConverter(original_df=original_df)\n",
    "\n",
    "model = MF(\n",
    "    n_users=data_converter.n_users,\n",
    "    n_items=data_converter.n_item,\n",
    "    include_bias=True\n",
    ")\n",
    "\n",
    "criterion = MSELoss()\n",
    "optimizer = SGD(model.parameters(), lr=5, weight_decay=1e-7)\n",
    "epochs = 50\n",
    "\n",
    "if os.path.exists(f\"{MODELS_DIR}/MovieLens100k/model.pt\"):\n",
    "    model.load_state_dict(torch.load(f\"{MODELS_DIR}/MovieLens100k/model.pt\"))\n",
    "\n",
    "# runner = Runner(\n",
    "#     model=model,\n",
    "#     criterion=criterion,\n",
    "#     optimizer=optimizer,\n",
    "#     epochs=epochs\n",
    "# )\n",
    "#\n",
    "# train_set = create_dataset(data_frame=data_converter.encoded_df)\n",
    "# train_load = DataLoader(train_set, batch_size=1000, shuffle=True)\n",
    "# with SummaryWriter(\"runs/MovieLens100k\") as writer:\n",
    "#     for epoch in range(epochs):\n",
    "#         epoch_loss = runner.train(train_loader=train_load, epoch=epoch, writer=writer)\n",
    "#         print(f\"epoch={epoch + 1}, loss={epoch_loss}\")\n",
    "#         torch.save(model.state_dict(), f\"{MODELS_DIR}/MovieLens100k/model.pt\")"
   ],
   "metadata": {
    "collapsed": false,
    "pycharm": {
     "name": "#%%\n"
    }
   }
  },
  {
   "cell_type": "code",
   "execution_count": 5,
   "outputs": [],
   "source": [
    "from pandas import DataFrame\n",
    "from collections import namedtuple\n",
    "\n",
    "Row = namedtuple(\"Row\", \"user_id item_id rating\")\n",
    "\n",
    "dataframe_after_mf = []\n",
    "\n",
    "with torch.no_grad():\n",
    "    for (index, user_id, item_id, rating) in original_df.itertuples():\n",
    "        encoded_user_id = data_converter.get_encoded_user_id(original_id=user_id)\n",
    "        encoded_item_id = data_converter.get_encoded_item_id(original_id=item_id)\n",
    "\n",
    "        user_id_as_tensor = torch.LongTensor([encoded_user_id])\n",
    "        item_id_as_tensor = torch.LongTensor([encoded_item_id])\n",
    "        output = model(users=user_id_as_tensor, items=item_id_as_tensor,).squeeze()\n",
    "        output = output.item()\n",
    "\n",
    "        dataframe_after_mf.append(Row(user_id=user_id, item_id=item_id, rating=output))\n",
    "\n",
    "after_histogram_mf_dataframe = DataFrame(dataframe_after_mf, columns=[\"user_id\", \"item_id\", \"rating\"])"
   ],
   "metadata": {
    "collapsed": false,
    "pycharm": {
     "name": "#%%\n"
    }
   }
  },
  {
   "cell_type": "code",
   "execution_count": 6,
   "outputs": [
    {
     "data": {
      "text/plain": "   user_id item_id    rating\n0      1.0     1.0  5.063210\n1      1.0     2.0  3.463972\n2      1.0     3.0  3.896021\n3      1.0     4.0  4.021567\n4      1.0     5.0  2.638696",
      "text/html": "<div>\n<style scoped>\n    .dataframe tbody tr th:only-of-type {\n        vertical-align: middle;\n    }\n\n    .dataframe tbody tr th {\n        vertical-align: top;\n    }\n\n    .dataframe thead th {\n        text-align: right;\n    }\n</style>\n<table border=\"1\" class=\"dataframe\">\n  <thead>\n    <tr style=\"text-align: right;\">\n      <th></th>\n      <th>user_id</th>\n      <th>item_id</th>\n      <th>rating</th>\n    </tr>\n  </thead>\n  <tbody>\n    <tr>\n      <th>0</th>\n      <td>1.0</td>\n      <td>1.0</td>\n      <td>5.063210</td>\n    </tr>\n    <tr>\n      <th>1</th>\n      <td>1.0</td>\n      <td>2.0</td>\n      <td>3.463972</td>\n    </tr>\n    <tr>\n      <th>2</th>\n      <td>1.0</td>\n      <td>3.0</td>\n      <td>3.896021</td>\n    </tr>\n    <tr>\n      <th>3</th>\n      <td>1.0</td>\n      <td>4.0</td>\n      <td>4.021567</td>\n    </tr>\n    <tr>\n      <th>4</th>\n      <td>1.0</td>\n      <td>5.0</td>\n      <td>2.638696</td>\n    </tr>\n  </tbody>\n</table>\n</div>"
     },
     "execution_count": 6,
     "metadata": {},
     "output_type": "execute_result"
    }
   ],
   "source": [
    "after_histogram_mf_dataframe.head()"
   ],
   "metadata": {
    "collapsed": false,
    "pycharm": {
     "name": "#%%\n"
    }
   }
  },
  {
   "cell_type": "code",
   "execution_count": 7,
   "outputs": [
    {
     "name": "stdout",
     "output_type": "stream",
     "text": [
      "MSE: 0.10570819181547442, RMSE: 0.3251279622171468\n"
     ]
    }
   ],
   "source": [
    "import recmetrics\n",
    "\n",
    "print(f\"MSE: {recmetrics.mse(original_df.rating, after_histogram_mf_dataframe.rating)}, RMSE: {recmetrics.rmse(original_df.rating, after_histogram_mf_dataframe.rating)}\")"
   ],
   "metadata": {
    "collapsed": false,
    "pycharm": {
     "name": "#%%\n"
    }
   }
  },
  {
   "cell_type": "code",
   "execution_count": 8,
   "outputs": [
    {
     "data": {
      "text/plain": "     user_id item_id  rating  prediction\n0.0      1.0     1.0     5.0    5.063210\n1.0      1.0     2.0     3.0    3.463972\n2.0      1.0     3.0     4.0    3.896021\n3.0      1.0     4.0     3.0    4.021567\n4.0      1.0     5.0     3.0    2.638696",
      "text/html": "<div>\n<style scoped>\n    .dataframe tbody tr th:only-of-type {\n        vertical-align: middle;\n    }\n\n    .dataframe tbody tr th {\n        vertical-align: top;\n    }\n\n    .dataframe thead th {\n        text-align: right;\n    }\n</style>\n<table border=\"1\" class=\"dataframe\">\n  <thead>\n    <tr style=\"text-align: right;\">\n      <th></th>\n      <th>user_id</th>\n      <th>item_id</th>\n      <th>rating</th>\n      <th>prediction</th>\n    </tr>\n  </thead>\n  <tbody>\n    <tr>\n      <th>0.0</th>\n      <td>1.0</td>\n      <td>1.0</td>\n      <td>5.0</td>\n      <td>5.063210</td>\n    </tr>\n    <tr>\n      <th>1.0</th>\n      <td>1.0</td>\n      <td>2.0</td>\n      <td>3.0</td>\n      <td>3.463972</td>\n    </tr>\n    <tr>\n      <th>2.0</th>\n      <td>1.0</td>\n      <td>3.0</td>\n      <td>4.0</td>\n      <td>3.896021</td>\n    </tr>\n    <tr>\n      <th>3.0</th>\n      <td>1.0</td>\n      <td>4.0</td>\n      <td>3.0</td>\n      <td>4.021567</td>\n    </tr>\n    <tr>\n      <th>4.0</th>\n      <td>1.0</td>\n      <td>5.0</td>\n      <td>3.0</td>\n      <td>2.638696</td>\n    </tr>\n  </tbody>\n</table>\n</div>"
     },
     "execution_count": 8,
     "metadata": {},
     "output_type": "execute_result"
    }
   ],
   "source": [
    "data_with_predictions = original_df.copy()\n",
    "data_with_predictions[\"prediction\"] = after_histogram_mf_dataframe.rating\n",
    "\n",
    "data_with_predictions.head()"
   ],
   "metadata": {
    "collapsed": false,
    "pycharm": {
     "name": "#%%\n"
    }
   }
  },
  {
   "cell_type": "code",
   "execution_count": 12,
   "outputs": [],
   "source": [
    "import pandas as pd\n",
    "import numpy as np\n",
    "\n",
    "statistics = []\n",
    "for threshold in np.arange(0, 5.5, 0.5):\n",
    "    tp, fn, fp, tn = 0, 0, 0, 0\n",
    "\n",
    "    for (_, user_id, item_id, rating, prediction) in data_with_predictions.itertuples():\n",
    "        if rating >= threshold:\n",
    "            if prediction >= threshold:\n",
    "                tp += 1\n",
    "            else:\n",
    "                fn += 1\n",
    "        else:\n",
    "            if prediction >= threshold:\n",
    "                fp += 1\n",
    "            else:\n",
    "                tn += 1\n",
    "\n",
    "        if tp == 0:\n",
    "            precision = 0\n",
    "            recall = 0\n",
    "            f1 = 0\n",
    "        else:\n",
    "            precision = tp / (tp + fp)\n",
    "            recall = tp / (tp + fn)\n",
    "            f1 = 2 * (precision * recall) / (precision + recall)\n",
    "    temp = [threshold, tp, fp, tn, fn, precision, recall, f1]\n",
    "    statistics.append(temp)\n",
    "\n",
    "results = pd.DataFrame(statistics)\n",
    "results.rename(columns={0:'threshold', 1:'tp', 2: 'fp', 3: 'tn', 4:'fn', 5: 'Precision', 6:'Recall', 7:'F1'}, inplace=True)"
   ],
   "metadata": {
    "collapsed": false,
    "pycharm": {
     "name": "#%%\n"
    }
   }
  },
  {
   "cell_type": "code",
   "execution_count": 15,
   "outputs": [
    {
     "data": {
      "text/plain": "    threshold     tp    fp     tn     fn  Precision    Recall        F1\n0         0.0  90570     0      0      0   1.000000  1.000000  1.000000\n1         0.5  90547     0      0     23   1.000000  0.999746  0.999873\n2         1.0  89200     0      0   1370   1.000000  0.984874  0.992379\n3         1.5  84902   743   4825    100   0.991325  0.998824  0.995060\n4         2.0  82022    58   5510   2980   0.999293  0.964942  0.981817\n5         2.5  73952  1377  14566    675   0.981720  0.990955  0.986316\n6         3.0  64463   106  15837  10164   0.998358  0.863803  0.926219\n7         3.5  47892  2090  38574   2014   0.958185  0.959644  0.958914\n8         4.0  32439   108  40556  17467   0.996682  0.650002  0.786848\n9         4.5  16437  1183  70339   2611   0.932860  0.862925  0.896531\n10        5.0   5274    33  71489  13774   0.993782  0.276879  0.433094",
      "text/html": "<div>\n<style scoped>\n    .dataframe tbody tr th:only-of-type {\n        vertical-align: middle;\n    }\n\n    .dataframe tbody tr th {\n        vertical-align: top;\n    }\n\n    .dataframe thead th {\n        text-align: right;\n    }\n</style>\n<table border=\"1\" class=\"dataframe\">\n  <thead>\n    <tr style=\"text-align: right;\">\n      <th></th>\n      <th>threshold</th>\n      <th>tp</th>\n      <th>fp</th>\n      <th>tn</th>\n      <th>fn</th>\n      <th>Precision</th>\n      <th>Recall</th>\n      <th>F1</th>\n    </tr>\n  </thead>\n  <tbody>\n    <tr>\n      <th>0</th>\n      <td>0.0</td>\n      <td>90570</td>\n      <td>0</td>\n      <td>0</td>\n      <td>0</td>\n      <td>1.000000</td>\n      <td>1.000000</td>\n      <td>1.000000</td>\n    </tr>\n    <tr>\n      <th>1</th>\n      <td>0.5</td>\n      <td>90547</td>\n      <td>0</td>\n      <td>0</td>\n      <td>23</td>\n      <td>1.000000</td>\n      <td>0.999746</td>\n      <td>0.999873</td>\n    </tr>\n    <tr>\n      <th>2</th>\n      <td>1.0</td>\n      <td>89200</td>\n      <td>0</td>\n      <td>0</td>\n      <td>1370</td>\n      <td>1.000000</td>\n      <td>0.984874</td>\n      <td>0.992379</td>\n    </tr>\n    <tr>\n      <th>3</th>\n      <td>1.5</td>\n      <td>84902</td>\n      <td>743</td>\n      <td>4825</td>\n      <td>100</td>\n      <td>0.991325</td>\n      <td>0.998824</td>\n      <td>0.995060</td>\n    </tr>\n    <tr>\n      <th>4</th>\n      <td>2.0</td>\n      <td>82022</td>\n      <td>58</td>\n      <td>5510</td>\n      <td>2980</td>\n      <td>0.999293</td>\n      <td>0.964942</td>\n      <td>0.981817</td>\n    </tr>\n    <tr>\n      <th>5</th>\n      <td>2.5</td>\n      <td>73952</td>\n      <td>1377</td>\n      <td>14566</td>\n      <td>675</td>\n      <td>0.981720</td>\n      <td>0.990955</td>\n      <td>0.986316</td>\n    </tr>\n    <tr>\n      <th>6</th>\n      <td>3.0</td>\n      <td>64463</td>\n      <td>106</td>\n      <td>15837</td>\n      <td>10164</td>\n      <td>0.998358</td>\n      <td>0.863803</td>\n      <td>0.926219</td>\n    </tr>\n    <tr>\n      <th>7</th>\n      <td>3.5</td>\n      <td>47892</td>\n      <td>2090</td>\n      <td>38574</td>\n      <td>2014</td>\n      <td>0.958185</td>\n      <td>0.959644</td>\n      <td>0.958914</td>\n    </tr>\n    <tr>\n      <th>8</th>\n      <td>4.0</td>\n      <td>32439</td>\n      <td>108</td>\n      <td>40556</td>\n      <td>17467</td>\n      <td>0.996682</td>\n      <td>0.650002</td>\n      <td>0.786848</td>\n    </tr>\n    <tr>\n      <th>9</th>\n      <td>4.5</td>\n      <td>16437</td>\n      <td>1183</td>\n      <td>70339</td>\n      <td>2611</td>\n      <td>0.932860</td>\n      <td>0.862925</td>\n      <td>0.896531</td>\n    </tr>\n    <tr>\n      <th>10</th>\n      <td>5.0</td>\n      <td>5274</td>\n      <td>33</td>\n      <td>71489</td>\n      <td>13774</td>\n      <td>0.993782</td>\n      <td>0.276879</td>\n      <td>0.433094</td>\n    </tr>\n  </tbody>\n</table>\n</div>"
     },
     "execution_count": 15,
     "metadata": {},
     "output_type": "execute_result"
    }
   ],
   "source": [
    "results.head(11)"
   ],
   "metadata": {
    "collapsed": false,
    "pycharm": {
     "name": "#%%\n"
    }
   }
  },
  {
   "cell_type": "code",
   "execution_count": 22,
   "outputs": [],
   "source": [
    "from collections import defaultdict\n",
    "\n",
    "def precision_recall_at_k(k: int, threshold=2.5):\n",
    "    user_est_true = defaultdict(list)\n",
    "    for (_, user_id, item_id, rating, prediction) in data_with_predictions.itertuples():\n",
    "        user_est_true[user_id].append((prediction, rating))\n",
    "\n",
    "    precisions, recalls = dict(), dict()\n",
    "    for uid, user_ratings in user_est_true.items():\n",
    "        user_ratings.sort(key=lambda x: x[0], reverse=True)\n",
    "        n_rel = sum((true_r >= threshold) for (_, true_r) in user_ratings)\n",
    "        n_rec_k = sum((est >= threshold) for (est, _) in user_ratings[:k])\n",
    "        n_rel_and_rec_k = sum(((true_r >= threshold) and (est >= threshold)) for (est, true_r) in user_ratings[:k])\n",
    "        # Precision@K: Proportion of recommended items that are relevant\n",
    "        precisions[uid] = n_rel_and_rec_k / n_rec_k if n_rec_k != 0 else 1\n",
    "        # Recall@K: Proportion of relevant items that are recommended\n",
    "        recalls[uid] = n_rel_and_rec_k / n_rel if n_rel != 0 else 1\n",
    "\n",
    "    return precisions, recalls"
   ],
   "metadata": {
    "collapsed": false,
    "pycharm": {
     "name": "#%%\n"
    }
   }
  },
  {
   "cell_type": "code",
   "execution_count": 23,
   "outputs": [
    {
     "data": {
      "text/plain": "[{'K': 2, 'Precision': 1.0, 'Recall': 0.07324856850525181},\n {'K': 3, 'Precision': 1.0, 'Recall': 0.10987285275787743},\n {'K': 4, 'Precision': 1.0, 'Recall': 0.14579017341912856},\n {'K': 5, 'Precision': 1.0, 'Recall': 0.18144238273361327},\n {'K': 6, 'Precision': 1.0, 'Recall': 0.21645832481586091},\n {'K': 7, 'Precision': 1.0, 'Recall': 0.2502370806132021},\n {'K': 8, 'Precision': 0.9997348886532343, 'Recall': 0.28234942223087445},\n {'K': 9, 'Precision': 0.9997348886532343, 'Recall': 0.3128710957679508},\n {'K': 10, 'Precision': 0.9996288441145281, 'Recall': 0.3406827422047578}]"
     },
     "execution_count": 23,
     "metadata": {},
     "output_type": "execute_result"
    }
   ],
   "source": [
    "results=[]\n",
    "for i in range(2, 11):\n",
    "    precisions, recalls = precision_recall_at_k(k=i)\n",
    "    # Precision and recall can then be averaged over all users\n",
    "    prec = sum(prec for prec in precisions.values()) / len(precisions)\n",
    "    rec = sum(rec for rec in recalls.values()) / len(recalls)\n",
    "    results.append({'K': i, 'Precision': prec, 'Recall': rec})\n",
    "results"
   ],
   "metadata": {
    "collapsed": false,
    "pycharm": {
     "name": "#%%\n"
    }
   }
  },
  {
   "cell_type": "code",
   "execution_count": null,
   "outputs": [],
   "source": [],
   "metadata": {
    "collapsed": false,
    "pycharm": {
     "name": "#%%\n"
    }
   }
  }
 ],
 "metadata": {
  "kernelspec": {
   "display_name": "Python 3",
   "language": "python",
   "name": "python3"
  },
  "language_info": {
   "codemirror_mode": {
    "name": "ipython",
    "version": 2
   },
   "file_extension": ".py",
   "mimetype": "text/x-python",
   "name": "python",
   "nbconvert_exporter": "python",
   "pygments_lexer": "ipython2",
   "version": "2.7.6"
  }
 },
 "nbformat": 4,
 "nbformat_minor": 0
}