{
 "cells": [
  {
   "cell_type": "code",
   "execution_count": 1,
   "metadata": {
    "collapsed": true
   },
   "outputs": [],
   "source": [
    "import os.path\n",
    "\n",
    "import recmetrics as recmetrics\n",
    "from pandas import read_csv\n",
    "from torch.optim import SGD\n",
    "from torch.utils.data import DataLoader\n",
    "\n",
    "from config import DATA_DIR\n",
    "from src.loss import MiningOutliersLoss\n",
    "from src.model import MF\n",
    "from src.runner import Runner\n",
    "from src.utils import create_dataset, DataConverter, DataProcessor\n",
    "\n",
    "DF_PATH = f\"{DATA_DIR}/MovieLens/ratings.csv\""
   ]
  },
  {
   "cell_type": "code",
   "execution_count": 16,
   "outputs": [
    {
     "name": "stdout",
     "output_type": "stream",
     "text": [
      "           user_id        rating\n",
      "count  50000.00000  50000.000000\n",
      "mean     195.32608      3.592330\n",
      "std      116.36048      1.056803\n",
      "min        1.00000      0.500000\n",
      "25%       92.00000      3.000000\n",
      "50%      187.00000      4.000000\n",
      "75%      294.00000      4.500000\n",
      "max      406.00000      5.000000\n"
     ]
    },
    {
     "data": {
      "text/plain": "   user_id item_id  rating\n0        1     296     5.0\n1        1     306     3.5\n2        1     307     5.0\n3        1     665     5.0\n4        1     899     3.5",
      "text/html": "<div>\n<style scoped>\n    .dataframe tbody tr th:only-of-type {\n        vertical-align: middle;\n    }\n\n    .dataframe tbody tr th {\n        vertical-align: top;\n    }\n\n    .dataframe thead th {\n        text-align: right;\n    }\n</style>\n<table border=\"1\" class=\"dataframe\">\n  <thead>\n    <tr style=\"text-align: right;\">\n      <th></th>\n      <th>user_id</th>\n      <th>item_id</th>\n      <th>rating</th>\n    </tr>\n  </thead>\n  <tbody>\n    <tr>\n      <th>0</th>\n      <td>1</td>\n      <td>296</td>\n      <td>5.0</td>\n    </tr>\n    <tr>\n      <th>1</th>\n      <td>1</td>\n      <td>306</td>\n      <td>3.5</td>\n    </tr>\n    <tr>\n      <th>2</th>\n      <td>1</td>\n      <td>307</td>\n      <td>5.0</td>\n    </tr>\n    <tr>\n      <th>3</th>\n      <td>1</td>\n      <td>665</td>\n      <td>5.0</td>\n    </tr>\n    <tr>\n      <th>4</th>\n      <td>1</td>\n      <td>899</td>\n      <td>3.5</td>\n    </tr>\n  </tbody>\n</table>\n</div>"
     },
     "execution_count": 16,
     "metadata": {},
     "output_type": "execute_result"
    }
   ],
   "source": [
    "columns = [\"user_id\", \"item_id\", \"rating\"]\n",
    "original_df = read_csv(DF_PATH, skipinitialspace=True, usecols=[\"userId\", \"movieId\", \"rating\"], nrows=50000)\n",
    "original_df.columns = [\"user_id\", \"item_id\", \"rating\"]\n",
    "\n",
    "original_df = original_df.astype({\"user_id\": \"int32\"})\n",
    "original_df = original_df.astype({\"item_id\": str})\n",
    "original_df = original_df.astype({\"rating\": \"float64\"})\n",
    "\n",
    "data_converter = DataConverter(original_df=original_df)\n",
    "data_processor = DataProcessor(original_df=data_converter.original_df)\n",
    "\n",
    "print(original_df.describe())\n",
    "original_df.head()"
   ],
   "metadata": {
    "collapsed": false,
    "pycharm": {
     "name": "#%%\n"
    }
   }
  },
  {
   "cell_type": "code",
   "execution_count": 17,
   "outputs": [],
   "source": [
    "from tensorboardX import SummaryWriter\n",
    "from torch.nn import MSELoss\n",
    "from config import MODELS_DIR\n",
    "import torch\n",
    "\n",
    "model = MF(\n",
    "    n_users=data_converter.n_users,\n",
    "    n_items=data_converter.n_item,\n",
    "    include_bias=True\n",
    ")\n",
    "\n",
    "if os.path.exists(f\"{MODELS_DIR}/MovieLens/model.pt\"):\n",
    "    model.load_state_dict(torch.load(f\"{MODELS_DIR}/MovieLens/model.pt\"))\n",
    "\n",
    "# criterion = MSELoss()\n",
    "# optimizer = SGD(model.parameters(), lr=5, weight_decay=1e-7)\n",
    "# epochs = 50\n",
    "#\n",
    "# runner = Runner(\n",
    "#     model=model,\n",
    "#     criterion=criterion,\n",
    "#     optimizer=optimizer,\n",
    "#     epochs=epochs\n",
    "# )\n",
    "#\n",
    "# train_set = create_dataset(data_frame=data_converter.encoded_df)\n",
    "# train_load = DataLoader(train_set, batch_size=1000, shuffle=True)\n",
    "# with SummaryWriter(\"runs/dev/MovieLens\") as writer:\n",
    "#     for epoch in range(epochs):\n",
    "#         epoch_loss = runner.train(train_loader=train_load, epoch=epoch, writer=writer)\n",
    "#         print(f\"epoch={epoch + 1}, loss={epoch_loss}\")\n",
    "#         torch.save(model.state_dict(), f\"{MODELS_DIR}/MovieLens/model.pt\")"
   ],
   "metadata": {
    "collapsed": false,
    "pycharm": {
     "name": "#%%\n"
    }
   }
  },
  {
   "cell_type": "code",
   "execution_count": 6,
   "outputs": [],
   "source": [
    "# items_group_by_users = data_converter.original_df.groupby(\"user_id\")\n",
    "# outliers = dict(sorted(outliers.items(), key=lambda item: item[1]))\n",
    "# for user_id, item_id in outliers.items():\n",
    "#     number_of_items = len(items_group_by_users.get_group(user_id))\n",
    "#     print(f\"user: {user_id}, dist: {item_id}, #items: {number_of_items}\")"
   ],
   "metadata": {
    "collapsed": false,
    "pycharm": {
     "name": "#%%\n"
    }
   }
  },
  {
   "cell_type": "code",
   "execution_count": 18,
   "outputs": [
    {
     "data": {
      "text/plain": "   user_id item_id    rating\n0        1     296  4.868937\n1        1     306  3.688776\n2        1     307  4.924071\n3        1     665  4.937776\n4        1     899  3.438493",
      "text/html": "<div>\n<style scoped>\n    .dataframe tbody tr th:only-of-type {\n        vertical-align: middle;\n    }\n\n    .dataframe tbody tr th {\n        vertical-align: top;\n    }\n\n    .dataframe thead th {\n        text-align: right;\n    }\n</style>\n<table border=\"1\" class=\"dataframe\">\n  <thead>\n    <tr style=\"text-align: right;\">\n      <th></th>\n      <th>user_id</th>\n      <th>item_id</th>\n      <th>rating</th>\n    </tr>\n  </thead>\n  <tbody>\n    <tr>\n      <th>0</th>\n      <td>1</td>\n      <td>296</td>\n      <td>4.868937</td>\n    </tr>\n    <tr>\n      <th>1</th>\n      <td>1</td>\n      <td>306</td>\n      <td>3.688776</td>\n    </tr>\n    <tr>\n      <th>2</th>\n      <td>1</td>\n      <td>307</td>\n      <td>4.924071</td>\n    </tr>\n    <tr>\n      <th>3</th>\n      <td>1</td>\n      <td>665</td>\n      <td>4.937776</td>\n    </tr>\n    <tr>\n      <th>4</th>\n      <td>1</td>\n      <td>899</td>\n      <td>3.438493</td>\n    </tr>\n  </tbody>\n</table>\n</div>"
     },
     "execution_count": 18,
     "metadata": {},
     "output_type": "execute_result"
    }
   ],
   "source": [
    "from collections import namedtuple\n",
    "from pandas import DataFrame\n",
    "from src.utils import ProcColumn\n",
    "\n",
    "Row = namedtuple(\"Row\", \"user_id item_id rating\")\n",
    "working_df = original_df.copy()\n",
    "\n",
    "user_original_id_to_encoded_id = ProcColumn(working_df.user_id)\n",
    "item_original_id_to_encoded_id = ProcColumn(working_df.item_id)\n",
    "working_df.user_id = user_original_id_to_encoded_id.encoded_col\n",
    "working_df.item_id = item_original_id_to_encoded_id.encoded_col\n",
    "\n",
    "df_after_mf = []\n",
    "with torch.no_grad():\n",
    "    for (index, worker_id, song_id, rating) in working_df.itertuples():\n",
    "        user_id_as_tensor = torch.LongTensor([worker_id])\n",
    "        item_id_as_tensor = torch.LongTensor([song_id])\n",
    "        predicted_rating = model(users=user_id_as_tensor, items=item_id_as_tensor,).item()\n",
    "\n",
    "        original_worker_id = user_original_id_to_encoded_id.get_name(index=worker_id)\n",
    "        original_item_id = item_original_id_to_encoded_id.get_name(index=song_id)\n",
    "        df_after_mf.append(\n",
    "            Row(\n",
    "                user_id=original_worker_id,\n",
    "                item_id=original_item_id,\n",
    "                rating=predicted_rating,\n",
    "            )\n",
    "        )\n",
    "\n",
    "df_after_mf = DataFrame(\n",
    "    df_after_mf, columns=[\"user_id\", \"item_id\", \"rating\"]\n",
    ")\n",
    "df_after_mf.head()"
   ],
   "metadata": {
    "collapsed": false,
    "pycharm": {
     "name": "#%%\n"
    }
   }
  },
  {
   "cell_type": "code",
   "execution_count": 10,
   "outputs": [
    {
     "name": "stdout",
     "output_type": "stream",
     "text": [
      "       user_id item_id  rating\n",
      "0            1     296     5.0\n",
      "1            1     306     3.5\n",
      "2            1     307     5.0\n",
      "3            1     665     5.0\n",
      "4            1     899     3.5\n",
      "...        ...     ...     ...\n",
      "49995      406   99007     4.5\n",
      "49996      406   99728     0.5\n",
      "49997      406  101577     4.5\n",
      "49998      406  101962     5.0\n",
      "49999      406  102407     4.5\n",
      "\n",
      "[50000 rows x 3 columns]\n",
      "Number of hits: 50000 / 50000\n",
      "Hit ratio: 100.0\n"
     ]
    },
    {
     "data": {
      "text/plain": "       user_id item_id  rating  New rating\n0          NaN     NaN     NaN    4.868937\n1          NaN     NaN     NaN    3.688776\n2          NaN     NaN     NaN    4.924071\n3          NaN     NaN     NaN    4.937776\n4          NaN     NaN     NaN    3.438493\n...        ...     ...     ...         ...\n49995      NaN     NaN     NaN    4.495297\n49996      NaN     NaN     NaN    0.479298\n49997      NaN     NaN     NaN    4.500709\n49998      NaN     NaN     NaN    4.994490\n49999      NaN     NaN     NaN    4.476028\n\n[50000 rows x 4 columns]",
      "text/html": "<div>\n<style scoped>\n    .dataframe tbody tr th:only-of-type {\n        vertical-align: middle;\n    }\n\n    .dataframe tbody tr th {\n        vertical-align: top;\n    }\n\n    .dataframe thead th {\n        text-align: right;\n    }\n</style>\n<table border=\"1\" class=\"dataframe\">\n  <thead>\n    <tr style=\"text-align: right;\">\n      <th></th>\n      <th>user_id</th>\n      <th>item_id</th>\n      <th>rating</th>\n      <th>New rating</th>\n    </tr>\n  </thead>\n  <tbody>\n    <tr>\n      <th>0</th>\n      <td>NaN</td>\n      <td>NaN</td>\n      <td>NaN</td>\n      <td>4.868937</td>\n    </tr>\n    <tr>\n      <th>1</th>\n      <td>NaN</td>\n      <td>NaN</td>\n      <td>NaN</td>\n      <td>3.688776</td>\n    </tr>\n    <tr>\n      <th>2</th>\n      <td>NaN</td>\n      <td>NaN</td>\n      <td>NaN</td>\n      <td>4.924071</td>\n    </tr>\n    <tr>\n      <th>3</th>\n      <td>NaN</td>\n      <td>NaN</td>\n      <td>NaN</td>\n      <td>4.937776</td>\n    </tr>\n    <tr>\n      <th>4</th>\n      <td>NaN</td>\n      <td>NaN</td>\n      <td>NaN</td>\n      <td>3.438493</td>\n    </tr>\n    <tr>\n      <th>...</th>\n      <td>...</td>\n      <td>...</td>\n      <td>...</td>\n      <td>...</td>\n    </tr>\n    <tr>\n      <th>49995</th>\n      <td>NaN</td>\n      <td>NaN</td>\n      <td>NaN</td>\n      <td>4.495297</td>\n    </tr>\n    <tr>\n      <th>49996</th>\n      <td>NaN</td>\n      <td>NaN</td>\n      <td>NaN</td>\n      <td>0.479298</td>\n    </tr>\n    <tr>\n      <th>49997</th>\n      <td>NaN</td>\n      <td>NaN</td>\n      <td>NaN</td>\n      <td>4.500709</td>\n    </tr>\n    <tr>\n      <th>49998</th>\n      <td>NaN</td>\n      <td>NaN</td>\n      <td>NaN</td>\n      <td>4.994490</td>\n    </tr>\n    <tr>\n      <th>49999</th>\n      <td>NaN</td>\n      <td>NaN</td>\n      <td>NaN</td>\n      <td>4.476028</td>\n    </tr>\n  </tbody>\n</table>\n<p>50000 rows × 4 columns</p>\n</div>"
     },
     "execution_count": 10,
     "metadata": {},
     "output_type": "execute_result"
    }
   ],
   "source": [
    "compare = original_df[[\"user_id\", \"item_id\", \"rating\"]].reset_index(drop=True)\n",
    "print(compare)\n",
    "df_after_mf = df_after_mf.reset_index(drop=True)\n",
    "mask = (compare[\"rating\"] == df_after_mf[\"rating\"])\n",
    "changes = compare[mask].copy()\n",
    "changes[\"New rating\"] = df_after_mf.rating\n",
    "print(f\"Number of hits: {len(changes)} / {len(original_df)}\")\n",
    "print(f\"Hit ratio: {(len(changes) / len(original_df)) * 100}\")\n",
    "changes.head(len(changes))"
   ],
   "metadata": {
    "collapsed": false,
    "pycharm": {
     "name": "#%%\n"
    }
   }
  },
  {
   "cell_type": "code",
   "execution_count": 20,
   "outputs": [
    {
     "name": "stdout",
     "output_type": "stream",
     "text": [
      "MSE:  0.02465608016032059\n",
      "RMSE:  0.1570225466623204\n"
     ]
    },
    {
     "data": {
      "text/plain": "    user_id item_id  rating  cf_predictions  cf_prediction\n0         1     296     5.0        4.868937       4.868937\n1         1     306     3.5        3.688776       3.688776\n2         1     307     5.0        4.924071       4.924071\n3         1     665     5.0        4.937776       4.937776\n4         1     899     3.5        3.438493       3.438493\n..      ...     ...     ...             ...            ...\n95        2     733     4.5        4.327505       4.327505\n96        2     858     3.5        3.719010       3.719010\n97        2     914     4.0        3.938428       3.938428\n98        2     953     4.5        4.450279       4.450279\n99        2    1035     1.0        0.980695       0.980695\n\n[100 rows x 5 columns]",
      "text/html": "<div>\n<style scoped>\n    .dataframe tbody tr th:only-of-type {\n        vertical-align: middle;\n    }\n\n    .dataframe tbody tr th {\n        vertical-align: top;\n    }\n\n    .dataframe thead th {\n        text-align: right;\n    }\n</style>\n<table border=\"1\" class=\"dataframe\">\n  <thead>\n    <tr style=\"text-align: right;\">\n      <th></th>\n      <th>user_id</th>\n      <th>item_id</th>\n      <th>rating</th>\n      <th>cf_predictions</th>\n      <th>cf_prediction</th>\n    </tr>\n  </thead>\n  <tbody>\n    <tr>\n      <th>0</th>\n      <td>1</td>\n      <td>296</td>\n      <td>5.0</td>\n      <td>4.868937</td>\n      <td>4.868937</td>\n    </tr>\n    <tr>\n      <th>1</th>\n      <td>1</td>\n      <td>306</td>\n      <td>3.5</td>\n      <td>3.688776</td>\n      <td>3.688776</td>\n    </tr>\n    <tr>\n      <th>2</th>\n      <td>1</td>\n      <td>307</td>\n      <td>5.0</td>\n      <td>4.924071</td>\n      <td>4.924071</td>\n    </tr>\n    <tr>\n      <th>3</th>\n      <td>1</td>\n      <td>665</td>\n      <td>5.0</td>\n      <td>4.937776</td>\n      <td>4.937776</td>\n    </tr>\n    <tr>\n      <th>4</th>\n      <td>1</td>\n      <td>899</td>\n      <td>3.5</td>\n      <td>3.438493</td>\n      <td>3.438493</td>\n    </tr>\n    <tr>\n      <th>...</th>\n      <td>...</td>\n      <td>...</td>\n      <td>...</td>\n      <td>...</td>\n      <td>...</td>\n    </tr>\n    <tr>\n      <th>95</th>\n      <td>2</td>\n      <td>733</td>\n      <td>4.5</td>\n      <td>4.327505</td>\n      <td>4.327505</td>\n    </tr>\n    <tr>\n      <th>96</th>\n      <td>2</td>\n      <td>858</td>\n      <td>3.5</td>\n      <td>3.719010</td>\n      <td>3.719010</td>\n    </tr>\n    <tr>\n      <th>97</th>\n      <td>2</td>\n      <td>914</td>\n      <td>4.0</td>\n      <td>3.938428</td>\n      <td>3.938428</td>\n    </tr>\n    <tr>\n      <th>98</th>\n      <td>2</td>\n      <td>953</td>\n      <td>4.5</td>\n      <td>4.450279</td>\n      <td>4.450279</td>\n    </tr>\n    <tr>\n      <th>99</th>\n      <td>2</td>\n      <td>1035</td>\n      <td>1.0</td>\n      <td>0.980695</td>\n      <td>0.980695</td>\n    </tr>\n  </tbody>\n</table>\n<p>100 rows × 5 columns</p>\n</div>"
     },
     "execution_count": 20,
     "metadata": {},
     "output_type": "execute_result"
    }
   ],
   "source": [
    "import recmetrics\n",
    "original_df[\"cf_prediction\"] = df_after_mf.rating\n",
    "print(\"MSE: \", recmetrics.mse(original_df.rating, df_after_mf.rating))\n",
    "print(\"RMSE: \", recmetrics.rmse(original_df.rating, df_after_mf.rating))\n",
    "original_df.head(100)"
   ],
   "metadata": {
    "collapsed": false,
    "pycharm": {
     "name": "#%%\n"
    }
   }
  },
  {
   "cell_type": "code",
   "execution_count": null,
   "outputs": [],
   "source": [],
   "metadata": {
    "collapsed": false,
    "pycharm": {
     "name": "#%%\n"
    }
   }
  }
 ],
 "metadata": {
  "kernelspec": {
   "display_name": "Python 3",
   "language": "python",
   "name": "python3"
  },
  "language_info": {
   "codemirror_mode": {
    "name": "ipython",
    "version": 2
   },
   "file_extension": ".py",
   "mimetype": "text/x-python",
   "name": "python",
   "nbconvert_exporter": "python",
   "pygments_lexer": "ipython2",
   "version": "2.7.6"
  }
 },
 "nbformat": 4,
 "nbformat_minor": 0
}