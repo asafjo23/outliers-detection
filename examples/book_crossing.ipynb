{
 "cells": [
  {
   "cell_type": "code",
   "execution_count": 1,
   "metadata": {
    "collapsed": true
   },
   "outputs": [],
   "source": [
    "from pandas import read_csv\n",
    "from torch.optim import SGD\n",
    "from torch.nn import MSELoss\n",
    "from torch.utils.data import DataLoader\n",
    "from tensorboardX import SummaryWriter\n",
    "from torch import randperm\n",
    "from config import DATA_DIR\n",
    "from src.data_set import RatingsDataset\n",
    "from src.loss import MiningOutliersLoss\n",
    "from src.model import MF\n",
    "from src.runner import Runner\n",
    "from src.utils import (\n",
    "    create_dataset,\n",
    "    mine_outliers_scipy,\n",
    "    mine_outliers_sklearn,\n",
    "    mine_outliers_torch,\n",
    "    DataConverter,\n",
    "    DataProcessor,\n",
    "    mean_centralised\n",
    ")\n",
    "\n",
    "DF_PATH = f\"{DATA_DIR}/BookCrossing/BX-Book-Ratings.csv\""
   ]
  },
  {
   "cell_type": "code",
   "execution_count": 2,
   "outputs": [],
   "source": [
    "columns = [\"user_id\", \"item_id\", \"rating\"]\n",
    "original_df = read_csv(\n",
    "    DF_PATH, skipinitialspace=True, sep=\";\", names=columns, encoding=\"latin-1\", low_memory=False\n",
    ")\n",
    "original_df = original_df.iloc[1:, :]\n",
    "original_df = original_df.astype({\"user_id\": \"int32\"})\n",
    "original_df = original_df.astype({\"item_id\": str})\n",
    "original_df = original_df.astype({\"rating\": \"int32\"})\n",
    "\n",
    "data_converter = DataConverter(\n",
    "    original_df=original_df, n_random_users=1, n_ratings_per_random_user=200\n",
    ")\n",
    "\n",
    "original_df = mean_centralised(dataframe=original_df)"
   ],
   "metadata": {
    "collapsed": false,
    "pycharm": {
     "name": "#%%\n"
    }
   }
  },
  {
   "cell_type": "code",
   "execution_count": null,
   "outputs": [
    {
     "name": "stderr",
     "output_type": "stream",
     "text": [
      "100%|██████████| 1150/1150 [06:29<00:00,  2.96batch/s, train_loss=0.0166]\n"
     ]
    },
    {
     "name": "stdout",
     "output_type": "stream",
     "text": [
      "epoch=1, loss=21.02686258271278\n"
     ]
    },
    {
     "name": "stderr",
     "output_type": "stream",
     "text": [
      "100%|██████████| 1150/1150 [07:30<00:00,  2.55batch/s, train_loss=0.0169]\n"
     ]
    },
    {
     "name": "stdout",
     "output_type": "stream",
     "text": [
      "epoch=2, loss=17.49854668634768\n"
     ]
    },
    {
     "name": "stderr",
     "output_type": "stream",
     "text": [
      "100%|██████████| 1150/1150 [06:09<00:00,  3.12batch/s, train_loss=0.0147]\n"
     ]
    },
    {
     "name": "stdout",
     "output_type": "stream",
     "text": [
      "epoch=3, loss=16.196321662863905\n"
     ]
    },
    {
     "name": "stderr",
     "output_type": "stream",
     "text": [
      "100%|██████████| 1150/1150 [05:15<00:00,  3.64batch/s, train_loss=0.0133]\n"
     ]
    },
    {
     "name": "stdout",
     "output_type": "stream",
     "text": [
      "epoch=4, loss=15.167109014939298\n"
     ]
    },
    {
     "name": "stderr",
     "output_type": "stream",
     "text": [
      "100%|██████████| 1150/1150 [05:14<00:00,  3.65batch/s, train_loss=0.0118]\n"
     ]
    },
    {
     "name": "stdout",
     "output_type": "stream",
     "text": [
      "epoch=5, loss=14.362449028365475\n"
     ]
    }
   ],
   "source": [
    "model = MF(\n",
    "    n_users=data_converter.n_users,\n",
    "    n_items=data_converter.n_item,\n",
    ")\n",
    "\n",
    "criterion = MSELoss()\n",
    "optimizer = SGD(model.parameters(), lr=5, weight_decay=1e-5)\n",
    "epochs = 5\n",
    "\n",
    "runner = Runner(\n",
    "    model=model,\n",
    "    criterion=criterion,\n",
    "    optimizer=optimizer,\n",
    "    epochs=epochs\n",
    ")\n",
    "\n",
    "train_set = create_dataset(data_converter=data_converter)\n",
    "train_load = DataLoader(train_set, batch_size=1000, shuffle=True)\n",
    "with SummaryWriter(\"runs/Book-Crossing\") as writer:\n",
    "    for epoch in range(epochs):\n",
    "        epoch_loss = runner.train(train_loader=train_load, epoch=epoch, writer=writer)\n",
    "        print(f\"epoch={epoch + 1}, loss={epoch_loss}\")\n",
    "\n",
    "outliers = mine_outliers_sklearn(model=model, data_converter=data_converter)"
   ],
   "metadata": {
    "collapsed": false,
    "pycharm": {
     "name": "#%%\n",
     "is_executing": true
    }
   }
  },
  {
   "cell_type": "code",
   "execution_count": null,
   "outputs": [],
   "source": [
    "items_group_by_users = data_converter.original_df.groupby(\"user_id\")\n",
    "outliers = dict(sorted(outliers.items(), key=lambda item: item[1]))\n",
    "for user_id, item_id in outliers.items():\n",
    "    number_of_items = len(items_group_by_users.get_group(user_id))\n",
    "    print(f\"user: {user_id}, dist: {item_id}, #items: {number_of_items}\")"
   ],
   "metadata": {
    "collapsed": false,
    "pycharm": {
     "name": "#%%\n"
    }
   }
  }
 ],
 "metadata": {
  "kernelspec": {
   "display_name": "Python 3",
   "language": "python",
   "name": "python3"
  },
  "language_info": {
   "codemirror_mode": {
    "name": "ipython",
    "version": 2
   },
   "file_extension": ".py",
   "mimetype": "text/x-python",
   "name": "python",
   "nbconvert_exporter": "python",
   "pygments_lexer": "ipython2",
   "version": "2.7.6"
  }
 },
 "nbformat": 4,
 "nbformat_minor": 0
}