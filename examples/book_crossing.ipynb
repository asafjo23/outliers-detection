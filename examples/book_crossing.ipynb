{
 "cells": [
  {
   "cell_type": "code",
   "execution_count": 1,
   "metadata": {
    "collapsed": true
   },
   "outputs": [],
   "source": [
    "import os.path\n",
    "\n",
    "import torch\n",
    "\n",
    "from pandas import read_csv\n",
    "from torch.optim import SGD\n",
    "from torch.nn import MSELoss\n",
    "from torch.utils.data import DataLoader\n",
    "from tensorboardX import SummaryWriter\n",
    "from torch import randperm\n",
    "from config import DATA_DIR, MODELS_DIR\n",
    "from src.data_set import RatingsDataset\n",
    "from src.loss import MiningOutliersLoss\n",
    "from src.model import MF\n",
    "from src.runner import Runner\n",
    "from src.utils import (\n",
    "    create_dataset,\n",
    "    mine_outliers_scipy,\n",
    "    mine_outliers_sklearn,\n",
    "    mine_outliers_torch,\n",
    "    DataConverter,\n",
    "    DataProcessor,\n",
    ")\n",
    "\n",
    "DF_PATH = f\"{DATA_DIR}/BookCrossing/BX-Book-Ratings.csv\""
   ]
  },
  {
   "cell_type": "code",
   "execution_count": 2,
   "outputs": [
    {
     "name": "stdout",
     "output_type": "stream",
     "text": [
      "105283\n",
      "340556\n"
     ]
    }
   ],
   "source": [
    "columns = [\"user_id\", \"item_id\", \"rating\"]\n",
    "original_df = read_csv(\n",
    "    DF_PATH, skipinitialspace=True, sep=\";\", names=columns, encoding=\"latin-1\", low_memory=False\n",
    ")\n",
    "original_df = original_df.iloc[1:, :]\n",
    "original_df = original_df.astype({\"user_id\": \"int32\"})\n",
    "original_df = original_df.astype({\"item_id\": str})\n",
    "original_df = original_df.astype({\"rating\": \"int32\"})\n",
    "\n",
    "n_users = original_df.user_id.nunique()\n",
    "n_items = original_df.item_id.nunique()\n",
    "print(n_users)\n",
    "print(n_items)\n"
   ],
   "metadata": {
    "collapsed": false,
    "pycharm": {
     "name": "#%%\n"
    }
   }
  },
  {
   "cell_type": "code",
   "execution_count": 4,
   "outputs": [],
   "source": [
    "data_converter = DataConverter(original_df=original_df)\n",
    "\n",
    "model = MF(\n",
    "    n_users=data_converter.n_users,\n",
    "    n_items=data_converter.n_item,\n",
    "    include_bias=True\n",
    ")\n",
    "\n",
    "criterion = MSELoss()\n",
    "optimizer = SGD(model.parameters(), lr=5, weight_decay=1e-5)\n",
    "epochs = 50\n",
    "\n",
    "if os.path.exists(f\"{MODELS_DIR}/book_crossing/model.pt\"):\n",
    "    model.load_state_dict(torch.load(f\"{MODELS_DIR}/book_crossing/model.pt\"))\n",
    "#\n",
    "# runner = Runner(\n",
    "#     model=model,\n",
    "#     criterion=criterion,\n",
    "#     optimizer=optimizer,\n",
    "#     epochs=epochs\n",
    "# )\n",
    "#\n",
    "# train_set = create_dataset(data_frame=data_converter.encoded_df)\n",
    "# train_load = DataLoader(train_set, batch_size=1000, shuffle=True)\n",
    "# with SummaryWriter(\"runs/Book-Crossing\") as writer:\n",
    "#     for epoch in range(epochs):\n",
    "#         epoch_loss = runner.train(train_loader=train_load, epoch=epoch, writer=writer)\n",
    "#         print(f\"epoch={epoch + 1}, loss={epoch_loss}\")\n",
    "        # torch.save(model.state_dict(), f\"{MODELS_DIR}/book_crossing/model.pt\")"
   ],
   "metadata": {
    "collapsed": false,
    "pycharm": {
     "name": "#%%\n"
    }
   }
  },
  {
   "cell_type": "code",
   "execution_count": 5,
   "outputs": [
    {
     "data": {
      "text/plain": "   user_id     item_id    rating\n0   276725  034545104X  0.105944\n1   276726  0155061224  2.668854\n2   276727  0446520802  0.103979\n3   276729  052165615X  2.252617\n4   276729  0521795028  3.478775",
      "text/html": "<div>\n<style scoped>\n    .dataframe tbody tr th:only-of-type {\n        vertical-align: middle;\n    }\n\n    .dataframe tbody tr th {\n        vertical-align: top;\n    }\n\n    .dataframe thead th {\n        text-align: right;\n    }\n</style>\n<table border=\"1\" class=\"dataframe\">\n  <thead>\n    <tr style=\"text-align: right;\">\n      <th></th>\n      <th>user_id</th>\n      <th>item_id</th>\n      <th>rating</th>\n    </tr>\n  </thead>\n  <tbody>\n    <tr>\n      <th>0</th>\n      <td>276725</td>\n      <td>034545104X</td>\n      <td>0.105944</td>\n    </tr>\n    <tr>\n      <th>1</th>\n      <td>276726</td>\n      <td>0155061224</td>\n      <td>2.668854</td>\n    </tr>\n    <tr>\n      <th>2</th>\n      <td>276727</td>\n      <td>0446520802</td>\n      <td>0.103979</td>\n    </tr>\n    <tr>\n      <th>3</th>\n      <td>276729</td>\n      <td>052165615X</td>\n      <td>2.252617</td>\n    </tr>\n    <tr>\n      <th>4</th>\n      <td>276729</td>\n      <td>0521795028</td>\n      <td>3.478775</td>\n    </tr>\n  </tbody>\n</table>\n</div>"
     },
     "execution_count": 5,
     "metadata": {},
     "output_type": "execute_result"
    }
   ],
   "source": [
    "from collections import namedtuple\n",
    "from pandas import DataFrame\n",
    "from src.utils import ProcColumn\n",
    "\n",
    "Row = namedtuple(\"Row\", \"user_id item_id rating\")\n",
    "working_df = original_df.copy()\n",
    "\n",
    "user_original_id_to_encoded_id = ProcColumn(working_df.user_id)\n",
    "item_original_id_to_encoded_id = ProcColumn(working_df.item_id)\n",
    "working_df.user_id = user_original_id_to_encoded_id.encoded_col\n",
    "working_df.item_id = item_original_id_to_encoded_id.encoded_col\n",
    "\n",
    "df_after_mf = []\n",
    "with torch.no_grad():\n",
    "    for (index, worker_id, song_id, rating) in working_df.itertuples():\n",
    "        user_id_as_tensor = torch.LongTensor([worker_id])\n",
    "        item_id_as_tensor = torch.LongTensor([song_id])\n",
    "        predicted_rating = model(users=user_id_as_tensor, items=item_id_as_tensor,).item()\n",
    "\n",
    "        original_worker_id = user_original_id_to_encoded_id.get_name(index=worker_id)\n",
    "        original_item_id = item_original_id_to_encoded_id.get_name(index=song_id)\n",
    "        df_after_mf.append(\n",
    "            Row(\n",
    "                user_id=original_worker_id,\n",
    "                item_id=original_item_id,\n",
    "                rating=predicted_rating,\n",
    "            )\n",
    "        )\n",
    "\n",
    "df_after_mf = DataFrame(\n",
    "    df_after_mf, columns=[\"user_id\", \"item_id\", \"rating\"]\n",
    ")\n",
    "df_after_mf.head()"
   ],
   "metadata": {
    "collapsed": false,
    "pycharm": {
     "name": "#%%\n"
    }
   }
  },
  {
   "cell_type": "code",
   "execution_count": 7,
   "outputs": [
    {
     "name": "stdout",
     "output_type": "stream",
     "text": [
      "Number of hits: 1 / 1149780\n",
      "Hit ratio: 8.697316008279845e-05\n"
     ]
    },
    {
     "data": {
      "text/plain": "      user_id     item_id  rating  New rating\n8172   278418  0816741271       0         0.0",
      "text/html": "<div>\n<style scoped>\n    .dataframe tbody tr th:only-of-type {\n        vertical-align: middle;\n    }\n\n    .dataframe tbody tr th {\n        vertical-align: top;\n    }\n\n    .dataframe thead th {\n        text-align: right;\n    }\n</style>\n<table border=\"1\" class=\"dataframe\">\n  <thead>\n    <tr style=\"text-align: right;\">\n      <th></th>\n      <th>user_id</th>\n      <th>item_id</th>\n      <th>rating</th>\n      <th>New rating</th>\n    </tr>\n  </thead>\n  <tbody>\n    <tr>\n      <th>8172</th>\n      <td>278418</td>\n      <td>0816741271</td>\n      <td>0</td>\n      <td>0.0</td>\n    </tr>\n  </tbody>\n</table>\n</div>"
     },
     "execution_count": 7,
     "metadata": {},
     "output_type": "execute_result"
    }
   ],
   "source": [
    "compare = original_df[[\"user_id\", \"item_id\", \"rating\"]].reset_index(drop=True)\n",
    "df_after_mf = df_after_mf.reset_index(drop=True)\n",
    "mask = (compare[\"rating\"] == df_after_mf[\"rating\"])\n",
    "changes = compare[mask].copy()\n",
    "changes[\"New rating\"] = df_after_mf.rating\n",
    "print(f\"Number of hits: {len(changes)} / {len(original_df)}\")\n",
    "print(f\"Hit ratio: {(len(changes) / len(original_df)) * 100}\")\n",
    "changes.head(len(changes))"
   ],
   "metadata": {
    "collapsed": false,
    "pycharm": {
     "name": "#%%\n"
    }
   }
  },
  {
   "cell_type": "code",
   "execution_count": 10,
   "outputs": [
    {
     "name": "stdout",
     "output_type": "stream",
     "text": [
      "MSE:  0.32380431222722267\n",
      "RMSE:  0.569038058680808\n"
     ]
    },
    {
     "data": {
      "text/plain": "     user_id     item_id  rating  cf_prediction\n1     276725  034545104X       0       2.668854\n2     276726  0155061224       5       0.103979\n3     276727  0446520802       0       2.252617\n4     276729  052165615X       3       3.478775\n5     276729  0521795028       6       0.852733\n..       ...         ...     ...            ...\n96    276798  3499134004       0       0.070007\n97    276798  349915398X       0       5.866992\n98    276798  3548603203       6       0.174416\n99    276798  3764501383       0      -0.156772\n100   276798  3791535889       0       0.372700\n\n[100 rows x 4 columns]",
      "text/html": "<div>\n<style scoped>\n    .dataframe tbody tr th:only-of-type {\n        vertical-align: middle;\n    }\n\n    .dataframe tbody tr th {\n        vertical-align: top;\n    }\n\n    .dataframe thead th {\n        text-align: right;\n    }\n</style>\n<table border=\"1\" class=\"dataframe\">\n  <thead>\n    <tr style=\"text-align: right;\">\n      <th></th>\n      <th>user_id</th>\n      <th>item_id</th>\n      <th>rating</th>\n      <th>cf_prediction</th>\n    </tr>\n  </thead>\n  <tbody>\n    <tr>\n      <th>1</th>\n      <td>276725</td>\n      <td>034545104X</td>\n      <td>0</td>\n      <td>2.668854</td>\n    </tr>\n    <tr>\n      <th>2</th>\n      <td>276726</td>\n      <td>0155061224</td>\n      <td>5</td>\n      <td>0.103979</td>\n    </tr>\n    <tr>\n      <th>3</th>\n      <td>276727</td>\n      <td>0446520802</td>\n      <td>0</td>\n      <td>2.252617</td>\n    </tr>\n    <tr>\n      <th>4</th>\n      <td>276729</td>\n      <td>052165615X</td>\n      <td>3</td>\n      <td>3.478775</td>\n    </tr>\n    <tr>\n      <th>5</th>\n      <td>276729</td>\n      <td>0521795028</td>\n      <td>6</td>\n      <td>0.852733</td>\n    </tr>\n    <tr>\n      <th>...</th>\n      <td>...</td>\n      <td>...</td>\n      <td>...</td>\n      <td>...</td>\n    </tr>\n    <tr>\n      <th>96</th>\n      <td>276798</td>\n      <td>3499134004</td>\n      <td>0</td>\n      <td>0.070007</td>\n    </tr>\n    <tr>\n      <th>97</th>\n      <td>276798</td>\n      <td>349915398X</td>\n      <td>0</td>\n      <td>5.866992</td>\n    </tr>\n    <tr>\n      <th>98</th>\n      <td>276798</td>\n      <td>3548603203</td>\n      <td>6</td>\n      <td>0.174416</td>\n    </tr>\n    <tr>\n      <th>99</th>\n      <td>276798</td>\n      <td>3764501383</td>\n      <td>0</td>\n      <td>-0.156772</td>\n    </tr>\n    <tr>\n      <th>100</th>\n      <td>276798</td>\n      <td>3791535889</td>\n      <td>0</td>\n      <td>0.372700</td>\n    </tr>\n  </tbody>\n</table>\n<p>100 rows × 4 columns</p>\n</div>"
     },
     "execution_count": 10,
     "metadata": {},
     "output_type": "execute_result"
    }
   ],
   "source": [
    "import recmetrics\n",
    "original_df[\"cf_prediction\"] = df_after_mf.rating\n",
    "print(\"MSE: \", recmetrics.mse(original_df.rating, df_after_mf.rating))\n",
    "print(\"RMSE: \", recmetrics.rmse(original_df.rating, df_after_mf.rating))\n",
    "original_df.head(100)"
   ],
   "metadata": {
    "collapsed": false,
    "pycharm": {
     "name": "#%%\n"
    }
   }
  },
  {
   "cell_type": "code",
   "execution_count": null,
   "outputs": [],
   "source": [],
   "metadata": {
    "collapsed": false,
    "pycharm": {
     "name": "#%%\n"
    }
   }
  }
 ],
 "metadata": {
  "kernelspec": {
   "display_name": "Python 3",
   "language": "python",
   "name": "python3"
  },
  "language_info": {
   "codemirror_mode": {
    "name": "ipython",
    "version": 2
   },
   "file_extension": ".py",
   "mimetype": "text/x-python",
   "name": "python",
   "nbconvert_exporter": "python",
   "pygments_lexer": "ipython2",
   "version": "2.7.6"
  }
 },
 "nbformat": 4,
 "nbformat_minor": 0
}