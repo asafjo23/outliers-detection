{
 "cells": [
  {
   "cell_type": "code",
   "execution_count": 5,
   "metadata": {
    "collapsed": true,
    "pycharm": {
     "name": "#%%\n"
    }
   },
   "outputs": [],
   "source": [
    "from pandas import read_csv\n",
    "from torch.optim import SGD\n",
    "from torch.nn import MSELoss\n",
    "from torch.utils.data import DataLoader\n",
    "from tensorboardX import SummaryWriter\n",
    "from torch import randperm\n",
    "from config import DATA_DIR\n",
    "from src.data_set import RatingsDataset\n",
    "from src.loss import MiningOutliersLoss\n",
    "from src.model import MF\n",
    "from src.runner import Runner\n",
    "from src.utils import (\n",
    "    create_dataset,\n",
    "    mine_outliers_scipy,\n",
    "    mine_outliers_sklearn,\n",
    "    mine_outliers_torch,\n",
    "    DataConverter,\n",
    "    DataProcessor,\n",
    "    mean_normalized\n",
    ")\n",
    "\n",
    "\n",
    "\"\"\"\n",
    "The Deam dataset is based on Arousal-Valence 2D emotional model.\n",
    "The Valence/Arousal ratings were collected using Amazon Mechanical Turks service.\n",
    "Each turk from the collected crowd were asked to mark his own emotion for the current song on a 2D plane, Arousal/Valence.\n",
    "For more information please read: https://journals.plos.org/plosone/article?id=10.1371/journal.pone.0173392\n",
    "\"\"\"\n",
    "\n",
    "DF_PATH = f\"{DATA_DIR}\" \\\n",
    "          f\"/DEAM/annotations/annotations per each rater/\" \\\n",
    "          f\"song_level/static_annotations_songs_1_2000.csv\"\n",
    "\n",
    "def select_n_random(trainset: RatingsDataset):\n",
    "    \"\"\"\n",
    "    Selects n random data points and their corresponding labels from a dataset\n",
    "    \"\"\"\n",
    "    perm = randperm(len(trainset))\n",
    "    return trainset[perm][:100]"
   ]
  },
  {
   "cell_type": "code",
   "execution_count": 6,
   "outputs": [
    {
     "name": "stderr",
     "output_type": "stream",
     "text": [
      "_mean_centralised: 100%|██████████| 17464/17464 [00:16<00:00, 1063.16it/s]\n",
      "100%|██████████| 18/18 [00:00<00:00, 30.62batch/s, train_loss=0.00692]\n"
     ]
    },
    {
     "name": "stdout",
     "output_type": "stream",
     "text": [
      "epoch=1, loss=0.0814835940810317\n"
     ]
    },
    {
     "name": "stderr",
     "output_type": "stream",
     "text": [
      "100%|██████████| 18/18 [00:00<00:00, 46.13batch/s, train_loss=0.00606]\n"
     ]
    },
    {
     "name": "stdout",
     "output_type": "stream",
     "text": [
      "epoch=2, loss=0.06798636331713157\n"
     ]
    },
    {
     "name": "stderr",
     "output_type": "stream",
     "text": [
      "100%|██████████| 18/18 [00:00<00:00, 33.55batch/s, train_loss=0.00481]\n"
     ]
    },
    {
     "name": "stdout",
     "output_type": "stream",
     "text": [
      "epoch=3, loss=0.058502753491005734\n"
     ]
    },
    {
     "name": "stderr",
     "output_type": "stream",
     "text": [
      "100%|██████████| 18/18 [00:00<00:00, 50.38batch/s, train_loss=0.00455]\n"
     ]
    },
    {
     "name": "stdout",
     "output_type": "stream",
     "text": [
      "epoch=4, loss=0.04980152355118349\n"
     ]
    },
    {
     "name": "stderr",
     "output_type": "stream",
     "text": [
      "100%|██████████| 18/18 [00:00<00:00, 45.85batch/s, train_loss=0.00405]\n"
     ]
    },
    {
     "name": "stdout",
     "output_type": "stream",
     "text": [
      "epoch=5, loss=0.041331847930212745\n"
     ]
    },
    {
     "name": "stderr",
     "output_type": "stream",
     "text": [
      "100%|██████████| 18/18 [00:00<00:00, 34.70batch/s, train_loss=0.00342]\n"
     ]
    },
    {
     "name": "stdout",
     "output_type": "stream",
     "text": [
      "epoch=6, loss=0.03483164211386808\n"
     ]
    },
    {
     "name": "stderr",
     "output_type": "stream",
     "text": [
      "100%|██████████| 18/18 [00:00<00:00, 46.60batch/s, train_loss=0.00283]\n"
     ]
    },
    {
     "name": "stdout",
     "output_type": "stream",
     "text": [
      "epoch=7, loss=0.030199822081555534\n"
     ]
    },
    {
     "name": "stderr",
     "output_type": "stream",
     "text": [
      "100%|██████████| 18/18 [00:00<00:00, 32.28batch/s, train_loss=0.00268]\n"
     ]
    },
    {
     "name": "stdout",
     "output_type": "stream",
     "text": [
      "epoch=8, loss=0.027198234273208183\n"
     ]
    },
    {
     "name": "stderr",
     "output_type": "stream",
     "text": [
      "100%|██████████| 18/18 [00:00<00:00, 52.22batch/s, train_loss=0.00227]\n"
     ]
    },
    {
     "name": "stdout",
     "output_type": "stream",
     "text": [
      "epoch=9, loss=0.02461367974728884\n"
     ]
    },
    {
     "name": "stderr",
     "output_type": "stream",
     "text": [
      "100%|██████████| 18/18 [00:00<00:00, 49.18batch/s, train_loss=0.00219]\n"
     ]
    },
    {
     "name": "stdout",
     "output_type": "stream",
     "text": [
      "epoch=10, loss=0.02250662789103787\n"
     ]
    },
    {
     "name": "stderr",
     "output_type": "stream",
     "text": [
      "100%|██████████| 18/18 [00:00<00:00, 31.82batch/s, train_loss=0.00214]\n"
     ]
    },
    {
     "name": "stdout",
     "output_type": "stream",
     "text": [
      "epoch=11, loss=0.020644006363536478\n"
     ]
    },
    {
     "name": "stderr",
     "output_type": "stream",
     "text": [
      "100%|██████████| 18/18 [00:00<00:00, 49.06batch/s, train_loss=0.00164] \n"
     ]
    },
    {
     "name": "stdout",
     "output_type": "stream",
     "text": [
      "epoch=12, loss=0.018736409624561075\n"
     ]
    },
    {
     "name": "stderr",
     "output_type": "stream",
     "text": [
      "100%|██████████| 18/18 [00:00<00:00, 32.76batch/s, train_loss=0.00175] \n"
     ]
    },
    {
     "name": "stdout",
     "output_type": "stream",
     "text": [
      "epoch=13, loss=0.017561593937099197\n"
     ]
    },
    {
     "name": "stderr",
     "output_type": "stream",
     "text": [
      "100%|██████████| 18/18 [00:00<00:00, 50.03batch/s, train_loss=0.0016]  \n"
     ]
    },
    {
     "name": "stdout",
     "output_type": "stream",
     "text": [
      "epoch=14, loss=0.01633946739228624\n"
     ]
    },
    {
     "name": "stderr",
     "output_type": "stream",
     "text": [
      "100%|██████████| 18/18 [00:00<00:00, 34.71batch/s, train_loss=0.00134] \n"
     ]
    },
    {
     "name": "stdout",
     "output_type": "stream",
     "text": [
      "epoch=15, loss=0.015246117658993828\n"
     ]
    },
    {
     "name": "stderr",
     "output_type": "stream",
     "text": [
      "100%|██████████| 18/18 [00:00<00:00, 45.91batch/s, train_loss=0.00123] \n"
     ]
    },
    {
     "name": "stdout",
     "output_type": "stream",
     "text": [
      "epoch=16, loss=0.014375878025263222\n"
     ]
    },
    {
     "name": "stderr",
     "output_type": "stream",
     "text": [
      "100%|██████████| 18/18 [00:00<00:00, 48.19batch/s, train_loss=0.00147] \n"
     ]
    },
    {
     "name": "stdout",
     "output_type": "stream",
     "text": [
      "epoch=17, loss=0.01384298129331334\n"
     ]
    },
    {
     "name": "stderr",
     "output_type": "stream",
     "text": [
      "100%|██████████| 18/18 [00:00<00:00, 35.17batch/s, train_loss=0.00126] \n"
     ]
    },
    {
     "name": "stdout",
     "output_type": "stream",
     "text": [
      "epoch=18, loss=0.013119633222099676\n"
     ]
    },
    {
     "name": "stderr",
     "output_type": "stream",
     "text": [
      "100%|██████████| 18/18 [00:00<00:00, 45.74batch/s, train_loss=0.00122] \n"
     ]
    },
    {
     "name": "stdout",
     "output_type": "stream",
     "text": [
      "epoch=19, loss=0.012568821118196426\n"
     ]
    },
    {
     "name": "stderr",
     "output_type": "stream",
     "text": [
      "100%|██████████| 18/18 [00:00<00:00, 33.53batch/s, train_loss=0.00112] \n"
     ]
    },
    {
     "name": "stdout",
     "output_type": "stream",
     "text": [
      "epoch=20, loss=0.01208951144528303\n"
     ]
    },
    {
     "name": "stderr",
     "output_type": "stream",
     "text": [
      "100%|██████████| 18/18 [00:00<00:00, 46.08batch/s, train_loss=0.00142] \n"
     ]
    },
    {
     "name": "stdout",
     "output_type": "stream",
     "text": [
      "epoch=21, loss=0.01193111716904795\n"
     ]
    },
    {
     "name": "stderr",
     "output_type": "stream",
     "text": [
      "100%|██████████| 18/18 [00:00<00:00, 32.82batch/s, train_loss=0.00112] \n"
     ]
    },
    {
     "name": "stdout",
     "output_type": "stream",
     "text": [
      "epoch=22, loss=0.01138399215144801\n"
     ]
    },
    {
     "name": "stderr",
     "output_type": "stream",
     "text": [
      "100%|██████████| 18/18 [00:00<00:00, 44.91batch/s, train_loss=0.000928]\n"
     ]
    },
    {
     "name": "stdout",
     "output_type": "stream",
     "text": [
      "epoch=23, loss=0.010958327877177227\n"
     ]
    },
    {
     "name": "stderr",
     "output_type": "stream",
     "text": [
      "100%|██████████| 18/18 [00:00<00:00, 43.47batch/s, train_loss=0.000964]\n"
     ]
    },
    {
     "name": "stdout",
     "output_type": "stream",
     "text": [
      "epoch=24, loss=0.010754962533712387\n"
     ]
    },
    {
     "name": "stderr",
     "output_type": "stream",
     "text": [
      "100%|██████████| 18/18 [00:00<00:00, 31.86batch/s, train_loss=0.0011]  \n"
     ]
    },
    {
     "name": "stdout",
     "output_type": "stream",
     "text": [
      "epoch=25, loss=0.010625270753883713\n"
     ]
    },
    {
     "name": "stderr",
     "output_type": "stream",
     "text": [
      "100%|██████████| 18/18 [00:00<00:00, 43.43batch/s, train_loss=0.000939]\n"
     ]
    },
    {
     "name": "stdout",
     "output_type": "stream",
     "text": [
      "epoch=26, loss=0.010338973437513254\n"
     ]
    },
    {
     "name": "stderr",
     "output_type": "stream",
     "text": [
      "100%|██████████| 18/18 [00:00<00:00, 31.02batch/s, train_loss=0.0011]  \n"
     ]
    },
    {
     "name": "stdout",
     "output_type": "stream",
     "text": [
      "epoch=27, loss=0.01027334788172684\n"
     ]
    },
    {
     "name": "stderr",
     "output_type": "stream",
     "text": [
      "100%|██████████| 18/18 [00:00<00:00, 42.81batch/s, train_loss=0.000955]\n"
     ]
    },
    {
     "name": "stdout",
     "output_type": "stream",
     "text": [
      "epoch=28, loss=0.010026671610046379\n"
     ]
    },
    {
     "name": "stderr",
     "output_type": "stream",
     "text": [
      "100%|██████████| 18/18 [00:00<00:00, 43.79batch/s, train_loss=0.00109] \n"
     ]
    },
    {
     "name": "stdout",
     "output_type": "stream",
     "text": [
      "epoch=29, loss=0.009983128501082156\n"
     ]
    },
    {
     "name": "stderr",
     "output_type": "stream",
     "text": [
      "100%|██████████| 18/18 [00:00<00:00, 32.30batch/s, train_loss=0.000839]\n"
     ]
    },
    {
     "name": "stdout",
     "output_type": "stream",
     "text": [
      "epoch=30, loss=0.009673364326196456\n"
     ]
    },
    {
     "name": "stderr",
     "output_type": "stream",
     "text": [
      "100%|██████████| 18/18 [00:00<00:00, 42.19batch/s, train_loss=0.00112] \n"
     ]
    },
    {
     "name": "stdout",
     "output_type": "stream",
     "text": [
      "epoch=31, loss=0.009761239019972322\n"
     ]
    },
    {
     "name": "stderr",
     "output_type": "stream",
     "text": [
      "100%|██████████| 18/18 [00:00<00:00, 30.62batch/s, train_loss=0.00103] \n"
     ]
    },
    {
     "name": "stdout",
     "output_type": "stream",
     "text": [
      "epoch=32, loss=0.009600785347206068\n"
     ]
    },
    {
     "name": "stderr",
     "output_type": "stream",
     "text": [
      "100%|██████████| 18/18 [00:00<00:00, 40.87batch/s, train_loss=0.00106] \n"
     ]
    },
    {
     "name": "stdout",
     "output_type": "stream",
     "text": [
      "epoch=33, loss=0.00952313748905805\n"
     ]
    },
    {
     "name": "stderr",
     "output_type": "stream",
     "text": [
      "100%|██████████| 18/18 [00:00<00:00, 29.21batch/s, train_loss=0.00102] \n"
     ]
    },
    {
     "name": "stdout",
     "output_type": "stream",
     "text": [
      "epoch=34, loss=0.009407324361672038\n"
     ]
    },
    {
     "name": "stderr",
     "output_type": "stream",
     "text": [
      "100%|██████████| 18/18 [00:00<00:00, 41.78batch/s, train_loss=0.000912]\n"
     ]
    },
    {
     "name": "stdout",
     "output_type": "stream",
     "text": [
      "epoch=35, loss=0.009260369393584529\n"
     ]
    },
    {
     "name": "stderr",
     "output_type": "stream",
     "text": [
      "100%|██████████| 18/18 [00:00<00:00, 43.11batch/s, train_loss=0.000859]\n"
     ]
    },
    {
     "name": "stdout",
     "output_type": "stream",
     "text": [
      "epoch=36, loss=0.00911826607143836\n"
     ]
    },
    {
     "name": "stderr",
     "output_type": "stream",
     "text": [
      "100%|██████████| 18/18 [00:00<00:00, 32.11batch/s, train_loss=0.000804]\n"
     ]
    },
    {
     "name": "stdout",
     "output_type": "stream",
     "text": [
      "epoch=37, loss=0.00903819609333892\n"
     ]
    },
    {
     "name": "stderr",
     "output_type": "stream",
     "text": [
      "100%|██████████| 18/18 [00:00<00:00, 43.80batch/s, train_loss=0.000786]\n"
     ]
    },
    {
     "name": "stdout",
     "output_type": "stream",
     "text": [
      "epoch=38, loss=0.008988331359323613\n"
     ]
    },
    {
     "name": "stderr",
     "output_type": "stream",
     "text": [
      "100%|██████████| 18/18 [00:00<00:00, 26.90batch/s, train_loss=0.000777]\n"
     ]
    },
    {
     "name": "stdout",
     "output_type": "stream",
     "text": [
      "epoch=39, loss=0.00890268324439276\n"
     ]
    },
    {
     "name": "stderr",
     "output_type": "stream",
     "text": [
      "100%|██████████| 18/18 [00:00<00:00, 43.79batch/s, train_loss=0.000967]\n"
     ]
    },
    {
     "name": "stdout",
     "output_type": "stream",
     "text": [
      "epoch=40, loss=0.00899173850014752\n"
     ]
    },
    {
     "name": "stderr",
     "output_type": "stream",
     "text": [
      "100%|██████████| 18/18 [00:00<00:00, 25.02batch/s, train_loss=0.00102] \n"
     ]
    },
    {
     "name": "stdout",
     "output_type": "stream",
     "text": [
      "epoch=41, loss=0.008974533970282826\n"
     ]
    },
    {
     "name": "stderr",
     "output_type": "stream",
     "text": [
      "100%|██████████| 18/18 [00:00<00:00, 31.45batch/s, train_loss=0.000903]\n"
     ]
    },
    {
     "name": "stdout",
     "output_type": "stream",
     "text": [
      "epoch=42, loss=0.008864385681139432\n"
     ]
    },
    {
     "name": "stderr",
     "output_type": "stream",
     "text": [
      "100%|██████████| 18/18 [00:00<00:00, 32.17batch/s, train_loss=0.0008]  \n"
     ]
    },
    {
     "name": "stdout",
     "output_type": "stream",
     "text": [
      "epoch=43, loss=0.008722887440924181\n"
     ]
    },
    {
     "name": "stderr",
     "output_type": "stream",
     "text": [
      "100%|██████████| 18/18 [00:00<00:00, 26.30batch/s, train_loss=0.000811]\n"
     ]
    },
    {
     "name": "stdout",
     "output_type": "stream",
     "text": [
      "epoch=44, loss=0.008691942779058154\n"
     ]
    },
    {
     "name": "stderr",
     "output_type": "stream",
     "text": [
      "100%|██████████| 18/18 [00:00<00:00, 33.40batch/s, train_loss=0.000971]\n"
     ]
    },
    {
     "name": "stdout",
     "output_type": "stream",
     "text": [
      "epoch=45, loss=0.008768643032234928\n"
     ]
    },
    {
     "name": "stderr",
     "output_type": "stream",
     "text": [
      "100%|██████████| 18/18 [00:00<00:00, 25.93batch/s, train_loss=0.000777]\n"
     ]
    },
    {
     "name": "stdout",
     "output_type": "stream",
     "text": [
      "epoch=46, loss=0.008587183776960477\n"
     ]
    },
    {
     "name": "stderr",
     "output_type": "stream",
     "text": [
      "100%|██████████| 18/18 [00:00<00:00, 34.52batch/s, train_loss=0.00083] \n"
     ]
    },
    {
     "name": "stdout",
     "output_type": "stream",
     "text": [
      "epoch=47, loss=0.008595360188923158\n"
     ]
    },
    {
     "name": "stderr",
     "output_type": "stream",
     "text": [
      "100%|██████████| 18/18 [00:00<00:00, 34.49batch/s, train_loss=0.000944]\n"
     ]
    },
    {
     "name": "stdout",
     "output_type": "stream",
     "text": [
      "epoch=48, loss=0.008636535273024321\n"
     ]
    },
    {
     "name": "stderr",
     "output_type": "stream",
     "text": [
      "100%|██████████| 18/18 [00:00<00:00, 25.89batch/s, train_loss=0.000779]\n"
     ]
    },
    {
     "name": "stdout",
     "output_type": "stream",
     "text": [
      "epoch=49, loss=0.00852047487307972\n"
     ]
    },
    {
     "name": "stderr",
     "output_type": "stream",
     "text": [
      "100%|██████████| 18/18 [00:00<00:00, 31.07batch/s, train_loss=0.00088] "
     ]
    },
    {
     "name": "stdout",
     "output_type": "stream",
     "text": [
      "epoch=50, loss=0.0085368808904925\n"
     ]
    },
    {
     "name": "stderr",
     "output_type": "stream",
     "text": [
      "\n"
     ]
    }
   ],
   "source": [
    "\"\"\"\n",
    "This block of code calculates the outliers alongside the valence axis\n",
    "\"\"\"\n",
    "columns = [\"workerID\", \"SongId\", \"Valence\"]\n",
    "original_df = read_csv(DF_PATH, skipinitialspace=True, usecols=columns)\n",
    "original_df.columns = [\"user_id\", \"item_id\", \"rating\"]\n",
    "original_df = mean_normalized(dataframe=original_df)\n",
    "\n",
    "data_converter = DataConverter(\n",
    "        original_df=original_df, n_random_users=10, n_ratings_per_random_user=9\n",
    ")\n",
    "\n",
    "valence_model = MF(\n",
    "    n_users=data_converter.n_users,\n",
    "    n_items=data_converter.n_item,\n",
    ")\n",
    "epochs = 50\n",
    "\n",
    "criterion = MSELoss()\n",
    "optimizer = SGD(valence_model.parameters(), lr=5, weight_decay=1e-3)\n",
    "runner = Runner(\n",
    "    model=valence_model,\n",
    "    criterion=criterion,\n",
    "    optimizer=optimizer,\n",
    "    epochs=epochs\n",
    ")\n",
    "\n",
    "train_set = create_dataset(data_converter=data_converter)\n",
    "train_load = DataLoader(train_set, batch_size=1000, shuffle=True)\n",
    "users, items, ratings = select_n_random(train_set)\n",
    "\n",
    "with SummaryWriter(\"runs/DEAM/valence\") as writer:\n",
    "    writer.add_graph(valence_model, (users, items))\n",
    "\n",
    "    for epoch in range(epochs):\n",
    "        epoch_loss = runner.train(train_loader=train_load, epoch=epoch, writer=writer)\n",
    "        print(f\"epoch={epoch + 1}, loss={epoch_loss}\")"
   ],
   "metadata": {
    "collapsed": false,
    "pycharm": {
     "name": "#%%\n"
    }
   }
  },
  {
   "cell_type": "code",
   "execution_count": 7,
   "outputs": [
    {
     "name": "stderr",
     "output_type": "stream",
     "text": [
      "_mean_centralised: 100%|██████████| 17464/17464 [00:14<00:00, 1164.34it/s]\n",
      "100%|██████████| 18/18 [00:00<00:00, 30.84batch/s, train_loss=0.00685]\n"
     ]
    },
    {
     "name": "stdout",
     "output_type": "stream",
     "text": [
      "epoch=1, loss=0.07889618623988293\n"
     ]
    },
    {
     "name": "stderr",
     "output_type": "stream",
     "text": [
      "100%|██████████| 18/18 [00:00<00:00, 47.26batch/s, train_loss=0.00564]\n"
     ]
    },
    {
     "name": "stdout",
     "output_type": "stream",
     "text": [
      "epoch=2, loss=0.06499546795717646\n"
     ]
    },
    {
     "name": "stderr",
     "output_type": "stream",
     "text": [
      "100%|██████████| 18/18 [00:00<00:00, 31.14batch/s, train_loss=0.00512]\n"
     ]
    },
    {
     "name": "stdout",
     "output_type": "stream",
     "text": [
      "epoch=3, loss=0.05478513373192467\n"
     ]
    },
    {
     "name": "stderr",
     "output_type": "stream",
     "text": [
      "100%|██████████| 18/18 [00:00<00:00, 44.69batch/s, train_loss=0.00477]\n"
     ]
    },
    {
     "name": "stdout",
     "output_type": "stream",
     "text": [
      "epoch=4, loss=0.04448580438307477\n"
     ]
    },
    {
     "name": "stderr",
     "output_type": "stream",
     "text": [
      "100%|██████████| 18/18 [00:00<00:00, 45.92batch/s, train_loss=0.00356]\n"
     ]
    },
    {
     "name": "stdout",
     "output_type": "stream",
     "text": [
      "epoch=5, loss=0.03762155086512169\n"
     ]
    },
    {
     "name": "stderr",
     "output_type": "stream",
     "text": [
      "100%|██████████| 18/18 [00:00<00:00, 32.44batch/s, train_loss=0.00312]\n"
     ]
    },
    {
     "name": "stdout",
     "output_type": "stream",
     "text": [
      "epoch=6, loss=0.03381245666763842\n"
     ]
    },
    {
     "name": "stderr",
     "output_type": "stream",
     "text": [
      "100%|██████████| 18/18 [00:00<00:00, 47.05batch/s, train_loss=0.00272]\n"
     ]
    },
    {
     "name": "stdout",
     "output_type": "stream",
     "text": [
      "epoch=7, loss=0.030447905169497327\n"
     ]
    },
    {
     "name": "stderr",
     "output_type": "stream",
     "text": [
      "100%|██████████| 18/18 [00:00<00:00, 30.34batch/s, train_loss=0.00309]\n"
     ]
    },
    {
     "name": "stdout",
     "output_type": "stream",
     "text": [
      "epoch=8, loss=0.02797248597782011\n"
     ]
    },
    {
     "name": "stderr",
     "output_type": "stream",
     "text": [
      "100%|██████████| 18/18 [00:00<00:00, 45.30batch/s, train_loss=0.00245]\n"
     ]
    },
    {
     "name": "stdout",
     "output_type": "stream",
     "text": [
      "epoch=9, loss=0.024940464426033763\n"
     ]
    },
    {
     "name": "stderr",
     "output_type": "stream",
     "text": [
      "100%|██████████| 18/18 [00:00<00:00, 46.24batch/s, train_loss=0.00251]\n"
     ]
    },
    {
     "name": "stdout",
     "output_type": "stream",
     "text": [
      "epoch=10, loss=0.022814417329936255\n"
     ]
    },
    {
     "name": "stderr",
     "output_type": "stream",
     "text": [
      "100%|██████████| 18/18 [00:00<00:00, 29.70batch/s, train_loss=0.00205]\n"
     ]
    },
    {
     "name": "stdout",
     "output_type": "stream",
     "text": [
      "epoch=11, loss=0.020702147776469428\n"
     ]
    },
    {
     "name": "stderr",
     "output_type": "stream",
     "text": [
      "100%|██████████| 18/18 [00:00<00:00, 40.50batch/s, train_loss=0.002]   \n"
     ]
    },
    {
     "name": "stdout",
     "output_type": "stream",
     "text": [
      "epoch=12, loss=0.01913249135921148\n"
     ]
    },
    {
     "name": "stderr",
     "output_type": "stream",
     "text": [
      "100%|██████████| 18/18 [00:00<00:00, 31.53batch/s, train_loss=0.00168] \n"
     ]
    },
    {
     "name": "stdout",
     "output_type": "stream",
     "text": [
      "epoch=13, loss=0.017612296510259164\n"
     ]
    },
    {
     "name": "stderr",
     "output_type": "stream",
     "text": [
      "100%|██████████| 18/18 [00:00<00:00, 44.76batch/s, train_loss=0.00166] \n"
     ]
    },
    {
     "name": "stdout",
     "output_type": "stream",
     "text": [
      "epoch=14, loss=0.01643942211250966\n"
     ]
    },
    {
     "name": "stderr",
     "output_type": "stream",
     "text": [
      "100%|██████████| 18/18 [00:00<00:00, 32.42batch/s, train_loss=0.00142] \n"
     ]
    },
    {
     "name": "stdout",
     "output_type": "stream",
     "text": [
      "epoch=15, loss=0.015332354153321537\n"
     ]
    },
    {
     "name": "stderr",
     "output_type": "stream",
     "text": [
      "100%|██████████| 18/18 [00:00<00:00, 44.51batch/s, train_loss=0.00142] \n"
     ]
    },
    {
     "name": "stdout",
     "output_type": "stream",
     "text": [
      "epoch=16, loss=0.014498798413181992\n"
     ]
    },
    {
     "name": "stderr",
     "output_type": "stream",
     "text": [
      "100%|██████████| 18/18 [00:00<00:00, 47.56batch/s, train_loss=0.00127] \n"
     ]
    },
    {
     "name": "stdout",
     "output_type": "stream",
     "text": [
      "epoch=17, loss=0.013664679345671447\n"
     ]
    },
    {
     "name": "stderr",
     "output_type": "stream",
     "text": [
      "100%|██████████| 18/18 [00:00<00:00, 30.88batch/s, train_loss=0.00109] \n"
     ]
    },
    {
     "name": "stdout",
     "output_type": "stream",
     "text": [
      "epoch=18, loss=0.012933039145779522\n"
     ]
    },
    {
     "name": "stderr",
     "output_type": "stream",
     "text": [
      "100%|██████████| 18/18 [00:00<00:00, 43.90batch/s, train_loss=0.00125] \n"
     ]
    },
    {
     "name": "stdout",
     "output_type": "stream",
     "text": [
      "epoch=19, loss=0.012485657034152683\n"
     ]
    },
    {
     "name": "stderr",
     "output_type": "stream",
     "text": [
      "100%|██████████| 18/18 [00:00<00:00, 31.31batch/s, train_loss=0.00137] \n"
     ]
    },
    {
     "name": "stdout",
     "output_type": "stream",
     "text": [
      "epoch=20, loss=0.012112686167339985\n"
     ]
    },
    {
     "name": "stderr",
     "output_type": "stream",
     "text": [
      "100%|██████████| 18/18 [00:00<00:00, 40.73batch/s, train_loss=0.0013]  \n"
     ]
    },
    {
     "name": "stdout",
     "output_type": "stream",
     "text": [
      "epoch=21, loss=0.011670205339628002\n"
     ]
    },
    {
     "name": "stderr",
     "output_type": "stream",
     "text": [
      "100%|██████████| 18/18 [00:00<00:00, 45.07batch/s, train_loss=0.00122] \n"
     ]
    },
    {
     "name": "stdout",
     "output_type": "stream",
     "text": [
      "epoch=22, loss=0.0112654181131387\n"
     ]
    },
    {
     "name": "stderr",
     "output_type": "stream",
     "text": [
      "100%|██████████| 18/18 [00:00<00:00, 31.46batch/s, train_loss=0.00108] \n"
     ]
    },
    {
     "name": "stdout",
     "output_type": "stream",
     "text": [
      "epoch=23, loss=0.01087668497381658\n"
     ]
    },
    {
     "name": "stderr",
     "output_type": "stream",
     "text": [
      "100%|██████████| 18/18 [00:00<00:00, 48.41batch/s, train_loss=0.00108] \n"
     ]
    },
    {
     "name": "stdout",
     "output_type": "stream",
     "text": [
      "epoch=24, loss=0.010597760508637134\n"
     ]
    },
    {
     "name": "stderr",
     "output_type": "stream",
     "text": [
      "100%|██████████| 18/18 [00:00<00:00, 31.64batch/s, train_loss=0.00101] \n"
     ]
    },
    {
     "name": "stdout",
     "output_type": "stream",
     "text": [
      "epoch=25, loss=0.010339698937610598\n"
     ]
    },
    {
     "name": "stderr",
     "output_type": "stream",
     "text": [
      "100%|██████████| 18/18 [00:00<00:00, 46.89batch/s, train_loss=0.00103] \n"
     ]
    },
    {
     "name": "stdout",
     "output_type": "stream",
     "text": [
      "epoch=26, loss=0.010135833440274538\n"
     ]
    },
    {
     "name": "stderr",
     "output_type": "stream",
     "text": [
      "100%|██████████| 18/18 [00:00<00:00, 31.50batch/s, train_loss=0.00123] \n"
     ]
    },
    {
     "name": "stdout",
     "output_type": "stream",
     "text": [
      "epoch=27, loss=0.010100816605215899\n"
     ]
    },
    {
     "name": "stderr",
     "output_type": "stream",
     "text": [
      "100%|██████████| 18/18 [00:00<00:00, 45.44batch/s, train_loss=0.000931]\n"
     ]
    },
    {
     "name": "stdout",
     "output_type": "stream",
     "text": [
      "epoch=28, loss=0.009740626135565316\n"
     ]
    },
    {
     "name": "stderr",
     "output_type": "stream",
     "text": [
      "100%|██████████| 18/18 [00:00<00:00, 41.99batch/s, train_loss=0.00107] \n"
     ]
    },
    {
     "name": "stdout",
     "output_type": "stream",
     "text": [
      "epoch=29, loss=0.009703272086188252\n"
     ]
    },
    {
     "name": "stderr",
     "output_type": "stream",
     "text": [
      "100%|██████████| 18/18 [00:00<00:00, 32.28batch/s, train_loss=0.0011]  \n"
     ]
    },
    {
     "name": "stdout",
     "output_type": "stream",
     "text": [
      "epoch=30, loss=0.009606495914368855\n"
     ]
    },
    {
     "name": "stderr",
     "output_type": "stream",
     "text": [
      "100%|██████████| 18/18 [00:00<00:00, 42.50batch/s, train_loss=0.00104] \n"
     ]
    },
    {
     "name": "stdout",
     "output_type": "stream",
     "text": [
      "epoch=31, loss=0.009411596840361825\n"
     ]
    },
    {
     "name": "stderr",
     "output_type": "stream",
     "text": [
      "100%|██████████| 18/18 [00:00<00:00, 32.26batch/s, train_loss=0.0009]  \n"
     ]
    },
    {
     "name": "stdout",
     "output_type": "stream",
     "text": [
      "epoch=32, loss=0.009245627500950645\n"
     ]
    },
    {
     "name": "stderr",
     "output_type": "stream",
     "text": [
      "100%|██████████| 18/18 [00:00<00:00, 40.97batch/s, train_loss=0.0009]  \n"
     ]
    },
    {
     "name": "stdout",
     "output_type": "stream",
     "text": [
      "epoch=33, loss=0.009156464362079916\n"
     ]
    },
    {
     "name": "stderr",
     "output_type": "stream",
     "text": [
      "100%|██████████| 18/18 [00:00<00:00, 30.82batch/s, train_loss=0.00101] \n"
     ]
    },
    {
     "name": "stdout",
     "output_type": "stream",
     "text": [
      "epoch=34, loss=0.009165615738836865\n"
     ]
    },
    {
     "name": "stderr",
     "output_type": "stream",
     "text": [
      "100%|██████████| 18/18 [00:00<00:00, 44.85batch/s, train_loss=0.000925]\n"
     ]
    },
    {
     "name": "stdout",
     "output_type": "stream",
     "text": [
      "epoch=35, loss=0.009015929130655761\n"
     ]
    },
    {
     "name": "stderr",
     "output_type": "stream",
     "text": [
      "100%|██████████| 18/18 [00:00<00:00, 42.88batch/s, train_loss=0.000932]\n"
     ]
    },
    {
     "name": "stdout",
     "output_type": "stream",
     "text": [
      "epoch=36, loss=0.008961428360710936\n"
     ]
    },
    {
     "name": "stderr",
     "output_type": "stream",
     "text": [
      "100%|██████████| 18/18 [00:00<00:00, 31.07batch/s, train_loss=0.0011]  \n"
     ]
    },
    {
     "name": "stdout",
     "output_type": "stream",
     "text": [
      "epoch=37, loss=0.00899576840493223\n"
     ]
    },
    {
     "name": "stderr",
     "output_type": "stream",
     "text": [
      "100%|██████████| 18/18 [00:00<00:00, 45.62batch/s, train_loss=0.000802]\n"
     ]
    },
    {
     "name": "stdout",
     "output_type": "stream",
     "text": [
      "epoch=38, loss=0.00873401103488805\n"
     ]
    },
    {
     "name": "stderr",
     "output_type": "stream",
     "text": [
      "100%|██████████| 18/18 [00:00<00:00, 31.31batch/s, train_loss=0.00103] \n"
     ]
    },
    {
     "name": "stdout",
     "output_type": "stream",
     "text": [
      "epoch=39, loss=0.008851888255952498\n"
     ]
    },
    {
     "name": "stderr",
     "output_type": "stream",
     "text": [
      "100%|██████████| 18/18 [00:00<00:00, 46.74batch/s, train_loss=0.00109] \n"
     ]
    },
    {
     "name": "stdout",
     "output_type": "stream",
     "text": [
      "epoch=40, loss=0.008819737506902606\n"
     ]
    },
    {
     "name": "stderr",
     "output_type": "stream",
     "text": [
      "100%|██████████| 18/18 [00:00<00:00, 32.44batch/s, train_loss=0.000975]\n"
     ]
    },
    {
     "name": "stdout",
     "output_type": "stream",
     "text": [
      "epoch=41, loss=0.008706249832461457\n"
     ]
    },
    {
     "name": "stderr",
     "output_type": "stream",
     "text": [
      "100%|██████████| 18/18 [00:00<00:00, 26.54batch/s, train_loss=0.000841]\n"
     ]
    },
    {
     "name": "stdout",
     "output_type": "stream",
     "text": [
      "epoch=42, loss=0.00856932501242049\n"
     ]
    },
    {
     "name": "stderr",
     "output_type": "stream",
     "text": [
      "100%|██████████| 18/18 [00:00<00:00, 31.66batch/s, train_loss=0.000732]\n"
     ]
    },
    {
     "name": "stdout",
     "output_type": "stream",
     "text": [
      "epoch=43, loss=0.008448995469494418\n"
     ]
    },
    {
     "name": "stderr",
     "output_type": "stream",
     "text": [
      "100%|██████████| 18/18 [00:00<00:00, 24.48batch/s, train_loss=0.00085] \n"
     ]
    },
    {
     "name": "stdout",
     "output_type": "stream",
     "text": [
      "epoch=44, loss=0.008494445961842899\n"
     ]
    },
    {
     "name": "stderr",
     "output_type": "stream",
     "text": [
      "100%|██████████| 18/18 [00:00<00:00, 30.33batch/s, train_loss=0.000835]\n"
     ]
    },
    {
     "name": "stdout",
     "output_type": "stream",
     "text": [
      "epoch=45, loss=0.008457641193044747\n"
     ]
    },
    {
     "name": "stderr",
     "output_type": "stream",
     "text": [
      "100%|██████████| 18/18 [00:00<00:00, 24.24batch/s, train_loss=0.00107] \n"
     ]
    },
    {
     "name": "stdout",
     "output_type": "stream",
     "text": [
      "epoch=46, loss=0.008588205877193906\n"
     ]
    },
    {
     "name": "stderr",
     "output_type": "stream",
     "text": [
      "100%|██████████| 18/18 [00:00<00:00, 30.87batch/s, train_loss=0.000733]\n"
     ]
    },
    {
     "name": "stdout",
     "output_type": "stream",
     "text": [
      "epoch=47, loss=0.008312527638049764\n"
     ]
    },
    {
     "name": "stderr",
     "output_type": "stream",
     "text": [
      "100%|██████████| 18/18 [00:00<00:00, 32.59batch/s, train_loss=0.000901]\n"
     ]
    },
    {
     "name": "stdout",
     "output_type": "stream",
     "text": [
      "epoch=48, loss=0.008427848756420914\n"
     ]
    },
    {
     "name": "stderr",
     "output_type": "stream",
     "text": [
      "100%|██████████| 18/18 [00:00<00:00, 27.30batch/s, train_loss=0.00085] \n"
     ]
    },
    {
     "name": "stdout",
     "output_type": "stream",
     "text": [
      "epoch=49, loss=0.00836037932503094\n"
     ]
    },
    {
     "name": "stderr",
     "output_type": "stream",
     "text": [
      "100%|██████████| 18/18 [00:00<00:00, 32.79batch/s, train_loss=0.000882]"
     ]
    },
    {
     "name": "stdout",
     "output_type": "stream",
     "text": [
      "epoch=50, loss=0.008336783372430594\n"
     ]
    },
    {
     "name": "stderr",
     "output_type": "stream",
     "text": [
      "\n"
     ]
    }
   ],
   "source": [
    "\"\"\"\n",
    "This block of code calculates the outliers alongside the arousal axis\n",
    "\"\"\"\n",
    "columns = [\"workerID\", \"SongId\", \"Arousal\"]\n",
    "original_df = read_csv(DF_PATH, skipinitialspace=True, usecols=columns)\n",
    "original_df.columns = [\"user_id\", \"item_id\", \"rating\"]\n",
    "original_df = mean_normalized(dataframe=original_df)\n",
    "\n",
    "data_converter = DataConverter(\n",
    "        original_df=original_df, n_random_users=10, n_ratings_per_random_user=9\n",
    ")\n",
    "\n",
    "arousal_model = MF(\n",
    "    n_users=data_converter.n_users,\n",
    "    n_items=data_converter.n_item,\n",
    ")\n",
    "epochs = 50\n",
    "\n",
    "criterion = MSELoss()\n",
    "optimizer = SGD(arousal_model.parameters(), lr=5, weight_decay=1e-3)\n",
    "runner = Runner(\n",
    "    model=arousal_model,\n",
    "    criterion=criterion,\n",
    "    optimizer=optimizer,\n",
    "    epochs=epochs,\n",
    ")\n",
    "\n",
    "train_set = create_dataset(data_converter=data_converter)\n",
    "train_load = DataLoader(train_set, batch_size=1000, shuffle=True)\n",
    "users, items, ratings = select_n_random(train_set)\n",
    "\n",
    "epochs = 50\n",
    "with SummaryWriter(\"runs/DEAM/arousal\") as writer:\n",
    "    writer.add_graph(arousal_model, (users, items))\n",
    "\n",
    "    for epoch in range(epochs):\n",
    "        epoch_loss = runner.train(train_loader=train_load, epoch=epoch, writer=writer)\n",
    "        print(f\"epoch={epoch + 1}, loss={epoch_loss}\")"
   ],
   "metadata": {
    "collapsed": false,
    "pycharm": {
     "name": "#%%\n"
    }
   }
  },
  {
   "cell_type": "code",
   "execution_count": 8,
   "outputs": [
    {
     "name": "stdout",
     "output_type": "stream",
     "text": [
      "user: ff18a27328ffd40ef52b7ebb7a0ded94, dist: -74.27330861100704, #items: 20\n",
      "user: 19fee46f2810f34a8b69a7768d897a59, dist: -53.744675938102034, #items: 1\n",
      "user: random_guy_191, dist: -47.90946700519498, #items: 9\n",
      "user: random_guy_190, dist: -46.617390778418574, #items: 9\n",
      "user: random_guy_188, dist: -43.83338179209181, #items: 9\n",
      "user: 3111e02887b600ee085c72c0a3df33e8, dist: -36.50610478373544, #items: 1\n",
      "user: random_guy_189, dist: -35.82082827645257, #items: 9\n",
      "user: fd5b08ce362d855ca9152a894348130c, dist: -35.6837828862546, #items: 222\n",
      "user: 2f790705ae66e70e81cc0f11ce0f4b9b, dist: -32.06156850854283, #items: 2\n",
      "user: b8ef6a913a63225faafd661ee2e1a7c0, dist: -23.481714259168395, #items: 10\n",
      "user: e105c200f413d7b2c5850c0df4b9687e, dist: -23.32396391727844, #items: 2\n",
      "user: 7cecbffe1da5ae974952db6c13695afe, dist: -19.721673771900445, #items: 428\n",
      "user: 027cefa6afc040448d29558b3175cdc1, dist: -9.499037434780577, #items: 9\n",
      "user: 8eb1abd1acca601d1e23e85c69b1742a, dist: -6.8273288473123115, #items: 34\n",
      "user: a186cdd58a92051b7c73adc9bd6e65ca, dist: -4.4371647159894, #items: 7\n",
      "user: 54cc66fe7cbb01775a6b7c7d703cdeff, dist: -3.0214692669311205, #items: 3\n",
      "user: a0f5cedc3a2371ec13663226c4b44771, dist: -2.889430940202594, #items: 4\n",
      "user: c3c21239b85dcdd6679fc212afd02a49, dist: -2.2710701235015875, #items: 9\n",
      "user: 1065a2110392d3e83d61b4282f55353c, dist: -1.8012338517363489, #items: 7\n",
      "user: d8188e46705e2e87f6a051e0cb338dea, dist: 0.9219959099317983, #items: 2\n",
      "user: bb50b45a1874ede476874bd57e4cabb4, dist: 6.342885124317938, #items: 178\n",
      "user: 04db9e73677c3b8882908ef7ee4a3424, dist: 6.562176393618941, #items: 3\n",
      "user: random_guy_195, dist: 7.760156220561438, #items: 9\n",
      "user: fc2fa5656d42b49f3caf01f663085069, dist: 8.220482393416377, #items: 6\n",
      "user: ad3b997c4f2382a66e49f035cacfa682, dist: 8.613214802052084, #items: 3\n",
      "user: a30d244141cb2f51e0803e79bc4bd147, dist: 9.7479567489041, #items: 985\n",
      "user: random_guy_196, dist: 9.897906164135732, #items: 9\n",
      "user: d0c51e42ea093dc9a9a98ef888637c8e, dist: 9.997565592172368, #items: 2\n",
      "user: 490951556961e4b88fe1a3ac53b3b186, dist: 11.537544451739205, #items: 313\n",
      "user: 38531641e6c0628757776b0088bcc854, dist: 12.724489245845596, #items: 7\n",
      "user: random_guy_192, dist: 13.009042364671267, #items: 9\n",
      "user: 4dedf223de3f8ebde100df78a5428251, dist: 16.044426974830607, #items: 3\n",
      "user: 00de940f0b5cfc82cca4791199e3bfb3, dist: 19.30255413555946, #items: 751\n",
      "user: 7685fa48defdc384f720bd1edbf17ed6, dist: 19.338664225267056, #items: 55\n",
      "user: 607f6e34a0b5923333f6b16d3a59cc98, dist: 19.687239178248507, #items: 955\n",
      "user: 6222da90667e5b0de990ce6c26dcfa15, dist: 19.80207028749009, #items: 12\n",
      "user: 46a2289decf79f747406fa91cd92fc27, dist: 20.54570063967219, #items: 333\n",
      "user: a34913ea1010b5812a14d1fef9586a4f, dist: 20.84825364213738, #items: 3\n",
      "user: ccfcf36a939a8af15a987fa562a49207, dist: 22.28772013143759, #items: 7\n",
      "user: 2a6b63b7690efa2390c8d9fee11b1407, dist: 23.895041266487357, #items: 3\n",
      "user: da37d1548ffd0631809f7be341e4fe4d, dist: 24.49347901013908, #items: 3\n",
      "user: 34fb7d43f3a35d4afac7563b7453e31c, dist: 24.524295877971923, #items: 5\n",
      "user: 9c3b8737a6a00626867c5e05ee80157e, dist: 24.872455676448016, #items: 3\n",
      "user: 623681f76a3eab5d9c86fbc0e1ca264b, dist: 25.438540302585288, #items: 12\n",
      "user: d633894e43380403a7984858af42ecea, dist: 27.55767321658233, #items: 36\n",
      "user: dbb8ffe292aaa9bc2de69ca511af2b3a, dist: 27.78936507948159, #items: 3\n",
      "user: 861d48b913f37227fcf9a7b1e547c0bb, dist: 28.266964607766255, #items: 8\n",
      "user: 807f0025a626896f04566aa37cfbce0d, dist: 30.30599915456787, #items: 3\n",
      "user: 80db3788bc598d1b32979bea958d9358, dist: 30.755982198785592, #items: 6\n",
      "user: random_guy_187, dist: 30.852864304317805, #items: 9\n",
      "user: a4410f548a05bf09b8541ec2672d8490, dist: 32.18056631949225, #items: 3\n",
      "user: 374a5659c02e12b01db6319436f17a7d, dist: 33.021749996227705, #items: 3\n",
      "user: 615d836ba25132081e0ebd2182221a59, dist: 33.06368924184978, #items: 6\n",
      "user: 504b651e27c89d1d46d101dd87823ab6, dist: 33.43150441208452, #items: 9\n",
      "user: 259443e9cad56b4f68b664daa20cb323, dist: 33.66181110542635, #items: 305\n",
      "user: 2fb527b567d10a3ea0dac783c7c2f364, dist: 34.34708245454137, #items: 6\n",
      "user: 0c37993dcf5f99f7b00d02495ed01bc3, dist: 35.73008594580257, #items: 339\n",
      "user: b4ba75169c585b959f1247fac7e4be7a, dist: 35.86356514815797, #items: 3\n",
      "user: 74f10ac255db9e37db6c6cbf604eb7e0, dist: 37.33355644318031, #items: 18\n",
      "user: e336e40ae9ac101cec57e8e4323ffb79, dist: 38.54245926717483, #items: 6\n",
      "user: 8dcd4de7be6479561269b90c1dc8a3b4, dist: 39.56479450495276, #items: 454\n",
      "user: 78b5e9744073532cc376976b5fc6b2fc, dist: 40.833183318083826, #items: 718\n",
      "user: random_guy_194, dist: 40.939521788786514, #items: 9\n",
      "user: 212246528da7c13457844fc4453e6019, dist: 41.35029831858939, #items: 22\n",
      "user: a00de41fdf121f6dfe5db851a575d2d1, dist: 41.81289173427044, #items: 146\n",
      "user: 1ac10b86ba5ac18e06eea9f9954ab216, dist: 41.99961586695607, #items: 217\n",
      "user: 5b044cf509da1d8444b6f60c465240ef, dist: 43.42493065557174, #items: 3\n",
      "user: 594f3fb0d194f109697627b5241f4011, dist: 43.892694323302536, #items: 3\n",
      "user: b09a5957e5d5e47e556d203529a0ae6d, dist: 44.08425294784659, #items: 708\n",
      "user: 4eb43aa7f89260bb40b3970a45a82678, dist: 44.14350251135172, #items: 333\n",
      "user: 2461c19378deafd4ec26d3993eeef635, dist: 45.38682204316959, #items: 15\n",
      "user: 3c63524f15931dc8bed7a768cb7d6150, dist: 45.42723245399878, #items: 14\n",
      "user: 883449004b1bf2a07a284f59ddae1fd7, dist: 45.46079119098894, #items: 190\n",
      "user: d84d58533b58797bccca5811b4135c95, dist: 46.16432528647493, #items: 31\n",
      "user: ff9c1993d2a21f2117c30d8e295dd4ac, dist: 47.05300280126133, #items: 661\n",
      "user: 35536d2d90b93461aa74200967d002e8, dist: 48.3231115924044, #items: 3\n",
      "user: 987a16808cac2496853b6f531c0878cb, dist: 48.447222470931344, #items: 3\n",
      "user: ca76c553e32c2f096c3bc8f7280ba408, dist: 48.69762485265748, #items: 3\n",
      "user: 9edfd17e8b78d0981868f84c5f20a118, dist: 49.410279048714145, #items: 3\n",
      "user: 56a384c7fb2545f9de3e85fa7445d92b, dist: 49.63534220438032, #items: 2\n",
      "user: fa3305c1bc04047d36a8b7a4c77fa81b, dist: 51.04926033033331, #items: 4\n",
      "user: random_guy_193, dist: 51.29534155332482, #items: 9\n",
      "user: 15ec33e862185406170ff931583b014f, dist: 51.364280541908705, #items: 4\n",
      "user: c182e8b2f013e4e3c78cbfb01b8970c8, dist: 51.60191730498252, #items: 30\n",
      "user: a2a845665afabbc319eb7c5305b0a7ec, dist: 52.05607733774747, #items: 6\n",
      "user: 9d32be9708a9520ec07e91aec9653291, dist: 52.304761021638605, #items: 3\n",
      "user: 0aef6e22005035ac1b93e0a99c961f4c, dist: 52.44231549376127, #items: 6\n",
      "user: 6db6afec230a8c59397b5f4d97f5da28, dist: 53.39637776558243, #items: 12\n",
      "user: f7502ffb3616a789e3e5b38f7325b95f, dist: 53.723921997155784, #items: 12\n",
      "user: 51f5fb156a5c0051682ee1835e30fbbd, dist: 54.07101759511209, #items: 5\n",
      "user: d5cf45435e35cb9166f51f0a55b74a0e, dist: 54.091001516250834, #items: 75\n",
      "user: de2b2c35312ac2f0a8510743742c0219, dist: 54.68937065181077, #items: 937\n",
      "user: 9c8073214a052e414811b76012df8847, dist: 54.79807511471326, #items: 160\n",
      "user: 514278711fcdb6dfb235c03a3aa38ee3, dist: 55.130436583744995, #items: 269\n",
      "user: ba85e679d3c3ac42412cb8deaba66a5a, dist: 55.54921296571338, #items: 3\n",
      "user: accbf566ae920d6260d28454e1ee0d6a, dist: 56.505740653826315, #items: 396\n",
      "user: d0520656367db74cb316b9a26f60864e, dist: 57.109889747946134, #items: 12\n",
      "user: 2afd218c3aecb6828d2be327f8b9c46f, dist: 57.98355502326025, #items: 760\n",
      "user: 485d8e33a731a830ef0aebd71b016d08, dist: 58.08129499370414, #items: 6\n",
      "user: bf34e3c5724ce07d29ef12db5f767258, dist: 58.61031672979601, #items: 249\n",
      "user: 49be5653eaba26f1eb60fd9d63f23502, dist: 58.68692443679633, #items: 3\n",
      "user: 26bf37eb1750d163fe01ef21b0033a77, dist: 62.49316332747808, #items: 6\n",
      "user: 651938620e6e6c78bfa7854784fe62c2, dist: 62.56072143296389, #items: 3\n",
      "user: 610d5d89f56667e3d4537c529aae496e, dist: 63.65465618329735, #items: 6\n",
      "user: 51452faff8948ad4780f9b6261e813a7, dist: 64.15075215935585, #items: 15\n",
      "user: 5fa91ab06a079c59a1d9e8174a488f91, dist: 64.39107447043241, #items: 3\n",
      "user: f8ecfe868f673b16e2f6e5614cb46b7d, dist: 64.41640800704067, #items: 3\n",
      "user: b92704ea431d60d62bd8fd18e2940067, dist: 64.6703014545117, #items: 6\n",
      "user: 2c5952c4f931410e9010eb87c276020d, dist: 65.66809917723978, #items: 73\n",
      "user: d88c800327bffffea5562e23c276ede3, dist: 66.09814281272659, #items: 2\n",
      "user: f71b423642d3d61dffba53ddee48a7e0, dist: 68.30518541783127, #items: 15\n",
      "user: 145b408fa103c16bb00e8734cc39a29f, dist: 69.2753008452759, #items: 18\n",
      "user: 888b76dff350bdb6b25783d7c4110081, dist: 69.46992453878804, #items: 12\n",
      "user: d4d0cd1ae06f54909291d34ddd6ab497, dist: 69.9159788007264, #items: 78\n",
      "user: 65794ea9f5122952403585a237bc5e52, dist: 70.03184791093045, #items: 3\n",
      "user: 6010bbc8e7ef4b21fa38f9c3a9754ef3, dist: 70.40567473093634, #items: 396\n",
      "user: 659accfd85162122ca361ac34e730c4d, dist: 70.47694337324364, #items: 3\n",
      "user: 0bda2743e12d8a204ab04122658d73a3, dist: 70.81965633522563, #items: 18\n",
      "user: 6ca7c27715f54e2f47ebe4e1c9dcf842, dist: 70.85608183592234, #items: 72\n",
      "user: 6b492acb1838463dc7c07a76b26313c4, dist: 71.6220474918775, #items: 247\n",
      "user: 28b56a449c99c88e1f9fff59d0f16aac, dist: 71.7751672034779, #items: 84\n",
      "user: 2db8293d2a35a17f16ddf8e97122ec11, dist: 72.22793217838165, #items: 219\n",
      "user: 3ca50399775f0540bd002cb0d6f54a3d, dist: 72.53142611367772, #items: 6\n",
      "user: 5862049dbaad1750964d91a98930832f, dist: 73.42580742074756, #items: 33\n",
      "user: d5b7242bc8a4bb534b8489c24b81fc34, dist: 74.8646186250844, #items: 3\n",
      "user: cbc86e332e889251fe0fa71df472f202, dist: 75.46020060577565, #items: 151\n",
      "user: 722ad4c331b7d7bebd697bfbb91ee0e8, dist: 76.41197948101507, #items: 36\n",
      "user: 6d59196a3f495939a1a776cbebe212ba, dist: 76.90968282604209, #items: 3\n",
      "user: c19c053aafbf1492b9e57ce3da5d45c1, dist: 77.49097287313626, #items: 24\n",
      "user: 84c2d6fc2e78a1d1283c386c0d4daee4, dist: 79.01062176331627, #items: 9\n",
      "user: eca1130f44cd2e17645e40a0fa2ef59b, dist: 79.07777400817957, #items: 1005\n",
      "user: b13fb0da6dd2f5d7fe398e6e53b52110, dist: 79.17696777513488, #items: 7\n",
      "user: 5bdea9864567a8614b659bf4b2132ab0, dist: 79.62951331545833, #items: 78\n",
      "user: 7a23690289260d2b8c1d71d8c22b69f0, dist: 79.78202801942032, #items: 18\n",
      "user: de0b07c32bb6ca4655487026e0f3fc38, dist: 79.83235528368941, #items: 74\n",
      "user: 55016bfc877fc509861b4aba22ee4f7a, dist: 80.43520600788655, #items: 9\n",
      "user: e347f98d0a810ded7c14d7be813a5868, dist: 81.12622566810884, #items: 19\n",
      "user: d3b1de8ed2ffc3eb9af2ef40a80c7d7d, dist: 81.99710894673537, #items: 3\n",
      "user: b36ffffcd1831441a2a3b60919312ccd, dist: 82.0460570777573, #items: 118\n",
      "user: e9fda1f240982b20e0df5ba9c4a337e9, dist: 82.47598276425872, #items: 18\n",
      "user: b6927bdee51077f7868f05f1ed39485f, dist: 82.55574868806278, #items: 18\n",
      "user: 24ebcf86498b0f2793b55c5b9a7756b5, dist: 82.66149858089565, #items: 210\n",
      "user: 77055e16055dc7bc817f7c4bb2eb8fae, dist: 82.78128409318138, #items: 6\n",
      "user: ed7ed76453bd846859f5e6b9149df276, dist: 82.83387107491767, #items: 675\n",
      "user: 64cae7b86c7dcb1b40d17e43c0c2109e, dist: 82.93237010348898, #items: 365\n",
      "user: 62ef0e23f21039e337b545ccc4851525, dist: 83.20545763373846, #items: 48\n",
      "user: 1bd2dc9e0406a2e240b288685c87fa76, dist: 84.19766989661858, #items: 3\n",
      "user: fecd63ea857606ed61cbfe2ba1a70b3b, dist: 84.63443729521654, #items: 4\n",
      "user: 248172d9efbbd5eb72d48de6884054ab, dist: 84.99945112175782, #items: 24\n",
      "user: 67785f343e6d117fac4d1697697cd8ae, dist: 85.4004114869447, #items: 3\n",
      "user: 186575d01f40537515988f1369d395eb, dist: 85.47394784523365, #items: 12\n",
      "user: 00fa8d61b5f75e16ea71bff7a3def9c9, dist: 86.3189107293691, #items: 30\n",
      "user: be4e771b30940fb2d5f5dcfe3877dd2e, dist: 86.58830615015137, #items: 6\n",
      "user: 3226bc99212ad30ce2ced981de1c437a, dist: 86.89108882739275, #items: 34\n",
      "user: a9f376da22eb77185afae90b192bf9ac, dist: 87.34099538433993, #items: 48\n",
      "user: 4480a650a96730fb629aa7fa2079e7c3, dist: 87.39846785834143, #items: 37\n",
      "user: 93f4b8995f647ceb58689b78eb2087ef, dist: 87.55121234966806, #items: 36\n",
      "user: 6cb1856680ea078c9f46437e2bdcd09e, dist: 87.64455104110641, #items: 6\n",
      "user: 1ee4bd59c9ea084016ff2811dbb00568, dist: 87.83625727713832, #items: 53\n",
      "user: 94d7a0f7c8f2e1c714b0649f835c538c, dist: 88.03980701638625, #items: 150\n",
      "user: 807dfc125f09be392a1f1b58c05b3742, dist: 88.04947599071693, #items: 11\n",
      "user: 7975199043cec980e587889f1639c0a4, dist: 88.93279527382262, #items: 11\n",
      "user: 4c7a94e0937450ef406135849493ab99, dist: 89.69085847831033, #items: 57\n",
      "user: 11e5c2ba0236fe3643cac09dbdb96580, dist: 89.91461917254313, #items: 30\n",
      "user: c795c7de8f350ab35dfd1100a84bf213, dist: 90.3990530414949, #items: 68\n",
      "user: 2ec24376127909f3be36d770e6ae41a6, dist: 91.00086269185864, #items: 14\n",
      "user: 8ef6c1b6e31d907a3bba6f4edd303371, dist: 91.08498082110503, #items: 18\n",
      "user: 27f51a4a7fe8565d26cadb88584441e5, dist: 91.75572983568891, #items: 2\n",
      "user: b37092cf23b42f8b8497d8ba89be157a, dist: 92.00160222279776, #items: 2\n",
      "user: 3deba1aaf448d3857c6c70f63c2a6430, dist: 92.07865633109853, #items: 11\n",
      "user: a2a15d03117e137478c5718212805270, dist: 92.85069663155582, #items: 50\n",
      "user: 1eb9e2c62709ff203b2d9a558abc0937, dist: 93.19802220597143, #items: 39\n",
      "user: 0ca907e233b8bf33bf4eca86fcbfcc8f, dist: 94.05670536795736, #items: 54\n",
      "user: f0e2dfdbc324f309660b731ad16ce2fd, dist: 94.75151143956428, #items: 17\n",
      "user: 478905563bab736f35d94bd7b0a27f9a, dist: 95.00911711604769, #items: 15\n",
      "user: be6ec863f38f611dff4958ccd33cf638, dist: 95.38130189338654, #items: 60\n",
      "user: d8e56509dc582df255732a0170323231, dist: 95.79982279546891, #items: 61\n",
      "user: 52b597296a8dca0c5cc5a19231eeff89, dist: 96.12661121528794, #items: 2\n",
      "user: 7a81cab11e4b2b4aa9c0718c90835611, dist: 96.86594405593883, #items: 30\n",
      "user: 4c2037269ef8fd0a3349e6b54dd1bb1f, dist: 97.16415828120299, #items: 9\n",
      "user: 855ba3170f3e470170d23a748ccb41ed, dist: 97.37877754091971, #items: 42\n",
      "user: dd80f1940fe5b84eddde6e83542bd89b, dist: 98.63723040833719, #items: 12\n",
      "user: 3c888e77b992ae3cd2adfe16774e23b9, dist: 98.72030353974114, #items: 11\n",
      "user: 4dfca2f4dc4e8e6c3b1b7d32e10579c1, dist: 99.28290140870817, #items: 17\n",
      "user: cd09cd99c38d4bfb7b554dff21196c22, dist: 100.90636404430691, #items: 26\n",
      "user: 5097e48e561bf0261b242f211b289825, dist: 101.75420963028989, #items: 53\n",
      "user: 20c7d1ee0615a09b0bac9438cc8325e2, dist: 102.06388727215008, #items: 66\n",
      "user: c1edc56f4d30d94a94ee41654c4f6734, dist: 102.62543904813816, #items: 31\n",
      "user: 4b4c4f319a356ea87affb872173a2095, dist: 102.68125015093395, #items: 34\n",
      "user: 571d66ea4abfb694d9bb1281d7701710, dist: 103.51325669791314, #items: 68\n",
      "user: ce209fb2fe01d6c85dbb29b6fd84b563, dist: 105.5513293282588, #items: 49\n",
      "user: 9ad2a06dfac81761a123cb40084dcbd7, dist: 106.83268397866425, #items: 23\n",
      "user: 5bf3c29fd496e2cafa9c531c7e9c6d61, dist: 107.41135150005854, #items: 29\n",
      "user: 40b86bbb6927a793c05968b8b95e214d, dist: 108.49378338289821, #items: 13\n",
      "user: f3008c23ea8f35ef870e735df67fcc46, dist: 110.65811503660149, #items: 7\n",
      "user: 3bf93d5f7b82b46e38feb881d00c5798, dist: 112.44220275337645, #items: 36\n",
      "user: 9d1aa48692579ca9330d3c61d10e22e6, dist: 115.95812834067662, #items: 84\n"
     ]
    }
   ],
   "source": [
    "valence_outliers = mine_outliers_scipy(model=valence_model, data_converter=data_converter)\n",
    "arousal_outliers = mine_outliers_scipy(model=arousal_model, data_converter=data_converter)\n",
    "\n",
    "items_group_by_users = data_converter.original_df.groupby(\"user_id\")\n",
    "combined_outliers = {}\n",
    "for user_id, valence_dist in valence_outliers.items():\n",
    "    arousal_dist = arousal_outliers[user_id]\n",
    "    combined_outliers[user_id] = valence_dist + arousal_dist\n",
    "\n",
    "combined_outliers = dict(sorted(combined_outliers.items(), key=lambda item: item[1]))\n",
    "for user_id, item_id in combined_outliers.items():\n",
    "    number_of_items = len(items_group_by_users.get_group(user_id))\n",
    "    print(f\"user: {user_id}, dist: {item_id}, #items: {number_of_items}\")"
   ],
   "metadata": {
    "collapsed": false,
    "pycharm": {
     "name": "#%%\n"
    }
   }
  },
  {
   "cell_type": "code",
   "execution_count": 8,
   "outputs": [],
   "source": [],
   "metadata": {
    "collapsed": false,
    "pycharm": {
     "name": "#%%\n"
    }
   }
  }
 ],
 "metadata": {
  "kernelspec": {
   "display_name": "Python 3",
   "language": "python",
   "name": "python3"
  },
  "language_info": {
   "codemirror_mode": {
    "name": "ipython",
    "version": 2
   },
   "file_extension": ".py",
   "mimetype": "text/x-python",
   "name": "python",
   "nbconvert_exporter": "python",
   "pygments_lexer": "ipython2",
   "version": "2.7.6"
  }
 },
 "nbformat": 4,
 "nbformat_minor": 0
}